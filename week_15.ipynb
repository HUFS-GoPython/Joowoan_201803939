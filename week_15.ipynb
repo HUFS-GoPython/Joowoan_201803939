{
 "cells": [
  {
   "cell_type": "markdown",
   "id": "73183114-ad36-42fb-a191-1bf934724934",
   "metadata": {},
   "source": [
    "# Week 15"
   ]
  },
  {
   "cell_type": "markdown",
   "id": "873d15fd-8ff2-46e1-b75b-155f18ace95f",
   "metadata": {},
   "source": [
    "---"
   ]
  },
  {
   "cell_type": "markdown",
   "id": "c61507a5-0c04-4bbb-a246-9e40c4768c05",
   "metadata": {},
   "source": [
    "ㅤ      \n",
    "# **파일과 디렉토리**\n",
    "ㅤ      \n",
    "- 디렉토리:\n",
    "    - 폴더의 다른 말, 파일이 논리적으로 묶인 단위\n",
    "ㅤ        \n",
    "ㅤ      \n",
    "- 파일: 컴퓨터를 실행하는 기본 단위.\n",
    "    - 파일명 + 확장자\n",
    "    - 확장자: 파일 용도의 구분자\n",
    "    - .pdf, .xlsx, .txt, .docx, ..\n",
    "ㅤ      \n",
    "ㅤ      \n",
    "- 종류: 바이너리 파일, 텍스트 파일\n",
    "    ㅤ      \n",
    "        ㅤ      \n",
    "    - 바이너리: 이진 정보로 저장됨\n",
    "        - 내용 확인 불가.\n",
    "        - 해당 확장자를 열 수 있는 프로그램이 요구된다.\n",
    "    ㅤ        \n",
    "    ㅤ      \n",
    "    - 텍스트: 사람이 이해할 수 있는 문자열로 저장됨\n",
    "        - 메모장, html, .py\n",
    "        - 문자열로 변경할 때 변경기준: 아스키코드, 유니코드\n",
    "        - 인코딩 (표준을 맞춰서 저장하는 행위)\n",
    "        - UTF-8, cp949"
   ]
  },
  {
   "cell_type": "markdown",
   "id": "ec2c2e29-0eb6-4137-a7e7-95fea557bfa9",
   "metadata": {},
   "source": [
    "ㅤ      \n",
    "### **# 파일 모드**\n",
    "- open(파일명, 모드)\n",
    "ㅤ        \n",
    "\n",
    "- 모드\n",
    "    - `r`: read (default)\n",
    "    \n",
    "    - `w`: write - 파일이 있으면 덮어쓰고, 없으면 생성\n",
    "    - `x`: 파일이 없을 때만 생성\n",
    "    - `a`: 파일에 있을 때 마지막 라인에 추가 (add)\n",
    "ㅤ        \n",
    "ㅤ      \n",
    "- 추가모드\n",
    "    - `b`: binary로 쓰기\n",
    "    - `t`: text로 쓰기 (default)\n",
    "    \n",
    "    - 'rb' / 'rt'"
   ]
  },
  {
   "cell_type": "code",
   "execution_count": 9,
   "id": "3a7e2e34-40e0-49f6-82a0-f3291a25ba97",
   "metadata": {},
   "outputs": [],
   "source": [
    "# 같은 디렉토리 (같은 폴더 안에 있는) - 텍스트 파일의 위치\n",
    "\n",
    "file = 'test.txt'\n",
    "f = open(file, 'r')"
   ]
  },
  {
   "cell_type": "code",
   "execution_count": 9,
   "id": "fb3ed71f-229f-4af2-bec8-2f77316f5f78",
   "metadata": {},
   "outputs": [
    {
     "data": {
      "text/plain": [
       "<_io.TextIOWrapper name='test.txt' mode='r' encoding='cp949'>"
      ]
     },
     "execution_count": 9,
     "metadata": {},
     "output_type": "execute_result"
    }
   ],
   "source": [
    "f"
   ]
  },
  {
   "cell_type": "markdown",
   "id": "9f135c55-3b12-4c58-957f-8126e266b770",
   "metadata": {},
   "source": [
    " \n",
    " "
   ]
  },
  {
   "cell_type": "markdown",
   "id": "3d742203-3805-4f90-bc02-046e7f506aff",
   "metadata": {},
   "source": [
    "ㅤ      \n",
    "### **# 파일 읽기**\n",
    "- `read()`: 전체를 하나의 string으로 불러온다.  \n",
    "    - 포인터  \n",
    "    ㅤ      \n",
    "- `readline()`: 한 줄만 string으로 불러온다.\n",
    "- `readlines()`: 전체를 list, 각 줄이 한 string으로 불러온다."
   ]
  },
  {
   "cell_type": "markdown",
   "id": "e38f547d-1d3b-429d-bc79-294677d18bd6",
   "metadata": {},
   "source": [
    "### **`read()`**"
   ]
  },
  {
   "cell_type": "code",
   "execution_count": 10,
   "id": "8b56047b-0aca-45f1-8422-93814e10112e",
   "metadata": {},
   "outputs": [
    {
     "data": {
      "text/plain": [
       "\"hello life\\nI'm tired.\""
      ]
     },
     "execution_count": 10,
     "metadata": {},
     "output_type": "execute_result"
    }
   ],
   "source": [
    "# 파일 읽기\n",
    "\n",
    "f.read()"
   ]
  },
  {
   "cell_type": "code",
   "execution_count": 11,
   "id": "a62943c1-ae90-4eea-ab97-770afe45d65f",
   "metadata": {},
   "outputs": [
    {
     "data": {
      "text/plain": [
       "''"
      ]
     },
     "execution_count": 11,
     "metadata": {},
     "output_type": "execute_result"
    }
   ],
   "source": [
    "# 다시 실행하면 포인터가 전체 텍스트의 끝 부분을 가리키고 있기 때문에\n",
    "# 아무것도 출력을 하지 않는다.\n",
    "\n",
    "f.read()"
   ]
  },
  {
   "cell_type": "markdown",
   "id": "91fb8d7e-0e14-4fcc-8355-2b5bf50ce57b",
   "metadata": {},
   "source": [
    " \n",
    " "
   ]
  },
  {
   "cell_type": "code",
   "execution_count": 19,
   "id": "648d4f7e-e72c-451e-9baf-ff32b516fb9f",
   "metadata": {},
   "outputs": [
    {
     "data": {
      "text/plain": [
       "'hello'"
      ]
     },
     "execution_count": 19,
     "metadata": {},
     "output_type": "execute_result"
    }
   ],
   "source": [
    "# 텍스트의 첫 5글자만 읽어온다\n",
    "\n",
    "f.close()\n",
    "\n",
    "f = open(file, 'r')\n",
    "f.read(5)"
   ]
  },
  {
   "cell_type": "code",
   "execution_count": 20,
   "id": "5d9d9b7c-5bb3-49a7-8ab2-af23c13c65cc",
   "metadata": {},
   "outputs": [
    {
     "data": {
      "text/plain": [
       "' life'"
      ]
     },
     "execution_count": 20,
     "metadata": {},
     "output_type": "execute_result"
    }
   ],
   "source": [
    "# 그 다음 5글자\n",
    "\n",
    "f.read(5)"
   ]
  },
  {
   "cell_type": "markdown",
   "id": "d3908a68-901f-49f0-ae77-ac96219ee513",
   "metadata": {},
   "source": [
    " "
   ]
  },
  {
   "cell_type": "markdown",
   "id": "88a08d7f-f8b7-48b7-bfc1-99e1a920a41f",
   "metadata": {},
   "source": [
    "### **`readline()`**"
   ]
  },
  {
   "cell_type": "code",
   "execution_count": 7,
   "id": "ed80aec3-afd5-458b-98be-3110fda4d5f4",
   "metadata": {},
   "outputs": [
    {
     "data": {
      "text/plain": [
       "'hello life\\n'"
      ]
     },
     "execution_count": 7,
     "metadata": {},
     "output_type": "execute_result"
    }
   ],
   "source": [
    "# 한 줄만 읽기, 개행문자 기준\n",
    "\n",
    "f.readline()"
   ]
  },
  {
   "cell_type": "markdown",
   "id": "e1f836ca-daca-4c6c-94cd-91f1f7651ff6",
   "metadata": {},
   "source": [
    " "
   ]
  },
  {
   "cell_type": "markdown",
   "id": "88ad28f2-7986-44b0-a18d-7c42c594b5d2",
   "metadata": {},
   "source": [
    "### **`readlines()`**"
   ]
  },
  {
   "cell_type": "code",
   "execution_count": 10,
   "id": "1a82baaf-0df1-46d4-8a0d-5a9985594839",
   "metadata": {},
   "outputs": [
    {
     "data": {
      "text/plain": [
       "['hello life\\n', \"I'm tired.\"]"
      ]
     },
     "execution_count": 10,
     "metadata": {},
     "output_type": "execute_result"
    }
   ],
   "source": [
    "# 리스트에 한 문장씩 요소로 들어간다.\n",
    "\n",
    "f.readlines()"
   ]
  },
  {
   "cell_type": "markdown",
   "id": "0c42bb46-6f1e-42a6-9163-85a7f09fefc9",
   "metadata": {},
   "source": [
    " "
   ]
  },
  {
   "cell_type": "code",
   "execution_count": 13,
   "id": "5ca65ea5-80b3-4db0-9b4c-062b196dc76e",
   "metadata": {},
   "outputs": [],
   "source": [
    "# 개행 제거\n",
    "\n",
    "f = open(file, 'r')\n",
    "\n",
    "sents = f.readlines()\n",
    "sents = [s.strip() for s in sents]\n",
    "\n",
    "f.close()"
   ]
  },
  {
   "cell_type": "code",
   "execution_count": 12,
   "id": "8b91748b-cef2-4692-94f9-1092913b70cc",
   "metadata": {},
   "outputs": [
    {
     "data": {
      "text/plain": [
       "['hello life', \"I'm tired.\"]"
      ]
     },
     "execution_count": 12,
     "metadata": {},
     "output_type": "execute_result"
    }
   ],
   "source": [
    "sents"
   ]
  },
  {
   "cell_type": "markdown",
   "id": "e9c95977-a1a6-4fda-b383-864d845a7e74",
   "metadata": {},
   "source": [
    "ㅤ      \n",
    "### **# 파일 닫기**\n",
    "- .close()\n",
    "- 파일 여는 즉시 닫기\n",
    "\n",
    "- 자원을 해제하는 행위\n"
   ]
  },
  {
   "cell_type": "markdown",
   "id": "72ec9bd5-73b4-462b-bb6c-b0ad644e40a2",
   "metadata": {},
   "source": [
    "### **`with`**"
   ]
  },
  {
   "cell_type": "code",
   "execution_count": 14,
   "id": "e633748e-598a-4047-84dd-429b978593b6",
   "metadata": {},
   "outputs": [],
   "source": [
    "with open(file, 'r') as f:\n",
    "    # open()이 적용되는 블록\n",
    "    content = f.read()\n",
    "# 파일이 자동으로 닫힌다."
   ]
  },
  {
   "cell_type": "code",
   "execution_count": 15,
   "id": "db656a78-5a98-470e-ba84-a99bbd4a8b12",
   "metadata": {},
   "outputs": [
    {
     "data": {
      "text/plain": [
       "\"hello life\\nI'm tired.\""
      ]
     },
     "execution_count": 15,
     "metadata": {},
     "output_type": "execute_result"
    }
   ],
   "source": [
    "content"
   ]
  },
  {
   "cell_type": "markdown",
   "id": "bc68a4d2-d682-41fc-8aad-202095d91b87",
   "metadata": {},
   "source": [
    "ㅤ        \n",
    "### # Quiz 1\n",
    "- while 반복문을 이용해서 한 줄씩 읽어오는 함수를 만들기\n",
    "\n",
    "- strip() 적용 후 리스트에 반환"
   ]
  },
  {
   "cell_type": "code",
   "execution_count": 35,
   "id": "08165b4d-d8e4-4e12-9b8e-a01444c8b1cf",
   "metadata": {},
   "outputs": [],
   "source": [
    "def read_every_line(file):\n",
    "    sents = []\n",
    "    with open(file, 'r') as f:\n",
    "        while True:\n",
    "            line = f.readline().strip()\n",
    "            if line:\n",
    "                sents.append(line)\n",
    "            else:\n",
    "                return sents\n",
    "            "
   ]
  },
  {
   "cell_type": "code",
   "execution_count": 36,
   "id": "ef85735c-4c1f-4ffa-9857-fd27caff6ac3",
   "metadata": {},
   "outputs": [
    {
     "data": {
      "text/plain": [
       "['hello life',\n",
       " \"I'm tired.\",\n",
       " 'Time will pass.',\n",
       " 'Time will pass.',\n",
       " 'Time will pass.']"
      ]
     },
     "execution_count": 36,
     "metadata": {},
     "output_type": "execute_result"
    }
   ],
   "source": [
    "read_every_line('test.txt')"
   ]
  },
  {
   "cell_type": "markdown",
   "id": "a490d201-3332-4065-b38e-fc1cef0ef164",
   "metadata": {},
   "source": [
    " "
   ]
  },
  {
   "cell_type": "code",
   "execution_count": 38,
   "id": "27422295-a13f-4286-a8d4-367fd4f91011",
   "metadata": {},
   "outputs": [],
   "source": [
    "# 모범 풀이\n",
    "\n",
    "def make_readlines(file):\n",
    "    sent = []\n",
    "    with open(file, 'r') as f:\n",
    "        while content := f.readline().strip():\n",
    "            sent.append(content)\n",
    "    \n",
    "    return sent"
   ]
  },
  {
   "cell_type": "code",
   "execution_count": 39,
   "id": "711c9dec-2480-4881-8e5a-9797d5ce7fd7",
   "metadata": {},
   "outputs": [
    {
     "data": {
      "text/plain": [
       "['hello life',\n",
       " \"I'm tired.\",\n",
       " 'Time will pass.',\n",
       " 'Time will pass.',\n",
       " 'Time will pass.']"
      ]
     },
     "execution_count": 39,
     "metadata": {},
     "output_type": "execute_result"
    }
   ],
   "source": [
    "make_readlines('test.txt')"
   ]
  },
  {
   "cell_type": "markdown",
   "id": "b78a68eb-b3c0-415d-914e-16dc5422f85a",
   "metadata": {},
   "source": [
    "ㅤ      \n",
    "### **# 경로 맞추기**\n",
    "- . : 현재 경로  \n",
    "\n",
    "- .. : 상위 경로 (Parent)"
   ]
  },
  {
   "cell_type": "code",
   "execution_count": 41,
   "id": "50c53173-8423-4753-8f37-f51b9c51c8b4",
   "metadata": {},
   "outputs": [
    {
     "name": "stdout",
     "output_type": "stream",
     "text": [
      "hello life\n",
      "I'm tired.\n",
      "Time will pass.\n",
      "Time will pass.\n",
      "Time will pass.\n"
     ]
    }
   ],
   "source": [
    "file = './TestFolder/test.txt'\n",
    "\n",
    "with open(file) as f:\n",
    "    print(f.read())"
   ]
  },
  {
   "cell_type": "markdown",
   "id": "c60bf07b-a6b5-47f4-82f7-069bc32d9b97",
   "metadata": {},
   "source": [
    "ㅤ      \n",
    "### **# 쓰기**\n",
    "- 인코딩 유의\n"
   ]
  },
  {
   "cell_type": "markdown",
   "id": "1ba41035-0b24-454d-879b-225a56028b25",
   "metadata": {},
   "source": [
    "### **`write`**"
   ]
  },
  {
   "cell_type": "code",
   "execution_count": 61,
   "id": "5783db04-768a-4340-aa27-b18c51eb44c6",
   "metadata": {},
   "outputs": [],
   "source": [
    "with open('test2.txt', 'w', encoding='utf-8') as f:\n",
    "    for i in range(10):\n",
    "        data = f'{i}번째 줄입니다.\\n'\n",
    "        f.write(data)"
   ]
  },
  {
   "cell_type": "markdown",
   "id": "b39caffa-ca9d-4bea-889a-454c59a571dd",
   "metadata": {},
   "source": [
    " "
   ]
  },
  {
   "cell_type": "markdown",
   "id": "b51667e9-a030-4657-a513-4b2b66454882",
   "metadata": {},
   "source": [
    "### **`print`**"
   ]
  },
  {
   "cell_type": "code",
   "execution_count": 62,
   "id": "30711495-3423-468b-b99c-3a82a45c606c",
   "metadata": {},
   "outputs": [],
   "source": [
    "file_out = open('test2.txt', 'a', encoding='utf-8')\n",
    "\n",
    "# 파일 file_out에 한 줄 추가\n",
    "print('한 줄 추가했습니다.', file=file_out)\n",
    "\n",
    "file_out.close()"
   ]
  },
  {
   "cell_type": "code",
   "execution_count": 59,
   "id": "83eceeb5-6d35-428f-b055-9bfeadeacdb4",
   "metadata": {},
   "outputs": [],
   "source": [
    "# 파일 내용\n",
    "\n",
    "'''\n",
    "0번째 줄입니다.\n",
    "1번째 줄입니다.\n",
    "2번째 줄입니다.\n",
    "3번째 줄입니다.\n",
    "4번째 줄입니다.\n",
    "5번째 줄입니다.\n",
    "6번째 줄입니다.\n",
    "7번째 줄입니다.\n",
    "8번째 줄입니다.\n",
    "9번째 줄입니다.\n",
    "한 줄 추가했습니다.\n",
    "'''\n",
    "pass"
   ]
  },
  {
   "cell_type": "markdown",
   "id": "8e8c1a43-52d8-42c8-abe3-9b32e4f578f7",
   "metadata": {},
   "source": [
    " "
   ]
  },
  {
   "cell_type": "markdown",
   "id": "2fc34d7e-8bf9-4b17-ba87-492fa05d9ff0",
   "metadata": {},
   "source": [
    "### **`mkdir` 폴더를 만들어서 추가**\n",
    "\n",
    "- 폴더를 만든 후 경로 접근."
   ]
  },
  {
   "cell_type": "code",
   "execution_count": 76,
   "id": "90619a47-f3de-455d-83a0-8f81f93b77e4",
   "metadata": {},
   "outputs": [],
   "source": [
    "import os\n",
    "os.mkdir('./TestFolder/AnotherFolder')\n",
    "\n",
    "with open('./TestFolder/AnotherFolder/test2.txt', 'w', encoding='utf-8') as f:\n",
    "    for i in range(10):\n",
    "        data = f'{i}번째 줄입니다.\\n'\n",
    "        f.write(data)"
   ]
  },
  {
   "cell_type": "markdown",
   "id": "b83baaa9-2268-4b62-971b-b26e2de741da",
   "metadata": {},
   "source": [
    " "
   ]
  },
  {
   "cell_type": "code",
   "execution_count": 84,
   "id": "57816e66-46d5-4952-a8d6-b57dbd2f6a58",
   "metadata": {},
   "outputs": [],
   "source": [
    "path = './TestFolder/AnotherFolder'\n",
    "\n",
    "# 폴더가 존재하는지 확인, 없을 시 새로 생성\n",
    "if not os.path.isdir(path):\n",
    "    os.mkdir(path)\n",
    "\n",
    "    \n",
    "# dir_name = './TestFolder/AnotherFolder/test2.txt'\n",
    "# os.path.join: OS의 형식에 맞게 각각의 경로들을 하나의 경로로 이어준다.\n",
    "\n",
    "dir_name = os.path.join(path, 'test2.txt')\n",
    "\n",
    "\n",
    "# 재확인 -> 덮어쓸 가능성 배제시킨다.\n",
    "if not os.path.exists(dir_name):\n",
    "    with open(dir_name, 'w') as f: \n",
    "        pass"
   ]
  },
  {
   "cell_type": "markdown",
   "id": "374b824c-de62-4ce1-9968-bf950c83fda4",
   "metadata": {},
   "source": [
    " "
   ]
  },
  {
   "cell_type": "markdown",
   "id": "5ad125a9-94bf-4e39-b642-a8d7621dcf16",
   "metadata": {},
   "source": [
    "ㅤ      \n",
    "### **# 제거**"
   ]
  },
  {
   "cell_type": "code",
   "execution_count": 99,
   "id": "08e5ecff-58ba-461e-bae2-cb37908fe8a8",
   "metadata": {},
   "outputs": [],
   "source": [
    "# 파일 제거\n",
    "os.remove('./TestFolder/remove-text.txt')\n",
    "\n",
    "# 경로 제거\n",
    "# 폴더 안에 파일이 있으면 삭제 불가\n",
    "os.rmdir('./TestFolder/RemoveFolder')"
   ]
  },
  {
   "cell_type": "markdown",
   "id": "e2a5f747-268f-41fa-8a3b-f7757a4d63c7",
   "metadata": {},
   "source": [
    " "
   ]
  },
  {
   "cell_type": "code",
   "execution_count": 101,
   "id": "806c83a1-bcdc-45a2-a3b1-22ace163934f",
   "metadata": {},
   "outputs": [],
   "source": [
    "# 강제로 전부 삭제\n",
    "\n",
    "import shutil\n",
    "shutil.rmtree('./TestFolder/AnotherFolder')"
   ]
  },
  {
   "cell_type": "markdown",
   "id": "be0aa7a9-015b-46af-91cc-7d460d421e63",
   "metadata": {},
   "source": [
    "ㅤ        \n",
    "### # Quiz 2\n",
    "- folder 새로 만든다. (있으면 그대로 쓰고, 없으면 만든다)  \n",
    "\n",
    "- 파일에 내용 쓰기\n",
    "\n",
    "- 파일 열기"
   ]
  },
  {
   "cell_type": "code",
   "execution_count": 103,
   "id": "5c81ae64-62fc-4a06-8e08-9e253f9b6560",
   "metadata": {},
   "outputs": [],
   "source": [
    "import os\n",
    "\n",
    "path = './TestFolder/NewFolder'\n",
    "if not os.path.isdir(path):\n",
    "    os.mkdir(path)\n",
    "\n",
    "dir_name = os.path.join(path, 'new.txt')\n",
    "\n",
    "with open(dir_name, 'w') as f: \n",
    "    f.write('This is a new text.\\n')\n"
   ]
  },
  {
   "cell_type": "markdown",
   "id": "5dcde3ef-a797-4f7e-bfde-3cba06be70a8",
   "metadata": {},
   "source": [
    " "
   ]
  },
  {
   "cell_type": "markdown",
   "id": "ae2f7bdd-9039-4f6a-845f-40414b19dfeb",
   "metadata": {},
   "source": [
    "ㅤ      \n",
    "### **# 그 외 함수들**"
   ]
  },
  {
   "cell_type": "code",
   "execution_count": 131,
   "id": "ecaaac15-4482-477c-b99a-9db2dda8a4a1",
   "metadata": {},
   "outputs": [],
   "source": [
    "base_directory = 'C:\\\\Users\\\\skyto\\\\AdvancedPython_Fri'"
   ]
  },
  {
   "cell_type": "code",
   "execution_count": 129,
   "id": "4f5064c8-7d81-4165-a492-ce87e2e60255",
   "metadata": {},
   "outputs": [
    {
     "data": {
      "text/plain": [
       "'C:\\\\Users\\\\skyto\\\\AdvancedPython_Fri'"
      ]
     },
     "execution_count": 129,
     "metadata": {},
     "output_type": "execute_result"
    }
   ],
   "source": [
    "# 현재 머무르고 있는 경로 (Get Current Working Directory)\n",
    "\n",
    "os.getcwd()"
   ]
  },
  {
   "cell_type": "code",
   "execution_count": 130,
   "id": "c891cd34-c735-4cc5-ab7d-9d6825a00d40",
   "metadata": {},
   "outputs": [
    {
     "data": {
      "text/plain": [
       "'C:\\\\Users\\\\skyto'"
      ]
     },
     "execution_count": 130,
     "metadata": {},
     "output_type": "execute_result"
    }
   ],
   "source": [
    "# 상위 경로로 변경\n",
    "\n",
    "os.chdir('..')\n",
    "os.getcwd()"
   ]
  },
  {
   "cell_type": "markdown",
   "id": "c6c8b80e-673e-49dc-abf4-ecac2c6f0f2d",
   "metadata": {},
   "source": [
    "ㅤ      \n",
    "# **pickle**"
   ]
  },
  {
   "cell_type": "markdown",
   "id": "2afb904a-4123-43e4-a5b7-cf84c0364f8d",
   "metadata": {},
   "source": [
    "- 지금까지 텍스트만 파일에 저장했다면 객체를 파일로 저장할 수 있다.  "
   ]
  },
  {
   "cell_type": "code",
   "execution_count": 132,
   "id": "3f5cd42b-24fa-4ea8-8bb9-0e0a634af503",
   "metadata": {},
   "outputs": [],
   "source": [
    "import pickle"
   ]
  },
  {
   "cell_type": "markdown",
   "id": "27c79250-b4fa-4513-8e0d-66eff8043dbf",
   "metadata": {},
   "source": [
    "ㅤ      \n",
    "### **# `dump`**"
   ]
  },
  {
   "cell_type": "code",
   "execution_count": 135,
   "id": "8785a6cd-d1bd-4961-807f-a337349f0f03",
   "metadata": {},
   "outputs": [],
   "source": [
    "backup = [base_directory]"
   ]
  },
  {
   "cell_type": "code",
   "execution_count": 140,
   "id": "4cdf70e0-f7e7-4c2c-b175-a37358d8f971",
   "metadata": {},
   "outputs": [],
   "source": [
    "# Write Binary\n",
    "\n",
    "with open('test.pickle', 'wb') as f:\n",
    "    pickle.dump(backup, f)"
   ]
  },
  {
   "cell_type": "markdown",
   "id": "6bf0272d-fc04-4731-8164-3d7310ed9580",
   "metadata": {},
   "source": [
    "ㅤ      \n",
    "### **# `load`**"
   ]
  },
  {
   "cell_type": "code",
   "execution_count": 141,
   "id": "2e530406-6ef8-49f9-85fc-2ec8d5b61917",
   "metadata": {},
   "outputs": [],
   "source": [
    "# Read Binary\n",
    "\n",
    "with open('test.pickle', 'rb') as f:\n",
    "    backupContent = pickle.load(f)"
   ]
  },
  {
   "cell_type": "code",
   "execution_count": 142,
   "id": "5ae17b64-7726-46d5-a821-7cd5ded985f7",
   "metadata": {},
   "outputs": [
    {
     "data": {
      "text/plain": [
       "['C:\\\\Users\\\\skyto\\\\AdvancedPython_Fri']"
      ]
     },
     "execution_count": 142,
     "metadata": {},
     "output_type": "execute_result"
    }
   ],
   "source": [
    "backupContent"
   ]
  }
 ],
 "metadata": {
  "kernelspec": {
   "display_name": "Python 3 (ipykernel)",
   "language": "python",
   "name": "python3"
  },
  "language_info": {
   "codemirror_mode": {
    "name": "ipython",
    "version": 3
   },
   "file_extension": ".py",
   "mimetype": "text/x-python",
   "name": "python",
   "nbconvert_exporter": "python",
   "pygments_lexer": "ipython3",
   "version": "3.9.7"
  }
 },
 "nbformat": 4,
 "nbformat_minor": 5
}
