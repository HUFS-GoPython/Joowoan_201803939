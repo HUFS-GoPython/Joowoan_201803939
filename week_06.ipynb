{
 "cells": [
  {
   "cell_type": "markdown",
   "id": "acc822f6-c6ef-4229-89ff-c0d86f983809",
   "metadata": {},
   "source": [
    "# Week 06"
   ]
  },
  {
   "cell_type": "markdown",
   "id": "091cf4ae-a581-4c7c-92df-8a91e7a461bc",
   "metadata": {},
   "source": [
    "ㅤ       \n",
    "## **1. Conditional Frequency Distribution ~**"
   ]
  },
  {
   "cell_type": "code",
   "execution_count": 3,
   "id": "4c1d6f96-feda-4d80-8cf8-0743c0fce096",
   "metadata": {},
   "outputs": [
    {
     "data": {
      "text/plain": [
       "True"
      ]
     },
     "execution_count": 3,
     "metadata": {},
     "output_type": "execute_result"
    }
   ],
   "source": [
    "from nltk.corpus import brown, inaugural\n",
    "nltk.download(['brown','inaugural'], quiet=True)"
   ]
  },
  {
   "cell_type": "markdown",
   "id": "62e89097-ae8d-40de-a8aa-2510ec14aefd",
   "metadata": {},
   "source": [
    "### **# CFD, tabulate으로 표 만들기 - 1**"
   ]
  },
  {
   "cell_type": "code",
   "execution_count": 6,
   "id": "27623c95-a328-46f1-83a3-7a5c2e820ff0",
   "metadata": {},
   "outputs": [
    {
     "name": "stdout",
     "output_type": "stream",
     "text": [
      "                  can could would  will might   may \n",
      "      adventure    46   151   191    50    58     5 \n",
      " belles_lettres   246   213   392   236   113   207 \n",
      "      editorial   121    56   180   233    39    74 \n",
      "        fiction    37   166   287    52    44     8 \n",
      "     government   117    38   120   244    13   153 \n",
      "        hobbies   268    58    78   264    22   131 \n",
      "          humor    16    30    56    13     8     8 \n",
      "        learned   365   159   319   340   128   324 \n",
      "           lore   170   141   186   175    49   165 \n",
      "        mystery    42   141   186    20    57    13 \n",
      "           news    93    86   244   389    38    66 \n",
      "       religion    82    59    68    71    12    78 \n",
      "        reviews    45    40    47    58    26    45 \n",
      "        romance    74   193   244    43    51    11 \n",
      "science_fiction    16    49    79    16    12     4 \n"
     ]
    }
   ],
   "source": [
    "cfd = nltk.ConditionalFreqDist(                              # 브라운 코퍼스를 바탕으로 FreqDist을 생성\n",
    "    (genre, word)\n",
    "    for genre in brown.categories()\n",
    "    for word in brown.words(categories=genre)\n",
    ")\n",
    "\n",
    "modals = ['can', 'could', 'would', 'will', 'might', 'may']   # 조동사의 리스트를 선언 (sample)\n",
    "cfd.tabulate(conditions=brown.categories(), samples=modals)  # conditions, samples 설정"
   ]
  },
  {
   "cell_type": "markdown",
   "id": "200bd6d4-23b4-4cb1-9574-74977d126143",
   "metadata": {},
   "source": [
    "ㅤ      \n",
    "### **# CFD, tabulate으로 표 만들기 - 2**"
   ]
  },
  {
   "cell_type": "code",
   "execution_count": 30,
   "id": "ac7ed237-e239-471b-bb46-b32c831b8853",
   "metadata": {},
   "outputs": [
    {
     "name": "stdout",
     "output_type": "stream",
     "text": [
      "                  can could   may might  will would \n",
      "      adventure    48   154     7    59    51   194 \n",
      " belles_lettres   249   216   221   113   246   397 \n",
      "      editorial   124    57    79    39   235   185 \n",
      "        fiction    39   168    10    44    56   291 \n",
      "     government   119    38   179    13   244   120 \n",
      "        hobbies   276    59   143    22   269    83 \n",
      "          humor    17    33     8     8    13    56 \n",
      "        learned   367   159   336   128   340   321 \n",
      "           lore   170   142   170    50   178   188 \n",
      "        mystery    45   145    15    57    25   189 \n",
      "           news    94    87    93    38   389   246 \n",
      "       religion    84    59    79    12    72    69 \n",
      "        reviews    45    40    47    26    61    48 \n",
      "        romance    79   195    11    51    49   247 \n",
      "science_fiction    16    49     4    12    17    80 \n"
     ]
    }
   ],
   "source": [
    "# modal 리스트를 cfd 안에서 명시하는 방법\n",
    "\n",
    "cfd1 = nltk.ConditionalFreqDist(\n",
    "    (genre, modal) # 원하는 조건을 명시 x축, y축\n",
    "    for genre in brown.categories()\n",
    "    for modal in ['can', 'could', 'would', 'will', 'might', 'may'] \n",
    "    \n",
    "    for word in brown.words(categories=genre)\n",
    "        if word.lower() == modal                  # lower를 취해줌으로써 'Can', 'Could'와 같은 단어들을 잡아낸다.\n",
    ")\n",
    "\n",
    "cfd1.tabulate()"
   ]
  },
  {
   "cell_type": "markdown",
   "id": "73041026-6046-46b9-a25b-24361e2d4982",
   "metadata": {},
   "source": [
    "ㅤ        \n",
    "## **2. NLTK - Inaugural**"
   ]
  },
  {
   "cell_type": "markdown",
   "id": "f4d595ca-8821-4f6d-9517-26bab2b5d0d2",
   "metadata": {},
   "source": [
    "- 연설문들을 정리해둔 코퍼스이다."
   ]
  },
  {
   "cell_type": "code",
   "execution_count": 12,
   "id": "a7878722-cdda-4eb9-a3a4-6895be61b231",
   "metadata": {},
   "outputs": [
    {
     "data": {
      "text/plain": [
       "['1789-Washington.txt',\n",
       " '1793-Washington.txt',\n",
       " '1797-Adams.txt',\n",
       " '1801-Jefferson.txt',\n",
       " '1805-Jefferson.txt',\n",
       " '1809-Madison.txt',\n",
       " '1813-Madison.txt',\n",
       " '1817-Monroe.txt',\n",
       " '1821-Monroe.txt',\n",
       " '1825-Adams.txt',\n",
       " '1829-Jackson.txt',\n",
       " '1833-Jackson.txt',\n",
       " '1837-VanBuren.txt',\n",
       " '1841-Harrison.txt',\n",
       " '1845-Polk.txt']"
      ]
     },
     "execution_count": 12,
     "metadata": {},
     "output_type": "execute_result"
    }
   ],
   "source": [
    "inaugural = nltk.corpus.inaugural\n",
    "inaugural.fileids()[:15]"
   ]
  },
  {
   "cell_type": "markdown",
   "id": "e6d34dd0-774d-4f33-aaad-37d72de47a67",
   "metadata": {},
   "source": [
    "ㅤ        \n",
    "### # Quiz 1\n",
    "- cfd ['america', 'citizen'] 빈도수를 cfd로 만드시오."
   ]
  },
  {
   "cell_type": "code",
   "execution_count": 19,
   "id": "1e729af5-2447-4d44-8043-ed53c10328bc",
   "metadata": {},
   "outputs": [
    {
     "name": "stdout",
     "output_type": "stream",
     "text": [
      "        1789-Washington 1793-Washington      1797-Adams  1801-Jefferson  1805-Jefferson    1809-Madison    1813-Madison     1817-Monroe     1821-Monroe      1825-Adams    1829-Jackson    1833-Jackson   1837-VanBuren   1841-Harrison       1845-Polk     1849-Taylor     1853-Pierce   1857-Buchanan    1861-Lincoln    1865-Lincoln      1869-Grant      1873-Grant      1877-Hayes   1881-Garfield  1885-Cleveland   1889-Harrison  1893-Cleveland   1897-McKinley   1901-McKinley  1905-Roosevelt       1909-Taft     1917-Wilson    1921-Harding   1925-Coolidge     1929-Hoover  1933-Roosevelt  1937-Roosevelt  1941-Roosevelt  1945-Roosevelt     1949-Truman 1953-Eisenhower 1957-Eisenhower    1961-Kennedy    1965-Johnson      1969-Nixon      1973-Nixon     1977-Carter     1981-Reagan     1985-Reagan       1989-Bush    1993-Clinton    1997-Clinton       2001-Bush       2005-Bush      2009-Obama      2013-Obama      2017-Trump      2021-Biden \n",
      "america               2               1               8               0               1               0               1               1               2               0               0               2               2               7               0               2               2               3               2               1               0               0               1               2               4               6               9               9               7               0              12               4              24              11              12               2               5              12               2               4               6               7               7              10              10              23               5              16              21              11              33              31              20              30              15              19              35              40 \n",
      "citizen               5               1               6               7              10               1               4              14              15               3               2               3               7              38              11               2               4               7               7               0               5               3               9               9              13              12              10              10               2               1               6               3               6               5              12               1               2               1               1               1               7               0               5               4               1               1               0               3               6               3               2              10              11               7               2               8               4               1 \n"
     ]
    }
   ],
   "source": [
    "cfd1 = nltk.ConditionalFreqDist(\n",
    "    (findWord, fileid[:-4])        # .txt를 제외시킨다.\n",
    "    \n",
    "    for fileid in inaugural.fileids()\n",
    "    for findWord in ['america', 'citizen']\n",
    "    \n",
    "    for word in inaugural.words(fileids=fileid)\n",
    "        # if findWord in word.lower()\n",
    "        # if word.lower() == findWord\n",
    "    \n",
    "        if word.lower().startswith(findWord)\n",
    ")\n",
    "\n",
    "cfd1.tabulate()                    # fileid의 개수가 많아 표가 엉켜 보이게 됨"
   ]
  },
  {
   "cell_type": "code",
   "execution_count": 28,
   "id": "b2c55f4f-7ed0-49bc-9fa7-b96fd743b9de",
   "metadata": {},
   "outputs": [
    {
     "data": {
      "image/png": "[encoded data removed]",
      "text/plain": [
       "<Figure size 1080x360 with 1 Axes>"
      ]
     },
     "metadata": {
      "needs_background": "light"
     },
     "output_type": "display_data"
    },
    {
     "data": {
      "text/plain": [
       "<AxesSubplot:xlabel='Samples', ylabel='Counts'>"
      ]
     },
     "execution_count": 28,
     "metadata": {},
     "output_type": "execute_result"
    }
   ],
   "source": [
    "# !pip install matplotlib\n",
    "\n",
    "import matplotlib.pyplot as plt\n",
    "plt.figure(figsize=(15,5))\n",
    "\n",
    "cfd1.plot()"
   ]
  },
  {
   "cell_type": "markdown",
   "id": "4d0f9bf8-562c-4b4a-a6d9-07932610f180",
   "metadata": {
    "tags": []
   },
   "source": [
    "<br><br>     \n",
    "## **3. Tuple & List**"
   ]
  },
  {
   "cell_type": "markdown",
   "id": "2910ab9f-3044-4dac-ab2d-093fd631fd06",
   "metadata": {},
   "source": [
    "- `tuple` 장점 (불변객체):  \n",
    "\n",
    "    - 변하지 않는 데이터 시퀀스를 만들 수 있다.  \n",
    "\n",
    "    - 타인의 접근(변경)을 막는다.  \n",
    "      ex) blue = 1, white = 2, ...  \n",
    "        \n",
    "    - 메모리 사용이 적다.  \n",
    "\n",
    "- `list` 장점 (가변객체):\n",
    "    - 튜플의 장점이 필요없을 때 리스트를 사용한다.  \n",
    "\n",
    "    - 데이터를 순차적으로 파악할 때 사용\n",
    "    - 중복 데이터를 쓰는 것이 가능하다. (vs. set)"
   ]
  },
  {
   "cell_type": "markdown",
   "id": "365186a5-e96d-4c22-8c02-a752d8ffc527",
   "metadata": {},
   "source": [
    "### **# 자료형 생성**"
   ]
  },
  {
   "cell_type": "code",
   "execution_count": 43,
   "id": "ab1218ef-40c7-4c32-9292-c47913815ce2",
   "metadata": {},
   "outputs": [
    {
     "name": "stdout",
     "output_type": "stream",
     "text": [
      "()\n",
      "[]\n",
      "\n"
     ]
    }
   ],
   "source": [
    "# 빈 자료형 선언 방식\n",
    "\n",
    "emptyTuple = ()\n",
    "emptyTuple = tuple()\n",
    "\n",
    "emptyList = []\n",
    "emptyList = list()\n",
    "\n",
    "print(emptyTuple)\n",
    "print(emptyList, end='\\n\\n')"
   ]
  },
  {
   "cell_type": "code",
   "execution_count": 44,
   "id": "26b9d308-9a95-4cb7-ba7c-d43806f1e260",
   "metadata": {},
   "outputs": [
    {
     "name": "stdout",
     "output_type": "stream",
     "text": [
      "('a', 'b')\n",
      "('a', 'b')\n",
      "\n"
     ]
    }
   ],
   "source": [
    "# 요소 여러개를 선언\n",
    "\n",
    "alphabetT_1 = ('a', 'b')\n",
    "alphabetT_2 = 'a', 'b' # 편해서 더 자주 쓰임\n",
    "\n",
    "print(alphabetT_1)\n",
    "print(alphabetT_2, end='\\n\\n')"
   ]
  },
  {
   "cell_type": "code",
   "execution_count": 66,
   "id": "3200ae80-e911-4a57-a086-668f1d481353",
   "metadata": {},
   "outputs": [
    {
     "name": "stdout",
     "output_type": "stream",
     "text": [
      "a \t <class 'str'>\n",
      "('b',) <class 'tuple'>\n",
      "\n"
     ]
    }
   ],
   "source": [
    "# 요소가 1개일 때\n",
    "\n",
    "alphaT = ('a')       # 하나일 때는 튜플로 인식하지 않는다.\n",
    "print(alphaT, '\\t', type(alphaT))\n",
    "\n",
    "\n",
    "betaT = ('b', )      # 콤마(,) 를 찍어야 튜플로 인식한다.\n",
    "print(betaT, type(betaT), end='\\n\\n')"
   ]
  },
  {
   "cell_type": "markdown",
   "id": "1d215522-2942-4ec1-ae90-794a07c13fde",
   "metadata": {},
   "source": [
    "ㅤ        \n",
    "### **# Packing, Unpacking**"
   ]
  },
  {
   "cell_type": "markdown",
   "id": "0bca57fc-d96b-48df-a15b-b5cdb8997938",
   "metadata": {},
   "source": [
    "- `packing`: 한 변수에 여러 데이터를 할당하는 것.\n",
    "    - list, tuple 자체를 의미.\n",
    "    - a = [1,2,3,4]  \n",
    "\n",
    "\n",
    "- `unpacking`: 여러 변수에 여러 데이터가 들어 있을 때 여러 변수에 나누는 것  \n",
    "    - a, b, c = 'kim'\n",
    "    - a = 'k' , b = 'i', c = 'm'"
   ]
  },
  {
   "cell_type": "code",
   "execution_count": 73,
   "id": "e69b9b41-ddb5-40e5-a0c6-932eb1a86286",
   "metadata": {},
   "outputs": [
    {
     "data": {
      "text/plain": [
       "('h', 'a', 't')"
      ]
     },
     "execution_count": 73,
     "metadata": {},
     "output_type": "execute_result"
    }
   ],
   "source": [
    "# Unpacking\n",
    "a, b, c = 'hat'\n",
    "a, b, c"
   ]
  },
  {
   "cell_type": "markdown",
   "id": "b214bb1b-b1cd-46c7-9ae4-c9755e2045c4",
   "metadata": {},
   "source": [
    "ㅤ        \n",
    "### **# 값 교환**"
   ]
  },
  {
   "cell_type": "code",
   "execution_count": 92,
   "id": "80f89526-52e9-41d8-a847-1474b60ccc6c",
   "metadata": {},
   "outputs": [
    {
     "name": "stdout",
     "output_type": "stream",
     "text": [
      "ratchet clank\n"
     ]
    }
   ],
   "source": [
    "# 값 교환하기\n",
    "\n",
    "pwd = 'clank'\n",
    "userId = 'ratchet'\n",
    "\n",
    "''' 임시 배열을 둬서 원본 데이터를 보존\n",
    "temp1 = userId\n",
    "temp2 = pwd\n",
    "pwd = temp1\n",
    "userId = temp2\n",
    "'''\n",
    "\n",
    "# Python에서 가능\n",
    "pwd, userId = userId, pwd\n",
    "print(pwd, userId)\n"
   ]
  },
  {
   "cell_type": "markdown",
   "id": "c60d0fba-d866-4783-bb97-f548bed557ec",
   "metadata": {},
   "source": [
    "ㅤ        \n",
    "### **# 튜플 - 연산**"
   ]
  },
  {
   "cell_type": "code",
   "execution_count": 93,
   "id": "62fe43ef-3492-4bce-a5ce-d775a8c3e005",
   "metadata": {},
   "outputs": [
    {
     "name": "stdout",
     "output_type": "stream",
     "text": [
      "('a', 1, 2)\n",
      "(1, 2, 1, 2, 1, 2)\n",
      "\n",
      "x   : 1782003040656\n",
      "x+y : 1782003057088\n"
     ]
    }
   ],
   "source": [
    "# 튜플의 연산\n",
    "\n",
    "new_a = ('a',) + (1,2)\n",
    "print(new_a)\n",
    "\n",
    "numT = (1,2) * 3\n",
    "print(numT, end='\\n\\n')\n",
    "\n",
    "x = ('a',)\n",
    "y = (1, 2)\n",
    "print('x   :', id(x)) \n",
    "print('x+y :', id(x + y))     # 새로운 변수에 할당이 되는 것을 확인 가능하다\n"
   ]
  },
  {
   "cell_type": "markdown",
   "id": "579724f1-bb7f-45f5-9509-b513ed38ae56",
   "metadata": {},
   "source": [
    "ㅤ        \n",
    "### **# 튜플 - 비교**"
   ]
  },
  {
   "cell_type": "code",
   "execution_count": 100,
   "id": "1a508380-71cc-4905-912d-91d0ff9dbc3a",
   "metadata": {},
   "outputs": [
    {
     "name": "stdout",
     "output_type": "stream",
     "text": [
      "x < y : True\n",
      "a < b : False\n"
     ]
    }
   ],
   "source": [
    "x = 1, 2\n",
    "y = 1, 6\n",
    "\n",
    "a = 3, 1\n",
    "b = 2, 4\n",
    "\n",
    "print(f'x < y : {x < y}')      # 첫번째 인자부터 비교를 한다\n",
    "print(f'a < b : {a < b}')\n"
   ]
  },
  {
   "cell_type": "markdown",
   "id": "00195387-793e-47d3-b9c1-fde2b5e47cbe",
   "metadata": {},
   "source": [
    "ㅤ        \n",
    "### **# 튜플 - 순회**"
   ]
  },
  {
   "cell_type": "code",
   "execution_count": 103,
   "id": "220ea582-cebc-4380-b4cc-61b3bebe63b7",
   "metadata": {},
   "outputs": [
    {
     "name": "stdout",
     "output_type": "stream",
     "text": [
      "chocolate\n",
      "vanilla\n",
      "mint\n"
     ]
    }
   ],
   "source": [
    "# for문 순회\n",
    "\n",
    "flavorT = 'chocolate', 'vanilla', 'mint'\n",
    "for i in flavorT:\n",
    "    print(i)"
   ]
  },
  {
   "cell_type": "markdown",
   "id": "254dade6-ea91-4ce6-b501-9059cee0ffe2",
   "metadata": {},
   "source": [
    "ㅤ        \n",
    "### **# 튜플 - Slicing**"
   ]
  },
  {
   "cell_type": "code",
   "execution_count": 126,
   "id": "eb508b93-5108-4d2b-b78c-fa89e72c20fb",
   "metadata": {},
   "outputs": [
    {
     "data": {
      "text/plain": [
       "'vanilla'"
      ]
     },
     "execution_count": 126,
     "metadata": {},
     "output_type": "execute_result"
    }
   ],
   "source": [
    "# 리스트와 동일하게 튜플도 slicing이 가능하다.\n",
    "\n",
    "flavorT[1]"
   ]
  },
  {
   "cell_type": "markdown",
   "id": "c95798ed-a47a-4808-8fdc-e5f9ae907ca1",
   "metadata": {},
   "source": [
    "ㅤ        \n",
    "### **# 튜플 - List Comprehension?**\n",
    "- tuple comprehension은 존재하지 않는다.  \n",
    "\n",
    "- 리스트로 바꿔서 하는 것은 가능."
   ]
  },
  {
   "cell_type": "code",
   "execution_count": 115,
   "id": "1d6a15bb-eea1-474b-a42e-f4ddf2bca54e",
   "metadata": {},
   "outputs": [
    {
     "name": "stdout",
     "output_type": "stream",
     "text": [
      "('chocolate', 'vanilla', 'mint')\n",
      "('chocolate', 'vanilla', 'mint')\n"
     ]
    }
   ],
   "source": [
    "# 1. 리스트 컴프리헨션을 취한 후 다시 튜플로 형 변환\n",
    "\n",
    "print(tuple([i for i in flavorT]))\n",
    "\n",
    "\n",
    "# 2. 1번 방식보다 느리다.\n",
    "\n",
    "tempT = *[i for i in flavorT],\n",
    "print(tempT)"
   ]
  },
  {
   "cell_type": "markdown",
   "id": "bd06976e-e1f0-4c8a-b30a-55e30c145d74",
   "metadata": {},
   "source": [
    "ㅤ        \n",
    "### **# 튜플 - 형 변환**"
   ]
  },
  {
   "cell_type": "code",
   "execution_count": 124,
   "id": "431a3f73-c5ad-46ec-94b2-888b75709a9e",
   "metadata": {},
   "outputs": [
    {
     "name": "stdout",
     "output_type": "stream",
     "text": [
      "('d', 'o', 'g')\n",
      "('dog',)\n",
      "\n",
      "['d', 'o', 'g']\n",
      "['dog']\n"
     ]
    }
   ],
   "source": [
    "# 형 변환 주의점\n",
    "dog = 'dog'\n",
    "\n",
    "# 1.1. 스트링의 각 철자를 튜플의 요소로 넣는다.\n",
    "print(tuple(dog))\n",
    "\n",
    "# 1.2. 전체를 튜플로 변환\n",
    "print((dog,))\n",
    "\n",
    "print()\n",
    "\n",
    "# 2.1. 리스트도 동일한 원리를 따른다.\n",
    "print(list(dog))\n",
    "\n",
    "# 2.2.\n",
    "print([dog])"
   ]
  },
  {
   "cell_type": "markdown",
   "id": "b7862326-fe1e-4255-a980-0285cf2dcdf5",
   "metadata": {},
   "source": [
    "<br><br>\n",
    "## **4. List의 유용한 함수들**"
   ]
  },
  {
   "cell_type": "markdown",
   "id": "11db0942-5095-46a7-8736-c8fb38fdc6a8",
   "metadata": {},
   "source": [
    "- 변경, 삭제, 추가와 관련된 함수들  \n",
    "\n",
    "- 리스트 컴프리헨션 업그레이드"
   ]
  },
  {
   "cell_type": "markdown",
   "id": "ad701a92-11e1-410a-89f8-9a27878e6afd",
   "metadata": {},
   "source": [
    "## 생성 / 추가"
   ]
  },
  {
   "cell_type": "markdown",
   "id": "8d2c2b33-a455-46a4-8603-b87860f27ba1",
   "metadata": {},
   "source": [
    "### **# `range()`**"
   ]
  },
  {
   "cell_type": "code",
   "execution_count": 135,
   "id": "ac3691c5-4916-4d14-82cf-bdc9fcaa5cc9",
   "metadata": {},
   "outputs": [
    {
     "data": {
      "text/plain": [
       "[0, 1, 2, 3, 4]"
      ]
     },
     "execution_count": 135,
     "metadata": {},
     "output_type": "execute_result"
    }
   ],
   "source": [
    "# 리스트의 내용을 range 함수로 자동 생성\n",
    "\n",
    "num = list(range(5))\n",
    "num"
   ]
  },
  {
   "cell_type": "markdown",
   "id": "3f3f3db4-8432-4589-9a94-64ec5c7b4266",
   "metadata": {
    "tags": []
   },
   "source": [
    "ㅤ        \n",
    "### **# `append()`**"
   ]
  },
  {
   "cell_type": "code",
   "execution_count": 155,
   "id": "3fbd9c0d-2efb-4f06-91c2-471320b5de72",
   "metadata": {},
   "outputs": [
    {
     "name": "stdout",
     "output_type": "stream",
     "text": [
      "[0, 1, 2, 3, 4, 5]\n",
      "[0, 1, 2, 3, 4, 5, [-1, -1, -1]]\n"
     ]
    }
   ],
   "source": [
    "# 마지막에 요소 추가 (하나만 추가할 수 있다.)\n",
    "\n",
    "num = [0, 1, 2, 3, 4]\n",
    "\n",
    "num.append(5)\n",
    "print(num)\n",
    "\n",
    "\n",
    "# 리스트 자체를 요소로써 추가 가능\n",
    "\n",
    "x = [-1, -1, -1]    \n",
    "num.append(x)\n",
    "print(num)"
   ]
  },
  {
   "cell_type": "markdown",
   "id": "72c92957-23b4-4192-b736-d2079b32de18",
   "metadata": {},
   "source": [
    "ㅤ        \n",
    "### **# `insert()`**"
   ]
  },
  {
   "cell_type": "code",
   "execution_count": 142,
   "id": "cddeac20-0030-4df1-9317-260f16df40d6",
   "metadata": {},
   "outputs": [
    {
     "data": {
      "text/plain": [
       "[8, 0, 1, 2, 3, 4, 5]"
      ]
     },
     "execution_count": 142,
     "metadata": {},
     "output_type": "execute_result"
    }
   ],
   "source": [
    "# insert(index, item)\n",
    "\n",
    "num = [0, 1, 2, 3, 4, 5]\n",
    "\n",
    "num.insert(0, 8)\n",
    "num"
   ]
  },
  {
   "cell_type": "markdown",
   "id": "25beb333-5c86-45dd-8c2d-c8c00788dc34",
   "metadata": {},
   "source": [
    "ㅤ        \n",
    "### **# `extend()`**"
   ]
  },
  {
   "cell_type": "code",
   "execution_count": 157,
   "id": "c2a3a0cc-2f09-4d83-a61b-27a923215490",
   "metadata": {},
   "outputs": [
    {
     "name": "stdout",
     "output_type": "stream",
     "text": [
      "[0, 1, 2, 3, 4, 5, -1, -1, -1]\n",
      "\n"
     ]
    }
   ],
   "source": [
    "# 리스트를 요소로써가 아닌 합치고 싶을 경우\n",
    "\n",
    "num = [0, 1, 2, 3, 4, 5]\n",
    "x = [-1, -1, -1]\n",
    "\n",
    "num.extend(x)     # 리스트를 리스트로 확장\n",
    "print(num, end='\\n\\n')"
   ]
  },
  {
   "cell_type": "code",
   "execution_count": 154,
   "id": "68544c74-2178-4433-8a83-1428611b1753",
   "metadata": {},
   "outputs": [
    {
     "data": {
      "text/plain": [
       "[0, 1, 2, 3, 4, 5, -1, -1, -1]"
      ]
     },
     "execution_count": 154,
     "metadata": {},
     "output_type": "execute_result"
    }
   ],
   "source": [
    "# extend()을 쓰지 않고 연산으로도 합치는 것이 가능\n",
    "\n",
    "num = [0, 1, 2, 3, 4, 5]\n",
    "x = [-1, -1, -1]\n",
    "\n",
    "num += x\n",
    "num"
   ]
  },
  {
   "cell_type": "markdown",
   "id": "e976a934-ad09-425d-8a23-81c54a325a37",
   "metadata": {},
   "source": [
    "ㅤ        \n",
    "## 변경"
   ]
  },
  {
   "cell_type": "markdown",
   "id": "e51aeafe-26de-4054-9e17-13819bc413d7",
   "metadata": {},
   "source": [
    "### **# Offset**"
   ]
  },
  {
   "cell_type": "code",
   "execution_count": 192,
   "id": "ec06ce87-7d6d-4167-95cb-fa798ce8ccf2",
   "metadata": {},
   "outputs": [
    {
     "name": "stdout",
     "output_type": "stream",
     "text": [
      "[-1, 1, 2, 3, 4, 5]\n",
      "\n"
     ]
    }
   ],
   "source": [
    "num = [0, 1, 2, 3, 4, 5]\n",
    "\n",
    "num[0] = -1                 # 0번째 인덱스 변경\n",
    "print(num, end='\\n\\n')"
   ]
  },
  {
   "cell_type": "markdown",
   "id": "6cf25bf4-bade-4a61-bc5a-bb7e1d11ec73",
   "metadata": {},
   "source": [
    "### **# Slicing**"
   ]
  },
  {
   "cell_type": "code",
   "execution_count": 194,
   "id": "87939701-7322-4247-8d5d-87ffa73139d7",
   "metadata": {},
   "outputs": [
    {
     "name": "stdout",
     "output_type": "stream",
     "text": [
      "[-1, -1, -1, 3, 4, 5]\n",
      "\n",
      "['w', 'h', 'y', 3, 4, 5]\n",
      "\n",
      "['why', 3, 4, 5]\n"
     ]
    }
   ],
   "source": [
    "num = [0, 1, 2, 3, 4, 5]\n",
    "\n",
    "num[:3] = -1, -1, -1        # 3번째 인덱스 전까지 변경\n",
    "print(num, end='\\n\\n')\n",
    "\n",
    "\n",
    "num[:3] = 'why'             # 스트링이 언패킹되어 한 철자씩 리스트에 들어가게 된다.\n",
    "print(num, end='\\n\\n')\n",
    "\n",
    "\n",
    "num[:3] = ['why']           # 언패킹 방지\n",
    "print(num)"
   ]
  },
  {
   "cell_type": "markdown",
   "id": "156805c8-8fa6-4160-8131-fb425decda3e",
   "metadata": {},
   "source": [
    "ㅤ        \n",
    "## 삭제"
   ]
  },
  {
   "cell_type": "markdown",
   "id": "191a69e2-fae0-498d-a658-8a6b6d708919",
   "metadata": {},
   "source": [
    "### **# `del`**"
   ]
  },
  {
   "cell_type": "code",
   "execution_count": 197,
   "id": "31f696ed-967f-4768-90d0-41ba53f7f75b",
   "metadata": {},
   "outputs": [
    {
     "data": {
      "text/plain": [
       "[3, 4, 5]"
      ]
     },
     "execution_count": 197,
     "metadata": {},
     "output_type": "execute_result"
    }
   ],
   "source": [
    "num = [0, 1, 2, 3, 4, 5]\n",
    "\n",
    "del num[:3]\n",
    "num"
   ]
  },
  {
   "cell_type": "markdown",
   "id": "4711c267-2339-43f1-8af5-456b7a3bb12d",
   "metadata": {},
   "source": [
    "ㅤ        \n",
    "### **# `remove()`**"
   ]
  },
  {
   "cell_type": "code",
   "execution_count": 201,
   "id": "1c528633-53d1-4fe6-8b0c-30bfcd7497e0",
   "metadata": {},
   "outputs": [
    {
     "data": {
      "text/plain": [
       "[0, 2, 3, 4, 5]"
      ]
     },
     "execution_count": 201,
     "metadata": {},
     "output_type": "execute_result"
    }
   ],
   "source": [
    "# remove(value)\n",
    "\n",
    "num = [0, 1, 2, 3, 4, 5]\n",
    "\n",
    "num.remove(1)\n",
    "num"
   ]
  },
  {
   "cell_type": "markdown",
   "id": "5c603cd8-b455-4eee-81e1-bdc3c613ccce",
   "metadata": {},
   "source": [
    "ㅤ        \n",
    "### **# `pop()`**"
   ]
  },
  {
   "cell_type": "code",
   "execution_count": 205,
   "id": "02c91a8c-7b6c-4db8-b213-4493299a3dcd",
   "metadata": {},
   "outputs": [
    {
     "name": "stdout",
     "output_type": "stream",
     "text": [
      "[-1, 0, 1, 2, 3, 4]\n",
      "[-1, 0, 2, 3, 4]\n"
     ]
    }
   ],
   "source": [
    "# pop(index) : 기본값은 -1\n",
    "\n",
    "num = [-1, 0, 1, 2, 3, 4, 5]\n",
    "\n",
    "num.pop()\n",
    "print(num)\n",
    "\n",
    "num.pop(2)\n",
    "print(num)"
   ]
  },
  {
   "cell_type": "markdown",
   "id": "decfdf4c-80ba-4329-b6d8-61ea43487d8d",
   "metadata": {},
   "source": [
    "ㅤ        \n",
    "### **# `clear()`**"
   ]
  },
  {
   "cell_type": "code",
   "execution_count": 206,
   "id": "c40fcfc2-a5c1-4f71-b2ad-3c031cf11b19",
   "metadata": {},
   "outputs": [
    {
     "data": {
      "text/plain": [
       "[]"
      ]
     },
     "execution_count": 206,
     "metadata": {},
     "output_type": "execute_result"
    }
   ],
   "source": [
    "num = [-1, 0, 1, 2, 3, 4, 5]\n",
    "\n",
    "num.clear()\n",
    "num"
   ]
  },
  {
   "cell_type": "markdown",
   "id": "abe0b911-2199-401d-869c-0236f10cf24e",
   "metadata": {},
   "source": [
    "ㅤ        \n",
    "## 탐색"
   ]
  },
  {
   "cell_type": "markdown",
   "id": "f040a376-ae9f-4bce-8eb5-ff0cddfcc967",
   "metadata": {},
   "source": [
    "### **# `index()`**"
   ]
  },
  {
   "cell_type": "code",
   "execution_count": 223,
   "id": "0fec23df-a3bf-47db-86eb-9660171e15e3",
   "metadata": {},
   "outputs": [
    {
     "name": "stdout",
     "output_type": "stream",
     "text": [
      "[1, 2, 3, 4, 5]\n"
     ]
    },
    {
     "data": {
      "text/plain": [
       "3"
      ]
     },
     "execution_count": 223,
     "metadata": {},
     "output_type": "execute_result"
    }
   ],
   "source": [
    "# index(value) \n",
    "\n",
    "num = list(range(1,6))\n",
    "print(num)\n",
    "\n",
    "num.index(4)    # 해당 value가 위치하는 index 반환\n",
    "\n",
    "                # cf) find() -> 문자열만가능"
   ]
  },
  {
   "cell_type": "markdown",
   "id": "4ed6fe06-7abb-456a-872a-12b4c87c16a4",
   "metadata": {},
   "source": [
    "### **# `in`**"
   ]
  },
  {
   "cell_type": "code",
   "execution_count": 225,
   "id": "9c224e7d-3b8a-416f-9c04-a95babeed3e5",
   "metadata": {},
   "outputs": [
    {
     "data": {
      "text/plain": [
       "False"
      ]
     },
     "execution_count": 225,
     "metadata": {},
     "output_type": "execute_result"
    }
   ],
   "source": [
    "# 특정 요소가 존재하는지 파악\n",
    "\n",
    "num = [1, 2, 3, 4, 5]\n",
    "\n",
    "0 in num"
   ]
  },
  {
   "cell_type": "markdown",
   "id": "02b43a52-8160-442a-8e0e-e5a55743ff6c",
   "metadata": {},
   "source": [
    "ㅤ        \n",
    "## 정렬"
   ]
  },
  {
   "cell_type": "markdown",
   "id": "f83aff8a-df4b-4c75-afbb-b94995601922",
   "metadata": {},
   "source": [
    "### **# `sorted()`**"
   ]
  },
  {
   "cell_type": "code",
   "execution_count": 234,
   "id": "0e116741-2891-4eca-af0b-009a514a7851",
   "metadata": {},
   "outputs": [
    {
     "data": {
      "text/plain": [
       "[5, 4, 3, 2, 1]"
      ]
     },
     "execution_count": 234,
     "metadata": {},
     "output_type": "execute_result"
    }
   ],
   "source": [
    "num = [2, 3, 4, 1, 5]\n",
    "\n",
    "sorted(num, reverse = True)  # 변한 값만 복사해서 출력, 할당이 필요하다."
   ]
  },
  {
   "cell_type": "markdown",
   "id": "9fd4cecc-b2fd-4118-9af4-cc787118764f",
   "metadata": {},
   "source": [
    "### **# `.sort()`**"
   ]
  },
  {
   "cell_type": "code",
   "execution_count": 235,
   "id": "084d77ed-b231-4a10-b45f-73fefbfc4b7b",
   "metadata": {},
   "outputs": [
    {
     "data": {
      "text/plain": [
       "[5, 4, 3, 2, 1]"
      ]
     },
     "execution_count": 235,
     "metadata": {},
     "output_type": "execute_result"
    }
   ],
   "source": [
    "num = [2, 3, 4, 1, 5]\n",
    "\n",
    "num.sort(reverse=True)        # 리스트.sort(), 값을 할당하지 않아도 된다.\n",
    "num"
   ]
  },
  {
   "cell_type": "markdown",
   "id": "2c9bbd51-659d-49d0-ba81-e0b1b683f556",
   "metadata": {},
   "source": [
    "ㅤ        \n",
    "## 순서 변경"
   ]
  },
  {
   "cell_type": "markdown",
   "id": "d5956c18-515d-4b7a-9f82-eae76d0f2702",
   "metadata": {},
   "source": [
    "### **# `reversed()`**"
   ]
  },
  {
   "cell_type": "code",
   "execution_count": 245,
   "id": "14e9021e-5f24-4a8c-a0cb-3e8717237ecb",
   "metadata": {},
   "outputs": [
    {
     "name": "stdout",
     "output_type": "stream",
     "text": [
      "<list_reverseiterator object at 0x0000019EE7568AF0>\n",
      "[5, 1, 4, 3, 2]\n"
     ]
    }
   ],
   "source": [
    "# 값을 반환하지 않는다.\n",
    "\n",
    "num = [2, 3, 4, 1, 5]\n",
    "print(reversed(num))\n",
    "print(list(reversed(num)))"
   ]
  },
  {
   "cell_type": "markdown",
   "id": "84c8f0d2-354c-4654-958a-0d031d943647",
   "metadata": {},
   "source": [
    "### **# `.reverse()`**"
   ]
  },
  {
   "cell_type": "code",
   "execution_count": 243,
   "id": "1e8a3fd0-6cf2-411b-98e4-f483878db54c",
   "metadata": {},
   "outputs": [
    {
     "data": {
      "text/plain": [
       "[5, 1, 4, 3, 2]"
      ]
     },
     "execution_count": 243,
     "metadata": {},
     "output_type": "execute_result"
    }
   ],
   "source": [
    "num = [2, 3, 4, 1, 5]\n",
    "\n",
    "num.reverse()\n",
    "num"
   ]
  },
  {
   "cell_type": "markdown",
   "id": "1fdc6be5-748a-40ef-a35c-991ba95c9293",
   "metadata": {},
   "source": [
    "ㅤ        \n",
    "## 참조 / 복사"
   ]
  },
  {
   "cell_type": "markdown",
   "id": "44d2c371-d042-42be-a817-dd76d0834baf",
   "metadata": {},
   "source": [
    "### **# 같은 메모리 주소 공유**"
   ]
  },
  {
   "cell_type": "code",
   "execution_count": 253,
   "id": "0ee5e74b-d1da-4b95-b619-529e64e1c8ae",
   "metadata": {},
   "outputs": [
    {
     "name": "stdout",
     "output_type": "stream",
     "text": [
      "[1, 2, 3, 4]\n",
      "a : [6, 2, 3, 4] 1781998063936\n",
      "b : [6, 2, 3, 4] 1781998063936\n"
     ]
    }
   ],
   "source": [
    "a = list(range(1,5))\n",
    "print(a)\n",
    "\n",
    "b = a  # 메모리 주소를 참조하는 것을 의미한다.\n",
    "b[0] = 6\n",
    "\n",
    "print('a :', a, id(a))\n",
    "print('b :', b, id(b))"
   ]
  },
  {
   "cell_type": "markdown",
   "id": "e0f66bed-d630-4c97-81cb-60c83b44cbaf",
   "metadata": {},
   "source": [
    "ㅤ        \n",
    "### **# `.copy()`**: shallow copy"
   ]
  },
  {
   "cell_type": "code",
   "execution_count": 277,
   "id": "d1bdf7d0-4626-4703-836e-64183912bb45",
   "metadata": {},
   "outputs": [
    {
     "name": "stdout",
     "output_type": "stream",
     "text": [
      "\n",
      "a: 1781998033280\n",
      "b: 1781998033280\n",
      "\n",
      "c: 1781998034304\n",
      "d: 1781998507264\n",
      "e: 1781997992000\n",
      "\n"
     ]
    }
   ],
   "source": [
    "# shallow copy: 참조하지 않고 새로운 객체에 할당하는 방법. 얕은 복사\n",
    "a = [1, 2, 3, 4]\n",
    "\n",
    "b = a\n",
    "#=================\n",
    "c = a.copy()\n",
    "d = list(a)\n",
    "e = a[:]\n",
    "\n",
    "print(f'''\n",
    "a: {id(a)}\n",
    "b: {id(b)}\n",
    "\n",
    "c: {id(c)}\n",
    "d: {id(d)}\n",
    "e: {id(e)}\n",
    "''')"
   ]
  },
  {
   "cell_type": "code",
   "execution_count": 275,
   "id": "c726d27a-1c94-4c8b-b8a6-8174142cb1c2",
   "metadata": {},
   "outputs": [
    {
     "name": "stdout",
     "output_type": "stream",
     "text": [
      "a: [1, 2, 3, 4, [6, 6, 6]]\n",
      "\n",
      "a: 1781998383360\n",
      "f: 1781998063936\n",
      "\n",
      "f[-1][1] = 0\n",
      "a: [1, 2, 3, 4, [6, 0, 6]]\n",
      "f: [1, 2, 3, 4, [6, 0, 6]]\n"
     ]
    }
   ],
   "source": [
    "# shallow copy라고 불리는 이유: 리스트 안 요소가 가변 객체일 경우\n",
    "\n",
    "a = [1, 2, 3, 4]\n",
    "a.append([6, 6, 6])\n",
    "print('a:', a, end='\\n\\n')\n",
    "\n",
    "# 주소는 다르게 할당받는다.\n",
    "f = a.copy()\n",
    "print('a:', id(a))\n",
    "print('f:', id(f))\n",
    "print()\n",
    "\n",
    "# 내용물은 같이 변한다.\n",
    "f[-1][1] = 0\n",
    "print('f[-1][1] = 0')\n",
    "\n",
    "print('a:', a)\n",
    "print('f:', f)"
   ]
  },
  {
   "cell_type": "markdown",
   "id": "80072690-21ad-483a-bbc1-ea5c0f661a5c",
   "metadata": {},
   "source": [
    "ㅤ        \n",
    "### **# `.deepcopy()`**"
   ]
  },
  {
   "cell_type": "code",
   "execution_count": 286,
   "id": "d186ec90-36c8-44e7-a348-93f1f03c1d78",
   "metadata": {},
   "outputs": [
    {
     "name": "stdout",
     "output_type": "stream",
     "text": [
      "a : [1, 2, 3, 4, [6, 6, 6]] 1781998020736\n",
      "g : [1, 2, 3, 4, [6, 6, 6]] 1781998021504\n",
      "\n",
      "g[-1][1] = 0\n",
      "a : [1, 2, 3, 4, [6, 6, 6]] 1781998020736\n",
      "g : [1, 2, 3, 4, [6, 0, 6]] 1781998021504\n"
     ]
    }
   ],
   "source": [
    "# 복사한 리스트의 내용을 변경해도 원본 리스트는 변경되지 않는다.\n",
    "\n",
    "import copy\n",
    "\n",
    "a = [1, 2, 3, 4, [6, 6, 6]]\n",
    "g = copy.deepcopy(a)\n",
    "\n",
    "print('a :', a, id(a))\n",
    "print('g :', g, id(g))\n",
    "print()\n",
    "\n",
    "g[-1][1] = 0\n",
    "print('g[-1][1] = 0')\n",
    "\n",
    "print('a :', a, id(a))\n",
    "print('g :', g, id(g))"
   ]
  },
  {
   "cell_type": "markdown",
   "id": "2177703a-8d6e-4297-8700-6e3addf4d7ab",
   "metadata": {},
   "source": [
    "ㅤ        \n",
    "## 순회"
   ]
  },
  {
   "cell_type": "markdown",
   "id": "f4b7cf37-18b6-4ab8-90a8-2827f131c0c1",
   "metadata": {},
   "source": [
    "### **# `enumerate()`**"
   ]
  },
  {
   "cell_type": "code",
   "execution_count": 305,
   "id": "0b8db2d7-b0c3-44b3-ab5c-9bff35aca4a1",
   "metadata": {},
   "outputs": [
    {
     "name": "stdout",
     "output_type": "stream",
     "text": [
      "0 kate\n",
      "1 royce\n",
      "2 phill\n"
     ]
    }
   ],
   "source": [
    "# 리스트 + 인덱스 enumerate\n",
    "\n",
    "nameList = ['kate', 'royce', 'phill']\n",
    "\n",
    "for idx, item in enumerate(nameList):\n",
    "    print(idx, item)"
   ]
  },
  {
   "cell_type": "markdown",
   "id": "b4d3a4f0-4450-4254-990d-ec24e9b30689",
   "metadata": {},
   "source": [
    "ㅤ        \n",
    "### **# `zip()`**"
   ]
  },
  {
   "cell_type": "code",
   "execution_count": 304,
   "id": "9dffd8ff-7580-4fd4-be87-e1ddd5b35f5f",
   "metadata": {},
   "outputs": [
    {
     "name": "stdout",
     "output_type": "stream",
     "text": [
      "kate 77\n",
      "royce 44\n",
      "phill 54\n",
      "\n"
     ]
    }
   ],
   "source": [
    "# 여러 리스트를 동시에 순회\n",
    "# 짧은 리스트를 기준으로 순회\n",
    "\n",
    "nameList = ['kate', 'royce', 'phill']\n",
    "ageList = [77, 44, 54]\n",
    "\n",
    "# (name, age)\n",
    "for name, age in zip(nameList, ageList):   \n",
    "    print(name, age)\n",
    "\n",
    "print()"
   ]
  },
  {
   "cell_type": "code",
   "execution_count": 295,
   "id": "08dcf3af-d409-4a1c-9e3e-81130c5dce11",
   "metadata": {},
   "outputs": [
    {
     "name": "stdout",
     "output_type": "stream",
     "text": [
      "('kate', 77)\n",
      "('kate', 44)\n",
      "('kate', 54)\n",
      "('royce', 77)\n",
      "('royce', 44)\n",
      "('royce', 54)\n",
      "('phill', 77)\n",
      "('phill', 44)\n",
      "('phill', 54)\n",
      "\n"
     ]
    }
   ],
   "source": [
    "# for문 순회와의 차이 : 동시에 순회하지를 못한다.\n",
    "\n",
    "for name in nameList:\n",
    "    for age in ageList:\n",
    "        print((name,age))\n",
    "\n",
    "print()"
   ]
  },
  {
   "cell_type": "code",
   "execution_count": 308,
   "id": "a1e7356d-2985-408e-9f16-9521e5283b3c",
   "metadata": {},
   "outputs": [
    {
     "data": {
      "text/plain": [
       "[('kate', 77), ('royce', 44), ('phill', 54)]"
      ]
     },
     "execution_count": 308,
     "metadata": {},
     "output_type": "execute_result"
    }
   ],
   "source": [
    "# zip을 이용해서 바로 리스트로 가져갈 수 있다.\n",
    "\n",
    "name = ['kate', 'royce', 'phill']\n",
    "age = [77, 44, 54]\n",
    "\n",
    "identity = list(zip(name, age))\n",
    "identity"
   ]
  },
  {
   "cell_type": "markdown",
   "id": "b2b7c713-e7c9-4f4b-872e-854d7dd2ffa7",
   "metadata": {},
   "source": [
    "ㅤ        \n",
    "## **5. List Comprehension ~**"
   ]
  },
  {
   "cell_type": "markdown",
   "id": "954025ff-57ef-4e7a-8ad1-eebca6db0209",
   "metadata": {},
   "source": [
    "### **# List Comprehension O**"
   ]
  },
  {
   "cell_type": "code",
   "execution_count": 332,
   "id": "2af5a9a2-fffe-4d7f-a228-2e1126242a88",
   "metadata": {},
   "outputs": [
    {
     "data": {
      "text/plain": [
       "[('kate', 77), ('royce', 44), ('phill', 54)]"
      ]
     },
     "execution_count": 332,
     "metadata": {},
     "output_type": "execute_result"
    }
   ],
   "source": [
    "nameList = ['kate', 'royce', 'phill']\n",
    "ageList = [77, 44, 54]\n",
    "\n",
    "[(name, age) for name, age in zip(nameList, ageList)]"
   ]
  },
  {
   "cell_type": "markdown",
   "id": "f20ebc91-c827-47dc-9ce6-cb51bd840146",
   "metadata": {},
   "source": [
    "ㅤ        \n",
    "### **# List Comprehension X**"
   ]
  },
  {
   "cell_type": "code",
   "execution_count": 322,
   "id": "063cae93-6b5e-4910-9e1d-87a1b92d4268",
   "metadata": {},
   "outputs": [
    {
     "name": "stdout",
     "output_type": "stream",
     "text": [
      "[('kate', 77), ('royce', 44), ('phill', 54)]\n"
     ]
    }
   ],
   "source": [
    "people = []\n",
    "for name, age in zip(nameList, ageList):\n",
    "    people.append((name, age))\n",
    "    \n",
    "print(people)"
   ]
  },
  {
   "cell_type": "markdown",
   "id": "70a90f37-fc14-49c9-b171-36c3549d01ee",
   "metadata": {},
   "source": [
    "ㅤ        \n",
    "### # Quiz 1\n",
    "- for 문의 리스트 컴프리헨션을 바꿔보기  \n",
    "\n",
    "    `for i in nameList:`  \n",
    "    ㅤㅤ`for j in ageList:`  \n",
    "    ㅤㅤㅤㅤ`print((i,j))`\n"
   ]
  },
  {
   "cell_type": "code",
   "execution_count": 334,
   "id": "6e19df27-674c-4838-92db-4d1fbba5a0ed",
   "metadata": {},
   "outputs": [
    {
     "data": {
      "text/plain": [
       "[('kate', 77),\n",
       " ('kate', 44),\n",
       " ('kate', 54),\n",
       " ('royce', 77),\n",
       " ('royce', 44),\n",
       " ('royce', 54),\n",
       " ('phill', 77),\n",
       " ('phill', 44),\n",
       " ('phill', 54)]"
      ]
     },
     "execution_count": 334,
     "metadata": {},
     "output_type": "execute_result"
    }
   ],
   "source": [
    "[(i,j) for i in nameList for j in ageList]"
   ]
  },
  {
   "cell_type": "markdown",
   "id": "85a7dca4-1939-444d-bc57-17ead5b27b43",
   "metadata": {
    "tags": []
   },
   "source": [
    "ㅤ        \n",
    "### # Quiz 2\n",
    "- [ i, j ] 리스트의 리스트로 바꿔보기 (리스트 컴프리헨션)\n",
    "\n",
    "\n",
    "- 원하는 출력 결과:  \n",
    "\n",
    " \n",
    "    [ [('kate', 77), ('royce', 77), ('phill', 77)],  \n",
    "    [('kate', 44), ('royce', 44), ('phill', 44)],  \n",
    "    [('kate', 54), ('royce', 54), ('phill', 54)] ]  \n"
   ]
  },
  {
   "cell_type": "code",
   "execution_count": 342,
   "id": "a8613993-c34d-4ec1-a7a6-1f9204f04eda",
   "metadata": {},
   "outputs": [
    {
     "data": {
      "text/plain": [
       "[[('kate', 77), ('royce', 77), ('phill', 77)],\n",
       " [('kate', 44), ('royce', 44), ('phill', 44)],\n",
       " [('kate', 54), ('royce', 54), ('phill', 54)]]"
      ]
     },
     "execution_count": 342,
     "metadata": {},
     "output_type": "execute_result"
    }
   ],
   "source": [
    "[\n",
    "    [(i,j) for i in nameList] for j in ageList\n",
    "]"
   ]
  },
  {
   "cell_type": "markdown",
   "id": "0d01ad8f-2e08-47f8-839e-db7a6d25223c",
   "metadata": {},
   "source": [
    "ㅤ        \n",
    "### # Quiz 3\n",
    "- sentence = \"do not judge a book by its cover\"\n",
    "- [ (대문자, 첫글자 대문자, 글자수), ... ] 리스트 만들기"
   ]
  },
  {
   "cell_type": "code",
   "execution_count": 347,
   "id": "99c796ec-ad5d-4605-a79e-bdd15c159fdf",
   "metadata": {},
   "outputs": [
    {
     "data": {
      "text/plain": [
       "[('DO', 'Do', 2),\n",
       " ('NOT', 'Not', 3),\n",
       " ('JUDGE', 'Judge', 5),\n",
       " ('A', 'A', 1),\n",
       " ('BOOK', 'Book', 4),\n",
       " ('BY', 'By', 2),\n",
       " ('ITS', 'Its', 3),\n",
       " ('COVER', 'Cover', 5)]"
      ]
     },
     "execution_count": 347,
     "metadata": {},
     "output_type": "execute_result"
    }
   ],
   "source": [
    "sentence = \"do not judge a book by its cover\"\n",
    "\n",
    "[\n",
    "    (word.upper(), word.capitalize(), len(word)) for word in sentence.split()\n",
    "]"
   ]
  },
  {
   "cell_type": "markdown",
   "id": "c2e03996-df40-4fe1-94b6-fdc93359786b",
   "metadata": {},
   "source": [
    "ㅤ        \n",
    "### # Quiz 4\n",
    "- text = [  \n",
    "    ㅤ ['Sunja', 'said', 'goodnight', 'to', 'her', 'mother'],  \n",
    "    ㅤ ['Hansu', 'was', 'no', 'longer', 'in', 'Busan']  \n",
    "]  \n",
    "\n",
    "1. 문장마다 스트링으로 변화해서 리스트로 변환\n",
    "    - ['문장1', '문장2']  \n",
    "ㅤ  \n",
    "2. 전체를 스트링으로 반환  \n",
    "    - '문장1 문장2'  \n",
    "ㅤ  \n",
    "3. 전체 단어 리스트 가져오기  "
   ]
  },
  {
   "cell_type": "code",
   "execution_count": 349,
   "id": "3c24ffaf-18b8-434e-be36-1bfa0db73a8e",
   "metadata": {},
   "outputs": [],
   "source": [
    "text = [\n",
    "    ['Sunja', 'said', 'goodnight', 'to', 'her', 'mother'],\n",
    "    ['Hansu', 'was', 'no', 'longer', 'in', 'Busan']\n",
    "]"
   ]
  },
  {
   "cell_type": "code",
   "execution_count": 377,
   "id": "57e4758c-3d1b-4e03-94bc-8740fb3a134f",
   "metadata": {},
   "outputs": [
    {
     "name": "stdout",
     "output_type": "stream",
     "text": [
      "['Sunja said goodnight to her mother', 'Hansu was no longer in Busan']\n",
      "\n",
      "Sunja said goodnight to her mother Hansu was no longer in Busan\n",
      "\n",
      "['Sunja', 'said', 'goodnight', 'to', 'her', 'mother', 'Hansu', 'was', 'no', 'longer', 'in', 'Busan']\n"
     ]
    }
   ],
   "source": [
    "# 1.\n",
    "sentList = [' '.join(words) for words in text]\n",
    "print(sentList, end='\\n\\n')\n",
    "\n",
    "\n",
    "# 2.\n",
    "singleString = ' '.join(sentList)\n",
    "print(singleString, end='\\n\\n')\n",
    "\n",
    "\n",
    "# 3.\n",
    "wordList = [word for sent in text for word in sent]\n",
    "\n",
    "'''\n",
    "wordList = [\n",
    "    word \n",
    "    for sent in sentList \n",
    "    for word in sent.split()\n",
    "]\n",
    "'''\n",
    "print(wordList)"
   ]
  },
  {
   "cell_type": "markdown",
   "id": "32097adb-c597-47f8-9a72-e27251371700",
   "metadata": {},
   "source": [
    "ㅤ     \n",
    "ㅤ        \n",
    "### **# List Comprehension : 조건문**"
   ]
  },
  {
   "cell_type": "markdown",
   "id": "bbffdf9c-de18-41c0-89ec-b4b3a7e0e8e5",
   "metadata": {},
   "source": [
    "### # Quiz 1\n",
    "- 짝수만 가져오고, 홀수일 경우 '홀수'라고 출력  \n",
    "[i for i in range(10)]  "
   ]
  },
  {
   "cell_type": "code",
   "execution_count": 381,
   "id": "4c80583b-2dd9-4ba2-adfd-dc783cb23500",
   "metadata": {},
   "outputs": [
    {
     "data": {
      "text/plain": [
       "[0, '홀수', 2, '홀수', 4, '홀수', 6, '홀수', 8, '홀수']"
      ]
     },
     "execution_count": 381,
     "metadata": {},
     "output_type": "execute_result"
    }
   ],
   "source": [
    "# WRONG\n",
    "# [i for i in range(10) if i % 2 == 0 else '홀수']  \n",
    "\n",
    "# CORRECT\n",
    "[i if i % 2 == 0 else '홀수' for i in range(10)]      # 앞으로 끌고 온다."
   ]
  }
 ],
 "metadata": {
  "kernelspec": {
   "display_name": "Python 3 (ipykernel)",
   "language": "python",
   "name": "python3"
  },
  "language_info": {
   "codemirror_mode": {
    "name": "ipython",
    "version": 3
   },
   "file_extension": ".py",
   "mimetype": "text/x-python",
   "name": "python",
   "nbconvert_exporter": "python",
   "pygments_lexer": "ipython3",
   "version": "3.9.7"
  }
 },
 "nbformat": 4,
 "nbformat_minor": 5
}
