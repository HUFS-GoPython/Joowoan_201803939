{
 "cells": [
  {
   "cell_type": "markdown",
   "id": "ceb682ee-c746-47b7-9762-f4a8a815b0d0",
   "metadata": {},
   "source": [
    "# Week 09"
   ]
  },
  {
   "cell_type": "markdown",
   "id": "b1f17c63-9ed5-4570-bd97-1038a2dc2716",
   "metadata": {},
   "source": [
    "---"
   ]
  },
  {
   "cell_type": "markdown",
   "id": "ecef19f3-744c-4cac-b39a-53997a2ea832",
   "metadata": {},
   "source": [
    "# Dictionary\n",
    "ex) < 영어 사전 >  \n",
    "   ㅤ   ㅤ 단어: 뜻  \n",
    "    ㅤ ㅤkey : value    \n",
    "- 타입: **dict**  \n",
    "- 형변환: `dict()`  \n",
    "- 순서가 없다.  \n",
    "    => 인덱싱이 불가능하다.  \n",
    "\n",
    "- key로 value를 찾는다.  \n",
    "    => 키는 중복되지 않는 고유한 값이기 때문  \n",
    "- 가변적이다  \n",
    "    => 수정, 삭제, 추가 가능  \n",
    "\n",
    "- 중괄호 사용 {}, 콤마로 구분한다.  \n",
    "- 값에 다양한 자료구조가 올 수 있다.  \n",
    "    - a: 1, a: [1, 2, 3, 4]"
   ]
  },
  {
   "cell_type": "markdown",
   "id": "22586164-b5cd-4466-9a4f-f08a1052c27d",
   "metadata": {},
   "source": [
    "ㅤ      \n",
    "### **# 자료형 선언하기**"
   ]
  },
  {
   "cell_type": "code",
   "execution_count": 19,
   "id": "050eb162-3164-4010-ab6a-32c359951107",
   "metadata": {},
   "outputs": [
    {
     "name": "stdout",
     "output_type": "stream",
     "text": [
      "<class 'dict'>\n",
      "<class 'dict'>\n",
      "<class 'set'> \n",
      "\n"
     ]
    }
   ],
   "source": [
    "# dict()\n",
    "empty1 = dict()\n",
    "empty2 = {}\n",
    "\n",
    "print(type(empty1))\n",
    "print(type(empty2))\n",
    "\n",
    "\n",
    "# set을 선언하려면 set()\n",
    "empty3 = set()\n",
    "print(type(empty3),'\\n')\n"
   ]
  },
  {
   "cell_type": "code",
   "execution_count": 21,
   "id": "3eb322d7-1eca-4fc3-931c-de411e4c539e",
   "metadata": {},
   "outputs": [
    {
     "name": "stdout",
     "output_type": "stream",
     "text": [
      "{1: 'dog', 2: 'cat', 3: 'tanuki'}\n",
      "{'apple': 'a', 'banana': 'b', 'kiwi': 'c'}\n"
     ]
    }
   ],
   "source": [
    "# 1.\n",
    "a = {1:'dog', 2:'cat', 3:'tanuki'}\n",
    "\n",
    "# 2.\n",
    "b = dict(apple='a', banana='b', kiwi= 'c')\n",
    "\n",
    "print(a)\n",
    "print(b)"
   ]
  },
  {
   "cell_type": "markdown",
   "id": "438b5947-93ea-4ec8-89fe-7272ccd9c5b8",
   "metadata": {},
   "source": [
    "ㅤ        \n",
    "### # Quiz 1\n",
    "- 출석부로 딕셔너리 만들기\n",
    "\n",
    "이름, 학번, 학과  \n",
    "  \n",
    "james / 202201 / 경제학과  \n",
    "laura / 202203 / 스페인어과  \n",
    "louis / 202202 / 컴공과"
   ]
  },
  {
   "cell_type": "code",
   "execution_count": 28,
   "id": "d24ff3ae-0fd0-4a4e-90ce-0cfda65ac3a9",
   "metadata": {},
   "outputs": [
    {
     "data": {
      "text/plain": [
       "{202201: ('james', '경제학과'),\n",
       " 202202: ('louis', '컴공과'),\n",
       " 202203: ('laura', '스페인어과')}"
      ]
     },
     "execution_count": 28,
     "metadata": {},
     "output_type": "execute_result"
    }
   ],
   "source": [
    "# 이름은 중복이 존재할 수 있으므로 고유한 학번을 기준으로 잡는다.\n",
    "\n",
    "attendance = {202201 : ('james', '경제학과'), 202202 : ('louis', '컴공과'), 202203 : ('laura', '스페인어과')}\n",
    "attendance"
   ]
  },
  {
   "cell_type": "markdown",
   "id": "b3e75f67-7445-464b-93b2-1e1a733d41d4",
   "metadata": {},
   "source": [
    "<br><br>\n",
    "# **형 변환**"
   ]
  },
  {
   "cell_type": "markdown",
   "id": "22b2b251-2a6d-48f8-a8a6-5a12db81a7d7",
   "metadata": {},
   "source": [
    "\n",
    "### **# 중복되는 key값**"
   ]
  },
  {
   "cell_type": "code",
   "execution_count": 31,
   "id": "8d40512c-0042-426c-9aff-5af716a8a15b",
   "metadata": {},
   "outputs": [
    {
     "name": "stdout",
     "output_type": "stream",
     "text": [
      "{1: 2, 2: 3, 3: 4}\n",
      "{1: 3, 2: 3}\n"
     ]
    }
   ],
   "source": [
    "ex1 = [[1, 2], [2, 3], [3, 4]]\n",
    "print(dict(ex1))\n",
    "\n",
    "ex2 = [(1, 2), (2, 3), (1, 3)]  # key 중복 시 마지막 key 기준으로 value가 설정이 된다.\n",
    "print(dict(ex2))"
   ]
  },
  {
   "cell_type": "markdown",
   "id": "149d8491-f664-47f6-91c4-3aec9eadbc3e",
   "metadata": {},
   "source": [
    "ㅤ      \n",
    "### **# 자동 key, value값 할당**"
   ]
  },
  {
   "cell_type": "code",
   "execution_count": 35,
   "id": "0c533f73-b3da-4a69-b76e-978b87fa21af",
   "metadata": {},
   "outputs": [
    {
     "data": {
      "text/plain": [
       "{'a': 'b', 'b': 'c', 'c': 'd'}"
      ]
     },
     "execution_count": 35,
     "metadata": {},
     "output_type": "execute_result"
    }
   ],
   "source": [
    "ex3 = ['ab', 'bc', 'cd']\n",
    "dict(ex3)"
   ]
  },
  {
   "cell_type": "code",
   "execution_count": 47,
   "id": "d6189c44-391f-4ee2-aede-c5ddead059b9",
   "metadata": {},
   "outputs": [
    {
     "ename": "ValueError",
     "evalue": "dictionary update sequence element #0 has length 3; 2 is required",
     "output_type": "error",
     "traceback": [
      "\u001b[1;31m---------------------------------------------------------------------------\u001b[0m",
      "\u001b[1;31mValueError\u001b[0m                                Traceback (most recent call last)",
      "Input \u001b[1;32mIn [47]\u001b[0m, in \u001b[0;36m<cell line: 4>\u001b[1;34m()\u001b[0m\n\u001b[0;32m      1\u001b[0m \u001b[38;5;66;03m# 3자리부터는 오류가 발생\u001b[39;00m\n\u001b[0;32m      3\u001b[0m ex4 \u001b[38;5;241m=\u001b[39m [\u001b[38;5;124m'\u001b[39m\u001b[38;5;124mabc\u001b[39m\u001b[38;5;124m'\u001b[39m, \u001b[38;5;124m'\u001b[39m\u001b[38;5;124mbcc\u001b[39m\u001b[38;5;124m'\u001b[39m, \u001b[38;5;124m'\u001b[39m\u001b[38;5;124mcdc\u001b[39m\u001b[38;5;124m'\u001b[39m]\n\u001b[1;32m----> 4\u001b[0m \u001b[38;5;28;43mdict\u001b[39;49m\u001b[43m(\u001b[49m\u001b[43mex4\u001b[49m\u001b[43m)\u001b[49m\n",
      "\u001b[1;31mValueError\u001b[0m: dictionary update sequence element #0 has length 3; 2 is required"
     ]
    }
   ],
   "source": [
    "# 3자리부터는 오류가 발생\n",
    "\n",
    "ex4 = ['abc', 'bcc', 'cdc']\n",
    "dict(ex4)"
   ]
  },
  {
   "cell_type": "markdown",
   "id": "467e65be-1cb8-4edc-843a-d95e9fde7fad",
   "metadata": {},
   "source": [
    "ㅤ      \n",
    "### **# key값에 대응하는 value값 반환**"
   ]
  },
  {
   "cell_type": "code",
   "execution_count": 126,
   "id": "e6ddbbc1-94f3-4720-aacb-32aa8febc93c",
   "metadata": {},
   "outputs": [
    {
     "data": {
      "text/plain": [
       "'John'"
      ]
     },
     "execution_count": 126,
     "metadata": {},
     "output_type": "execute_result"
    }
   ],
   "source": [
    "pythons = {\n",
    "    'Chapman': 'Graham',\n",
    "    'Cleese': 'John',\n",
    "    'Idle': 'Eric',\n",
    "    'Jones': 'Terry',\n",
    "    'Palin': 'Michael'\n",
    "}\n",
    "pythons['Cleese']"
   ]
  },
  {
   "cell_type": "markdown",
   "id": "ebdbbd37-4fea-4061-b0b4-6494ab5f8ced",
   "metadata": {},
   "source": [
    "ㅤ      \n",
    "### **# 변경**"
   ]
  },
  {
   "cell_type": "code",
   "execution_count": 49,
   "id": "d1747f07-4a79-4d29-9be1-0bd1823eda70",
   "metadata": {},
   "outputs": [
    {
     "data": {
      "text/plain": [
       "{'Chapman': 'Graham',\n",
       " 'Cleese': 'John',\n",
       " 'Idle': 'James',\n",
       " 'Jones': 'Terry',\n",
       " 'Palin': 'Michael'}"
      ]
     },
     "execution_count": 49,
     "metadata": {},
     "output_type": "execute_result"
    }
   ],
   "source": [
    "pythons['Idle'] = 'James'\n",
    "pythons"
   ]
  },
  {
   "cell_type": "markdown",
   "id": "af81cce1-9c30-433f-985c-fd34baa5dd72",
   "metadata": {},
   "source": [
    "ㅤ      \n",
    "### **# 추가**"
   ]
  },
  {
   "cell_type": "code",
   "execution_count": 127,
   "id": "d92e3f44-b165-444f-84d5-95dfb397ac7c",
   "metadata": {},
   "outputs": [
    {
     "data": {
      "text/plain": [
       "{'Chapman': 'Graham',\n",
       " 'Cleese': 'John',\n",
       " 'Idle': 'Eric',\n",
       " 'Jones': 'Terry',\n",
       " 'Palin': 'Michael',\n",
       " 'Hwa': 'Chloe'}"
      ]
     },
     "execution_count": 127,
     "metadata": {},
     "output_type": "execute_result"
    }
   ],
   "source": [
    "# 없는 키 값을 참조할 경우 에러 발생\n",
    "    \n",
    "pythons['Hwa'] = 'Chloe'\n",
    "pythons"
   ]
  },
  {
   "cell_type": "markdown",
   "id": "a971f50f-7ef1-4e84-aab3-f29b4d7e47c1",
   "metadata": {},
   "source": [
    "ㅤ      \n",
    "### **# 에러 방지**"
   ]
  },
  {
   "cell_type": "code",
   "execution_count": 53,
   "id": "ec15bf8e-b0d2-4ab5-85b1-9773848435cd",
   "metadata": {},
   "outputs": [
    {
     "data": {
      "text/plain": [
       "True"
      ]
     },
     "execution_count": 53,
     "metadata": {},
     "output_type": "execute_result"
    }
   ],
   "source": [
    "# 1. in\n",
    "'Hwa' in pythons"
   ]
  },
  {
   "cell_type": "code",
   "execution_count": 63,
   "id": "69a08922-b10a-4b6f-9f7f-69a06182d688",
   "metadata": {},
   "outputs": [
    {
     "data": {
      "text/plain": [
       "'Not Found'"
      ]
     },
     "execution_count": 63,
     "metadata": {},
     "output_type": "execute_result"
    }
   ],
   "source": [
    "# 2. get() \n",
    "pythons.get('Lee', 'Not Found') # 원하는 반환값 설정 가능"
   ]
  },
  {
   "cell_type": "code",
   "execution_count": 64,
   "id": "27f416ba-8444-4dc8-b52b-b7a983ac0762",
   "metadata": {},
   "outputs": [
    {
     "data": {
      "text/plain": [
       "NoneType"
      ]
     },
     "execution_count": 64,
     "metadata": {},
     "output_type": "execute_result"
    }
   ],
   "source": [
    "type(pythons.get('Lee')) # default: None 반환"
   ]
  },
  {
   "cell_type": "markdown",
   "id": "d6ad8d33-0dbb-4126-b59c-1e5f828dc6d0",
   "metadata": {},
   "source": [
    "<br><br>\n",
    "# **전체 조회**\n",
    "- `keys()`  \n",
    "\n",
    "- `values()`\n",
    "- `items()`"
   ]
  },
  {
   "cell_type": "markdown",
   "id": "1ab38b0c-826a-49a5-81d0-25eed26f3da8",
   "metadata": {},
   "source": [
    "ㅤ      \n",
    "### **# key 출력**"
   ]
  },
  {
   "cell_type": "code",
   "execution_count": 65,
   "id": "3a29e568-7a72-4329-8da1-14ae163e7173",
   "metadata": {},
   "outputs": [
    {
     "data": {
      "text/plain": [
       "dict_keys(['Chapman', 'Cleese', 'Idle', 'Jones', 'Palin', 'Hwa'])"
      ]
     },
     "execution_count": 65,
     "metadata": {},
     "output_type": "execute_result"
    }
   ],
   "source": [
    "pythons.keys()"
   ]
  },
  {
   "cell_type": "code",
   "execution_count": 69,
   "id": "e821f9aa-ca82-4d93-8aa0-5717665c72ee",
   "metadata": {},
   "outputs": [
    {
     "data": {
      "text/plain": [
       "['Chapman', 'Cleese', 'Idle', 'Jones', 'Palin', 'Hwa']"
      ]
     },
     "execution_count": 69,
     "metadata": {},
     "output_type": "execute_result"
    }
   ],
   "source": [
    "list(pythons.keys())"
   ]
  },
  {
   "cell_type": "markdown",
   "id": "52d6715c-5e19-45e8-8ac1-49a9f7bfa13b",
   "metadata": {},
   "source": [
    "ㅤ      \n",
    "### **# value 출력**"
   ]
  },
  {
   "cell_type": "code",
   "execution_count": 66,
   "id": "c84d18b2-6d6d-4ba2-8e7c-244f5020e954",
   "metadata": {},
   "outputs": [
    {
     "data": {
      "text/plain": [
       "dict_values(['Graham', 'John', 'James', 'Terry', 'Michael', 'Chloe'])"
      ]
     },
     "execution_count": 66,
     "metadata": {},
     "output_type": "execute_result"
    }
   ],
   "source": [
    "pythons.values()"
   ]
  },
  {
   "cell_type": "markdown",
   "id": "9e6c909c-0c9a-4118-aeea-3bdd06d9ad11",
   "metadata": {},
   "source": [
    "ㅤ      \n",
    "### **# (key, value) 출력**"
   ]
  },
  {
   "cell_type": "code",
   "execution_count": 68,
   "id": "737c2a93-f7be-43da-aff5-fe641bc9d8c5",
   "metadata": {},
   "outputs": [
    {
     "data": {
      "text/plain": [
       "dict_items([('Chapman', 'Graham'), ('Cleese', 'John'), ('Idle', 'James'), ('Jones', 'Terry'), ('Palin', 'Michael'), ('Hwa', 'Chloe')])"
      ]
     },
     "execution_count": 68,
     "metadata": {},
     "output_type": "execute_result"
    }
   ],
   "source": [
    "# (키, 값) 튜플 형태로 => 순회할 때 많이 씀\n",
    "\n",
    "pythons.items()"
   ]
  },
  {
   "cell_type": "markdown",
   "id": "799e991e-766f-4acb-91c6-4b54cb5ac299",
   "metadata": {},
   "source": [
    "ㅤ      \n",
    "### **# 순회**"
   ]
  },
  {
   "cell_type": "code",
   "execution_count": 88,
   "id": "59130b9a-0176-454c-b788-b8942a1932b8",
   "metadata": {},
   "outputs": [
    {
     "name": "stdout",
     "output_type": "stream",
     "text": [
      "Chapman = Graham\n",
      "Cleese = John\n",
      "Idle = James\n",
      "Jones = Terry\n",
      "Palin = Michael\n",
      "Hwa = Chloe\n",
      "\n",
      "\n"
     ]
    }
   ],
   "source": [
    "for k, v in pythons.items():\n",
    "    print(f'{k} = {v}')\n",
    "    \n",
    "print('\\n')"
   ]
  },
  {
   "cell_type": "code",
   "execution_count": 89,
   "id": "c0ca07dc-ffe0-4b33-aa23-3d47cecaa225",
   "metadata": {},
   "outputs": [
    {
     "name": "stdout",
     "output_type": "stream",
     "text": [
      "\n",
      "\n"
     ]
    }
   ],
   "source": [
    "# List Comprehension 활용\n",
    "\n",
    "[(k, v) for k, v in pythons.items()]\n",
    "\n",
    "print('\\n')"
   ]
  },
  {
   "cell_type": "code",
   "execution_count": 90,
   "id": "905dbde4-3b1c-4ba9-867e-917d944647bd",
   "metadata": {},
   "outputs": [
    {
     "name": "stdout",
     "output_type": "stream",
     "text": [
      "\n",
      "\n"
     ]
    }
   ],
   "source": [
    "# 0 = key, 1 = value\n",
    "\n",
    "[k[1] for k in pythons.items()]\n",
    "\n",
    "print('\\n')"
   ]
  },
  {
   "cell_type": "code",
   "execution_count": 87,
   "id": "5359eac4-1a0d-4260-90ea-1b52737894be",
   "metadata": {},
   "outputs": [
    {
     "data": {
      "text/plain": [
       "['Chapman', 'Cleese', 'Idle', 'Jones', 'Palin', 'Hwa']"
      ]
     },
     "execution_count": 87,
     "metadata": {},
     "output_type": "execute_result"
    }
   ],
   "source": [
    "# 특별히 명시를 하지 않으면 key값을 출력한다.\n",
    "\n",
    "[k for k in pythons]"
   ]
  },
  {
   "cell_type": "markdown",
   "id": "132d030c-fa3f-4205-b088-62518800cb4c",
   "metadata": {},
   "source": [
    "ㅤ        \n",
    "### # Quiz 2\n",
    "- animal: num_leg 라는 딕셔너리를 만드시오.      \n",
    "\n",
    "        animal = 'cat snake monkey ant spider'.split()  \n",
    "        legs = 4, 0, 2, 4, 8"
   ]
  },
  {
   "cell_type": "code",
   "execution_count": 105,
   "id": "559bc603-e8b7-4483-a7d3-0c4b6152434d",
   "metadata": {},
   "outputs": [],
   "source": [
    "animal = 'cat snake monkey ant spider'.split()\n",
    "legs = 4, 0, 2, 4, 8"
   ]
  },
  {
   "cell_type": "code",
   "execution_count": 104,
   "id": "3fe8af81-a98a-409c-acc1-ced1dfa1bb31",
   "metadata": {},
   "outputs": [
    {
     "data": {
      "text/plain": [
       "{'cat': 4, 'snake': 0, 'monkey': 2, 'ant': 4, 'spider': 8}"
      ]
     },
     "execution_count": 104,
     "metadata": {},
     "output_type": "execute_result"
    }
   ],
   "source": [
    "# 1. range() 활용\n",
    "\n",
    "num_leg = {}\n",
    "for i in range(len(animal)):\n",
    "    num_leg[animal[i]] = legs[i]\n",
    "num_leg"
   ]
  },
  {
   "cell_type": "code",
   "execution_count": 106,
   "id": "156ad33e-bbd2-4176-8864-7dd7b307a882",
   "metadata": {},
   "outputs": [
    {
     "data": {
      "text/plain": [
       "{'cat': 4, 'snake': 0, 'monkey': 2, 'ant': 4, 'spider': 8}"
      ]
     },
     "execution_count": 106,
     "metadata": {},
     "output_type": "execute_result"
    }
   ],
   "source": [
    "# 2. zip() 활용\n",
    "\n",
    "num_leg = {}\n",
    "for animal, legs in zip(animal, legs):\n",
    "    num_leg[animal] = legs\n",
    "num_leg"
   ]
  },
  {
   "cell_type": "markdown",
   "id": "460c7fd2-0964-429c-9ad0-7b82ca4395fc",
   "metadata": {},
   "source": [
    "ㅤ        \n",
    "### # Quiz 3\n",
    "- pythons 에서 성: 이름 / 성 첫 글자만 / 이름은 글자 개수로 이뤄진 튜플 (성, 이름) 리스트로 반환하기  \n",
    "    (dict comprehension 쓰지 말기)\n"
   ]
  },
  {
   "cell_type": "code",
   "execution_count": 128,
   "id": "99ad807b-0ff3-4778-bcc9-97431ca84654",
   "metadata": {},
   "outputs": [
    {
     "data": {
      "text/plain": [
       "{'Chapman': 'Graham',\n",
       " 'Cleese': 'John',\n",
       " 'Idle': 'Eric',\n",
       " 'Jones': 'Terry',\n",
       " 'Palin': 'Michael',\n",
       " 'Hwa': 'Chloe'}"
      ]
     },
     "execution_count": 128,
     "metadata": {},
     "output_type": "execute_result"
    }
   ],
   "source": [
    "pythons"
   ]
  },
  {
   "cell_type": "code",
   "execution_count": 121,
   "id": "51746b9c-fb84-4f3d-aa35-b54af7547b11",
   "metadata": {},
   "outputs": [
    {
     "data": {
      "text/plain": [
       "[('C', 6), ('C', 4), ('I', 5), ('J', 5), ('P', 7), ('H', 5)]"
      ]
     },
     "execution_count": 121,
     "metadata": {},
     "output_type": "execute_result"
    }
   ],
   "source": [
    "# 1. 빈 리스트와 append() 활용\n",
    "\n",
    "roster = []\n",
    "for k, v in pythons.items():\n",
    "    roster.append((k[0], len(v)))\n",
    "roster"
   ]
  },
  {
   "cell_type": "code",
   "execution_count": 118,
   "id": "a7e54752-72ca-4f96-aadb-6c11b4093112",
   "metadata": {},
   "outputs": [
    {
     "data": {
      "text/plain": [
       "[('C', 6), ('C', 4), ('I', 5), ('J', 5), ('P', 7), ('H', 5)]"
      ]
     },
     "execution_count": 118,
     "metadata": {},
     "output_type": "execute_result"
    }
   ],
   "source": [
    "# 2. item에서의 key, value를 가져가기\n",
    "\n",
    "[(key[0], len(value)) for key, value in pythons.items()]"
   ]
  },
  {
   "cell_type": "code",
   "execution_count": 114,
   "id": "92a4a05a-1d28-4422-837d-d8772bb3e825",
   "metadata": {},
   "outputs": [
    {
     "data": {
      "text/plain": [
       "[('C', 6), ('C', 4), ('I', 5), ('J', 5), ('P', 7), ('H', 5)]"
      ]
     },
     "execution_count": 114,
     "metadata": {},
     "output_type": "execute_result"
    }
   ],
   "source": [
    "# 3. item 전체를 가져가서 indexing 하는 방식\n",
    "\n",
    "[(k[0][0], len(k[1])) for k in pythons.items()]"
   ]
  },
  {
   "cell_type": "markdown",
   "id": "0a9b5494-f4a9-4f02-b35c-397b915e18d8",
   "metadata": {},
   "source": [
    "<br><br>\n",
    "## **값 수정, 삭제, 복제, 비교**"
   ]
  },
  {
   "cell_type": "markdown",
   "id": "bb40d253-3a34-477a-8be6-ff06e3df422e",
   "metadata": {},
   "source": [
    "### **# 값 수정**"
   ]
  },
  {
   "cell_type": "code",
   "execution_count": 124,
   "id": "4f9245e3-6d6c-4c01-9dc0-8884be054123",
   "metadata": {},
   "outputs": [
    {
     "data": {
      "text/plain": [
       "{'Chapman': 'Graham',\n",
       " 'Cleese': 'John',\n",
       " 'Idle': 'James',\n",
       " 'Jones': 'Terry',\n",
       " 'Palin': 'Michael',\n",
       " 'Hwa': 'Chloe',\n",
       " 'Marx': 'Groucho',\n",
       " 'Howard': 'Moe'}"
      ]
     },
     "execution_count": 124,
     "metadata": {},
     "output_type": "execute_result"
    }
   ],
   "source": [
    "others = {\n",
    "    'Marx' : 'Groucho',\n",
    "    'Howard': 'Moe'\n",
    "}\n",
    "\n",
    "pythons.update(others)\n",
    "pythons"
   ]
  },
  {
   "cell_type": "code",
   "execution_count": 129,
   "id": "ce095fb3-81f4-46f3-b3ad-74bdd32ed9f8",
   "metadata": {},
   "outputs": [
    {
     "data": {
      "text/plain": [
       "{'Marx': 'Groucho',\n",
       " 'Howard': 'Moe',\n",
       " 'Chapman': 'Graham',\n",
       " 'Cleese': 'John',\n",
       " 'Idle': 'Eric',\n",
       " 'Jones': 'Terry',\n",
       " 'Palin': 'Michael',\n",
       " 'Hwa': 'Chloe'}"
      ]
     },
     "execution_count": 129,
     "metadata": {},
     "output_type": "execute_result"
    }
   ],
   "source": [
    "# python 3 이상\n",
    "\n",
    "{**others, **pythons}"
   ]
  },
  {
   "cell_type": "markdown",
   "id": "73e8264b-8826-4c1d-93cb-836015df2f79",
   "metadata": {},
   "source": [
    "ㅤ      \n",
    "### **# 삭제**"
   ]
  },
  {
   "cell_type": "code",
   "execution_count": 147,
   "id": "431961bd-d64c-4b0b-82b6-77309cc9bb9d",
   "metadata": {},
   "outputs": [
    {
     "ename": "KeyError",
     "evalue": "'Lee'",
     "output_type": "error",
     "traceback": [
      "\u001b[1;31m---------------------------------------------------------------------------\u001b[0m",
      "\u001b[1;31mKeyError\u001b[0m                                  Traceback (most recent call last)",
      "Input \u001b[1;32mIn [147]\u001b[0m, in \u001b[0;36m<cell line: 3>\u001b[1;34m()\u001b[0m\n\u001b[0;32m      1\u001b[0m \u001b[38;5;66;03m# del : 값이 존재하지 않으면 에러 발생\u001b[39;00m\n\u001b[1;32m----> 3\u001b[0m \u001b[38;5;28;01mdel\u001b[39;00m pythons[\u001b[38;5;124m'\u001b[39m\u001b[38;5;124mLee\u001b[39m\u001b[38;5;124m'\u001b[39m]\n",
      "\u001b[1;31mKeyError\u001b[0m: 'Lee'"
     ]
    }
   ],
   "source": [
    "# del : 값이 존재하지 않으면 에러 발생\n",
    "\n",
    "del pythons['Lee']"
   ]
  },
  {
   "cell_type": "code",
   "execution_count": 148,
   "id": "952472e5-e9b4-4f99-bec1-c495f5e9d85f",
   "metadata": {},
   "outputs": [
    {
     "name": "stdout",
     "output_type": "stream",
     "text": [
      "\n",
      "\n"
     ]
    }
   ],
   "source": [
    "# pop() : 예외는 나지만, 예외시 출력 값을 지정할 수 있다.\n",
    "\n",
    "pythons.pop('Lee', 'Error')\n",
    "\n",
    "print('\\n')"
   ]
  },
  {
   "cell_type": "code",
   "execution_count": 145,
   "id": "5691e660-631e-445f-b152-af6e7fd02e6d",
   "metadata": {},
   "outputs": [
    {
     "data": {
      "text/plain": [
       "{}"
      ]
     },
     "execution_count": 145,
     "metadata": {},
     "output_type": "execute_result"
    }
   ],
   "source": [
    "# 전체 삭제\n",
    "\n",
    "# 1\n",
    "pythons.clear()\n",
    "\n",
    "# 2\n",
    "pythons = {}\n",
    "pythons"
   ]
  },
  {
   "cell_type": "markdown",
   "id": "a3384c00-ca91-4317-a71f-38341580b637",
   "metadata": {},
   "source": [
    "ㅤ      \n",
    "### **# 복제**"
   ]
  },
  {
   "cell_type": "markdown",
   "id": "94ff4152-84d3-42c3-87cc-02e7bac9ebb6",
   "metadata": {},
   "source": [
    "- 할당: b = a  \n",
    "\n",
    "- 얕은 복사: c = a.copy()\n",
    "- 깊은 복사:  \n",
    "    `import copy`  \n",
    "    `.deepcopy()`"
   ]
  },
  {
   "cell_type": "code",
   "execution_count": 156,
   "id": "0931de20-4ad2-476b-bc40-bfef2a3d4764",
   "metadata": {},
   "outputs": [
    {
     "name": "stdout",
     "output_type": "stream",
     "text": [
      "{1: 45, 2: 2, 3: 3}\n",
      "{1: 45, 2: 2, 3: 3}\n",
      "\n",
      "\n"
     ]
    }
   ],
   "source": [
    "# 할당 : 같이 변경된다.\n",
    "\n",
    "a = {1:1, 2:2, 3:3}\n",
    "b = a\n",
    "\n",
    "a[1] = 45\n",
    "\n",
    "print(a)\n",
    "print(b)\n",
    "\n",
    "print('\\n')"
   ]
  },
  {
   "cell_type": "code",
   "execution_count": 163,
   "id": "ef62ff15-f8c3-4351-911c-ae9c50403bc7",
   "metadata": {},
   "outputs": [
    {
     "name": "stdout",
     "output_type": "stream",
     "text": [
      "{1: 1, 2: 22, 3: 3}\n",
      "{1: 1, 2: 2, 3: 3}\n",
      "\n",
      "================\n",
      "\n",
      "{1: [100, 2, 3], 2: [2, 3, 4]}\n",
      "{1: [100, 2, 3], 2: [2, 3, 4]}\n",
      "\n",
      "\n"
     ]
    }
   ],
   "source": [
    "# 얕은 복사 : .copy()\n",
    "\n",
    "a = {1:1, 2:2, 3:3}\n",
    "c = a.copy()\n",
    "\n",
    "a[2] = 22\n",
    "\n",
    "print(a)\n",
    "print(c)\n",
    "\n",
    "print('\\n================\\n')\n",
    "\n",
    "a = {1: [1, 2, 3], 2: [2, 3, 4]}\n",
    "d = a.copy()\n",
    "\n",
    "a[1][0] = 100\n",
    "\n",
    "print(a)\n",
    "print(d)\n",
    "\n",
    "print('\\n')"
   ]
  },
  {
   "cell_type": "code",
   "execution_count": 162,
   "id": "c2fb2f95-48ba-46de-b094-de5bacc57068",
   "metadata": {},
   "outputs": [
    {
     "name": "stdout",
     "output_type": "stream",
     "text": [
      "{1: [200, 2, 3], 2: [2, 3, 4]}\n",
      "{1: [1, 2, 3], 2: [2, 3, 4]}\n"
     ]
    }
   ],
   "source": [
    "# 깊은 복사 : .deepcopy()\n",
    "\n",
    "import copy\n",
    "\n",
    "a = {1: [1, 2, 3], 2: [2, 3, 4]}\n",
    "e = copy.deepcopy(a)\n",
    "\n",
    "a[1][0] = 200\n",
    "\n",
    "print(a)\n",
    "print(e)"
   ]
  },
  {
   "cell_type": "markdown",
   "id": "97300e8c-6d2d-40c4-b4f6-5a864fc14d19",
   "metadata": {},
   "source": [
    "ㅤ      \n",
    "### **# 비교**\n",
    "- 같다, 다르다만 가능\n",
    "- 크다, 작다는 비교 불가"
   ]
  },
  {
   "cell_type": "code",
   "execution_count": 164,
   "id": "7b366036-1a62-42f4-9854-b15f18dc0534",
   "metadata": {},
   "outputs": [
    {
     "data": {
      "text/plain": [
       "True"
      ]
     },
     "execution_count": 164,
     "metadata": {},
     "output_type": "execute_result"
    }
   ],
   "source": [
    "a != e"
   ]
  },
  {
   "cell_type": "markdown",
   "id": "f9f4170b-3520-4288-a5ed-3b11b2ecbb1c",
   "metadata": {},
   "source": [
    "ㅤ        \n",
    "### # Quiz 4\n",
    "1. 두 리스트로 하나의 딕셔너리 생성\n",
    "2. '명왕성' 추가하기\n",
    "3. '성'으로 끝나지 않는 키 삭제하기\n",
    "    del dict1['태양'] (x)\n",
    "\n",
    "4. sorted 이용해서 값 정렬하기\n",
    "    - key\n",
    "    - value"
   ]
  },
  {
   "cell_type": "code",
   "execution_count": 198,
   "id": "08367490-8a93-4835-a9dd-3093dc7e155c",
   "metadata": {},
   "outputs": [],
   "source": [
    "solar_kor = '태양 수성 금성 지구 화성 목성 토성 천왕성 해왕성'.split()\n",
    "solar_eng = 'sun mercury venus earth mars jupiter saturn uranus neptune'.split()"
   ]
  },
  {
   "cell_type": "code",
   "execution_count": 196,
   "id": "0f231c79-7f8b-4661-88af-8fb4fdcd9694",
   "metadata": {},
   "outputs": [
    {
     "data": {
      "text/plain": [
       "{'태양': 'sun',\n",
       " '수성': 'mercury',\n",
       " '금성': 'venus',\n",
       " '지구': 'earth',\n",
       " '화성': 'mars',\n",
       " '목성': 'jupiter',\n",
       " '토성': 'saturn',\n",
       " '천왕성': 'uranus',\n",
       " '해왕성': 'neptune',\n",
       " '명왕성': 'pluto'}"
      ]
     },
     "execution_count": 196,
     "metadata": {},
     "output_type": "execute_result"
    }
   ],
   "source": [
    "# 명왕성 추가하기\n",
    "\n",
    "system = {}\n",
    "for k, v in zip(solar_kor, solar_eng):\n",
    "    system[k] = v\n",
    "system['명왕성'] = 'pluto'\n",
    "system"
   ]
  },
  {
   "cell_type": "code",
   "execution_count": 197,
   "id": "498bf2f4-f2a4-4fec-8de1-1a9246882b4a",
   "metadata": {},
   "outputs": [
    {
     "data": {
      "text/plain": [
       "{'수성': 'mercury',\n",
       " '금성': 'venus',\n",
       " '화성': 'mars',\n",
       " '목성': 'jupiter',\n",
       " '토성': 'saturn',\n",
       " '천왕성': 'uranus',\n",
       " '해왕성': 'neptune',\n",
       " '명왕성': 'pluto'}"
      ]
     },
     "execution_count": 197,
     "metadata": {},
     "output_type": "execute_result"
    }
   ],
   "source": [
    "# 1. 키 삭제하기\n",
    "\n",
    "for solar in list(system.keys()):  # list 형변환을 꼭 해야 원본(system)을 훼손하지 않을 수 있다.\n",
    "    if solar[-1] != '성':\n",
    "        del system[solar]\n",
    "\n",
    "system"
   ]
  },
  {
   "cell_type": "code",
   "execution_count": 199,
   "id": "8ae1236d-fcb1-48b4-b765-6c3691312930",
   "metadata": {},
   "outputs": [
    {
     "data": {
      "text/plain": [
       "{'수성': 'mercury',\n",
       " '금성': 'venus',\n",
       " '화성': 'mars',\n",
       " '목성': 'jupiter',\n",
       " '토성': 'saturn',\n",
       " '천왕성': 'uranus',\n",
       " '해왕성': 'neptune',\n",
       " '명왕성': 'pluto'}"
      ]
     },
     "execution_count": 199,
     "metadata": {},
     "output_type": "execute_result"
    }
   ],
   "source": [
    "# 2. 키 제외시키기\n",
    "\n",
    "dict([(k, system[k]) for k in system if k.endswith('성')])"
   ]
  },
  {
   "cell_type": "code",
   "execution_count": 200,
   "id": "0415a5e4-bcf8-4ca5-a4ce-cc3c68176c99",
   "metadata": {},
   "outputs": [
    {
     "data": {
      "text/plain": [
       "{'수성': 'mercury',\n",
       " '금성': 'venus',\n",
       " '화성': 'mars',\n",
       " '목성': 'jupiter',\n",
       " '토성': 'saturn',\n",
       " '천왕성': 'uranus',\n",
       " '해왕성': 'neptune',\n",
       " '명왕성': 'pluto'}"
      ]
     },
     "execution_count": 200,
     "metadata": {},
     "output_type": "execute_result"
    }
   ],
   "source": [
    "# 3. Dictionary Comprehension\n",
    "\n",
    "{k: v for k, v in system.items() if k.endswith('성')}"
   ]
  },
  {
   "cell_type": "markdown",
   "id": "2bf1bf05-6472-4a44-ab6a-705ba22a1512",
   "metadata": {},
   "source": [
    "<br><br>\n",
    "## **Dictionary Comprehension**"
   ]
  },
  {
   "cell_type": "code",
   "execution_count": 202,
   "id": "213dc888-bc09-4b3f-9fbf-fd7be0c53f67",
   "metadata": {},
   "outputs": [
    {
     "data": {
      "text/plain": [
       "{'a': 1, 'p': 2, 'l': 1, 'e': 1}"
      ]
     },
     "execution_count": 202,
     "metadata": {},
     "output_type": "execute_result"
    }
   ],
   "source": [
    "# [] 대신 {}, : 사용\n",
    "\n",
    "letter = 'apple'\n",
    "\n",
    "{ch: letter.count(ch) for ch in letter}"
   ]
  },
  {
   "cell_type": "markdown",
   "id": "8a4bcc49-155e-44d1-a422-0a41a92403f0",
   "metadata": {},
   "source": [
    "ㅤ      \n",
    "### **# 단어의 모음세기**"
   ]
  },
  {
   "cell_type": "code",
   "execution_count": 205,
   "id": "e7e29975-d5fa-4180-bd40-3d1cdf98a253",
   "metadata": {},
   "outputs": [],
   "source": [
    "vowels = 'aeiou'\n",
    "word = 'onomatopoeia'"
   ]
  },
  {
   "cell_type": "code",
   "execution_count": 207,
   "id": "de6fd83f-f1fd-4493-805c-e09d7691f22f",
   "metadata": {},
   "outputs": [
    {
     "data": {
      "text/plain": [
       "{'a': 2, 'e': 1, 'i': 1, 'o': 4}"
      ]
     },
     "execution_count": 207,
     "metadata": {},
     "output_type": "execute_result"
    }
   ],
   "source": [
    "# vowels 순회\n",
    "\n",
    "{v: word.count(v) for v in vowels if v in word}"
   ]
  },
  {
   "cell_type": "code",
   "execution_count": 208,
   "id": "04ac24e7-5164-4a25-9a85-d7a7e90e9154",
   "metadata": {},
   "outputs": [
    {
     "data": {
      "text/plain": [
       "{'o': 4, 'a': 2, 'e': 1, 'i': 1}"
      ]
     },
     "execution_count": 208,
     "metadata": {},
     "output_type": "execute_result"
    }
   ],
   "source": [
    "# word 순회\n",
    "\n",
    "{w: word.count(w) for w in set(word) if w in vowels}"
   ]
  },
  {
   "cell_type": "markdown",
   "id": "81647cd3-2512-435c-95d3-b66dab59b641",
   "metadata": {},
   "source": [
    "<br><br>\n",
    "# **sorting**"
   ]
  },
  {
   "cell_type": "code",
   "execution_count": 209,
   "id": "d6530071-132d-4248-af11-d30a74dac876",
   "metadata": {},
   "outputs": [],
   "source": [
    "def fx(x):\n",
    "    return x[1]"
   ]
  },
  {
   "cell_type": "code",
   "execution_count": 212,
   "id": "9f250fe9-20e1-4cea-86bf-f8d45e63ee5b",
   "metadata": {},
   "outputs": [
    {
     "data": {
      "text/plain": [
       "[('목성', 'jupiter'),\n",
       " ('화성', 'mars'),\n",
       " ('수성', 'mercury'),\n",
       " ('해왕성', 'neptune'),\n",
       " ('명왕성', 'pluto'),\n",
       " ('토성', 'saturn'),\n",
       " ('천왕성', 'uranus'),\n",
       " ('금성', 'venus')]"
      ]
     },
     "execution_count": 212,
     "metadata": {},
     "output_type": "execute_result"
    }
   ],
   "source": [
    "# fx(system.items()) ... system.items() 튜플의 [1] 을 기준으로 sort\n",
    "\n",
    "sorted(system.items(), key=fx)"
   ]
  },
  {
   "cell_type": "markdown",
   "id": "c6b5ec9c-e187-47a0-ab4a-5c0b89b7942f",
   "metadata": {},
   "source": [
    "ㅤ      \n",
    "### **# lambda**"
   ]
  },
  {
   "cell_type": "code",
   "execution_count": 214,
   "id": "0cc028dc-ace9-41f2-a3bf-405ea44f431a",
   "metadata": {},
   "outputs": [
    {
     "data": {
      "text/plain": [
       "[('목성', 'jupiter'),\n",
       " ('화성', 'mars'),\n",
       " ('수성', 'mercury'),\n",
       " ('해왕성', 'neptune'),\n",
       " ('명왕성', 'pluto'),\n",
       " ('토성', 'saturn'),\n",
       " ('천왕성', 'uranus'),\n",
       " ('금성', 'venus')]"
      ]
     },
     "execution_count": 214,
     "metadata": {},
     "output_type": "execute_result"
    }
   ],
   "source": [
    "# lambda를 활용하면 위의 과정을 간략화할 수 있다.\n",
    "\n",
    "sorted(system.items(), key=lambda x: x[1])"
   ]
  },
  {
   "cell_type": "markdown",
   "id": "f0586640-6f1d-472a-a522-f512eec0013f",
   "metadata": {},
   "source": [
    "<br><br>\n",
    "# **set**\n",
    "- \"중복이 없다\"  \n",
    "\n",
    "- 수학에서의 집합이랑 동일한 개념  \n",
    "    => 교집합, 차집합, ...\n",
    "- 인덱싱도 없다. (순서, 중복이 없으므로)\n"
   ]
  },
  {
   "cell_type": "markdown",
   "id": "6309c4f5-f593-47fb-9a6b-cbbbbaa055b3",
   "metadata": {},
   "source": [
    "### **# 선언하기**"
   ]
  },
  {
   "cell_type": "code",
   "execution_count": 216,
   "id": "4969e71a-c050-4751-89d7-f8ff6cbd4a9e",
   "metadata": {},
   "outputs": [
    {
     "name": "stdout",
     "output_type": "stream",
     "text": [
      "<class 'dict'>\n",
      "<class 'set'>\n",
      "\n",
      "\n"
     ]
    }
   ],
   "source": [
    "# WRONG\n",
    "empty = {}\n",
    "print(type(empty))\n",
    "\n",
    "# CORRECT\n",
    "empty = set()\n",
    "print(type(empty))\n",
    "\n",
    "print('\\n')"
   ]
  },
  {
   "cell_type": "code",
   "execution_count": 222,
   "id": "ae2d83ba-e4ea-4b22-9389-227de0a55c4b",
   "metadata": {},
   "outputs": [
    {
     "ename": "TypeError",
     "evalue": "set expected at most 1 argument, got 3",
     "output_type": "error",
     "traceback": [
      "\u001b[1;31m---------------------------------------------------------------------------\u001b[0m",
      "\u001b[1;31mTypeError\u001b[0m                                 Traceback (most recent call last)",
      "Input \u001b[1;32mIn [222]\u001b[0m, in \u001b[0;36m<cell line: 2>\u001b[1;34m()\u001b[0m\n\u001b[0;32m      1\u001b[0m \u001b[38;5;66;03m# WRONG\u001b[39;00m\n\u001b[1;32m----> 2\u001b[0m a \u001b[38;5;241m=\u001b[39m \u001b[38;5;28;43mset\u001b[39;49m\u001b[43m(\u001b[49m\u001b[38;5;241;43m1\u001b[39;49m\u001b[43m,\u001b[49m\u001b[43m \u001b[49m\u001b[38;5;241;43m2\u001b[39;49m\u001b[43m,\u001b[49m\u001b[43m \u001b[49m\u001b[38;5;241;43m3\u001b[39;49m\u001b[43m)\u001b[49m\n",
      "\u001b[1;31mTypeError\u001b[0m: set expected at most 1 argument, got 3"
     ]
    }
   ],
   "source": [
    "# WRONG\n",
    "a = set(1, 2, 3)"
   ]
  },
  {
   "cell_type": "code",
   "execution_count": 223,
   "id": "bb252e68-c4d2-4675-80d0-b938f76ab5d9",
   "metadata": {},
   "outputs": [
    {
     "data": {
      "text/plain": [
       "{1, 2, 3}"
      ]
     },
     "execution_count": 223,
     "metadata": {},
     "output_type": "execute_result"
    }
   ],
   "source": [
    "# CORRECT\n",
    "a = set((1, 2, 3)) # 선언, 형 변환\n",
    "a"
   ]
  },
  {
   "cell_type": "markdown",
   "id": "5f700fb7-1ddb-4eec-ba53-2b916b1b4f09",
   "metadata": {},
   "source": [
    "ㅤ      \n",
    "### **# 추가,  삭제**"
   ]
  },
  {
   "cell_type": "code",
   "execution_count": 227,
   "id": "c38ad32c-9f49-4a15-a9cb-95d4e26c544d",
   "metadata": {},
   "outputs": [
    {
     "name": "stdout",
     "output_type": "stream",
     "text": [
      "{1, 2, 3, 4}\n",
      "{1, 2, 3}\n"
     ]
    }
   ],
   "source": [
    "# 추가\n",
    "a.add(4)\n",
    "print(a)\n",
    "\n",
    "# 삭제\n",
    "a.remove(4)\n",
    "print(a)"
   ]
  },
  {
   "cell_type": "markdown",
   "id": "2eac4949-a96c-4367-860a-6d97d74a02dc",
   "metadata": {},
   "source": [
    "ㅤ      \n",
    "### **# 합집합, 교집합**"
   ]
  },
  {
   "cell_type": "code",
   "execution_count": 230,
   "id": "d2e69e33-df57-4c94-893e-8053b775eb60",
   "metadata": {},
   "outputs": [
    {
     "name": "stdout",
     "output_type": "stream",
     "text": [
      "a & b : {2, 3}\n",
      "a | b : {1, 2, 3, 4}\n",
      "a - b : {1}\n",
      "b - a : {4}\n"
     ]
    }
   ],
   "source": [
    "a = {1,2,3}\n",
    "b = {2,3,4}\n",
    "\n",
    "# 교집합 | intersection\n",
    "a.intersection(b)\n",
    "a & b\n",
    "print(f'a & b : {a & b}')\n",
    "\n",
    "# 합집합 | union\n",
    "a.union(b)\n",
    "a | b\n",
    "print(f'a | b : {a | b}')\n",
    "\n",
    "# 차집합 | difference\n",
    "a.difference(b)\n",
    "a - b, b - a\n",
    "\n",
    "print(f'a - b : {a - b}')\n",
    "print(f'b - a : {b - a}')"
   ]
  },
  {
   "cell_type": "markdown",
   "id": "cff2ec30-d57b-4648-afb2-d3232072ac11",
   "metadata": {
    "tags": []
   },
   "source": [
    "ㅤ      \n",
    "### **그 외 집합 함수들**"
   ]
  },
  {
   "cell_type": "markdown",
   "id": "b9e070a2-a325-4110-a2e5-60f808fc6cd8",
   "metadata": {},
   "source": [
    "`issubset`"
   ]
  },
  {
   "cell_type": "code",
   "execution_count": 250,
   "id": "da200220-df5f-4bf0-a909-e97a9478a78a",
   "metadata": {},
   "outputs": [
    {
     "name": "stdout",
     "output_type": "stream",
     "text": [
      "Is A a subset of B? : True\n",
      "\n"
     ]
    }
   ],
   "source": [
    "A = {1, 2, 3}\n",
    "B = {1, 2, 3, 4}\n",
    "\n",
    "print(f'Is A a subset of B? : {A.issubset(B)}\\n')"
   ]
  },
  {
   "cell_type": "markdown",
   "id": "00b5aa72-8d40-4305-8116-bb03147cc15b",
   "metadata": {},
   "source": [
    "`frozenset`\n",
    "- set은 새로운 값의 추가 또는 삭제가 가능하지만, frozenset은 불가능하다."
   ]
  },
  {
   "cell_type": "code",
   "execution_count": 259,
   "id": "7e4b7f67-a92d-4b07-9c85-c881c25397d0",
   "metadata": {},
   "outputs": [
    {
     "ename": "AttributeError",
     "evalue": "'frozenset' object has no attribute 'add'",
     "output_type": "error",
     "traceback": [
      "\u001b[1;31m---------------------------------------------------------------------------\u001b[0m",
      "\u001b[1;31mAttributeError\u001b[0m                            Traceback (most recent call last)",
      "Input \u001b[1;32mIn [259]\u001b[0m, in \u001b[0;36m<cell line: 5>\u001b[1;34m()\u001b[0m\n\u001b[0;32m      2\u001b[0m D \u001b[38;5;241m=\u001b[39m \u001b[38;5;28mfrozenset\u001b[39m([\u001b[38;5;241m1\u001b[39m, \u001b[38;5;241m2\u001b[39m])\n\u001b[0;32m      4\u001b[0m C\u001b[38;5;241m.\u001b[39madd(\u001b[38;5;241m3\u001b[39m)\n\u001b[1;32m----> 5\u001b[0m \u001b[43mD\u001b[49m\u001b[38;5;241;43m.\u001b[39;49m\u001b[43madd\u001b[49m(\u001b[38;5;241m3\u001b[39m)\n",
      "\u001b[1;31mAttributeError\u001b[0m: 'frozenset' object has no attribute 'add'"
     ]
    }
   ],
   "source": [
    "C = set([1, 2])\n",
    "D = frozenset([1, 2])\n",
    "\n",
    "C.add(3)\n",
    "D.add(3)"
   ]
  },
  {
   "cell_type": "markdown",
   "id": "3ab39d5e-989f-4b74-a218-b08f2fbd59fb",
   "metadata": {},
   "source": [
    "ㅤ        \n",
    "### # Quiz 5\n",
    "- vodka가 포함된 술 출력하기  \n",
    "\n",
    "- vodka는 있지만 cream, vermouth 없는 술을 출력하기"
   ]
  },
  {
   "cell_type": "code",
   "execution_count": 242,
   "id": "3ec55a69-feb1-4aed-a6d4-d0482f5ea850",
   "metadata": {},
   "outputs": [
    {
     "name": "stdout",
     "output_type": "stream",
     "text": [
      "\n",
      "\n"
     ]
    }
   ],
   "source": [
    "drinks = {\n",
    "    'martini': {'vodka', 'vermouth'},\n",
    "    'black russian': {'vodka', 'kahlua'},\n",
    "    'white russian': {'cream', 'kahula', 'vodka'},\n",
    "    'manhattan': {'rye', 'vermouth', 'bitters'},\n",
    "    'screwdriver': {'orange juice', 'vodka'}\n",
    "}\n",
    "print('\\n')"
   ]
  },
  {
   "cell_type": "code",
   "execution_count": 244,
   "id": "c5e557c2-cd72-4030-b9dc-9c7b4432ee4d",
   "metadata": {},
   "outputs": [
    {
     "name": "stdout",
     "output_type": "stream",
     "text": [
      "martini\n",
      "black russian: no cream and vermouth\n",
      "white russian\n",
      "screwdriver: no cream and vermouth\n"
     ]
    }
   ],
   "source": [
    "# 1.\n",
    "\n",
    "for name, liquid in drinks.items():\n",
    "    if 'vodka' in liquid:\n",
    "        if 'vodka' in liquid and not ('cream' in liquid or 'vermouth' in liquid):\n",
    "            print(f'{name}: no cream and vermouth')\n",
    "        else:\n",
    "            print(name)"
   ]
  },
  {
   "cell_type": "code",
   "execution_count": 245,
   "id": "1f6c3725-baae-480c-b650-c9699538935f",
   "metadata": {},
   "outputs": [
    {
     "name": "stdout",
     "output_type": "stream",
     "text": [
      "black russian\n",
      "screwdriver\n"
     ]
    }
   ],
   "source": [
    "# 2. set을 활용해서 바꾸기\n",
    "\n",
    "for k, v in drinks.items():\n",
    "    if 'vodka' in v and not v & {'cream', 'vermouth'}:\n",
    "        print(k)"
   ]
  },
  {
   "cell_type": "markdown",
   "id": "0b5a7b74-c7ab-40f7-b903-8948e5b1bd8e",
   "metadata": {},
   "source": [
    "---"
   ]
  },
  {
   "cell_type": "markdown",
   "id": "b037488e-97f4-4d54-9ba6-df8c14ff8556",
   "metadata": {},
   "source": [
    "# **pylint**\n",
    "- 코드 점검을 도와주는 툴\n",
    "- 오류 부분을 라인별로 체크하고 총 점수를 계산"
   ]
  },
  {
   "cell_type": "code",
   "execution_count": 266,
   "id": "c598c5c6-7ed0-4660-88d4-0e76b61feb20",
   "metadata": {},
   "outputs": [],
   "source": [
    "# !pip install pylint\n",
    "# !pylint example.py -rn --max-line-length=79 --generate-rcfile > myconfig.pylintrc\n",
    "# !pydocstyle 파일명.py"
   ]
  },
  {
   "cell_type": "markdown",
   "id": "7d3a3992-5f76-4126-a49f-2f73255718a3",
   "metadata": {},
   "source": [
    "ㅤ      \n",
    "# **pydocstyle**\n",
    "- docstring 점검을 도와주는 툴"
   ]
  },
  {
   "cell_type": "code",
   "execution_count": 267,
   "id": "e6de1f05-6377-446a-9e31-311c9dc68312",
   "metadata": {},
   "outputs": [],
   "source": [
    "# !pip install pydocstyle\n",
    "# !pydocstyle 파일명.py"
   ]
  }
 ],
 "metadata": {
  "kernelspec": {
   "display_name": "Python 3 (ipykernel)",
   "language": "python",
   "name": "python3"
  },
  "language_info": {
   "codemirror_mode": {
    "name": "ipython",
    "version": 3
   },
   "file_extension": ".py",
   "mimetype": "text/x-python",
   "name": "python",
   "nbconvert_exporter": "python",
   "pygments_lexer": "ipython3",
   "version": "3.9.7"
  }
 },
 "nbformat": 4,
 "nbformat_minor": 5
}
