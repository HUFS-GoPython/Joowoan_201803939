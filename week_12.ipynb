{
 "cells": [
  {
   "cell_type": "markdown",
   "id": "9750dd93-72f9-47b5-9153-7a02125ea25d",
   "metadata": {},
   "source": [
    "# Week 12"
   ]
  },
  {
   "cell_type": "markdown",
   "id": "8304c89b-c9ec-4073-a75d-ec44043d239e",
   "metadata": {},
   "source": [
    "-----"
   ]
  },
  {
   "cell_type": "markdown",
   "id": "590e26eb-a50c-41e6-aab6-f93762f7039b",
   "metadata": {
    "tags": []
   },
   "source": [
    "ㅤ      \n",
    "## **객체와 클래스**"
   ]
  },
  {
   "cell_type": "markdown",
   "id": "8fc4423f-fb0b-499c-8b41-aae8a985c80c",
   "metadata": {},
   "source": [
    "### **# is-a, has-a**"
   ]
  },
  {
   "cell_type": "code",
   "execution_count": 2,
   "id": "72d2f19e-dd5f-4b3c-bd06-1835a81a4b22",
   "metadata": {},
   "outputs": [],
   "source": [
    "class Person:\n",
    "    pass\n",
    "\n",
    "class Customer(Person): # is-a\n",
    "    pass\n",
    "\n",
    "class Store:\n",
    "    def __init__(customer):\n",
    "        self.customer = customer # Customer 타입    ... Customer를 가지고 있다. has-a\n",
    "        self.item = item\n",
    "        self.item_list = self.item.name, self.item.price\n",
    "\n",
    "class Item:\n",
    "    name = 'name'\n",
    "    cnt = 'cnt'\n",
    "    price = 'price'"
   ]
  },
  {
   "cell_type": "markdown",
   "id": "94b5d0f4-b769-40b6-9db4-d0957656d786",
   "metadata": {},
   "source": [
    "ㅤ      \n",
    "### **# Project Feedback**\n",
    "\n",
    "- 클래스에 필요한 함수들은 모두 관련 있는 클래스에 집어넣는다.\n",
    "\n",
    "- 상속을 받는 클래스, 상속의 대상인 클래스는 서로 관련이 있어야 한다.\n",
    "    - ex)  \n",
    "    Store - Person (X)  \n",
    "    Store - Item (O)\n",
    "ㅤ        \n",
    "ㅤ      \n",
    "- Customer 클래스에 좀 더 구체적인 속성을 부여했으면 좋았을 것 같다.  \n",
    "    - ex) 전화번호  \n",
    "ㅤ      \n",
    "- 현금 결제 - 카드 결제 차별화"
   ]
  },
  {
   "cell_type": "markdown",
   "id": "15d951f0-1957-472e-a2dd-e1b5f3fd12d9",
   "metadata": {},
   "source": [
    "ㅤ      \n",
    "## **매직 메소드**"
   ]
  },
  {
   "cell_type": "markdown",
   "id": "83961bea-6ea5-418d-a24f-f760529349c6",
   "metadata": {},
   "source": [
    "- special method\n",
    "\n",
    "- __ 언더바를 사용한다.  \n",
    "    ex)  __ < name > __\n",
    "- __ str __, __ repr __"
   ]
  },
  {
   "cell_type": "code",
   "execution_count": 5,
   "id": "df679882-0a12-4f54-9456-7afb8e9bf710",
   "metadata": {},
   "outputs": [],
   "source": [
    "class Customer:\n",
    "    def __init__(self, name):\n",
    "        self.name = name\n",
    "    \n",
    "c = Customer('Baggins')"
   ]
  },
  {
   "cell_type": "code",
   "execution_count": 6,
   "id": "dae7f499-90d6-4afb-97bb-59e2b688e97a",
   "metadata": {},
   "outputs": [
    {
     "data": {
      "text/plain": [
       "<__main__.Customer at 0x123f1c0cd30>"
      ]
     },
     "execution_count": 6,
     "metadata": {},
     "output_type": "execute_result"
    }
   ],
   "source": [
    "c"
   ]
  },
  {
   "cell_type": "markdown",
   "id": "cd135284-6179-4596-83f2-093af40369cf",
   "metadata": {},
   "source": [
    "이처럼 보기 쉽게 되어 있지 않다."
   ]
  },
  {
   "cell_type": "markdown",
   "id": "6c660ad7-34a3-42ef-842b-4956e5cb6f7f",
   "metadata": {},
   "source": [
    "ㅤ      \n",
    "### **# `__str__` , `__repr__`**"
   ]
  },
  {
   "cell_type": "code",
   "execution_count": 8,
   "id": "142bdf16-36ec-4170-8075-3b1f1a4e03ab",
   "metadata": {},
   "outputs": [],
   "source": [
    "class Customer(object): # 모든 클래스는 object를 암묵적으로 상속받는다.\n",
    "    def __init__(self, name):\n",
    "        self.name = name\n",
    "    \n",
    "    def __str__(self):\n",
    "        # print() 함수로 나온 출력값을 변경하는 것\n",
    "        \n",
    "        return self.name\n",
    "    \n",
    "    def __repr__(self):\n",
    "        # 별도 설정 안할 시 __str__ 동일함\n",
    "        # 인스턴스를 출력하는 방식 => 사용자가 이해하는 객체의 모습을 표현\n",
    "        \n",
    "        return f'Customer({self.name})'\n",
    "\n",
    "c = Customer('kim')"
   ]
  },
  {
   "cell_type": "code",
   "execution_count": 10,
   "id": "d0ed3bc5-a8a4-480c-bc3b-716a38841b66",
   "metadata": {},
   "outputs": [
    {
     "name": "stdout",
     "output_type": "stream",
     "text": [
      "kim\n"
     ]
    }
   ],
   "source": [
    "print(c)"
   ]
  },
  {
   "cell_type": "code",
   "execution_count": 11,
   "id": "294beab3-5ba5-4121-8f9b-697ab8a99fb7",
   "metadata": {},
   "outputs": [
    {
     "data": {
      "text/plain": [
       "Customer(kim)"
      ]
     },
     "execution_count": 11,
     "metadata": {},
     "output_type": "execute_result"
    }
   ],
   "source": [
    "c"
   ]
  },
  {
   "cell_type": "markdown",
   "id": "02349e79-253e-4d1e-ba8b-1d18eca044b4",
   "metadata": {
    "tags": []
   },
   "source": [
    "<br><br>     \n",
    "# **NamedTuple, DataClass**\n",
    "- 객체보다 효율적임 (간단한 속성만 가진 클래스일 경우 활용)\n",
    "\n",
    "- 딕셔너리의 키처럼 사용 가능하다\n",
    "- 불변 객체"
   ]
  },
  {
   "cell_type": "markdown",
   "id": "d4d8fd31-0b53-4aa8-816f-9793ecf7f1cf",
   "metadata": {},
   "source": [
    "### **# NamedTuple**"
   ]
  },
  {
   "cell_type": "code",
   "execution_count": 21,
   "id": "e399479a-3cb4-4f81-948b-fedae89e630b",
   "metadata": {},
   "outputs": [
    {
     "data": {
      "text/plain": [
       "('baggins', 30)"
      ]
     },
     "execution_count": 21,
     "metadata": {},
     "output_type": "execute_result"
    }
   ],
   "source": [
    "from collections import namedtuple\n",
    "\n",
    "# namedtuple('클래스 이름', '변수 이름')\n",
    "# ('name age') -> 공백으로 구분\n",
    "\n",
    "Customer = namedtuple('Customer', 'name age') \n",
    "a = Customer('baggins', 30)\n",
    "\n",
    "a.name, a.age"
   ]
  },
  {
   "cell_type": "markdown",
   "id": "f4e9d79f-176f-49d1-9721-fc49de7eb65f",
   "metadata": {
    "tags": []
   },
   "source": [
    "ㅤ      \n",
    "### **# DataClass**"
   ]
  },
  {
   "cell_type": "code",
   "execution_count": 17,
   "id": "9ca358a1-52bc-4acc-8a0a-23c9bbceef5a",
   "metadata": {},
   "outputs": [
    {
     "data": {
      "text/plain": [
       "('hong', 88)"
      ]
     },
     "execution_count": 17,
     "metadata": {},
     "output_type": "execute_result"
    }
   ],
   "source": [
    "from dataclasses import dataclass\n",
    "# Python 3.7 이상에서만 가능하다.\n",
    "\n",
    "@dataclass\n",
    "class Customer2:\n",
    "    name: str\n",
    "    age: int\n",
    "\n",
    "b = Customer2('hong', 88)\n",
    "b.name, b.age"
   ]
  },
  {
   "cell_type": "markdown",
   "id": "4623a9e2-9b29-4961-ad4a-a3c2a487860b",
   "metadata": {},
   "source": [
    "<br><br>     \n",
    "# **함수 II**\n",
    "\n",
    "- **\n",
    "\n",
    "- 일급객체\n",
    "- 내부함수, 클로저\n",
    "- 익명함수\n",
    "- 제너레이터\n",
    "- 재귀함수"
   ]
  },
  {
   "cell_type": "markdown",
   "id": "dc724e9e-36f6-4c01-9fb6-5720603874aa",
   "metadata": {},
   "source": [
    "ㅤ      \n",
    "### **`*` asterisk**\n",
    "별표의 기능\n",
    "1. 여러 개의 인자 => 패킹\n",
    "2. 여러 개의 자료가 있을 때 언패킹"
   ]
  },
  {
   "cell_type": "code",
   "execution_count": 53,
   "id": "cb56f2e6-4bd7-43b0-b5e2-ce1e46b22d5b",
   "metadata": {},
   "outputs": [
    {
     "name": "stdout",
     "output_type": "stream",
     "text": [
      "1 2 3 4 5 6\n"
     ]
    }
   ],
   "source": [
    "# 함수에서의 asterisk\n",
    "\n",
    "def print_arg(*args): # 인자 - PACKING\n",
    "    print(*args)      # 자료 - UNPACKING\n",
    "    \n",
    "print_arg(1, 2, 3, 4, 5, 6)"
   ]
  },
  {
   "cell_type": "code",
   "execution_count": 37,
   "id": "7ed93070-fb10-4b96-9bef-ac1c8c833b33",
   "metadata": {},
   "outputs": [
    {
     "name": "stdout",
     "output_type": "stream",
     "text": [
      "0 1 2 3 4 5 6 7 8 9\n"
     ]
    }
   ],
   "source": [
    "# LIST UNPACKING\n",
    "\n",
    "numberList = list(range(10))\n",
    "print(*numberList)"
   ]
  },
  {
   "cell_type": "markdown",
   "id": "dcaf129c-ba42-403e-8d63-90fe3156443f",
   "metadata": {},
   "source": [
    "  \n",
    "  \n",
    "  ㅤ      "
   ]
  },
  {
   "cell_type": "code",
   "execution_count": 42,
   "id": "35b8a9b7-8e8c-4e60-9bb8-3b150e127102",
   "metadata": {},
   "outputs": [
    {
     "name": "stdout",
     "output_type": "stream",
     "text": [
      "1 2\n",
      "optional: 5 6 7 8 9\n"
     ]
    }
   ],
   "source": [
    "# 필수 인자\n",
    "\n",
    "def print_more(num1, num2, *args):\n",
    "    print(num1, num2)\n",
    "    print('optional:', *args)\n",
    "\n",
    "print_more(1, 2, 5, 6, 7, 8, 9)"
   ]
  },
  {
   "cell_type": "markdown",
   "id": "c9ff30b6-d827-4b2f-a129-e7b002f0027d",
   "metadata": {},
   "source": [
    "  \n",
    "  \n",
    "ㅤ      "
   ]
  },
  {
   "cell_type": "code",
   "execution_count": 48,
   "id": "d62871b6-7329-4d21-9d59-60a7a3615863",
   "metadata": {},
   "outputs": [
    {
     "name": "stdout",
     "output_type": "stream",
     "text": [
      "(1, 3, 5)\n",
      "(2, 4, 6)\n"
     ]
    }
   ],
   "source": [
    "# 행렬, 테이블 데이터\n",
    "\n",
    "matrix = [\n",
    "    [1, 2],\n",
    "    [3, 4],\n",
    "    [5, 6]\n",
    "]\n",
    "\n",
    "# 1, 3, 5 / 2, 4, 6 (열만 타고 싶을 경우):\n",
    "for item in zip(*matrix):\n",
    "    print(item)"
   ]
  },
  {
   "cell_type": "markdown",
   "id": "e53a7b2f-eb4e-4db5-8707-0fd3cbbbf423",
   "metadata": {},
   "source": [
    " "
   ]
  },
  {
   "cell_type": "code",
   "execution_count": 52,
   "id": "43df1a87-d07d-47c3-964f-0412bf9b9ae1",
   "metadata": {},
   "outputs": [
    {
     "name": "stdout",
     "output_type": "stream",
     "text": [
      "[1, 2] [3, 4] [5, 6]\n"
     ]
    }
   ],
   "source": [
    "# asterisk 결과 살펴보기\n",
    "\n",
    "print(*matrix)"
   ]
  },
  {
   "cell_type": "markdown",
   "id": "80550aac-4e43-4898-8093-f25e7d122fdd",
   "metadata": {},
   "source": [
    " "
   ]
  },
  {
   "cell_type": "code",
   "execution_count": 46,
   "id": "a66fe84a-55f3-4434-a28a-3dee2ca6bbc1",
   "metadata": {},
   "outputs": [
    {
     "name": "stdout",
     "output_type": "stream",
     "text": [
      "(1, 3, 5)\n",
      "(2, 4, 6)\n"
     ]
    }
   ],
   "source": [
    "# zip 함수 이해하기\n",
    "\n",
    "for item in zip([1, 2], [3, 4], [5, 6]):\n",
    "    print(item)"
   ]
  },
  {
   "cell_type": "markdown",
   "id": "b304d952-eecc-46fa-a8d1-5b59402297a9",
   "metadata": {},
   "source": [
    "ㅤ      \n",
    "### **`**` kargs**\n",
    "### **#  키워드 전용 인수**"
   ]
  },
  {
   "cell_type": "code",
   "execution_count": 1,
   "id": "88b8ad0e-611f-4471-93ec-db7292178731",
   "metadata": {},
   "outputs": [
    {
     "name": "stdout",
     "output_type": "stream",
     "text": [
      "{'wine': 'crianza', 'drink': 'water'}\n"
     ]
    }
   ],
   "source": [
    "def print_kargs(**kargs): \n",
    "    # kargs['wine'] = 'crianze' # get\n",
    "    \n",
    "    print(kargs)\n",
    "    ## print(**kargs)\n",
    "    \n",
    "print_kargs(wine='crianza', drink='water') # 키: 값 => 딕셔너리로 반환"
   ]
  },
  {
   "cell_type": "markdown",
   "id": "7c91974d-2b5c-4f47-944f-a97e0edd3b79",
   "metadata": {},
   "source": [
    " \n",
    " "
   ]
  },
  {
   "cell_type": "code",
   "execution_count": 3,
   "id": "a1e05a4a-c72f-4667-9e65-755283c0ac40",
   "metadata": {},
   "outputs": [
    {
     "name": "stdout",
     "output_type": "stream",
     "text": [
      "{'wine': 'cabernet', 'drink': 'water'}\n",
      "{'wine': 'crianza', 'drink': 'water'}\n",
      "{'wine': 'shiraz', 'drink': 'water'}\n"
     ]
    }
   ],
   "source": [
    "# 키가 정해졌을 때 사용하면 좋음\n",
    "\n",
    "for wine in ['cabernet', 'crianza', 'shiraz']:\n",
    "    print_kargs(wine=wine, drink='water')"
   ]
  },
  {
   "cell_type": "markdown",
   "id": "f2cc0951-f96a-4a7d-b151-056054455135",
   "metadata": {
    "tags": []
   },
   "source": [
    " \n",
    " "
   ]
  },
  {
   "cell_type": "code",
   "execution_count": 42,
   "id": "d807af9f-03f1-4913-8849-86bb14e7dd9d",
   "metadata": {},
   "outputs": [],
   "source": [
    "# 키가 없는 경우 오류가 생기므로 get()을 이용하는 것이 좋다.\n",
    "\n",
    "class ExampleClass:\n",
    "    def __init__(self, **kwargs):\n",
    "        self.val = kwargs['val']\n",
    "        self.val2 = kwargs.get('val2',\"default value\")\n",
    "        \n",
    "E = ExampleClass(val='crianza')"
   ]
  },
  {
   "cell_type": "code",
   "execution_count": 43,
   "id": "045e821c-53e0-44f1-ba78-0b377cdf7737",
   "metadata": {},
   "outputs": [
    {
     "data": {
      "text/plain": [
       "('crianza', 'default value')"
      ]
     },
     "execution_count": 43,
     "metadata": {},
     "output_type": "execute_result"
    }
   ],
   "source": [
    "E.val, E.val2"
   ]
  },
  {
   "cell_type": "markdown",
   "id": "a2529fb3-932b-4446-9fcb-da52154b1c22",
   "metadata": {
    "tags": []
   },
   "source": [
    "ㅤ      \n",
    "### **# 복합적으로 사용하기**"
   ]
  },
  {
   "cell_type": "code",
   "execution_count": 4,
   "id": "37806bc9-24fa-4f8a-bce2-fd0a973d3044",
   "metadata": {},
   "outputs": [
    {
     "ename": "TypeError",
     "evalue": "print_all() got multiple values for argument 'num1'",
     "output_type": "error",
     "traceback": [
      "\u001b[1;31m---------------------------------------------------------------------------\u001b[0m",
      "\u001b[1;31mTypeError\u001b[0m                                 Traceback (most recent call last)",
      "Input \u001b[1;32mIn [4]\u001b[0m, in \u001b[0;36m<cell line: 8>\u001b[1;34m()\u001b[0m\n\u001b[0;32m      5\u001b[0m     \u001b[38;5;28mprint\u001b[39m(\u001b[38;5;28msum\u001b[39m(args))\n\u001b[0;32m      6\u001b[0m     \u001b[38;5;28mprint\u001b[39m(kargs)\n\u001b[1;32m----> 8\u001b[0m \u001b[43mprint_all\u001b[49m\u001b[43m(\u001b[49m\u001b[38;5;241;43m1\u001b[39;49m\u001b[43m,\u001b[49m\u001b[43m \u001b[49m\u001b[38;5;241;43m2\u001b[39;49m\u001b[43m,\u001b[49m\u001b[43m \u001b[49m\u001b[38;5;241;43m3\u001b[39;49m\u001b[43m,\u001b[49m\u001b[43m \u001b[49m\u001b[38;5;241;43m4\u001b[39;49m\u001b[43m,\u001b[49m\u001b[43m \u001b[49m\u001b[38;5;241;43m5\u001b[39;49m\u001b[43m,\u001b[49m\u001b[43m \u001b[49m\u001b[38;5;241;43m6\u001b[39;49m\u001b[43m,\u001b[49m\u001b[43m \u001b[49m\u001b[43mnum1\u001b[49m\u001b[38;5;241;43m=\u001b[39;49m\u001b[38;5;241;43m4\u001b[39;49m\u001b[43m,\u001b[49m\u001b[43m \u001b[49m\u001b[43mnum2\u001b[49m\u001b[38;5;241;43m=\u001b[39;49m\u001b[38;5;241;43m4\u001b[39;49m\u001b[43m)\u001b[49m\n",
      "\u001b[1;31mTypeError\u001b[0m: print_all() got multiple values for argument 'num1'"
     ]
    }
   ],
   "source": [
    "# WRONG\n",
    "\n",
    "def print_all(num1, num2, *args, **kargs):\n",
    "    print(num1, num2)\n",
    "    print(sum(args))\n",
    "    print(kargs)\n",
    "\n",
    "print_all(1, 2, 3, 4, 5, 6, num1=4, num2=4)"
   ]
  },
  {
   "cell_type": "markdown",
   "id": "59d273cb-5607-4807-9d8d-4633a7f170e5",
   "metadata": {},
   "source": [
    "  \n",
    "  "
   ]
  },
  {
   "cell_type": "code",
   "execution_count": 14,
   "id": "833388bd-9161-467a-b7a8-78c3d0dfae78",
   "metadata": {},
   "outputs": [
    {
     "name": "stdout",
     "output_type": "stream",
     "text": [
      "num1, num2: 1, 2\n",
      "asterisk: 18\n",
      "key arguments : {'num': 4}\n"
     ]
    }
   ],
   "source": [
    "# CORRECT\n",
    "\n",
    "def print_all(num1, num2, *args, **kargs):\n",
    "    print(f'num1, num2: {num1}, {num2}')\n",
    "    print(f'asterisk: {sum(args)}')\n",
    "    print(f'key arguments : {kargs}')\n",
    "\n",
    "print_all(1, 2, 3, 4, 5, 6, num=4)"
   ]
  },
  {
   "cell_type": "markdown",
   "id": "10ffa3fe-0f8a-4299-9a13-abd03b8aa151",
   "metadata": {},
   "source": [
    "ㅤ      \n",
    "### **# 딕셔너리 결합**"
   ]
  },
  {
   "cell_type": "code",
   "execution_count": 47,
   "id": "6bca6023-3dd6-4e02-9eb3-eaaf848afb23",
   "metadata": {},
   "outputs": [
    {
     "data": {
      "text/plain": [
       "{1: 'a', 2: 'c', 3: 'd'}"
      ]
     },
     "execution_count": 47,
     "metadata": {},
     "output_type": "execute_result"
    }
   ],
   "source": [
    "# 딕셔너리 조인\n",
    "\n",
    "a = {1: 'a', 2: 'b'}\n",
    "b = {2: 'c', 3: 'd'}\n",
    "{**a, **b} # key 2의 value가 마지막으로 'c'로 초기화 되었다."
   ]
  }
 ],
 "metadata": {
  "kernelspec": {
   "display_name": "Python 3 (ipykernel)",
   "language": "python",
   "name": "python3"
  },
  "language_info": {
   "codemirror_mode": {
    "name": "ipython",
    "version": 3
   },
   "file_extension": ".py",
   "mimetype": "text/x-python",
   "name": "python",
   "nbconvert_exporter": "python",
   "pygments_lexer": "ipython3",
   "version": "3.9.7"
  }
 },
 "nbformat": 4,
 "nbformat_minor": 5
}
