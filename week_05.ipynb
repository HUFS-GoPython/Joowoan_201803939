{
 "cells": [
  {
   "cell_type": "markdown",
   "id": "9801eec4-81ce-4316-9452-c38feebf5880",
   "metadata": {},
   "source": [
    "# Week 05"
   ]
  },
  {
   "cell_type": "markdown",
   "id": "7a93c62e-946c-46b1-b3c2-cbd389476d53",
   "metadata": {},
   "source": [
    "## **1. 반복문**"
   ]
  },
  {
   "cell_type": "markdown",
   "id": "4c14f36b-eeb6-4b19-ac74-c262e0de082c",
   "metadata": {},
   "source": [
    "- while\n",
    "\n",
    "- for"
   ]
  },
  {
   "cell_type": "markdown",
   "id": "5e98c0e0-23eb-48ef-acaf-acc9e1ee4646",
   "metadata": {},
   "source": [
    "### **# while**\n",
    "\n",
    "- 어떤 조건이 만족하는 동안 명령 블록을 수행.  \n",
    "\n",
    "- 조건문과 반복문을 합친 형태이다. (if + for loop)\n",
    "- 조건문이 거짓이면 멈춘다.  \n",
    "    따라서 반복이 언제 멈추는지 시점을 정확히 파악할 필요성 (무한 반복이 일어날 위험이 존재)\n",
    "    "
   ]
  },
  {
   "cell_type": "markdown",
   "id": "815d20df-f1b8-4ecf-8db7-97c04780f410",
   "metadata": {},
   "source": [
    "### **# for v.s while**\n",
    "- `for`:  \n",
    "    - 반복 횟수가 미리 정해져 있으므로 정확하다.  *(반복 횟수가 변하지 않는다.)*  \n",
    "\n",
    "    - ex) 전체 학생 수의 성적을 산출할 경우\n",
    "\n",
    "\n",
    "- `while`:  \n",
    "    - 반복하는 횟수가 정해져 있지 않다.  *(따라서 반복 횟수의 중요성이 덜하다.)*\n",
    "\n",
    "    - 특정 조건을 만족시킬 때 빠져나오게 하고 싶을 경우 while문을 사용한다.\n",
    "    - ex) 가위 바위 보 에서 이겼을 때 비로소 끝내기\n"
   ]
  },
  {
   "cell_type": "markdown",
   "id": "3b0de1c5-cbad-4ee3-b446-5b239d3683fc",
   "metadata": {},
   "source": [
    "ㅤ    \n",
    "### **# for, while 비교**"
   ]
  },
  {
   "cell_type": "code",
   "execution_count": 20,
   "id": "835c254e-e79d-4d45-8f1a-b5c95e384ba9",
   "metadata": {},
   "outputs": [
    {
     "name": "stdout",
     "output_type": "stream",
     "text": [
      "=== for ===\n",
      "0\n",
      "1\n",
      "2\n",
      "3\n",
      "4\n",
      "5\n",
      "6\n",
      "7\n",
      "8\n",
      "9\n",
      "\n",
      "=== while ===\n",
      "0\n",
      "1\n",
      "2\n",
      "3\n",
      "4\n",
      "5\n",
      "6\n",
      "7\n",
      "8\n",
      "9\n"
     ]
    }
   ],
   "source": [
    "# 0 ~ 9 까지 숫자 출력\n",
    "\n",
    "print('=== for ===')\n",
    "for i in range(10):     # 인덱스가 range() 내 자동적으로 증가한다.\n",
    "    print(i)\n",
    "\n",
    "print()\n",
    "\n",
    "print('=== while ===')\n",
    "j = 0                   # 증가시킬 인덱스를 별도로 선언한다.\n",
    "while j < 10:\n",
    "    print(j)\n",
    "    j += 1\n",
    "    "
   ]
  },
  {
   "cell_type": "markdown",
   "id": "69dd39ba-3dea-4865-937e-53e29c6ac405",
   "metadata": {},
   "source": [
    "ㅤ    \n",
    "### **# while문 동작 흐름**"
   ]
  },
  {
   "cell_type": "code",
   "execution_count": 29,
   "id": "cd77a5e7-b97e-4e16-8dd3-a097b203290f",
   "metadata": {},
   "outputs": [
    {
     "name": "stdout",
     "output_type": "stream",
     "text": [
      "0\n",
      "1\n",
      "2\n",
      "\n",
      "j: 3\n"
     ]
    }
   ],
   "source": [
    "j = 0 # 초기화\n",
    "while j < 3:\n",
    "    print(j)  # 0, 1, 2, False\n",
    "    j += 1    # 변화 1, 2, 3\n",
    "              # j는 3에서 멈춘다. (while 조건문을 충족시키지 않기 때문)\n",
    "\n",
    "print(f'\\nj: {j}')"
   ]
  },
  {
   "cell_type": "markdown",
   "id": "52dd3c45-e3c3-4dcd-993a-c17e3f6ae8a9",
   "metadata": {},
   "source": [
    "ㅤ    \n",
    "### **# 리스트의 요소 순회**"
   ]
  },
  {
   "cell_type": "code",
   "execution_count": 28,
   "id": "131c16c6-e084-41a8-9737-ef42940e6ddf",
   "metadata": {},
   "outputs": [
    {
     "name": "stdout",
     "output_type": "stream",
     "text": [
      "=== for ===\n",
      "a\n",
      "b\n",
      "c\n",
      "d\n",
      "\n",
      "=== while ===\n",
      "a\n",
      "b\n",
      "c\n",
      "d\n"
     ]
    }
   ],
   "source": [
    "print('=== for ===')\n",
    "abcd = ['a', 'b', 'c', 'd']\n",
    "for ch in abcd:\n",
    "    print(ch)\n",
    "\n",
    "print()\n",
    "    \n",
    "print('=== while ===')\n",
    "abcd = ['a', 'b', 'c', 'd']\n",
    "index = 0\n",
    "while index < len(abcd):\n",
    "    print(abcd[index])\n",
    "    index += 1\n"
   ]
  },
  {
   "cell_type": "markdown",
   "id": "71c2c3c4-ac25-4a78-bb54-a6bb0dd6d233",
   "metadata": {},
   "source": [
    "ㅤ    \n",
    "### **# 반복문 제어**"
   ]
  },
  {
   "cell_type": "markdown",
   "id": "831681e6-4dd9-486e-8d74-b3ec7e27e25c",
   "metadata": {},
   "source": [
    ": 되도록 사용하지 않는다. ( 의도치 않은 오류 발생 방지 )\n",
    "\n",
    "- `break`: 논리적으로 반복을 종료시킬 때\n",
    "- `else`: 어떤 조건이 완전히 끝났을 때 한번 더 실행함.\n",
    "    - break시에 실행 안됨.\n",
    "\n",
    "    - 어느 지점에서 종료되었는지 확인할 때\n",
    "- `continue`: 특정 조건을 건너뛰고 다음 조건 실행\n"
   ]
  },
  {
   "cell_type": "markdown",
   "id": "112f155e-6c66-44c3-a553-f9a876cb84ef",
   "metadata": {},
   "source": [
    "ㅤ    \n",
    "### **# break - while문**"
   ]
  },
  {
   "cell_type": "code",
   "execution_count": 44,
   "id": "a6ff9a29-090f-4be5-b95f-0626075544dd",
   "metadata": {},
   "outputs": [
    {
     "name": "stdout",
     "output_type": "stream",
     "text": [
      "0\n",
      "1\n",
      "2\n",
      "3\n",
      "4\n",
      "5\n",
      "6\n"
     ]
    }
   ],
   "source": [
    "# 10까지 안가고 break\n",
    "\n",
    "j = 0 # 초기화\n",
    "while j < 10:\n",
    "    print(j)\n",
    "    \n",
    "    if j == 6: break   # j가 6이 되는 순간 break로 인해 반복문을 빠져나온다.\n",
    "    \n",
    "    j += 1\n",
    "else:\n",
    "    print('ended')"
   ]
  },
  {
   "cell_type": "markdown",
   "id": "9b6b0108-1a58-446b-b02a-c449e8cfb011",
   "metadata": {},
   "source": [
    "ㅤ      \n",
    "### **# break - for문**"
   ]
  },
  {
   "cell_type": "code",
   "execution_count": 59,
   "id": "92bc10f8-f358-4aed-9235-ac2b1d1d3a80",
   "metadata": {},
   "outputs": [
    {
     "name": "stdout",
     "output_type": "stream",
     "text": [
      "0\n",
      "1\n",
      "2\n",
      "3\n",
      "4\n",
      "5\n"
     ]
    }
   ],
   "source": [
    "for i in range(10):\n",
    "    if i == 6: break\n",
    "    print(i)           # 6 출력 안 됨 ... break로 인해 print()을 놓는 위치에 따라 출력 여부가 달라진다.\n",
    "else:\n",
    "    print('ended')"
   ]
  },
  {
   "cell_type": "markdown",
   "id": "21caf3f3-4252-4173-bb2f-5843cb6bcc76",
   "metadata": {},
   "source": [
    "ㅤ      \n",
    "### **# 반복문에서의 else**"
   ]
  },
  {
   "cell_type": "code",
   "execution_count": 52,
   "id": "4f371589-0745-4759-af33-1b8e56842801",
   "metadata": {},
   "outputs": [
    {
     "name": "stdout",
     "output_type": "stream",
     "text": [
      "0\n",
      "1\n",
      "2\n",
      "3\n",
      "4\n",
      "5\n",
      "6\n",
      "7\n",
      "8\n",
      "9\n",
      "ended\n"
     ]
    }
   ],
   "source": [
    "for i in range(10):\n",
    "    print(i)\n",
    "else:                  # 조건이 완전히 끝났을 때 한번 더 실행함\n",
    "    print('ended')"
   ]
  },
  {
   "cell_type": "markdown",
   "id": "dc8489a4-2825-43b6-bc60-2d8b50d30940",
   "metadata": {},
   "source": [
    "ㅤ      \n",
    "### **# continue**"
   ]
  },
  {
   "cell_type": "code",
   "execution_count": 56,
   "id": "9eff2281-a429-44ed-b371-c2965ef55642",
   "metadata": {},
   "outputs": [
    {
     "name": "stdout",
     "output_type": "stream",
     "text": [
      "0\n",
      "1\n",
      "2\n",
      "4\n",
      "ended\n"
     ]
    }
   ],
   "source": [
    "for i in range(5):\n",
    "    if i == 3:\n",
    "        continue      # i가 3에 도달하는 순간 continue 아래의 코드를 건너뛰게 된다.\n",
    "    print(i)\n",
    "else:\n",
    "    print('ended')"
   ]
  },
  {
   "cell_type": "markdown",
   "id": "52ad662b-f5a9-4257-8618-3a55b8e4856e",
   "metadata": {},
   "source": [
    "ㅤ      \n",
    "### **# 무한 루프 예시**"
   ]
  },
  {
   "cell_type": "code",
   "execution_count": 58,
   "id": "0bb7228d-7c8f-4ab4-a4b7-968c817ba8c2",
   "metadata": {},
   "outputs": [],
   "source": [
    "## 10까지 안가고 break ##\n",
    "\n",
    "# j = 0\n",
    "# while j < 10:\n",
    "#     print(j)\n",
    "#     if j == 6: continue       # continue 문으로 인해 j 인덱스가 증가하지 않아 while문에 계속 머무르게 된다.\n",
    "#     j += 1\n",
    "# else:\n",
    "#     print('ended')"
   ]
  },
  {
   "cell_type": "markdown",
   "id": "97e1f72c-5628-4e40-bf0e-9fb2bb34fcc5",
   "metadata": {},
   "source": [
    "ㅤ \n",
    "## 1.2 *Review*"
   ]
  },
  {
   "cell_type": "markdown",
   "id": "0dbde8db-b557-4da4-b6e8-c8e83793415b",
   "metadata": {},
   "source": [
    "### # Quiz 1\n",
    "### 구구단\n",
    "변수는 입력을 받아서 사용함.\n",
    "- 1. n단 출력\n",
    "- 2. 1~n 단까지 출력\n",
    "    - n > 10 경우 대비\n",
    "- 3. n,m 모두 입력 받고 출력\n",
    "    - n > m\n",
    "- 4. 프로그램으로 만듦\n",
    "    - 메뉴: 1) n / 2) 1-n / 3) n-m단\n",
    "    - 메뉴에 없는 옵션을 선택할 때 오류 처리\n",
    " "
   ]
  },
  {
   "cell_type": "code",
   "execution_count": 92,
   "id": "a4fe4dd0-0103-4f57-a4a1-47671b246dba",
   "metadata": {},
   "outputs": [
    {
     "name": "stdout",
     "output_type": "stream",
     "text": [
      "\n",
      "    === 메뉴 ===\n",
      "    \n",
      "    메뉴에서 출력할 구구단의 종류를 선택하세요.\n",
      "    n, m의 범위는 1이상 9이하의 숫자까지 설정 가능합니다.\n",
      "    \n",
      "    1) n\n",
      "    2) 1-n 까지\n",
      "    3) n-m 까지\n",
      "    q) 종료\n",
      "    \n",
      "    \n"
     ]
    },
    {
     "name": "stdin",
     "output_type": "stream",
     "text": [
      "메뉴 번호를 입력하세요: 0\n"
     ]
    },
    {
     "name": "stdout",
     "output_type": "stream",
     "text": [
      "\n",
      "입력하신 메뉴는 존재하지 않습니다.\n",
      "------------------------------------------------\n",
      "\n",
      "    === 메뉴 ===\n",
      "    \n",
      "    메뉴에서 출력할 구구단의 종류를 선택하세요.\n",
      "    n, m의 범위는 1이상 9이하의 숫자까지 설정 가능합니다.\n",
      "    \n",
      "    1) n\n",
      "    2) 1-n 까지\n",
      "    3) n-m 까지\n",
      "    q) 종료\n",
      "    \n",
      "    \n"
     ]
    },
    {
     "name": "stdin",
     "output_type": "stream",
     "text": [
      "메뉴 번호를 입력하세요: 1\n",
      "단수를 입력하세요: 0\n"
     ]
    },
    {
     "name": "stdout",
     "output_type": "stream",
     "text": [
      "\n",
      "시작 단이 1보다 작습니다.\n",
      "\n",
      "------------------------------------------------\n",
      "\n",
      "    === 메뉴 ===\n",
      "    \n",
      "    메뉴에서 출력할 구구단의 종류를 선택하세요.\n",
      "    n, m의 범위는 1이상 9이하의 숫자까지 설정 가능합니다.\n",
      "    \n",
      "    1) n\n",
      "    2) 1-n 까지\n",
      "    3) n-m 까지\n",
      "    q) 종료\n",
      "    \n",
      "    \n"
     ]
    },
    {
     "name": "stdin",
     "output_type": "stream",
     "text": [
      "메뉴 번호를 입력하세요: 2\n",
      "끝 단수를 입력하세요: 10\n"
     ]
    },
    {
     "name": "stdout",
     "output_type": "stream",
     "text": [
      "\n",
      "끝 단이 9보다 큽니다.\n",
      "\n",
      "------------------------------------------------\n",
      "\n",
      "    === 메뉴 ===\n",
      "    \n",
      "    메뉴에서 출력할 구구단의 종류를 선택하세요.\n",
      "    n, m의 범위는 1이상 9이하의 숫자까지 설정 가능합니다.\n",
      "    \n",
      "    1) n\n",
      "    2) 1-n 까지\n",
      "    3) n-m 까지\n",
      "    q) 종료\n",
      "    \n",
      "    \n"
     ]
    },
    {
     "name": "stdin",
     "output_type": "stream",
     "text": [
      "메뉴 번호를 입력하세요: 3\n",
      "시작 단수를 입력하세요: 5\n",
      "끝 단수를 입력하세요: 4\n"
     ]
    },
    {
     "name": "stdout",
     "output_type": "stream",
     "text": [
      "\n",
      "시작 단이 끝 단보다 큽니다.\n",
      "\n",
      "------------------------------------------------\n",
      "\n",
      "    === 메뉴 ===\n",
      "    \n",
      "    메뉴에서 출력할 구구단의 종류를 선택하세요.\n",
      "    n, m의 범위는 1이상 9이하의 숫자까지 설정 가능합니다.\n",
      "    \n",
      "    1) n\n",
      "    2) 1-n 까지\n",
      "    3) n-m 까지\n",
      "    q) 종료\n",
      "    \n",
      "    \n"
     ]
    },
    {
     "name": "stdin",
     "output_type": "stream",
     "text": [
      "메뉴 번호를 입력하세요: 3\n",
      "시작 단수를 입력하세요: 8\n",
      "끝 단수를 입력하세요: 9\n"
     ]
    },
    {
     "name": "stdout",
     "output_type": "stream",
     "text": [
      "\n",
      "=== 8단 ===\n",
      "8 x 1 = 8\n",
      "8 x 2 = 16\n",
      "8 x 3 = 24\n",
      "8 x 4 = 32\n",
      "8 x 5 = 40\n",
      "8 x 6 = 48\n",
      "8 x 7 = 56\n",
      "8 x 8 = 64\n",
      "8 x 9 = 72\n",
      "\n",
      "\n",
      "=== 9단 ===\n",
      "9 x 1 = 9\n",
      "9 x 2 = 18\n",
      "9 x 3 = 27\n",
      "9 x 4 = 36\n",
      "9 x 5 = 45\n",
      "9 x 6 = 54\n",
      "9 x 7 = 63\n",
      "9 x 8 = 72\n",
      "9 x 9 = 81\n",
      "\n"
     ]
    }
   ],
   "source": [
    "while True:\n",
    "    print('''\n",
    "    === 메뉴 ===\n",
    "    \n",
    "    메뉴에서 출력할 구구단의 종류를 선택하세요.\n",
    "    n, m의 범위는 1이상 9이하의 숫자까지 설정 가능합니다.\n",
    "    \n",
    "    1) n\n",
    "    2) 1-n 까지\n",
    "    3) n-m 까지\n",
    "    q) 종료\n",
    "    \n",
    "    ''')\n",
    "    menuNumber = input('메뉴 번호를 입력하세요:')\n",
    "    \n",
    "    if menuNumber == '1':\n",
    "        startDan = int(input(\"단수를 입력하세요:\"))\n",
    "        endDan = startDan\n",
    "    elif menuNumber == '2':\n",
    "        startDan = 1\n",
    "        endDan = int(input(\"끝 단수를 입력하세요:\"))\n",
    "    elif menuNumber == '3':\n",
    "        startDan = int(input(\"시작 단수를 입력하세요:\"))\n",
    "        endDan = int(input(\"끝 단수를 입력하세요:\"))\n",
    "    elif menuNumber == 'q':\n",
    "        print('종료합니다.')\n",
    "        break\n",
    "    else:\n",
    "        print('\\n입력하신 메뉴는 존재하지 않습니다.')\n",
    "        print('------------------------------------------------')\n",
    "        continue\n",
    "        \n",
    "        \n",
    "    if startDan > endDan:\n",
    "        print('\\n시작 단이 끝 단보다 큽니다.', end='\\n\\n')\n",
    "        print('------------------------------------------------')\n",
    "        continue\n",
    "        \n",
    "    if startDan < 1:\n",
    "        print('\\n시작 단이 1보다 작습니다.', end='\\n\\n')\n",
    "        print('------------------------------------------------')\n",
    "        continue\n",
    "        \n",
    "    if endDan > 9:\n",
    "        if menuNumber == '1':\n",
    "            print('\\n입력하신 단이 9보다 큽니다.', end='\\n\\n')\n",
    "            print('------------------------------------------------')\n",
    "            continue\n",
    "        else:\n",
    "            print('\\n끝 단이 9보다 큽니다.', end='\\n\\n')\n",
    "            print('------------------------------------------------')\n",
    "            continue\n",
    "    \n",
    "    for i in range(startDan, endDan + 1):\n",
    "        print(f'\\n=== {i}단 ===')\n",
    "        for j in range(1, 10):\n",
    "            print(f'{i} x {j} = {i * j}')\n",
    "        print()\n",
    "    break"
   ]
  },
  {
   "cell_type": "markdown",
   "id": "c6225bf5-84fc-4833-89d1-b4f64b963442",
   "metadata": {},
   "source": [
    "---"
   ]
  },
  {
   "cell_type": "markdown",
   "id": "eebe0e29-8c50-4fd5-ba12-acd42ed67ba3",
   "metadata": {
    "tags": []
   },
   "source": [
    "ㅤ   \n",
    "## **2. NLTK**"
   ]
  },
  {
   "cell_type": "markdown",
   "id": "5bdb29a1-3536-4a29-9b81-f1ff0b366ba6",
   "metadata": {},
   "source": [
    "### **# text 1-9 리스트에 담기**\n",
    "\n",
    "string -> fx: `getattr(library, 'string_name')`"
   ]
  },
  {
   "cell_type": "code",
   "execution_count": 17,
   "id": "d8a04cc8-029e-4c04-869c-bbbff5b1eba3",
   "metadata": {},
   "outputs": [
    {
     "data": {
      "text/plain": [
       "[<Text: Moby Dick by Herman Melville 1851>,\n",
       " <Text: Sense and Sensibility by Jane Austen 1811>,\n",
       " <Text: The Book of Genesis>,\n",
       " <Text: Inaugural Address Corpus>,\n",
       " <Text: Chat Corpus>,\n",
       " <Text: Monty Python and the Holy Grail>,\n",
       " <Text: Wall Street Journal>,\n",
       " <Text: Personals Corpus>,\n",
       " <Text: The Man Who Was Thursday by G . K . Chesterton 1908>]"
      ]
     },
     "execution_count": 17,
     "metadata": {},
     "output_type": "execute_result"
    }
   ],
   "source": [
    "# import nltk\n",
    "# from nltk.book import *\n",
    "# nltk.download(\"book\", quiet=True)\n",
    "\n",
    "texts = [getattr(nltk.book, f'text{i}') for i in range(1, 10)]\n",
    "texts"
   ]
  },
  {
   "cell_type": "markdown",
   "id": "271d3df5-1d77-4171-99b7-0b983ad6f86a",
   "metadata": {},
   "source": [
    "ㅤ \n",
    "## 2.1 Corpus"
   ]
  },
  {
   "cell_type": "markdown",
   "id": "a7472f39-4e64-47fa-bd00-4677590a781b",
   "metadata": {},
   "source": [
    "- 코퍼스 & 테마\n",
    "- 종류:\n",
    "    - brown\n",
    "\n",
    "    - gutenberg ㅤ   ㅤ  ㅤ    ㅤ   # 저작권 만료된 문학 작품들을 모아놓은 코퍼스\n",
    "    - inaugural\n",
    "- Methods:\n",
    "    - `.words(fileids='')` # 단어 리스트 (tokens)\n",
    "\n",
    "    - `.sents()` ㅤ   ㅤ   ㅤ  ㅤ  # 문장 리스트\n",
    "    - `.raw()` ㅤ   ㅤ   ㅤ   ㅤ   ㅤ   # 글자 리스트 (텍스트 전체를 있는 그대로 불러온다)\n",
    "    - `.fileids()`\n",
    "    "
   ]
  },
  {
   "cell_type": "markdown",
   "id": "5fc0cf98-b147-4493-8f37-0552ad62c3e9",
   "metadata": {},
   "source": [
    "ㅤ \n",
    "## 2.2 Corpus - Gutenberg"
   ]
  },
  {
   "cell_type": "markdown",
   "id": "01de2a9f-e68d-4ab2-a063-ecb4572d7260",
   "metadata": {},
   "source": [
    "- gutenberg 코퍼스 가져오기"
   ]
  },
  {
   "cell_type": "code",
   "execution_count": 78,
   "id": "6685d2a1-bd5a-4144-a41d-2440c72d08dc",
   "metadata": {},
   "outputs": [
    {
     "data": {
      "text/plain": [
       "[['[', 'Emma', 'by', 'Jane', 'Austen', '1816', ']'], ['VOLUME', 'I'], ...]"
      ]
     },
     "execution_count": 78,
     "metadata": {},
     "output_type": "execute_result"
    }
   ],
   "source": [
    "# import nltk\n",
    "\n",
    "# 방법 1.\n",
    "from nltk.corpus import gutenberg\n",
    "nltk.download(\"gutenberg\", quiet=True)\n",
    "\n",
    "# 방법 2.\n",
    "gutenberg = nltk.corpus.gutenberg\n",
    "\n",
    "gutenberg.sents()"
   ]
  },
  {
   "cell_type": "markdown",
   "id": "de20be19-9abb-4db0-9e3f-b50537e36a1b",
   "metadata": {},
   "source": [
    "- 여러 코퍼스들을 동시에 가져오고 싶을 경우"
   ]
  },
  {
   "cell_type": "code",
   "execution_count": 95,
   "id": "13fbd809-6945-4295-9f81-2937ce824867",
   "metadata": {},
   "outputs": [
    {
     "name": "stderr",
     "output_type": "stream",
     "text": [
      "[nltk_data] Downloading package brown to\n",
      "[nltk_data]     C:\\Users\\skyto\\AppData\\Roaming\\nltk_data...\n",
      "[nltk_data]   Package brown is already up-to-date!\n",
      "[nltk_data] Downloading package gutenberg to\n",
      "[nltk_data]     C:\\Users\\skyto\\AppData\\Roaming\\nltk_data...\n",
      "[nltk_data]   Package gutenberg is already up-to-date!\n",
      "[nltk_data] Downloading package inaugural to\n",
      "[nltk_data]     C:\\Users\\skyto\\AppData\\Roaming\\nltk_data...\n",
      "[nltk_data]   Package inaugural is already up-to-date!\n"
     ]
    },
    {
     "data": {
      "text/plain": [
       "True"
      ]
     },
     "execution_count": 95,
     "metadata": {},
     "output_type": "execute_result"
    }
   ],
   "source": [
    "from nltk.corpus import brown, gutenberg, inaugural\n",
    "nltk.download(['brown', 'gutenberg', 'inaugural'])"
   ]
  },
  {
   "cell_type": "markdown",
   "id": "7d8b9493-7300-4bf8-9c1c-54a8c62fb760",
   "metadata": {},
   "source": [
    "ㅤ       \n",
    "ㅤ     \n",
    "### **# fileID**"
   ]
  },
  {
   "cell_type": "markdown",
   "id": "f2c4a229-b516-4c90-befe-535e4ba5215b",
   "metadata": {},
   "source": [
    "- `.fileids()`를 사용하면 해당 코퍼스 내에 포함되어 있는 작품들을 반환시킨다."
   ]
  },
  {
   "cell_type": "code",
   "execution_count": 96,
   "id": "f0dde041-2469-4a85-a8c7-6071506d6833",
   "metadata": {},
   "outputs": [
    {
     "data": {
      "text/plain": [
       "['austen-emma.txt',\n",
       " 'austen-persuasion.txt',\n",
       " 'austen-sense.txt',\n",
       " 'bible-kjv.txt',\n",
       " 'blake-poems.txt',\n",
       " 'bryant-stories.txt',\n",
       " 'burgess-busterbrown.txt',\n",
       " 'carroll-alice.txt',\n",
       " 'chesterton-ball.txt',\n",
       " 'chesterton-brown.txt',\n",
       " 'chesterton-thursday.txt',\n",
       " 'edgeworth-parents.txt',\n",
       " 'melville-moby_dick.txt',\n",
       " 'milton-paradise.txt',\n",
       " 'shakespeare-caesar.txt',\n",
       " 'shakespeare-hamlet.txt',\n",
       " 'shakespeare-macbeth.txt',\n",
       " 'whitman-leaves.txt']"
      ]
     },
     "execution_count": 96,
     "metadata": {},
     "output_type": "execute_result"
    }
   ],
   "source": [
    "gutenberg.fileids()"
   ]
  },
  {
   "cell_type": "markdown",
   "id": "9519b22e-78f3-41d3-b031-f29a28251bbb",
   "metadata": {},
   "source": [
    "- file 접근 방식  \n",
    "\n",
    "    .<method 이름>(`fileids=`'<원하는 텍스트의 제목(id)을 .txt와 함께 입력한다.>')\n"
   ]
  },
  {
   "cell_type": "code",
   "execution_count": 83,
   "id": "9aa4c5c3-6f1d-4ccb-aa77-0f6456081a1f",
   "metadata": {},
   "outputs": [
    {
     "data": {
      "text/plain": [
       "['[', 'Persuasion', 'by', 'Jane', 'Austen', '1818', ...]"
      ]
     },
     "execution_count": 83,
     "metadata": {},
     "output_type": "execute_result"
    }
   ],
   "source": [
    "gutenberg.words(fileids=['austen-persuasion.txt', 'carroll-alice.txt'])"
   ]
  },
  {
   "cell_type": "markdown",
   "id": "a0ad8c63-a48c-4952-a3b9-256570d10f1f",
   "metadata": {},
   "source": [
    "ㅤ \n",
    "## 2.3 *Review*"
   ]
  },
  {
   "cell_type": "markdown",
   "id": "29e2765d-6a97-4415-b02f-014870ca7d64",
   "metadata": {},
   "source": [
    "### # Quiz 1\n",
    "- 각 파일마다 word, character, sents 개수 출력하기"
   ]
  },
  {
   "cell_type": "code",
   "execution_count": 103,
   "id": "a14528ac-dce7-4ce7-baeb-0552a933f91e",
   "metadata": {},
   "outputs": [
    {
     "name": "stdout",
     "output_type": "stream",
     "text": [
      "austen-emma        : characters: 887071 words: 192427 sentences: 7717\n",
      "austen-persuasion  : characters: 466292 words: 98171 sentences: 3747\n",
      "austen-sense       : characters: 673022 words: 141576 sentences: 4999\n",
      "bible-kjv          : characters: 4332554 words: 1010654 sentences: 30103\n",
      "blake-poems        : characters: 38153 words: 8354 sentences: 438\n",
      "bryant-stories     : characters: 249439 words: 55563 sentences: 2863\n",
      "burgess-busterbrown: characters: 84663 words: 18963 sentences: 1054\n",
      "carroll-alice      : characters: 144395 words: 34110 sentences: 1703\n",
      "chesterton-ball    : characters: 457450 words: 96996 sentences: 4779\n",
      "chesterton-brown   : characters: 406629 words: 86063 sentences: 3806\n",
      "chesterton-thursday: characters: 320525 words: 69213 sentences: 3728\n",
      "edgeworth-parents  : characters: 935158 words: 210663 sentences: 10230\n",
      "melville-moby_dick : characters: 1242990 words: 260819 sentences: 10059\n",
      "milton-paradise    : characters: 468220 words: 96825 sentences: 1851\n",
      "shakespeare-caesar : characters: 112310 words: 25833 sentences: 2163\n",
      "shakespeare-hamlet : characters: 162881 words: 37360 sentences: 3106\n",
      "shakespeare-macbeth: characters: 100351 words: 23140 sentences: 1907\n",
      "whitman-leaves     : characters: 711215 words: 154883 sentences: 4250\n"
     ]
    }
   ],
   "source": [
    "for file in gutenberg.fileids():\n",
    "    characters = gutenberg.raw(file)\n",
    "    words = gutenberg.words(file)\n",
    "    sentences = gutenberg.sents(file)\n",
    "    \n",
    "    showTitle = file[:-4]\n",
    "    if(len(file[:-4]) <= 19):\n",
    "        leftSpace = 19 - len(file[:-4])\n",
    "        showTitle = file[:-4] + leftSpace * ' '\n",
    "        \n",
    "    print(f'{showTitle}: characters: {len(characters)} words: {len(words)} sentences: {len(sentences)}')"
   ]
  },
  {
   "cell_type": "markdown",
   "id": "c3c47acb-f711-44dc-a285-d4a89424cccd",
   "metadata": {},
   "source": [
    "ㅤ   \n",
    "### # Quiz 2"
   ]
  },
  {
   "cell_type": "markdown",
   "id": "0e7bc193-c691-4f76-a645-fc0101b65c6b",
   "metadata": {},
   "source": [
    "#### Gutenberg\n",
    "1. shakespear-caesar 의 중복된 단어를 거르고 각 단어의 길이 출력  \n",
    "\n",
    "\n",
    "2. chesterton-thursday에서 길이가 4자 이하인 알파벳 중 ie 를 포함하는 단어를 소문자로 출력, 개수를 세어라  \n",
    "\n",
    "\n",
    "3. bryant-stories에서 ch로 끝나는 단어를 출력:  \n",
    "\n",
    "    - 중복 없이  \n",
    "    \n",
    "    - 첫글자(모두 소문자)와 끝 ch만 남기고 가운데 글자들은 모두 -로 가려라  \n",
    "    \n",
    "    - 예) much -> m-ch"
   ]
  },
  {
   "cell_type": "code",
   "execution_count": 110,
   "id": "ea98a3c3-adc7-4254-bfb2-6cc156840979",
   "metadata": {},
   "outputs": [
    {
     "data": {
      "text/plain": [
       "[11, 9, 4, 5, 8, 3, 10, 10, 8, 9]"
      ]
     },
     "execution_count": 110,
     "metadata": {},
     "output_type": "execute_result"
    }
   ],
   "source": [
    "# 1번\n",
    "\n",
    "[len(word) for word in set(gutenberg.words(fileids='shakespeare-caesar.txt'))][:10]"
   ]
  },
  {
   "cell_type": "code",
   "execution_count": 118,
   "id": "b271c6bb-000d-4bce-9785-67fac4700ddf",
   "metadata": {},
   "outputs": [
    {
     "name": "stdout",
     "output_type": "stream",
     "text": [
      "['foie', 'died', 'pier', 'died', 'lies', 'died', 'lie', 'tie', 'tie', 'die', 'tied', 'pie', 'die', 'die', 'die', 'die', 'died', 'died', 'die', 'die', 'die', 'erie', 'view', 'die', 'pier', 'dies', 'die', 'pier', 'pier', 'die', 'pier', 'tied', 'die', 'view', 'tie', 'lie', 'lie']\n",
      "37\n"
     ]
    }
   ],
   "source": [
    "# 2번\n",
    "\n",
    "ie_words = [word.lower() for word in gutenberg.words(fileids='chesterton-thursday.txt') if word.isalpha() and len(word) <= 4 and 'ie' in word]\n",
    "\n",
    "print(ie_words)\n",
    "print(len(ie_words))\n"
   ]
  },
  {
   "cell_type": "code",
   "execution_count": 9,
   "id": "33c4c8ff-203a-4345-9d67-77cadee98f9b",
   "metadata": {},
   "outputs": [
    {
     "data": {
      "text/plain": [
       "[('Moloch', 'm---ch'),\n",
       " ('such', 's-ch'),\n",
       " ('leach', 'l--ch'),\n",
       " ('much', 'm-ch'),\n",
       " ('flinch', 'f---ch'),\n",
       " ('Ditch', 'd--ch'),\n",
       " ('leech', 'l--ch'),\n",
       " ('belch', 'b--ch'),\n",
       " ('Elimelech', 'e------ch'),\n",
       " ('insomuch', 'i-----ch')]"
      ]
     },
     "execution_count": 9,
     "metadata": {},
     "output_type": "execute_result"
    }
   ],
   "source": [
    "# 3번.\n",
    "[(word, word[0].lower() + '-' * (len(word) - 3) + word[-2:]) for word in set(gutenberg.words()) if word.endswith('ch')][:10]"
   ]
  },
  {
   "cell_type": "markdown",
   "id": "b614be53-90d0-44c2-b6b8-f83fb1210403",
   "metadata": {},
   "source": [
    "<br><br>\n",
    "## 2.4 Corpus - Brown"
   ]
  },
  {
   "cell_type": "markdown",
   "id": "550ba867-a9e6-4851-a8ed-5081d5087391",
   "metadata": {},
   "source": [
    " `.categories()`  \n",
    "\n",
    "brown은 categories 별로 정리되어 있다."
   ]
  },
  {
   "cell_type": "code",
   "execution_count": 13,
   "id": "57210c6e-060e-4806-be65-7c5bc3632565",
   "metadata": {},
   "outputs": [
    {
     "data": {
      "text/plain": [
       "['adventure',\n",
       " 'belles_lettres',\n",
       " 'editorial',\n",
       " 'fiction',\n",
       " 'government',\n",
       " 'hobbies',\n",
       " 'humor',\n",
       " 'learned',\n",
       " 'lore',\n",
       " 'mystery',\n",
       " 'news',\n",
       " 'religion',\n",
       " 'reviews',\n",
       " 'romance',\n",
       " 'science_fiction']"
      ]
     },
     "execution_count": 13,
     "metadata": {},
     "output_type": "execute_result"
    }
   ],
   "source": [
    "brown.categories()"
   ]
  },
  {
   "cell_type": "code",
   "execution_count": 79,
   "id": "d961d284-ee14-41e9-8198-e866ba9ed006",
   "metadata": {},
   "outputs": [
    {
     "data": {
      "text/plain": [
       "['They', 'neither', 'liked', 'nor', 'disliked', 'the', ...]"
      ]
     },
     "execution_count": 79,
     "metadata": {},
     "output_type": "execute_result"
    }
   ],
   "source": [
    "brown.words(categories='romance')      # 로맨스 카테고리 내의 단어들을 리스트로 담아 출력한다."
   ]
  },
  {
   "cell_type": "markdown",
   "id": "ac054939-0db5-4336-92e1-bad17761eb1d",
   "metadata": {},
   "source": [
    "ㅤ       \n",
    "ㅤ     \n",
    "### **# Category - Frequency Distribution**"
   ]
  },
  {
   "cell_type": "markdown",
   "id": "b83fe80b-01b1-438f-918e-ea7d1f5e08e6",
   "metadata": {},
   "source": [
    "- \"adventure\" 카테고리의 frequency distribution을 구한다."
   ]
  },
  {
   "cell_type": "code",
   "execution_count": 30,
   "id": "7d209e0f-d993-42ab-af04-f595b8e7946a",
   "metadata": {},
   "outputs": [
    {
     "data": {
      "text/plain": [
       "FreqDist({'.': 4057, 'the': 3780, ',': 3488, 'and': 1706, 'a': 1432, 'of': 1327, 'to': 1322, 'he': 1283, '``': 998, \"''\": 995, ...})"
      ]
     },
     "execution_count": 30,
     "metadata": {},
     "output_type": "execute_result"
    }
   ],
   "source": [
    "from nltk import FreqDist\n",
    "\n",
    "fdist = FreqDist([w.lower() for w in brown.words(categories='adventure')])   # categories을 명시해주는 것이 중요\n",
    "fdist"
   ]
  },
  {
   "cell_type": "markdown",
   "id": "d4273c6a-fb07-481c-bf81-d818a5650038",
   "metadata": {},
   "source": [
    "ㅤ       \n",
    "ㅤ     \n",
    "### **# modal verbs**"
   ]
  },
  {
   "cell_type": "code",
   "execution_count": 31,
   "id": "3a9f5b31-8039-4153-85e6-f56b1bad446e",
   "metadata": {},
   "outputs": [
    {
     "name": "stdout",
     "output_type": "stream",
     "text": [
      "can 48\n",
      "could 154\n",
      "will 51\n",
      "would 194\n",
      "may 7\n",
      "might 59\n"
     ]
    }
   ],
   "source": [
    "# modal verbs\n",
    "modals = ['can', 'could', 'will', 'would', 'may', 'might']\n",
    "\n",
    "for verb in modals:\n",
    "    print(verb, fdist[verb])   # adventure 카테고리 내 조동사를 출력"
   ]
  },
  {
   "cell_type": "markdown",
   "id": "4540005e-d8c4-45f9-b8f8-f36484d6c044",
   "metadata": {},
   "source": [
    "ㅤ       \n",
    "ㅤ     \n",
    "### **# Conditional Frequency Distribution**  "
   ]
  },
  {
   "cell_type": "markdown",
   "id": "621c28b1-0e96-4b33-8c6b-8b64c7d4a046",
   "metadata": {},
   "source": [
    "\n",
    "`.ConditionalFreqDist()`\n",
    " \n",
    "- 조건에 따른 fdist 생성하기"
   ]
  },
  {
   "cell_type": "code",
   "execution_count": 96,
   "id": "c2c18b31-8712-468b-bca8-70d21f86b6ab",
   "metadata": {},
   "outputs": [],
   "source": [
    "cfd = nltk.ConditionalFreqDist(\n",
    "    (genre, word.lower())\n",
    "    for genre in brown.categories()              # brown 코퍼스 내의 카테고리들을 모두 순회한다.\n",
    "    for word in brown.words(categories=genre)    # genre 변수 안에 담긴 카테고리 내의 단어들을 word 변수에 반환.\n",
    ")"
   ]
  },
  {
   "cell_type": "code",
   "execution_count": 97,
   "id": "143820f9-0a85-41f8-958b-ce74944aca78",
   "metadata": {},
   "outputs": [
    {
     "data": {
      "text/plain": [
       "FreqDist({',': 3899, '.': 3736, 'the': 2988, 'and': 1905, 'to': 1517, 'a': 1383, 'of': 1202, 'he': 1068, '``': 1045, \"''\": 1044, ...})"
      ]
     },
     "execution_count": 97,
     "metadata": {},
     "output_type": "execute_result"
    }
   ],
   "source": [
    "# FreqDist([word.lower() for word in brown.words(categories='romance')])\n",
    "\n",
    "cfd['romance']            # 카테고리 로맨스 내 모든 단어들의 FreqDist를 반환"
   ]
  },
  {
   "cell_type": "code",
   "execution_count": 101,
   "id": "adef1600-d4eb-4828-80e4-b3c62e0fe3ea",
   "metadata": {},
   "outputs": [
    {
     "name": "stdout",
     "output_type": "stream",
     "text": [
      "romance 36\n",
      "mystery 18\n"
     ]
    }
   ],
   "source": [
    "print('romance', cfd['romance']['love'])   # 카테고리 로맨스 내 'word'라는 단어의 빈도수\n",
    "print('mystery', cfd['mystery']['death'])   "
   ]
  }
 ],
 "metadata": {
  "kernelspec": {
   "display_name": "Python 3 (ipykernel)",
   "language": "python",
   "name": "python3"
  },
  "language_info": {
   "codemirror_mode": {
    "name": "ipython",
    "version": 3
   },
   "file_extension": ".py",
   "mimetype": "text/x-python",
   "name": "python",
   "nbconvert_exporter": "python",
   "pygments_lexer": "ipython3",
   "version": "3.9.7"
  }
 },
 "nbformat": 4,
 "nbformat_minor": 5
}
