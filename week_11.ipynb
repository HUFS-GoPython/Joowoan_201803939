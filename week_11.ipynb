{
 "cells": [
  {
   "cell_type": "markdown",
   "id": "582fb341-b147-4a28-a3ea-b776442e2633",
   "metadata": {},
   "source": [
    "# Week 11"
   ]
  },
  {
   "cell_type": "markdown",
   "id": "4710dd8e-9d7a-4b11-917a-185e95277317",
   "metadata": {},
   "source": [
    "---"
   ]
  },
  {
   "cell_type": "markdown",
   "id": "35b536d9-7c54-42e6-8a24-16a83d354e4c",
   "metadata": {},
   "source": [
    "# **객체와 클래스 - 상속**\n",
    "- 상속 (inheritance)\n",
    "\n",
    "- 재사용할 때, A vs. B\n",
    "    - A의 대부분을 쓰고, 나머지를 추가, 변경하고 싶다\n",
    "    - 부모의 모든 속성을 그대로 가져와서 쓰고 싶을 때\n",
    "    - 반복되는 부분을 물려받아서 쓰고 싶을 때\n",
    "ㅤ        \n",
    "ㅤ      \n",
    "- A <- B\n",
    "    - \"부모 / 슈퍼 / 베이스\"\n",
    "    - \"자식 / 서브 / derived\"\n",
    "ㅤ      \n",
    "ㅤ      \n",
    "- 자식 클래스는 부모 클래스를 구체화한다.\n",
    "- is-a 관계: Car is-a Vehicle (포함된다)"
   ]
  },
  {
   "cell_type": "code",
   "execution_count": 5,
   "id": "c09e0266-1e4c-4394-b617-58dfdd9436d9",
   "metadata": {},
   "outputs": [],
   "source": [
    "class Vehicle: # parent, super\n",
    "    def __init__(self, speed):\n",
    "        self.speed = speed\n",
    "\n",
    "    def go(self):\n",
    "        print(f'{self.speed}의 속도로 달린다.')\n",
    "\n",
    "class Car(Vehicle): # child, sub\n",
    "    pass"
   ]
  },
  {
   "cell_type": "code",
   "execution_count": 3,
   "id": "6c650e06-1512-426f-97cc-10dfdc0be4bf",
   "metadata": {},
   "outputs": [
    {
     "name": "stdout",
     "output_type": "stream",
     "text": [
      "20km/h의 속도로 달린다.\n"
     ]
    }
   ],
   "source": [
    "car = Car('20km/h')\n",
    "car.go()"
   ]
  },
  {
   "cell_type": "code",
   "execution_count": 4,
   "id": "b430fdb3-076f-446d-9ef3-f4141401a7c7",
   "metadata": {},
   "outputs": [
    {
     "data": {
      "text/plain": [
       "'20km/h'"
      ]
     },
     "execution_count": 4,
     "metadata": {},
     "output_type": "execute_result"
    }
   ],
   "source": [
    "car.speed"
   ]
  },
  {
   "cell_type": "markdown",
   "id": "2fd1a729-9353-4a6a-b439-96250d4140fa",
   "metadata": {},
   "source": [
    "ㅤ      \n",
    "### **# 변수 추가, 변경**"
   ]
  },
  {
   "cell_type": "code",
   "execution_count": 7,
   "id": "82672521-3d6e-4d07-a97c-f11151823d20",
   "metadata": {},
   "outputs": [],
   "source": [
    "class Car(Vehicle):\n",
    "    def __init__(self, speed, brand):\n",
    "        # speed == 부모\n",
    "        super().__init__(speed) # Vehicle().speed\n",
    "        \n",
    "        # brand == 자식\n",
    "        self.brand = brand      # 자식의 고유한 특성이 된다."
   ]
  },
  {
   "cell_type": "code",
   "execution_count": 9,
   "id": "c24d5a5a-da79-4a04-bf53-d579a57f06be",
   "metadata": {},
   "outputs": [
    {
     "data": {
      "text/plain": [
       "'kia'"
      ]
     },
     "execution_count": 9,
     "metadata": {},
     "output_type": "execute_result"
    }
   ],
   "source": [
    "# 자식 클래스\n",
    "car2 = Car('20km/h', 'kia')\n",
    "car2.brand"
   ]
  },
  {
   "cell_type": "markdown",
   "id": "611bcfa4-097e-4b00-88b0-1d4fddae35a3",
   "metadata": {},
   "source": [
    " \n",
    " "
   ]
  },
  {
   "cell_type": "code",
   "execution_count": 10,
   "id": "7c1ebc2b-1190-433f-ad52-7a0f4ebb40ae",
   "metadata": {},
   "outputs": [
    {
     "ename": "AttributeError",
     "evalue": "'Vehicle' object has no attribute 'brand'",
     "output_type": "error",
     "traceback": [
      "\u001b[1;31m---------------------------------------------------------------------------\u001b[0m",
      "\u001b[1;31mAttributeError\u001b[0m                            Traceback (most recent call last)",
      "Input \u001b[1;32mIn [10]\u001b[0m, in \u001b[0;36m<cell line: 3>\u001b[1;34m()\u001b[0m\n\u001b[0;32m      1\u001b[0m \u001b[38;5;66;03m# 부모 클래스는 자식 클래스 고유 특성 이용 불가\u001b[39;00m\n\u001b[0;32m      2\u001b[0m v \u001b[38;5;241m=\u001b[39m Vehicle(\u001b[38;5;124m'\u001b[39m\u001b[38;5;124m33km/h\u001b[39m\u001b[38;5;124m'\u001b[39m)\n\u001b[1;32m----> 3\u001b[0m \u001b[43mv\u001b[49m\u001b[38;5;241;43m.\u001b[39;49m\u001b[43mbrand\u001b[49m\n",
      "\u001b[1;31mAttributeError\u001b[0m: 'Vehicle' object has no attribute 'brand'"
     ]
    }
   ],
   "source": [
    "# 부모 클래스는 자식 클래스 고유 특성 이용 불가\n",
    "v = Vehicle('33km/h')\n",
    "v.brand"
   ]
  },
  {
   "cell_type": "markdown",
   "id": "0b46b8b8-83c1-4e63-ae55-ac2193f8d04a",
   "metadata": {},
   "source": [
    "ㅤ      \n",
    "### **# 메소드 추가, 변경**\n",
    "- override하면 부모의 메서드가 잊힌다."
   ]
  },
  {
   "cell_type": "code",
   "execution_count": 22,
   "id": "10ff8c54-41f4-47f7-b9b8-cb61ff67ece8",
   "metadata": {},
   "outputs": [],
   "source": [
    "class Car(Vehicle):\n",
    "    def __init__(self, speed, brand):\n",
    "        super().__init__(speed)\n",
    "        self.brand = brand\n",
    "        \n",
    "    def go(self):\n",
    "        # 부모의 go도 함께 가져가고 싶을 경우:\n",
    "        super().go()\n",
    "        \n",
    "        # 오버라이드(override): 재정의\n",
    "        print(f'차종 {self.brand}의 속도 {self.speed}')\n",
    "        \n",
    "    def stop():\n",
    "        pass"
   ]
  },
  {
   "cell_type": "code",
   "execution_count": 23,
   "id": "25aa0942-f6c1-45a8-beaa-276c1dfa594e",
   "metadata": {},
   "outputs": [
    {
     "name": "stdout",
     "output_type": "stream",
     "text": [
      "33km/h의 속도로 달린다.\n",
      "차종 mini의 속도 33km/h\n"
     ]
    }
   ],
   "source": [
    "car3 = Car('33km/h', 'mini')\n",
    "car3.go()"
   ]
  },
  {
   "cell_type": "markdown",
   "id": "a61c220c-6d1d-4d2b-a9a5-665fb9e981a0",
   "metadata": {},
   "source": [
    "ㅤ        \n",
    "### # Quiz 1"
   ]
  },
  {
   "cell_type": "code",
   "execution_count": 25,
   "id": "fca4a0ca-9fed-40d5-ba3c-ff3714a13ea2",
   "metadata": {},
   "outputs": [],
   "source": [
    "class Person:\n",
    "    def __init__(self, name):\n",
    "        self.name = name # pablo\n",
    "\n",
    "'''\n",
    "class Doctor: # Dr. pablo\n",
    "    pass\n",
    "\n",
    "class Male: # Mr. pablo\n",
    "    pass\n",
    "\n",
    "class Female: # Mrs. pablo\n",
    "    pass\n",
    "'''\n",
    "#----------------------------\n",
    "class Doctor(Person):\n",
    "    def __init__(self, name):\n",
    "        super().__init__('Dr. ' + name)\n",
    "\n",
    "class Male(Person): \n",
    "    def __init__(self, name):\n",
    "        super().__init__('Mr. ' + name)\n",
    "\n",
    "class Female(Person):\n",
    "    def __init__(self, name):\n",
    "        super().__init__('Mrs. ' + name)"
   ]
  },
  {
   "cell_type": "code",
   "execution_count": 26,
   "id": "3b96501f-d7ed-4bf8-86a0-ad746a9ab772",
   "metadata": {},
   "outputs": [
    {
     "data": {
      "text/plain": [
       "'Dr. mario'"
      ]
     },
     "execution_count": 26,
     "metadata": {},
     "output_type": "execute_result"
    }
   ],
   "source": [
    "mario = Doctor('mario')\n",
    "mario.name"
   ]
  },
  {
   "cell_type": "code",
   "execution_count": 27,
   "id": "8e03d5f6-d639-4d62-a098-c12dc028f72a",
   "metadata": {},
   "outputs": [
    {
     "data": {
      "text/plain": [
       "'Mr. potato'"
      ]
     },
     "execution_count": 27,
     "metadata": {},
     "output_type": "execute_result"
    }
   ],
   "source": [
    "potato = Male('potato')\n",
    "potato.name"
   ]
  },
  {
   "cell_type": "code",
   "execution_count": 28,
   "id": "3daa329f-a0b8-4f94-b688-3b1ac9476cd4",
   "metadata": {},
   "outputs": [
    {
     "data": {
      "text/plain": [
       "'Mrs. peach'"
      ]
     },
     "execution_count": 28,
     "metadata": {},
     "output_type": "execute_result"
    }
   ],
   "source": [
    "peach = Female('peach')\n",
    "peach.name"
   ]
  },
  {
   "cell_type": "markdown",
   "id": "8d0e0799-d721-407c-ab75-0251d5bf8ff1",
   "metadata": {},
   "source": [
    "<br><br>\n",
    "# **다중 상속**"
   ]
  },
  {
   "cell_type": "markdown",
   "id": "67774b1c-0b25-4487-bc1f-91f0628232c8",
   "metadata": {},
   "source": [
    "### **# Method Resolution Order (MRO)**\n",
    "\n",
    "- 오버라이딩 했을 때 누구 것을 상속받을 것인지\n",
    "\n",
    "- Animal <- Horse <- Donkey\n",
    "    - Mule (Horse < Donkey)\n",
    "    - Hinny (Horse > Donkey)"
   ]
  },
  {
   "cell_type": "code",
   "execution_count": 31,
   "id": "9cdd46cc-8201-4ddd-bee4-d14775ef1f2e",
   "metadata": {},
   "outputs": [],
   "source": [
    "class Animal:\n",
    "    def says(self):\n",
    "        return '동물이 운다.'\n",
    "\n",
    "# -------------------- 자식\n",
    "class Horse(Animal):\n",
    "    def says(self):\n",
    "        return '히히힝'\n",
    "    \n",
    "class Donkey(Animal):\n",
    "    def says(self):\n",
    "        return '히이호'\n",
    "\n",
    "# --------------------- 손주\n",
    "class Mule(Donkey, Horse):\n",
    "    pass\n",
    "\n",
    "class Hinny(Horse, Donkey):\n",
    "    pass"
   ]
  },
  {
   "cell_type": "code",
   "execution_count": 32,
   "id": "d010ee5b-e41d-4f48-a72c-19e1a4034d4c",
   "metadata": {},
   "outputs": [
    {
     "data": {
      "text/plain": [
       "'히이호'"
      ]
     },
     "execution_count": 32,
     "metadata": {},
     "output_type": "execute_result"
    }
   ],
   "source": [
    "Mule().says()"
   ]
  },
  {
   "cell_type": "code",
   "execution_count": 33,
   "id": "46a780a9-7092-4f4c-8b9f-52c7c687254f",
   "metadata": {},
   "outputs": [
    {
     "data": {
      "text/plain": [
       "'히히힝'"
      ]
     },
     "execution_count": 33,
     "metadata": {},
     "output_type": "execute_result"
    }
   ],
   "source": [
    "Hinny().says()"
   ]
  },
  {
   "cell_type": "code",
   "execution_count": 37,
   "id": "f8088047-73a7-4d60-b142-9c609032401e",
   "metadata": {},
   "outputs": [
    {
     "data": {
      "text/plain": [
       "[__main__.Hinny, __main__.Horse, __main__.Donkey, __main__.Animal, object]"
      ]
     },
     "execution_count": 37,
     "metadata": {},
     "output_type": "execute_result"
    }
   ],
   "source": [
    "Hinny.mro() # 메서드의 결정 순서가 나타난다."
   ]
  },
  {
   "cell_type": "markdown",
   "id": "835fdde4-0502-4cc5-9d30-ced90e451517",
   "metadata": {},
   "source": [
    "<br><br>\n",
    "# **다형성**\n",
    "- 형태가 다른데 기능이 같다는 뜻. \n",
    "    - `.says()`\n",
    "\n",
    "\n",
    "- 객체가 다른데도 같은 메소드를 가지고 있으면 같은 기능을 수행할 수 있다."
   ]
  },
  {
   "cell_type": "code",
   "execution_count": 38,
   "id": "04bccef6-fdfa-463e-a525-593e95f6d8ae",
   "metadata": {},
   "outputs": [
    {
     "name": "stdout",
     "output_type": "stream",
     "text": [
      "동물이 운다.\n",
      "히히힝\n",
      "히이호\n"
     ]
    }
   ],
   "source": [
    "for animal in [Animal(), Horse(), Mule()]:\n",
    "    print(animal.says())"
   ]
  },
  {
   "cell_type": "markdown",
   "id": "8a69abc9-29b6-4b25-b310-757d5fabc627",
   "metadata": {},
   "source": [
    "<br><br>\n",
    "# **Method**"
   ]
  },
  {
   "cell_type": "markdown",
   "id": "13f4074b-9198-4e5d-99a6-866bd4e03954",
   "metadata": {},
   "source": [
    "### **# 인스턴스 메서드**\n",
    "- self가 1번 인자\n",
    "\n",
    "- 객체 생성 -> 사용 가능"
   ]
  },
  {
   "cell_type": "code",
   "execution_count": 40,
   "id": "e6ceb701-b6db-4644-83d5-a4c67e7cbcf9",
   "metadata": {},
   "outputs": [
    {
     "data": {
      "text/plain": [
       "'히이호'"
      ]
     },
     "execution_count": 40,
     "metadata": {},
     "output_type": "execute_result"
    }
   ],
   "source": [
    "a = Mule() # 객체 생성\n",
    "a.says()"
   ]
  },
  {
   "cell_type": "markdown",
   "id": "aa2cb80b-5564-4daf-b008-d7f8e0c2ef92",
   "metadata": {
    "tags": []
   },
   "source": [
    "ㅤ        \n",
    "### **# 클래스 메서드**\n",
    "- 객체 생성하지 않아도 사용이 가능하다\n",
    "\n",
    "- 인스턴스 접근 x,  \n",
    "  클래스에 접근하는 메서드 O\n",
    "- @classmethod, cls\n",
    "- 예약어: cls\n",
    "- 함수(cls) 가 첫 인자\n",
    "- class Person / cls == Person"
   ]
  },
  {
   "cell_type": "code",
   "execution_count": 72,
   "id": "d02a35af-7d9d-4e9b-8e34-3d3b6f2cb8a6",
   "metadata": {},
   "outputs": [],
   "source": [
    "# 인스턴스 변수\n",
    "\n",
    "class A:\n",
    "    cnt = 0 # 인스턴스의 변수가 아니다.\n",
    "    \n",
    "    # def move(self):   (X)\n",
    "    #     return A.cnt\n",
    "    \n",
    "    @classmethod\n",
    "    def move(cls): # 클래스 자체에 접근\n",
    "        return cls.cnt"
   ]
  },
  {
   "cell_type": "code",
   "execution_count": 54,
   "id": "93368e1e-d5d9-4d0e-b9c3-90610a73203f",
   "metadata": {},
   "outputs": [
    {
     "data": {
      "text/plain": [
       "0"
      ]
     },
     "execution_count": 54,
     "metadata": {},
     "output_type": "execute_result"
    }
   ],
   "source": [
    "A().move()"
   ]
  },
  {
   "cell_type": "markdown",
   "id": "6e17d52f-1ba3-46f0-96a1-b8f0f1600d04",
   "metadata": {},
   "source": [
    " \n",
    " "
   ]
  },
  {
   "cell_type": "code",
   "execution_count": 59,
   "id": "f14d7da4-19b4-4dca-a426-f10dc7efb61b",
   "metadata": {},
   "outputs": [],
   "source": [
    "# 튜플로 인자를 받아서 객체 생성\n",
    "\n",
    "class Person:\n",
    "    def __init__(self, name, age): # p -> self\n",
    "        self.name = name\n",
    "        self.age = age\n",
    "    \n",
    "    @classmethod\n",
    "    def tuple_object(cls, args): # cls -> Person\n",
    "        return cls(args[0], args[1]) # Person()"
   ]
  },
  {
   "cell_type": "code",
   "execution_count": 71,
   "id": "25e75f69-355f-4405-a28d-f3568f93a2d7",
   "metadata": {},
   "outputs": [
    {
     "data": {
      "text/plain": [
       "('kim', 24)"
      ]
     },
     "execution_count": 71,
     "metadata": {},
     "output_type": "execute_result"
    }
   ],
   "source": [
    "name = 'kim'\n",
    "age = 24\n",
    "\n",
    "info = name, age\n",
    "p = Person.tuple_object(info)\n",
    "\n",
    "p.name, p.age"
   ]
  },
  {
   "cell_type": "markdown",
   "id": "f3bf6579-d9b5-4914-9e4b-727e8d3e6f9b",
   "metadata": {},
   "source": [
    " \n",
    " "
   ]
  },
  {
   "cell_type": "code",
   "execution_count": 76,
   "id": "de487ff0-801d-418b-8c73-e768246e2e40",
   "metadata": {},
   "outputs": [
    {
     "data": {
      "text/plain": [
       "'객체 수: 4'"
      ]
     },
     "execution_count": 76,
     "metadata": {},
     "output_type": "execute_result"
    }
   ],
   "source": [
    "# 붕어빵 몇 개?\n",
    "\n",
    "class A:\n",
    "    cnt = 0 # 아무리 객체를 만들어도 변하지 않는 값\n",
    "    \n",
    "    def __init__(self):\n",
    "        A.cnt += 1\n",
    "        \n",
    "    @classmethod\n",
    "    def count(cls):\n",
    "        return f'객체 수: {cls.cnt}'\n",
    "    \n",
    "A()\n",
    "A()\n",
    "A()\n",
    "A().count() # 4"
   ]
  },
  {
   "cell_type": "markdown",
   "id": "ff4f85b0-ef0d-4d60-9277-4c748e2d6751",
   "metadata": {},
   "source": [
    "ㅤ        \n",
    "### **# 정적 메서드**\n",
    "- 객체 생성하지 않고 접근 가능\n",
    "\n",
    "- 클래스랑 상관이 없기 때문에 접근 가능한 것\n",
    "- 내용, 기능이 비슷해서 클래스 내에 묶어 둠\n",
    "- self 사용 X -> 속성 보기 불가"
   ]
  },
  {
   "cell_type": "code",
   "execution_count": 83,
   "id": "09d58b7b-9316-4fdb-8024-6e36b12a389b",
   "metadata": {},
   "outputs": [],
   "source": [
    "class Coyote:\n",
    "    @staticmethod\n",
    "    def says():        # self를 쓰지 않는다  ... 딕셔너리에 변수 저장하는 것과 비슷\n",
    "        print('hi')"
   ]
  },
  {
   "cell_type": "code",
   "execution_count": 84,
   "id": "96325dc8-14f0-4e02-a214-3a63ee1a7580",
   "metadata": {},
   "outputs": [
    {
     "name": "stdout",
     "output_type": "stream",
     "text": [
      "hi\n"
     ]
    }
   ],
   "source": [
    "Coyote.says()"
   ]
  },
  {
   "cell_type": "markdown",
   "id": "d5995fd4-7007-419f-b29a-e270760cfc7a",
   "metadata": {},
   "source": [
    "ㅤ        \n",
    "### **# 추상 메서드**\n",
    "- 추상 클래스: abstract  \n",
    "- 이름만 존재하는 클래스\n",
    "\n",
    "- 설계도 역할\n",
    "- 상속하는 자식 클래스 => 반드시 구현해야 하는 메소드를 정의한다.\n",
    "    - 재정의 해주지 않으면 오류를 출력한다"
   ]
  },
  {
   "cell_type": "code",
   "execution_count": 98,
   "id": "b882ecd4-8256-49e2-a20f-ba8a0cbc276e",
   "metadata": {},
   "outputs": [],
   "source": [
    "from abc import * \n",
    "\n",
    "class Vehicle(metaclass=ABCMeta): # 추상 클래스 설정하는 방법\n",
    "    speed = '속도'\n",
    "    \n",
    "    @abstractmethod  # 꼭 들어있어야할 메서드, 자식 메서드가 오버라이드해야 함.\n",
    "    def go(self):\n",
    "        print('탈 것이 간다.') # 보통은 pass를 넣는다.\n",
    "    \n",
    "    def stop(self):\n",
    "        pass\n",
    "\n",
    "class Car(Vehicle):\n",
    "    def go(self): # 필수적으로 go를 재정의해야 한다.\n",
    "        print(\"vroom\")"
   ]
  },
  {
   "cell_type": "code",
   "execution_count": 95,
   "id": "56adb66d-fc92-44c5-b004-09846aedac26",
   "metadata": {},
   "outputs": [
    {
     "name": "stdout",
     "output_type": "stream",
     "text": [
      "vroom\n"
     ]
    }
   ],
   "source": [
    "c = Car()\n",
    "c.go()"
   ]
  },
  {
   "cell_type": "markdown",
   "id": "3ffa731a-4d16-427d-bb5c-d1e607e9d808",
   "metadata": {},
   "source": [
    "---"
   ]
  },
  {
   "cell_type": "markdown",
   "id": "359ddc28-1ae4-4fd5-922b-7afde70e6a79",
   "metadata": {},
   "source": [
    "  \n",
    "  "
   ]
  },
  {
   "cell_type": "markdown",
   "id": "6d4215d6-90cc-49d5-b096-373be351e8ae",
   "metadata": {},
   "source": [
    "ㅤ        \n",
    "### **# 매직 메서드**\n",
    "- 앞뒤로 긴줄이 있는 메서드들 `__이름___`\n",
    "\n",
    "- object 클래스 메서드 재정의\n",
    "\n",
    "- `__str__`\n",
    "    - 인스턴스를 스트링으로 출력\n",
    "ㅤ          \n",
    "ㅤ        \n",
    "- `__repr__`\n",
    "    - 사용자가 이해할 수 있게 객체를 출력"
   ]
  },
  {
   "cell_type": "code",
   "execution_count": 103,
   "id": "f27f567f-cd14-49ff-b855-e19b9999507b",
   "metadata": {},
   "outputs": [],
   "source": [
    "# 사용자가 이해하기 힘들게 출력이 된다.\n",
    "\n",
    "class Mango:\n",
    "    def __init__(self, taste):\n",
    "        self.taste = taste"
   ]
  },
  {
   "cell_type": "code",
   "execution_count": 104,
   "id": "a95bad36-8248-41e0-83dd-108cb95633fd",
   "metadata": {},
   "outputs": [
    {
     "data": {
      "text/plain": [
       "<__main__.Mango at 0x209cdce5460>"
      ]
     },
     "execution_count": 104,
     "metadata": {},
     "output_type": "execute_result"
    }
   ],
   "source": [
    "m1 = Mango('sweet')\n",
    "m1"
   ]
  },
  {
   "cell_type": "markdown",
   "id": "1143aacc-1fa7-420c-b61c-f4f96bccc762",
   "metadata": {},
   "source": [
    " \n",
    " "
   ]
  },
  {
   "cell_type": "code",
   "execution_count": 108,
   "id": "7c14e16c-0f52-4b3b-8a79-c0914852ca64",
   "metadata": {},
   "outputs": [],
   "source": [
    "# 매직 메서드를 이용해보기\n",
    "\n",
    "class Mango:\n",
    "    def __init__(self, taste):\n",
    "        self.taste = taste\n",
    "        \n",
    "    def __str__(self):\n",
    "        return self.taste\n",
    "    \n",
    "    def __repr__(self):\n",
    "        return f'This Mango is {self.taste}'"
   ]
  },
  {
   "cell_type": "code",
   "execution_count": 107,
   "id": "e6875dfc-d7c3-4d45-9d3b-28695e118f3e",
   "metadata": {},
   "outputs": [
    {
     "data": {
      "text/plain": [
       "This Mango is bitter"
      ]
     },
     "execution_count": 107,
     "metadata": {},
     "output_type": "execute_result"
    }
   ],
   "source": [
    "m1 = Mango('bitter')\n",
    "m1"
   ]
  },
  {
   "cell_type": "markdown",
   "id": "d167f68a-83f1-4502-9b45-1f971b3dd943",
   "metadata": {
    "tags": []
   },
   "source": [
    "<br><br>\n",
    "# **namedtuple, dataclass**"
   ]
  },
  {
   "cell_type": "markdown",
   "id": "22c9254b-a469-470a-b685-6edb6d74392c",
   "metadata": {},
   "source": [
    "### **# namedtuple**"
   ]
  },
  {
   "cell_type": "markdown",
   "id": "e5184961-872d-4ad0-a33b-a9cbfda32f10",
   "metadata": {},
   "source": [
    "- 변수만 있는 클래스 설정할 때 효율적으로 사용하는 수단\n",
    "\n",
    "- 딕셔너리 키와 유사한 기능\n",
    "    - 메모리 사용이 덜하다.  \n",
    "    - 인덱스, 이름으로 접근\n",
    "ㅤ      \n",
    "ㅤ      \n",
    "- 불변 객체"
   ]
  },
  {
   "cell_type": "code",
   "execution_count": 114,
   "id": "45dfa4a8-2d2e-478c-96d8-e73ca8595a35",
   "metadata": {},
   "outputs": [
    {
     "data": {
      "text/plain": [
       "('Mango', 'sweet')"
      ]
     },
     "execution_count": 114,
     "metadata": {},
     "output_type": "execute_result"
    }
   ],
   "source": [
    "from collections import namedtuple\n",
    "\n",
    "Fruit = namedtuple('Fruit', 'name taste')\n",
    "a = Fruit('Mango', 'sweet')\n",
    "a.name, a.taste"
   ]
  },
  {
   "cell_type": "code",
   "execution_count": 115,
   "id": "ff221334-38c3-468a-ac62-341399f286ee",
   "metadata": {},
   "outputs": [
    {
     "data": {
      "text/plain": [
       "('Orange', 'sweet')"
      ]
     },
     "execution_count": 115,
     "metadata": {},
     "output_type": "execute_result"
    }
   ],
   "source": [
    "A = a._replace(name = 'Orange')\n",
    "A.name, A.taste"
   ]
  },
  {
   "cell_type": "markdown",
   "id": "727fa718-234e-4f41-abf4-3d39d4910d05",
   "metadata": {},
   "source": [
    "ㅤ      \n",
    "### **# namedtuple**\n",
    "- init, repr와 같은 메소드를 자동으로 생성"
   ]
  },
  {
   "cell_type": "code",
   "execution_count": 118,
   "id": "dea1c96d-2bcf-4b27-b59c-e62492d67969",
   "metadata": {},
   "outputs": [],
   "source": [
    "from dataclasses import dataclass\n",
    "\n",
    "@dataclass\n",
    "class Game:\n",
    "    title: str\n",
    "    releaseYear: int\n",
    "    "
   ]
  },
  {
   "cell_type": "code",
   "execution_count": 119,
   "id": "815bda51-4203-4944-bc01-51fb942fb77c",
   "metadata": {},
   "outputs": [
    {
     "data": {
      "text/plain": [
       "('Zelda', 1986)"
      ]
     },
     "execution_count": 119,
     "metadata": {},
     "output_type": "execute_result"
    }
   ],
   "source": [
    "z = Game('Zelda', 1986)\n",
    "z.title, z.releaseYear"
   ]
  }
 ],
 "metadata": {
  "kernelspec": {
   "display_name": "Python 3 (ipykernel)",
   "language": "python",
   "name": "python3"
  },
  "language_info": {
   "codemirror_mode": {
    "name": "ipython",
    "version": 3
   },
   "file_extension": ".py",
   "mimetype": "text/x-python",
   "name": "python",
   "nbconvert_exporter": "python",
   "pygments_lexer": "ipython3",
   "version": "3.9.7"
  }
 },
 "nbformat": 4,
 "nbformat_minor": 5
}
