{
 "cells": [
  {
   "cell_type": "markdown",
   "id": "858d56dc-ba22-42df-9eb2-fc1e4a92b017",
   "metadata": {},
   "source": [
    "# Week 14"
   ]
  },
  {
   "cell_type": "markdown",
   "id": "3ae6b0ea-e81a-47dd-9528-9188773cecf4",
   "metadata": {},
   "source": [
    "---"
   ]
  },
  {
   "cell_type": "markdown",
   "id": "c373f0ee-f3f0-4468-83b8-2d511c0fb946",
   "metadata": {},
   "source": [
    "ㅤ      \n",
    "# **함수 II**\n",
    "- 일급 객체\n",
    "- 중첩 함수\n",
    "- 익명 함수\n",
    "- 제너레이터\n",
    "- 재귀 함수"
   ]
  },
  {
   "cell_type": "markdown",
   "id": "e0a9a63d-35c1-4221-9591-abc0e039434a",
   "metadata": {},
   "source": [
    " "
   ]
  },
  {
   "cell_type": "markdown",
   "id": "9dca6edf-8db5-4c58-a83d-15b522ae167f",
   "metadata": {},
   "source": [
    "## **1. 일급 객체**\n",
    "- fist class object, first class citizen\n",
    "\n",
    "- 파이썬에서는 함수도 일급 객체다.\n",
    "- 일급 객체의 조건:\n",
    "    1. 함수의 인자로 전달된다.  \n",
    "        def fx(func)\n",
    "\n",
    "    2. 함수의 반환값이 된다.  \n",
    "        def fx(func):\n",
    "            return func\n",
    "            \n",
    "    3. 수정, 할당이 된다.  \n",
    "        var = fx()"
   ]
  },
  {
   "cell_type": "markdown",
   "id": "fa29530f-0f12-4ddb-8482-91ba10a33f0e",
   "metadata": {},
   "source": [
    "### **# 함수를 인자로 전달**"
   ]
  },
  {
   "cell_type": "code",
   "execution_count": 6,
   "id": "9193a44b-6867-4050-9701-fb32c9940e7f",
   "metadata": {},
   "outputs": [
    {
     "name": "stdout",
     "output_type": "stream",
     "text": [
      "100\n"
     ]
    }
   ],
   "source": [
    "def answer():\n",
    "    print(100)\n",
    "\n",
    "def run_program(func):\n",
    "    func() # func vs. func() 다르다. (괄호가 있으면 실행을 하라는 뜻)\n",
    "\n",
    "run_program(answer)"
   ]
  },
  {
   "cell_type": "markdown",
   "id": "bdea821f-270a-414e-9d55-5a9d187ef777",
   "metadata": {},
   "source": [
    " \n",
    " "
   ]
  },
  {
   "cell_type": "code",
   "execution_count": 15,
   "id": "04639406-ae67-4e20-8bae-4844d0482391",
   "metadata": {},
   "outputs": [
    {
     "name": "stdout",
     "output_type": "stream",
     "text": [
      "8\n"
     ]
    }
   ],
   "source": [
    "def add_args(arg1, arg2):\n",
    "    print(arg1 + arg2)\n",
    "\n",
    "def run_sth2(func, *args):\n",
    "    func(*args)\n",
    "\n",
    "run_sth2(add_args, 3, 5)"
   ]
  },
  {
   "cell_type": "code",
   "execution_count": 13,
   "id": "48e79497-57a4-417b-9d76-9834a1f6e020",
   "metadata": {},
   "outputs": [
    {
     "name": "stdout",
     "output_type": "stream",
     "text": [
      "15\n"
     ]
    }
   ],
   "source": [
    "# sum으로 해보기\n",
    "\n",
    "def add_args(*args):\n",
    "    print(sum(args))\n",
    "\n",
    "def run_sth2(func, *args):\n",
    "    func(*args)\n",
    "\n",
    "run_sth2(add_args, 5, 10)"
   ]
  },
  {
   "cell_type": "markdown",
   "id": "bee06efc-95d4-4741-97a5-885505e1e0ba",
   "metadata": {},
   "source": [
    "<br><br>\n",
    "## **2. 중첩 함수**\n",
    "\n",
    "- 함수 내에서 또 다른 함수를 정의하는 것\n",
    "\n",
    "- 내부 함수 캡슐화\n",
    "    - 메모리 절약\n",
    "    - 변수가 섞여서 불필요하게 충돌하는 것을 방지.\n",
    "    - 목적에 맞게 변수를 그룹화할 수 있다. (관리, 책임 명확)"
   ]
  },
  {
   "cell_type": "code",
   "execution_count": 16,
   "id": "54a00d86-af43-460d-bdff-f73dc114923d",
   "metadata": {},
   "outputs": [
    {
     "data": {
      "text/plain": [
       "2"
      ]
     },
     "execution_count": 16,
     "metadata": {},
     "output_type": "execute_result"
    }
   ],
   "source": [
    "def outer(a, b): # 외부 함수\n",
    "    def inner(c, d): # 내부 함수\n",
    "        return c + d\n",
    "    return inner(a, b)\n",
    "\n",
    "outer(1, 1)"
   ]
  },
  {
   "cell_type": "markdown",
   "id": "bb53beda-d0b8-4476-b3cb-c0ff78ca525b",
   "metadata": {},
   "source": [
    "ㅤ      \n",
    "### **# 접근**\n",
    "- 내부 함수는 외부 함수의 인자를 참조할 수 있다.\n",
    "\n",
    "- 단, 수정/활용은 불가"
   ]
  },
  {
   "cell_type": "code",
   "execution_count": 18,
   "id": "e853cb86-80aa-4653-b2de-1955b19c675f",
   "metadata": {},
   "outputs": [
    {
     "ename": "NameError",
     "evalue": "name 'inner' is not defined",
     "output_type": "error",
     "traceback": [
      "\u001b[1;31m---------------------------------------------------------------------------\u001b[0m",
      "\u001b[1;31mNameError\u001b[0m                                 Traceback (most recent call last)",
      "Input \u001b[1;32mIn [18]\u001b[0m, in \u001b[0;36m<cell line: 1>\u001b[1;34m()\u001b[0m\n\u001b[1;32m----> 1\u001b[0m \u001b[43minner\u001b[49m(\u001b[38;5;241m1\u001b[39m, \u001b[38;5;241m1\u001b[39m)\n",
      "\u001b[1;31mNameError\u001b[0m: name 'inner' is not defined"
     ]
    }
   ],
   "source": [
    "inner(1, 1) # 외부에서 접근이 불가."
   ]
  },
  {
   "cell_type": "code",
   "execution_count": 60,
   "id": "464552f6-1112-4e11-a8c5-60c216c6890e",
   "metadata": {},
   "outputs": [
    {
     "name": "stdout",
     "output_type": "stream",
     "text": [
      "We are the knights who say: behold my sword\n",
      "We are the knights who say: 안녕하세요\n"
     ]
    }
   ],
   "source": [
    "def knight(saying):\n",
    "    def inner():\n",
    "        return f'We are the knights who say: {saying}' # saying - 외부 함수의 인자를 참조할 수 있다.\n",
    "    return inner # 괄호가 없다는 것은 함수의 실행값을 반환 x, 함수 자체를 반환한다.\n",
    "\n",
    "a = knight('behold my sword')\n",
    "b = knight('안녕하세요')\n",
    "\n",
    "print(a())\n",
    "print(b())"
   ]
  },
  {
   "cell_type": "markdown",
   "id": "89f0f204-d70c-4adf-8404-829b65e3cdf0",
   "metadata": {},
   "source": [
    "ㅤ      \n",
    "### **# closure**\n",
    "\n",
    "1. 중첩 함수일 것  \n",
    "\n",
    "2. 내부함수가 외부함수의 상태값을 참조할 것  \n",
    "3. 외부함수의 리턴값이 내부함수여야 한다.\n",
    "\n",
    "- 외부 함수의 상태값을 기억하는 함수 (호출 시 사용 가능)"
   ]
  },
  {
   "cell_type": "code",
   "execution_count": 30,
   "id": "3d06ac9d-5c2e-439c-9289-3eb902938210",
   "metadata": {},
   "outputs": [],
   "source": [
    "def multiply(x):\n",
    "    def inner(y): #1.\n",
    "        return x * y #2.\n",
    "    return inner #3."
   ]
  },
  {
   "cell_type": "code",
   "execution_count": 36,
   "id": "9e36b782-88a2-4d70-8fab-c1505008589a",
   "metadata": {},
   "outputs": [
    {
     "data": {
      "text/plain": [
       "(50, 30)"
      ]
     },
     "execution_count": 36,
     "metadata": {},
     "output_type": "execute_result"
    }
   ],
   "source": [
    "m = multiply(5)\n",
    "n = multiply(6)\n",
    "\n",
    "'''\n",
    "m과 n에는 함수가 담긴다.\n",
    "\n",
    "ex) m = inner\n",
    "    def inner(y):\n",
    "        return 5 * y\n",
    "\n",
    "m(10) = inner(10) = 5 * 10 = 50\n",
    "'''\n",
    "\n",
    "m(10), n(5)"
   ]
  },
  {
   "cell_type": "markdown",
   "id": "45e84f14-f9a2-4651-a140-ec0793cee2a9",
   "metadata": {},
   "source": [
    " \n",
    " "
   ]
  },
  {
   "cell_type": "code",
   "execution_count": 37,
   "id": "beab4a41-6c85-46be-8804-1464ca482083",
   "metadata": {},
   "outputs": [],
   "source": [
    "# 원본 함수를 삭제\n",
    "\n",
    "del(multiply)"
   ]
  },
  {
   "cell_type": "code",
   "execution_count": 39,
   "id": "3b771b94-9b44-4a0a-b004-9d1428c6650d",
   "metadata": {},
   "outputs": [
    {
     "ename": "NameError",
     "evalue": "name 'multiply' is not defined",
     "output_type": "error",
     "traceback": [
      "\u001b[1;31m---------------------------------------------------------------------------\u001b[0m",
      "\u001b[1;31mNameError\u001b[0m                                 Traceback (most recent call last)",
      "Input \u001b[1;32mIn [39]\u001b[0m, in \u001b[0;36m<cell line: 3>\u001b[1;34m()\u001b[0m\n\u001b[0;32m      1\u001b[0m \u001b[38;5;66;03m# 원본 함수는 삭제되었으므로 불러올 수 없다.\u001b[39;00m\n\u001b[1;32m----> 3\u001b[0m \u001b[43mmultiply\u001b[49m\n",
      "\u001b[1;31mNameError\u001b[0m: name 'multiply' is not defined"
     ]
    }
   ],
   "source": [
    "# 원본 함수는 삭제되었으므로 불러올 수 없다.\n",
    "\n",
    "multiply"
   ]
  },
  {
   "cell_type": "code",
   "execution_count": 41,
   "id": "0973d340-9a61-4bd9-b2f4-bca5d3869496",
   "metadata": {},
   "outputs": [
    {
     "data": {
      "text/plain": [
       "25"
      ]
     },
     "execution_count": 41,
     "metadata": {},
     "output_type": "execute_result"
    }
   ],
   "source": [
    "# 하지만 개별 객체인 m, n은 지워져있지 않아서 사용 가능\n",
    "\n",
    "m(5)"
   ]
  },
  {
   "cell_type": "markdown",
   "id": "6e312d6d-e2dd-42fb-a40b-9d03967326ae",
   "metadata": {},
   "source": [
    "ㅤ        \n",
    "### # Quiz 1\n",
    "\n",
    "`def add(a, b):`  \n",
    "ㅤ        `return a + b`\n",
    "    \n",
    "중첩함수 square를 만들어 본다.\n",
    "\n",
    "- 결과값의 제곱값을 반환하는 클로저 함수\n",
    "\n",
    "- x = square(add)\n",
    "- add 함수를 인자로 받는다.\n"
   ]
  },
  {
   "cell_type": "code",
   "execution_count": 42,
   "id": "5cf38c95-58b3-4978-8a5d-b90087196809",
   "metadata": {},
   "outputs": [],
   "source": [
    "def add(a, b):\n",
    "    return a + b\n",
    "\n",
    "# 리턴값 * 리턴값\n",
    "def square(func):\n",
    "    def inner(a, b):\n",
    "        x = func(a,b)\n",
    "        return x * x\n",
    "    return inner"
   ]
  },
  {
   "cell_type": "code",
   "execution_count": 58,
   "id": "96ca87b0-b348-47c0-a150-1765711142c0",
   "metadata": {},
   "outputs": [
    {
     "data": {
      "text/plain": [
       "64"
      ]
     },
     "execution_count": 58,
     "metadata": {},
     "output_type": "execute_result"
    }
   ],
   "source": [
    "c = square(add)\n",
    "\n",
    "# c = inner\n",
    "c(3,5)"
   ]
  },
  {
   "cell_type": "markdown",
   "id": "459a468a-9d7b-4bb2-bbee-8a7813f60718",
   "metadata": {},
   "source": [
    "<br><br>\n",
    "## **3. 데코레이터**\n",
    "- 메인 함수에 또 다른 함수를 취해 반환할 수 있게 함.\n",
    "\n",
    "- 재사용성 높음\n",
    "- 가독성, 직관성이 좋다."
   ]
  },
  {
   "cell_type": "code",
   "execution_count": 47,
   "id": "d313b0c0-a857-4ffb-be32-5feac01cce10",
   "metadata": {},
   "outputs": [
    {
     "data": {
      "text/plain": [
       "81"
      ]
     },
     "execution_count": 47,
     "metadata": {},
     "output_type": "execute_result"
    }
   ],
   "source": [
    "def square(func):\n",
    "    def inner(a, b):\n",
    "        x = func(a,b)\n",
    "        return x * x\n",
    "    return inner\n",
    "\n",
    "@square\n",
    "def plus(a, b):\n",
    "    return a + b\n",
    "\n",
    "plus(4, 5)"
   ]
  },
  {
   "cell_type": "markdown",
   "id": "1c98d306-d7f9-41b7-af8c-425f7d313c6d",
   "metadata": {},
   "source": [
    "<br><br>\n",
    "## **4. Scope**\n",
    "- global\n",
    "- local\n",
    "- nonlocal"
   ]
  },
  {
   "cell_type": "code",
   "execution_count": 49,
   "id": "826d0a78-809b-49c9-bb67-63a5a66c48cf",
   "metadata": {},
   "outputs": [],
   "source": [
    "a = 1 # global\n",
    "\n",
    "def add(a, b):\n",
    "    x = 2 # local\n",
    "    return x + a + b"
   ]
  },
  {
   "cell_type": "markdown",
   "id": "e13848ea-7eac-44df-b877-2f9937bb2067",
   "metadata": {},
   "source": [
    " "
   ]
  },
  {
   "cell_type": "markdown",
   "id": "df8689b7-669e-4b80-a6c0-8ed3c4280027",
   "metadata": {},
   "source": [
    "- outer의 인자로 넘긴 값과 관계없이 99를 반환한다."
   ]
  },
  {
   "cell_type": "code",
   "execution_count": 68,
   "id": "396022d0-b599-4d36-b24f-51e29dd94ba5",
   "metadata": {},
   "outputs": [
    {
     "data": {
      "text/plain": [
       "99"
      ]
     },
     "execution_count": 68,
     "metadata": {},
     "output_type": "execute_result"
    }
   ],
   "source": [
    "def outer(c): \n",
    "    def inner():\n",
    "        c = 99\n",
    "        return c\n",
    "    return inner() # inner을 실행한 결과값을 반환\n",
    "\n",
    "outer(1234)"
   ]
  },
  {
   "cell_type": "markdown",
   "id": "7e7d4890-413a-4b2b-82f0-5398811a76f2",
   "metadata": {},
   "source": [
    "ㅤ      \n",
    "### **# nonlocal**"
   ]
  },
  {
   "cell_type": "code",
   "execution_count": 50,
   "id": "17fd3cac-882e-41d8-a841-89d866099b21",
   "metadata": {},
   "outputs": [],
   "source": [
    "def add(a, b):\n",
    "    return a + b\n",
    "\n",
    "def square(func):\n",
    "    # local\n",
    "    def inner(a, b): # nonlocal\n",
    "        x = func(a,b)\n",
    "        return x * x\n",
    "    return inner"
   ]
  },
  {
   "cell_type": "markdown",
   "id": "423af981-c28c-4d08-81fd-8cfb8b9527e6",
   "metadata": {},
   "source": [
    " "
   ]
  },
  {
   "cell_type": "markdown",
   "id": "467b8415-ce0b-43a6-afbd-46d15a825618",
   "metadata": {},
   "source": [
    "- 내부 함수(nonlocal)는 외부함수의 인자를 참조만 할 수 있다."
   ]
  },
  {
   "cell_type": "code",
   "execution_count": 62,
   "id": "51b164d8-ad5b-4bc7-a697-9e7b8ff8bdd2",
   "metadata": {},
   "outputs": [
    {
     "ename": "UnboundLocalError",
     "evalue": "local variable 'c' referenced before assignment",
     "output_type": "error",
     "traceback": [
      "\u001b[1;31m---------------------------------------------------------------------------\u001b[0m",
      "\u001b[1;31mUnboundLocalError\u001b[0m                         Traceback (most recent call last)",
      "Input \u001b[1;32mIn [62]\u001b[0m, in \u001b[0;36m<cell line: 8>\u001b[1;34m()\u001b[0m\n\u001b[0;32m      5\u001b[0m         \u001b[38;5;28;01mreturn\u001b[39;00m c\n\u001b[0;32m      6\u001b[0m     \u001b[38;5;28;01mreturn\u001b[39;00m inner()\n\u001b[1;32m----> 8\u001b[0m \u001b[43mouter\u001b[49m\u001b[43m(\u001b[49m\u001b[38;5;241;43m9\u001b[39;49m\u001b[43m)\u001b[49m\n",
      "Input \u001b[1;32mIn [62]\u001b[0m, in \u001b[0;36mouter\u001b[1;34m(c)\u001b[0m\n\u001b[0;32m      4\u001b[0m     c \u001b[38;5;241m+\u001b[39m\u001b[38;5;241m=\u001b[39m \u001b[38;5;241m1\u001b[39m \u001b[38;5;66;03m# 외부함수의 인자를 변경하려고 하므로 해당 줄 실행 불가\u001b[39;00m\n\u001b[0;32m      5\u001b[0m     \u001b[38;5;28;01mreturn\u001b[39;00m c\n\u001b[1;32m----> 6\u001b[0m \u001b[38;5;28;01mreturn\u001b[39;00m \u001b[43minner\u001b[49m\u001b[43m(\u001b[49m\u001b[43m)\u001b[49m\n",
      "Input \u001b[1;32mIn [62]\u001b[0m, in \u001b[0;36mouter.<locals>.inner\u001b[1;34m()\u001b[0m\n\u001b[0;32m      3\u001b[0m \u001b[38;5;28;01mdef\u001b[39;00m \u001b[38;5;21minner\u001b[39m():\n\u001b[1;32m----> 4\u001b[0m     c \u001b[38;5;241m+\u001b[39m\u001b[38;5;241m=\u001b[39m \u001b[38;5;241m1\u001b[39m \u001b[38;5;66;03m# 외부함수의 인자를 변경하려고 하므로 해당 줄 실행 불가\u001b[39;00m\n\u001b[0;32m      5\u001b[0m     \u001b[38;5;28;01mreturn\u001b[39;00m c\n",
      "\u001b[1;31mUnboundLocalError\u001b[0m: local variable 'c' referenced before assignment"
     ]
    }
   ],
   "source": [
    "def outer(c): # c = 9\n",
    "    b = 5 # local\n",
    "    def inner():\n",
    "        c += 1 # 외부함수의 인자를 변경하려고 하므로 해당 줄 실행 불가\n",
    "        return c\n",
    "    return inner()\n",
    "\n",
    "outer(9)"
   ]
  },
  {
   "cell_type": "markdown",
   "id": "d723f4ef-fb16-476e-b30e-d7ee6ba437ed",
   "metadata": {},
   "source": [
    " "
   ]
  },
  {
   "cell_type": "markdown",
   "id": "eefcc0e3-8fd1-406c-ac45-b069a48b1142",
   "metadata": {},
   "source": [
    "- nonlocal을 선언해서 이렇게 바꿔준다."
   ]
  },
  {
   "cell_type": "code",
   "execution_count": 64,
   "id": "46f7c67f-08a3-4f5d-b545-1fafd359b769",
   "metadata": {},
   "outputs": [
    {
     "data": {
      "text/plain": [
       "10"
      ]
     },
     "execution_count": 64,
     "metadata": {},
     "output_type": "execute_result"
    }
   ],
   "source": [
    "def outer(c): # c = 9\n",
    "    b = 5 # local\n",
    "    def inner():\n",
    "        nonlocal c\n",
    "        c += 1 \n",
    "        return c\n",
    "    return inner()\n",
    "\n",
    "outer(9)"
   ]
  },
  {
   "cell_type": "markdown",
   "id": "bf5e6fbc-74b1-47a9-9f0f-e363fe196efb",
   "metadata": {},
   "source": [
    "ㅤ        \n",
    "### # Quiz 2\n",
    "fx1: speed, limit 내 속도가 제한 속도를 위반하는지 t/f  \n",
    "\n",
    "fx2: 클로저, 초과할 경우 얼마나 초과하는지 프린트하는 함수\n",
    "\n",
    "- 실행은 데코레이터를 얹혀서 첫번째 함수를 실행  "
   ]
  },
  {
   "cell_type": "code",
   "execution_count": 71,
   "id": "fedb3738-168f-45a7-8798-bc9d72c7765b",
   "metadata": {},
   "outputs": [],
   "source": [
    "def violate(func):\n",
    "    def inner(speed, limit):\n",
    "        if func(speed, limit):\n",
    "            print(f'{speed - limit}만큼 속도를 초과하셨습니다.')\n",
    "        else:\n",
    "            print('안정한 속도입니다.')\n",
    "    return inner\n",
    "\n",
    "@violate\n",
    "def is_speeding(speed, limit):\n",
    "    return speed > limit\n"
   ]
  },
  {
   "cell_type": "code",
   "execution_count": 72,
   "id": "f4e2bff3-8754-4089-b9af-67c007384292",
   "metadata": {},
   "outputs": [
    {
     "name": "stdout",
     "output_type": "stream",
     "text": [
      "30만큼 속도를 초과하셨습니다.\n"
     ]
    }
   ],
   "source": [
    "fx1(130, 100)"
   ]
  },
  {
   "cell_type": "markdown",
   "id": "99dec5c0-8593-49ef-b324-02837a46665c",
   "metadata": {},
   "source": [
    "<br><br>\n",
    "## **5. 익명함수 `lambda`**"
   ]
  },
  {
   "cell_type": "markdown",
   "id": "b82caab0-0280-4171-924a-6ca37e25b904",
   "metadata": {},
   "source": [
    "- 이름이 없다.  \n",
    "`def is_speeding()`  \n",
    "ㅤ        `return`\n",
    "\n",
    "- 단순한 용도의 함수가 필요할 경우 사용한다.\n",
    "- 잦은 사용은 권장되지 않음\n",
    "- lambda x: <x를 요리할 코드>"
   ]
  },
  {
   "cell_type": "code",
   "execution_count": 75,
   "id": "e0273762-f8df-4885-9435-fb9dc37fbb7a",
   "metadata": {},
   "outputs": [
    {
     "data": {
      "text/plain": [
       "3"
      ]
     },
     "execution_count": 75,
     "metadata": {},
     "output_type": "execute_result"
    }
   ],
   "source": [
    "# 구현할 코드\n",
    "\n",
    "def add_one(x):\n",
    "    return x + 1\n",
    "add_one(2)"
   ]
  },
  {
   "cell_type": "code",
   "execution_count": 80,
   "id": "ec465281-469f-459a-a006-ad0da488bebd",
   "metadata": {},
   "outputs": [
    {
     "data": {
      "text/plain": [
       "3"
      ]
     },
     "execution_count": 80,
     "metadata": {},
     "output_type": "execute_result"
    }
   ],
   "source": [
    "# 위의 코드와 동일\n",
    "\n",
    "(lambda x: x + 1)(2)"
   ]
  },
  {
   "cell_type": "code",
   "execution_count": 81,
   "id": "f1125e4c-3d3f-4321-a6a9-fb2eaaa4c5aa",
   "metadata": {},
   "outputs": [
    {
     "data": {
      "text/plain": [
       "10"
      ]
     },
     "execution_count": 81,
     "metadata": {},
     "output_type": "execute_result"
    }
   ],
   "source": [
    "# 2개의 인자가 필요할 경우\n",
    "\n",
    "(lambda x, y: x + y)(2, 8)"
   ]
  },
  {
   "cell_type": "markdown",
   "id": "10c924a4-4f61-49f5-8451-8b7ff5968d01",
   "metadata": {},
   "source": [
    "ㅤ        \n",
    "### # Quiz 3\n",
    "- 단어가 들어왔을 때 첫글자 대문자로 바꾸고,  \n",
    "    단어 끝에 !를 붙이도록 람다를 만들자.\n",
    "\n",
    "- ex) hello -> Hello!"
   ]
  },
  {
   "cell_type": "code",
   "execution_count": 83,
   "id": "a8adc8ce-12f9-4527-a21d-53d9d3c90c00",
   "metadata": {},
   "outputs": [
    {
     "data": {
      "text/plain": [
       "'Hello!'"
      ]
     },
     "execution_count": 83,
     "metadata": {},
     "output_type": "execute_result"
    }
   ],
   "source": [
    "f = lambda x: x.capitalize() + '!'\n",
    "\n",
    "f('hello')"
   ]
  },
  {
   "cell_type": "markdown",
   "id": "61bc87fa-dc3a-4694-85da-1f316275d269",
   "metadata": {},
   "source": [
    "<br><br>\n",
    "## **6. 제너레이터**"
   ]
  },
  {
   "cell_type": "markdown",
   "id": "d52b8553-430c-404c-9822-2d827a569d89",
   "metadata": {},
   "source": [
    "- return 대신 `yield` 을 사용\n",
    "\n",
    "- 시퀀스를 순회할 때 그 시퀀스를 생성하는 객체.\n",
    "- 한 번 사용되고 사라진다. => 메모리 효율 좋다."
   ]
  },
  {
   "cell_type": "markdown",
   "id": "919c06fc-599a-4274-87d8-b2b787d898b7",
   "metadata": {},
   "source": [
    "\n",
    "### **# yield 사용**"
   ]
  },
  {
   "cell_type": "code",
   "execution_count": 91,
   "id": "927e2d37-e3f0-4fe6-bd64-75edc27c951d",
   "metadata": {},
   "outputs": [
    {
     "data": {
      "text/plain": [
       "<generator object print_number at 0x0000027D5AE04510>"
      ]
     },
     "execution_count": 91,
     "metadata": {},
     "output_type": "execute_result"
    }
   ],
   "source": [
    "def print_number(num):\n",
    "    for i in range(num):\n",
    "        yield i\n",
    "\n",
    "fx = print_number(5)\n",
    "fx"
   ]
  },
  {
   "cell_type": "code",
   "execution_count": 92,
   "id": "38e054e6-9761-4a14-b778-a74675f43c2d",
   "metadata": {},
   "outputs": [
    {
     "name": "stdout",
     "output_type": "stream",
     "text": [
      "0\n",
      "1\n",
      "2\n",
      "3\n",
      "4\n"
     ]
    }
   ],
   "source": [
    "for i in fx:\n",
    "    print(i)"
   ]
  },
  {
   "cell_type": "code",
   "execution_count": 95,
   "id": "e5afb1c8-c6c1-4e0a-9ce9-c93bbec895a9",
   "metadata": {},
   "outputs": [],
   "source": [
    "# 위의 코드가 더이상 실행되지 않는다.\n",
    "# 한 번 코드를 실행하면 메모리로부터 사라지기 때문이다.\n",
    "\n",
    "for i in fx:\n",
    "    print(i)"
   ]
  },
  {
   "cell_type": "markdown",
   "id": "b3c05913-e60f-43a7-a57c-9175a6f0fffb",
   "metadata": {},
   "source": [
    "ㅤ      \n",
    "### **# 다른 방식**\n",
    "- 괄호 사용 시 제너레이터가 생성된다."
   ]
  },
  {
   "cell_type": "code",
   "execution_count": 101,
   "id": "d2005759-e0e1-4dfa-912e-de77e74728a6",
   "metadata": {},
   "outputs": [],
   "source": [
    "ranger = (i for i in range(5))"
   ]
  },
  {
   "cell_type": "code",
   "execution_count": 103,
   "id": "d842a2f5-6e3b-434e-b3e2-7025425027bf",
   "metadata": {},
   "outputs": [
    {
     "data": {
      "text/plain": [
       "<generator object <genexpr> at 0x0000027D5AE024A0>"
      ]
     },
     "execution_count": 103,
     "metadata": {},
     "output_type": "execute_result"
    }
   ],
   "source": [
    "ranger"
   ]
  },
  {
   "cell_type": "code",
   "execution_count": 102,
   "id": "c0072ec3-24a6-49ab-a386-4c20a68ff429",
   "metadata": {},
   "outputs": [
    {
     "name": "stdout",
     "output_type": "stream",
     "text": [
      "0\n",
      "1\n",
      "2\n",
      "3\n",
      "4\n"
     ]
    }
   ],
   "source": [
    "for i in ranger:\n",
    "    print(i)"
   ]
  },
  {
   "cell_type": "code",
   "execution_count": 105,
   "id": "2472d07e-8140-4e82-98ab-a024b250ee94",
   "metadata": {},
   "outputs": [],
   "source": [
    "for i in ranger:\n",
    "    print(i)"
   ]
  },
  {
   "cell_type": "markdown",
   "id": "ca0b6482-6476-4616-af65-c86b816d1bc9",
   "metadata": {},
   "source": [
    "ㅤ        \n",
    "### # Quiz 4\n",
    "range() 구현하기\n",
    "\n",
    "- 제너레이터 사용  \n",
    "- def my_range(start, end, step):  \n",
    "    yield\n",
    "\n",
    "ranger = my_range(a, b, c)"
   ]
  },
  {
   "cell_type": "code",
   "execution_count": 96,
   "id": "cee29ce4-9fcd-4475-8164-c0a353885c12",
   "metadata": {},
   "outputs": [],
   "source": [
    "def my_range(start, end, step=1):\n",
    "    while start < end:\n",
    "        yield start\n",
    "        start += step"
   ]
  },
  {
   "cell_type": "code",
   "execution_count": 97,
   "id": "cc73770a-e996-4622-8569-e60768fc44eb",
   "metadata": {},
   "outputs": [],
   "source": [
    "ranger = my_range(3,10,2)"
   ]
  },
  {
   "cell_type": "code",
   "execution_count": 98,
   "id": "f76b4d6c-9ff8-4d56-b5d1-0154ef70c494",
   "metadata": {},
   "outputs": [
    {
     "name": "stdout",
     "output_type": "stream",
     "text": [
      "3\n",
      "5\n",
      "7\n",
      "9\n"
     ]
    }
   ],
   "source": [
    "for r in ranger:\n",
    "    print(r)"
   ]
  },
  {
   "cell_type": "code",
   "execution_count": 99,
   "id": "fe7349d7-ec1b-48a3-ade0-9ee8d5e4fd7c",
   "metadata": {},
   "outputs": [],
   "source": [
    "for r in ranger:\n",
    "    print(r)"
   ]
  },
  {
   "cell_type": "markdown",
   "id": "02bb8138-75a5-43eb-9da4-def102addc05",
   "metadata": {},
   "source": [
    "<br><br>\n",
    "## **7. 재귀 함수**"
   ]
  },
  {
   "cell_type": "markdown",
   "id": "202d81f6-2e77-4796-a46e-63609d34da8d",
   "metadata": {},
   "source": [
    "- while loop을 대신하는 용도로는 잘 쓰이지 않는다.\n",
    "\n",
    "- 너무 깊으면 예외가 발생하므로 주의한다.\n",
    "- 자기 자신을 호출하는 함수\n",
    "- 모든 요소의 차원들을 단일화:\n",
    "    - [[1, 2, 3], [[[1, 1]], 4, 5]] -> [1, 2, 3, 1, 1, 4, 5]"
   ]
  },
  {
   "cell_type": "code",
   "execution_count": 122,
   "id": "06b21dd1-c788-4dae-b533-586f3b4aae9e",
   "metadata": {},
   "outputs": [],
   "source": [
    "def flatten(sent):\n",
    "    for word in sent:\n",
    "        \n",
    "        # 만약 현재의 요소가 리스트 타입이라면\n",
    "        if isinstance(word, list):\n",
    "            \n",
    "            # 해당 요소를 다시 flatten 함수 안에 넣는다.\n",
    "            # 1.\n",
    "            for sub_word in flatten(word):\n",
    "                yield sub_word\n",
    "            \n",
    "            # 2.\n",
    "            # yield from flatten(word)\n",
    "        \n",
    "        # 리스트 타입이 아닐 경우\n",
    "        else:\n",
    "            yield word"
   ]
  },
  {
   "cell_type": "code",
   "execution_count": 120,
   "id": "e64f5fc6-8dd6-413c-97ef-8a39ae25e4cd",
   "metadata": {},
   "outputs": [
    {
     "name": "stdout",
     "output_type": "stream",
     "text": [
      "1\n",
      "2\n",
      "3\n",
      "1\n",
      "1\n",
      "4\n",
      "5\n"
     ]
    }
   ],
   "source": [
    "a = [[1, 2, 3], [[[1, 1]], 4, 5]]\n",
    "\n",
    "for i in flatten(a):\n",
    "    print(i)"
   ]
  },
  {
   "cell_type": "markdown",
   "id": "7fa9035b-613b-4986-8a8f-7d4dad036180",
   "metadata": {},
   "source": [
    "<br><br>\n",
    "## **8. 예외 처리**"
   ]
  },
  {
   "cell_type": "markdown",
   "id": "4900b8d6-f3d2-48ef-a203-51ed1a53fe20",
   "metadata": {},
   "source": [
    "ㅤ        \n",
    "exception handling\n",
    "- 목적: 프로그램 정상 종료\n",
    "\n",
    "- 예외 발생 시, 사용자에게 알리고 조치를 취할 수 있다.\n",
    "- 소프트랜딩\n"
   ]
  },
  {
   "cell_type": "markdown",
   "id": "f3aff33d-edbb-492c-a3af-bdb738b8ded5",
   "metadata": {},
   "source": [
    "ㅤ      \n",
    "### **# ZeroDivisionError**"
   ]
  },
  {
   "cell_type": "code",
   "execution_count": 123,
   "id": "4205992d-1e78-4de4-b88c-506514cd33b1",
   "metadata": {},
   "outputs": [
    {
     "ename": "ZeroDivisionError",
     "evalue": "division by zero",
     "output_type": "error",
     "traceback": [
      "\u001b[1;31m---------------------------------------------------------------------------\u001b[0m",
      "\u001b[1;31mZeroDivisionError\u001b[0m                         Traceback (most recent call last)",
      "Input \u001b[1;32mIn [123]\u001b[0m, in \u001b[0;36m<cell line: 1>\u001b[1;34m()\u001b[0m\n\u001b[1;32m----> 1\u001b[0m \u001b[38;5;241;43m10\u001b[39;49m\u001b[43m \u001b[49m\u001b[38;5;241;43m/\u001b[39;49m\u001b[43m \u001b[49m\u001b[38;5;241;43m0\u001b[39;49m\n",
      "\u001b[1;31mZeroDivisionError\u001b[0m: division by zero"
     ]
    }
   ],
   "source": [
    "10 / 0"
   ]
  },
  {
   "cell_type": "markdown",
   "id": "31a950ce-3ff2-4e99-ba29-3bcbc039513b",
   "metadata": {},
   "source": [
    "ㅤ      \n",
    "### **# ValueError**\n",
    "- 형 변환이 불가"
   ]
  },
  {
   "cell_type": "code",
   "execution_count": 124,
   "id": "b14c5084-a0e7-48b3-a38e-a33345472911",
   "metadata": {},
   "outputs": [
    {
     "ename": "ValueError",
     "evalue": "invalid literal for int() with base 10: 'ssss'",
     "output_type": "error",
     "traceback": [
      "\u001b[1;31m---------------------------------------------------------------------------\u001b[0m",
      "\u001b[1;31mValueError\u001b[0m                                Traceback (most recent call last)",
      "Input \u001b[1;32mIn [124]\u001b[0m, in \u001b[0;36m<cell line: 1>\u001b[1;34m()\u001b[0m\n\u001b[1;32m----> 1\u001b[0m \u001b[38;5;28;43mint\u001b[39;49m\u001b[43m(\u001b[49m\u001b[38;5;124;43m'\u001b[39;49m\u001b[38;5;124;43mssss\u001b[39;49m\u001b[38;5;124;43m'\u001b[39;49m\u001b[43m)\u001b[49m\n",
      "\u001b[1;31mValueError\u001b[0m: invalid literal for int() with base 10: 'ssss'"
     ]
    }
   ],
   "source": [
    "int('ssss')"
   ]
  },
  {
   "cell_type": "markdown",
   "id": "5c9de93f-8f82-4f07-9aab-6a7290d4d43f",
   "metadata": {},
   "source": [
    "ㅤ      \n",
    "### **# NameError**\n",
    "- 정의되지 않은 변수를 사용하려 할 때"
   ]
  },
  {
   "cell_type": "code",
   "execution_count": 125,
   "id": "f192e414-554e-466b-a14f-89e15309fb57",
   "metadata": {},
   "outputs": [
    {
     "ename": "NameError",
     "evalue": "name 'hello' is not defined",
     "output_type": "error",
     "traceback": [
      "\u001b[1;31m---------------------------------------------------------------------------\u001b[0m",
      "\u001b[1;31mNameError\u001b[0m                                 Traceback (most recent call last)",
      "Input \u001b[1;32mIn [125]\u001b[0m, in \u001b[0;36m<cell line: 1>\u001b[1;34m()\u001b[0m\n\u001b[1;32m----> 1\u001b[0m hello \u001b[38;5;241m+\u001b[39m\u001b[38;5;241m=\u001b[39m \u001b[38;5;241m1\u001b[39m\n",
      "\u001b[1;31mNameError\u001b[0m: name 'hello' is not defined"
     ]
    }
   ],
   "source": [
    "hello += 1"
   ]
  },
  {
   "cell_type": "markdown",
   "id": "31958048-4bf3-4885-9a2d-5e7640f1965d",
   "metadata": {},
   "source": [
    "ㅤ      \n",
    "### **# SyntaxError**\n",
    "- 올바르지 않은 문법"
   ]
  },
  {
   "cell_type": "code",
   "execution_count": 126,
   "id": "c1456c7e-4e7e-4add-a52f-4d9b93b36296",
   "metadata": {},
   "outputs": [
    {
     "ename": "SyntaxError",
     "evalue": "invalid syntax (1088307380.py, line 1)",
     "output_type": "error",
     "traceback": [
      "\u001b[1;36m  Input \u001b[1;32mIn [126]\u001b[1;36m\u001b[0m\n\u001b[1;33m    ''sssss'[10]\u001b[0m\n\u001b[1;37m      ^\u001b[0m\n\u001b[1;31mSyntaxError\u001b[0m\u001b[1;31m:\u001b[0m invalid syntax\n"
     ]
    }
   ],
   "source": [
    "''sssss'[10]"
   ]
  },
  {
   "cell_type": "markdown",
   "id": "e5504796-c0ec-498a-a03e-73492c9dc117",
   "metadata": {},
   "source": [
    "ㅤ      \n",
    "### **# IndexError**\n",
    "- 범위 밖의 인덱스 접근 시도"
   ]
  },
  {
   "cell_type": "code",
   "execution_count": 129,
   "id": "6c52e34e-1fa0-4013-8def-bc63175e888f",
   "metadata": {},
   "outputs": [
    {
     "ename": "IndexError",
     "evalue": "string index out of range",
     "output_type": "error",
     "traceback": [
      "\u001b[1;31m---------------------------------------------------------------------------\u001b[0m",
      "\u001b[1;31mIndexError\u001b[0m                                Traceback (most recent call last)",
      "Input \u001b[1;32mIn [129]\u001b[0m, in \u001b[0;36m<cell line: 1>\u001b[1;34m()\u001b[0m\n\u001b[1;32m----> 1\u001b[0m \u001b[38;5;124;43m'\u001b[39;49m\u001b[38;5;124;43ms\u001b[39;49m\u001b[38;5;124;43m'\u001b[39;49m\u001b[43m[\u001b[49m\u001b[38;5;241;43m1\u001b[39;49m\u001b[43m]\u001b[49m\n",
      "\u001b[1;31mIndexError\u001b[0m: string index out of range"
     ]
    }
   ],
   "source": [
    "'s'[1]"
   ]
  },
  {
   "cell_type": "markdown",
   "id": "1c9fb3aa-3bde-4e50-b606-770374c68202",
   "metadata": {},
   "source": [
    "<br><br>\n",
    "### **# 8.1. 예외 처리하기:**\n",
    "### **`try`, `except`**"
   ]
  },
  {
   "cell_type": "code",
   "execution_count": 132,
   "id": "e8e995f8-42ff-48e5-bda3-94f8503a9c1b",
   "metadata": {},
   "outputs": [
    {
     "name": "stdout",
     "output_type": "stream",
     "text": [
      "0으로 나눌 수 없음\n"
     ]
    }
   ],
   "source": [
    "try:\n",
    "    # <에러 발생될 법한 코드 블럭>\n",
    "    10 / 0\n",
    "\n",
    "except ZeroDivisionError: # <에러타입>:\n",
    "    #<처리할 방법>\n",
    "    print('0으로 나눌 수 없음')\n"
   ]
  },
  {
   "cell_type": "markdown",
   "id": "33331488-7be7-4f76-b983-cf1720588f6b",
   "metadata": {
    "tags": []
   },
   "source": [
    " "
   ]
  },
  {
   "cell_type": "markdown",
   "id": "86187b49-cc10-401b-95e5-83236d9abc77",
   "metadata": {},
   "source": [
    "- 코드 전체를 try문에 넣는다."
   ]
  },
  {
   "cell_type": "code",
   "execution_count": 141,
   "id": "7b123567-ebc2-4246-bfdc-a1bac91e8f97",
   "metadata": {},
   "outputs": [
    {
     "name": "stdout",
     "output_type": "stream",
     "text": [
      "0으로 나눌 수 없음\n"
     ]
    }
   ],
   "source": [
    "# 에러 발생 시 코드 진행을 멈춘다.\n",
    "\n",
    "try:\n",
    "    for i in range(10):\n",
    "        print(10 / i)\n",
    "\n",
    "except ZeroDivisionError:\n",
    "    print('0으로 나눌 수 없음')"
   ]
  },
  {
   "cell_type": "markdown",
   "id": "a14a0469-88b7-4314-8874-82e1119ed9c7",
   "metadata": {},
   "source": [
    " "
   ]
  },
  {
   "cell_type": "markdown",
   "id": "6cf6b2d7-820e-408e-88f3-6509ecd609e1",
   "metadata": {},
   "source": [
    "- for문 안에서 예외 처리"
   ]
  },
  {
   "cell_type": "code",
   "execution_count": 142,
   "id": "aaf9e94a-88ec-48d9-ba34-02cb9bf59d83",
   "metadata": {},
   "outputs": [
    {
     "name": "stdout",
     "output_type": "stream",
     "text": [
      "!ERROR!\n",
      "10.0\n",
      "5.0\n",
      "3.3333333333333335\n",
      "2.5\n"
     ]
    }
   ],
   "source": [
    "# 에러가 발생해도 나머지 코드는 실행을 계속한다.\n",
    "\n",
    "for i in range(5):\n",
    "    try:\n",
    "        print(10 / i)\n",
    "        \n",
    "    except ZeroDivisionError:\n",
    "        print('!ERROR!')"
   ]
  },
  {
   "cell_type": "markdown",
   "id": "8ca4c09e-1c48-4760-967c-cc308df5865a",
   "metadata": {},
   "source": [
    " "
   ]
  },
  {
   "cell_type": "code",
   "execution_count": 147,
   "id": "d215b69d-8dc4-4140-8281-df8d58302177",
   "metadata": {},
   "outputs": [
    {
     "name": "stdin",
     "output_type": "stream",
     "text": [
      "Insert Index >  3\n"
     ]
    },
    {
     "name": "stdout",
     "output_type": "stream",
     "text": [
      "  * Index Letter: e\n",
      "\n"
     ]
    },
    {
     "name": "stdin",
     "output_type": "stream",
     "text": [
      "Insert Index >  2\n"
     ]
    },
    {
     "name": "stdout",
     "output_type": "stream",
     "text": [
      "  * Index Letter: r\n",
      "\n"
     ]
    },
    {
     "name": "stdin",
     "output_type": "stream",
     "text": [
      "Insert Index >  q\n"
     ]
    }
   ],
   "source": [
    "word = 'tired'\n",
    "\n",
    "while True:\n",
    "    index = input('Insert Index > ')\n",
    "    if index == 'q':\n",
    "        break\n",
    "    try:\n",
    "        print(f'  * Index Letter: {word[int(index)]}\\n')\n",
    "    \n",
    "    except IndexError as e1:\n",
    "        print('index error')\n",
    "        print(e1)\n",
    "    except ValueError as e2:\n",
    "        print('type error')\n",
    "        print(e2)"
   ]
  },
  {
   "cell_type": "markdown",
   "id": "75c2f4b7-a2fa-4bfa-a57d-bf472ce82c2b",
   "metadata": {},
   "source": [
    " ㅤ      \n",
    "### **# 8.2. 예외 일으키기:**\n",
    " ㅤ      \n",
    "어느 시점에 프로그램을 종료시키고 싶을 경우 주로 사용  \n",
    "- `raise <예외 타입> <메시지>`\n",
    "\n",
    "- `assert <참인 조건>, <메시지>`\n"
   ]
  },
  {
   "cell_type": "markdown",
   "id": "79301ea8-76c4-4a88-83b7-9534e26f2cdd",
   "metadata": {},
   "source": [
    " ㅤ      \n",
    "### **# `raise`**"
   ]
  },
  {
   "cell_type": "code",
   "execution_count": 148,
   "id": "05fc4959-1df8-47e5-b124-e597a5caf422",
   "metadata": {},
   "outputs": [],
   "source": [
    "# raise ValueError('print ... ') # 일으키는 느낌"
   ]
  },
  {
   "cell_type": "code",
   "execution_count": 150,
   "id": "fb59ffa2-96d2-4c68-9eb9-0058aec9f48d",
   "metadata": {},
   "outputs": [
    {
     "name": "stdin",
     "output_type": "stream",
     "text": [
      "number>>  3\n"
     ]
    },
    {
     "name": "stdout",
     "output_type": "stream",
     "text": [
      "3\n"
     ]
    },
    {
     "name": "stdin",
     "output_type": "stream",
     "text": [
      "number>>  b\n"
     ]
    },
    {
     "ename": "ValueError",
     "evalue": "숫자가 아닙니다.",
     "output_type": "error",
     "traceback": [
      "\u001b[1;31m---------------------------------------------------------------------------\u001b[0m",
      "\u001b[1;31mValueError\u001b[0m                                Traceback (most recent call last)",
      "Input \u001b[1;32mIn [150]\u001b[0m, in \u001b[0;36m<cell line: 2>\u001b[1;34m()\u001b[0m\n\u001b[0;32m      2\u001b[0m num \u001b[38;5;241m=\u001b[39m \u001b[38;5;28minput\u001b[39m(\u001b[38;5;124m\"\u001b[39m\u001b[38;5;124mnumber>> \u001b[39m\u001b[38;5;124m\"\u001b[39m)\n\u001b[0;32m      3\u001b[0m \u001b[38;5;28;01mif\u001b[39;00m \u001b[38;5;129;01mnot\u001b[39;00m num\u001b[38;5;241m.\u001b[39misdigit():\n\u001b[1;32m----> 4\u001b[0m     \u001b[38;5;28;01mraise\u001b[39;00m \u001b[38;5;167;01mValueError\u001b[39;00m(\u001b[38;5;124m'\u001b[39m\u001b[38;5;124m숫자가 아닙니다.\u001b[39m\u001b[38;5;124m'\u001b[39m)\n\u001b[0;32m      5\u001b[0m \u001b[38;5;28;01melse\u001b[39;00m:\n\u001b[0;32m      6\u001b[0m     \u001b[38;5;28mprint\u001b[39m(num)\n",
      "\u001b[1;31mValueError\u001b[0m: 숫자가 아닙니다."
     ]
    }
   ],
   "source": [
    "while True:\n",
    "    num = input(\"number>> \")\n",
    "    if not num.isdigit():\n",
    "        raise ValueError('숫자가 아닙니다.')\n",
    "    else:\n",
    "        print(num)"
   ]
  },
  {
   "cell_type": "markdown",
   "id": "ce9c9b01-8028-4a1d-9724-132dfd4d8629",
   "metadata": {},
   "source": [
    " ㅤ      \n",
    "### **# `assert`**"
   ]
  },
  {
   "cell_type": "code",
   "execution_count": 151,
   "id": "3df46db3-fb44-4d72-a870-72b4c18cef31",
   "metadata": {},
   "outputs": [],
   "source": [
    "# assert <참인 조건, '예외 메시지'> # AssertionError # 체크의 기능"
   ]
  },
  {
   "cell_type": "code",
   "execution_count": 154,
   "id": "59f3ce7d-2b6f-4970-afc6-a9a0a8d900be",
   "metadata": {},
   "outputs": [
    {
     "ename": "AssertionError",
     "evalue": "정수가 아닙니다.",
     "output_type": "error",
     "traceback": [
      "\u001b[1;31m---------------------------------------------------------------------------\u001b[0m",
      "\u001b[1;31mAssertionError\u001b[0m                            Traceback (most recent call last)",
      "Input \u001b[1;32mIn [154]\u001b[0m, in \u001b[0;36m<cell line: 5>\u001b[1;34m()\u001b[0m\n\u001b[0;32m      2\u001b[0m     \u001b[38;5;28;01massert\u001b[39;00m \u001b[38;5;28misinstance\u001b[39m(num, \u001b[38;5;28mint\u001b[39m), \u001b[38;5;124m'\u001b[39m\u001b[38;5;124m정수가 아닙니다.\u001b[39m\u001b[38;5;124m'\u001b[39m\n\u001b[0;32m      3\u001b[0m     \u001b[38;5;28;01mreturn\u001b[39;00m \u001b[38;5;28mbin\u001b[39m(num)\n\u001b[1;32m----> 5\u001b[0m \u001b[43mget_binary\u001b[49m\u001b[43m(\u001b[49m\u001b[38;5;124;43m'\u001b[39;49m\u001b[38;5;124;43mee\u001b[39;49m\u001b[38;5;124;43m'\u001b[39;49m\u001b[43m)\u001b[49m\n",
      "Input \u001b[1;32mIn [154]\u001b[0m, in \u001b[0;36mget_binary\u001b[1;34m(num)\u001b[0m\n\u001b[0;32m      1\u001b[0m \u001b[38;5;28;01mdef\u001b[39;00m \u001b[38;5;21mget_binary\u001b[39m(num):\n\u001b[1;32m----> 2\u001b[0m     \u001b[38;5;28;01massert\u001b[39;00m \u001b[38;5;28misinstance\u001b[39m(num, \u001b[38;5;28mint\u001b[39m), \u001b[38;5;124m'\u001b[39m\u001b[38;5;124m정수가 아닙니다.\u001b[39m\u001b[38;5;124m'\u001b[39m\n\u001b[0;32m      3\u001b[0m     \u001b[38;5;28;01mreturn\u001b[39;00m \u001b[38;5;28mbin\u001b[39m(num)\n",
      "\u001b[1;31mAssertionError\u001b[0m: 정수가 아닙니다."
     ]
    }
   ],
   "source": [
    "def get_binary(num):\n",
    "    assert isinstance(num, int), '정수가 아닙니다.'\n",
    "    return bin(num)\n",
    "\n",
    "get_binary('ee')"
   ]
  },
  {
   "cell_type": "markdown",
   "id": "2ec05b87-c73f-4a2f-b23c-7d0e80e8f8bb",
   "metadata": {},
   "source": [
    "<br><br>\n",
    "### **# 8.3. 예외 정의하기:**\n",
    "- 사용자 정의 예외  \n",
    "\n",
    "- Exception 이라는 부모 클래스를 상속받는다.\n"
   ]
  },
  {
   "cell_type": "code",
   "execution_count": null,
   "id": "c66408d5-55e2-48b8-9239-3caca0555669",
   "metadata": {},
   "outputs": [],
   "source": [
    "class MyException(Exception):\n",
    "    pass"
   ]
  },
  {
   "cell_type": "markdown",
   "id": "ced6bd67-1b1b-4350-a84b-356c7f105cfd",
   "metadata": {},
   "source": [
    " "
   ]
  },
  {
   "cell_type": "code",
   "execution_count": 157,
   "id": "32fd7cbd-ccb8-4153-ad4c-b7df6faf047f",
   "metadata": {},
   "outputs": [
    {
     "name": "stdout",
     "output_type": "stream",
     "text": [
      "c\n",
      "a\n"
     ]
    },
    {
     "ename": "MyException",
     "evalue": "대문자는 허용되지 않습니다.",
     "output_type": "error",
     "traceback": [
      "\u001b[1;31m---------------------------------------------------------------------------\u001b[0m",
      "\u001b[1;31mMyException\u001b[0m                               Traceback (most recent call last)",
      "Input \u001b[1;32mIn [157]\u001b[0m, in \u001b[0;36m<cell line: 1>\u001b[1;34m()\u001b[0m\n\u001b[0;32m      1\u001b[0m \u001b[38;5;28;01mfor\u001b[39;00m word \u001b[38;5;129;01min\u001b[39;00m [\u001b[38;5;124m'\u001b[39m\u001b[38;5;124mc\u001b[39m\u001b[38;5;124m'\u001b[39m, \u001b[38;5;124m'\u001b[39m\u001b[38;5;124ma\u001b[39m\u001b[38;5;124m'\u001b[39m, \u001b[38;5;124m'\u001b[39m\u001b[38;5;124mT\u001b[39m\u001b[38;5;124m'\u001b[39m]:\n\u001b[0;32m      2\u001b[0m     \u001b[38;5;28;01mif\u001b[39;00m word\u001b[38;5;241m.\u001b[39misupper():\n\u001b[1;32m----> 3\u001b[0m         \u001b[38;5;28;01mraise\u001b[39;00m MyException(\u001b[38;5;124m'\u001b[39m\u001b[38;5;124m대문자는 허용되지 않습니다.\u001b[39m\u001b[38;5;124m'\u001b[39m)\n\u001b[0;32m      4\u001b[0m     \u001b[38;5;28;01melse\u001b[39;00m:\n\u001b[0;32m      5\u001b[0m         \u001b[38;5;28mprint\u001b[39m(word)\n",
      "\u001b[1;31mMyException\u001b[0m: 대문자는 허용되지 않습니다."
     ]
    }
   ],
   "source": [
    "for word in ['c', 'a', 'T']:\n",
    "    if word.isupper():\n",
    "        raise MyException('대문자는 허용되지 않습니다.')\n",
    "    else:\n",
    "        print(word)\n",
    "            "
   ]
  },
  {
   "cell_type": "markdown",
   "id": "934a9024-66c2-433d-a4ba-7eb29aad905c",
   "metadata": {},
   "source": [
    " "
   ]
  },
  {
   "cell_type": "markdown",
   "id": "d314c45e-20c1-4f91-98b8-0cddab51e265",
   "metadata": {},
   "source": [
    "- 에러 메시지를 고정시키고 싶을 경우"
   ]
  },
  {
   "cell_type": "code",
   "execution_count": 162,
   "id": "609fdc4e-ba86-4396-ac09-203d2c4a3c24",
   "metadata": {},
   "outputs": [
    {
     "name": "stdout",
     "output_type": "stream",
     "text": [
      "c\n",
      "a\n"
     ]
    },
    {
     "ename": "UppercaseException",
     "evalue": "대문자는 사용할 수 없습니다.",
     "output_type": "error",
     "traceback": [
      "\u001b[1;31m---------------------------------------------------------------------------\u001b[0m",
      "\u001b[1;31mUppercaseException\u001b[0m                        Traceback (most recent call last)",
      "Input \u001b[1;32mIn [162]\u001b[0m, in \u001b[0;36m<cell line: 8>\u001b[1;34m()\u001b[0m\n\u001b[0;32m      8\u001b[0m \u001b[38;5;28;01mfor\u001b[39;00m word \u001b[38;5;129;01min\u001b[39;00m [\u001b[38;5;124m'\u001b[39m\u001b[38;5;124mc\u001b[39m\u001b[38;5;124m'\u001b[39m, \u001b[38;5;124m'\u001b[39m\u001b[38;5;124ma\u001b[39m\u001b[38;5;124m'\u001b[39m, \u001b[38;5;124m'\u001b[39m\u001b[38;5;124mT\u001b[39m\u001b[38;5;124m'\u001b[39m]:\n\u001b[0;32m      9\u001b[0m     \u001b[38;5;28;01mif\u001b[39;00m word\u001b[38;5;241m.\u001b[39misupper():\n\u001b[1;32m---> 10\u001b[0m         \u001b[38;5;28;01mraise\u001b[39;00m UppercaseException\n\u001b[0;32m     11\u001b[0m     \u001b[38;5;28;01melse\u001b[39;00m:\n\u001b[0;32m     12\u001b[0m         \u001b[38;5;28mprint\u001b[39m(word)\n",
      "\u001b[1;31mUppercaseException\u001b[0m: 대문자는 사용할 수 없습니다."
     ]
    }
   ],
   "source": [
    "class UppercaseException(Exception):\n",
    "    \n",
    "    # 자신을 선언할 경우\n",
    "    def __init__(self):\n",
    "        super().__init__('대문자는 사용할 수 없습니다.')\n",
    "        \n",
    "\n",
    "for word in ['c', 'a', 'T']:\n",
    "    if word.isupper():\n",
    "        raise UppercaseException\n",
    "    else:\n",
    "        print(word)"
   ]
  }
 ],
 "metadata": {
  "kernelspec": {
   "display_name": "Python 3 (ipykernel)",
   "language": "python",
   "name": "python3"
  },
  "language_info": {
   "codemirror_mode": {
    "name": "ipython",
    "version": 3
   },
   "file_extension": ".py",
   "mimetype": "text/x-python",
   "name": "python",
   "nbconvert_exporter": "python",
   "pygments_lexer": "ipython3",
   "version": "3.9.7"
  }
 },
 "nbformat": 4,
 "nbformat_minor": 5
}
