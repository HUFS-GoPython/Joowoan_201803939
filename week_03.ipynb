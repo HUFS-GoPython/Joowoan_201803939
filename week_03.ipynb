{
 "cells": [
  {
   "cell_type": "markdown",
   "id": "175a06cd-ea84-4ee7-bdc5-cdfdbd0dd97d",
   "metadata": {},
   "source": [
    "# Ch04. 조건문"
   ]
  },
  {
   "cell_type": "markdown",
   "id": "4efc70ad-0033-49c1-a9de-29aeb143455c",
   "metadata": {},
   "source": [
    "ㅤ   \n",
    "## 4.1 **중첩조건문** (Nested Conditional)"
   ]
  },
  {
   "cell_type": "markdown",
   "id": "c65d6ce4-84b5-478a-a0ee-cee8b2fcca9c",
   "metadata": {},
   "source": [
    "- 조건문 속에 또 다른 조건문이 존재한다. (if 블록)  \n",
    "\n",
    "- 조건문끼리의 관계(논리)를 구분시킬 때 들여쓰기를 사용한다.\n",
    "\n",
    "- 중첩 조건문이 많아질수록 가독성이 떨어지므로 더 나은 방법이 있다면 지양한다."
   ]
  },
  {
   "cell_type": "code",
   "execution_count": 10,
   "id": "8b60835c-9ad1-4a80-99ac-1ae50c7d914c",
   "metadata": {},
   "outputs": [
    {
     "name": "stdout",
     "output_type": "stream",
     "text": [
      "Block B\n",
      "Block B\n"
     ]
    }
   ],
   "source": [
    "x = 3\n",
    "y = 4\n",
    "\n",
    "# 깔끔하지 않다.\n",
    "if x == y:\n",
    "    print(\"Bloack A\")\n",
    "else:\n",
    "    if x < y:\n",
    "        print(\"Block B\")\n",
    "    else:\n",
    "        print(\"Block C\")\n",
    "\n",
    "        \n",
    "# 깔끔하다!\n",
    "if x == y:\n",
    "    print(\"Block A\")\n",
    "elif x < y:\n",
    "    print(\"Block B\")\n",
    "else:\n",
    "    print(\"Block C\")\n"
   ]
  },
  {
   "cell_type": "markdown",
   "id": "9eb1d3bc-8622-47a0-b04b-3448b9386470",
   "metadata": {},
   "source": [
    "- 0 < x < 10 조건을 이용해서 경우에 따른 코드 작성:"
   ]
  },
  {
   "cell_type": "code",
   "execution_count": 12,
   "id": "c1803934-c581-400e-bebc-bb8f54679957",
   "metadata": {},
   "outputs": [
    {
     "name": "stdout",
     "output_type": "stream",
     "text": [
      "Satisfied\n"
     ]
    }
   ],
   "source": [
    "# 중첩 조건문 이용, 상대적으로 깔끔하지는 않다.\n",
    "if x > 0:\n",
    "    if x < 10:\n",
    "          print('Satisfied')\n",
    "    else:\n",
    "          print('Nope')\n",
    "else:\n",
    "    print('Nope')"
   ]
  },
  {
   "cell_type": "code",
   "execution_count": 14,
   "id": "a6184e95-ee02-485c-a97f-556e08d7dd5d",
   "metadata": {},
   "outputs": [
    {
     "name": "stdout",
     "output_type": "stream",
     "text": [
      "Satisfied\n",
      "Satisfied\n"
     ]
    }
   ],
   "source": [
    "# 논리 연산자 이용, 상대적으로 깔끔하다.\n",
    "\n",
    "# 방법 1.\n",
    "if (x > 0) and (x < 10):\n",
    "    print('Satisfied')\n",
    "else:\n",
    "    print('Nope')\n",
    "          \n",
    "\n",
    "# 방법 2. 파이썬만 가능.\n",
    "if 0 < x < 10: \n",
    "    print('Satisfied')\n",
    "else:\n",
    "    print('Nope')\n"
   ]
  },
  {
   "cell_type": "markdown",
   "id": "1ef4fd25-8d45-4934-a226-db6b748d80a6",
   "metadata": {},
   "source": [
    "<br><br>\n",
    "## 4.2 **논리연산자**"
   ]
  },
  {
   "cell_type": "markdown",
   "id": "eff26372-d2fe-403a-b663-d1410bdf2846",
   "metadata": {},
   "source": [
    "### **# 비교연산자와의 사용**"
   ]
  },
  {
   "cell_type": "markdown",
   "id": "c5049825-01fc-40f4-b8d0-c013380543f7",
   "metadata": {},
   "source": [
    "- 비교 연산자가 여러 번 사용될 때 편리하다.  \n",
    "ex) **and, or, not**\n",
    "\n",
    "    0 < x, x < 10 ㅤ  →ㅤ     0 < x and x < 10\n",
    "\n",
    "    - A and B == A & B  \n",
    "        A, B 모두 참이면 최종 결과는 참.    \n",
    "    ㅤ    \n",
    "    - A or B == A | B  \n",
    "        A, B 둘 중 하나가 참이면 최종 결과는 참.  \n",
    "    ㅤ   \n",
    "        \n",
    "    - not A  \n",
    "        A가 참이면 최종 결과는 거짓. 반대로도 성립.  \n",
    "              ㅤ  \n",
    "\n",
    "- 비교 연산자를 사용할 때 가독성을 위해서 **괄호**를 쓰기도 한다.  \n",
    "ex) (0 < x) and (x < 10)"
   ]
  },
  {
   "cell_type": "code",
   "execution_count": 26,
   "id": "24a3c98e-0ce3-4818-aaca-5b9301770031",
   "metadata": {},
   "outputs": [
    {
     "name": "stdout",
     "output_type": "stream",
     "text": [
      "\"True\" and \"False\" : False\n",
      "\n",
      "\"True\" or \"False\" : True\n",
      "\n",
      "not \"True\": False\n"
     ]
    }
   ],
   "source": [
    "A = True\n",
    "B = False\n",
    "\n",
    "print(f'\"True\" and \"False\" : {A & B}', end='\\n\\n')\n",
    "print(f'\"True\" or \"False\" : {A | B}', end='\\n\\n')\n",
    "print(f'not \"True\": {not A}')\n"
   ]
  },
  {
   "cell_type": "markdown",
   "id": "5b960df5-1351-46e5-879f-5f68abcfb17a",
   "metadata": {},
   "source": [
    "<br><br>\n",
    "## 4.3 **True / False**"
   ]
  },
  {
   "cell_type": "markdown",
   "id": "a557eef1-9a69-4568-95e7-aea4492fe0a5",
   "metadata": {},
   "source": [
    "- 참인지 확인하고 싶을 때,  \n",
    "== 비교연산자는 비교하는 값 그 자체와 비교를 한다."
   ]
  },
  {
   "cell_type": "code",
   "execution_count": 50,
   "id": "cd37a5a0-ecbf-4eb2-b76c-6cebb8c8db5c",
   "metadata": {},
   "outputs": [
    {
     "name": "stdout",
     "output_type": "stream",
     "text": [
      "Yes!\n",
      "Yup!\n",
      "\n"
     ]
    }
   ],
   "source": [
    "a = 10\n",
    "\n",
    "# WRONG\n",
    "if a == True:\n",
    "    print('This will not be printed.')\n",
    "\n",
    "    \n",
    "# CORRECT\n",
    "if bool(a) == True:\n",
    "    print('Yes!')\n",
    "\n",
    "if a:\n",
    "    print('Yup!')\n",
    "\n",
    "print()"
   ]
  },
  {
   "cell_type": "code",
   "execution_count": 57,
   "id": "1c8cf376-a855-49bb-80d2-32e01750b78d",
   "metadata": {},
   "outputs": [
    {
     "name": "stdout",
     "output_type": "stream",
     "text": [
      "False\n",
      "True\n",
      "True\n"
     ]
    }
   ],
   "source": [
    "print(10 == True)\n",
    "\n",
    "print(1 == True)\n",
    "print(0 == False)"
   ]
  },
  {
   "cell_type": "markdown",
   "id": "0a7385d1-603c-42c9-8630-717a6ec19c44",
   "metadata": {
    "tags": []
   },
   "source": [
    "<br><br>\n",
    "## 4.4 **키워드 in**\n"
   ]
  },
  {
   "cell_type": "markdown",
   "id": "2646c02a-f177-4924-979e-317170ef7f9d",
   "metadata": {},
   "source": [
    "- *membership operator*\n",
    "\n",
    "- 요소가 포함되어 있는지 확인하고 싶을 때 사용한다.  \n",
    "ex) A in B == A가 B에 포함되어 있는가?\n",
    "\n",
    "- 비슷한 조건이 여러 번 반복될 때 사용 가능하다.  "
   ]
  },
  {
   "cell_type": "markdown",
   "id": "773de798-ec07-4421-be33-784c99cbb419",
   "metadata": {},
   "source": [
    "### **# 모음, 자음 구분**"
   ]
  },
  {
   "cell_type": "code",
   "execution_count": 74,
   "id": "382db6c5-e3ae-4b52-9514-56e0367fec83",
   "metadata": {},
   "outputs": [
    {
     "name": "stdout",
     "output_type": "stream",
     "text": [
      "자음\n",
      "\n"
     ]
    }
   ],
   "source": [
    "letter = 'z'\n",
    "\n",
    "# if letter == 'a' or letter == 'e' , ... 비슷한 조건이 반복되고 있다.\n",
    "\n",
    "if letter in ['a','e','i','o','u']:\n",
    "    print(\"모음\")\n",
    "else:\n",
    "    print(\"자음\")\n",
    "\n",
    "print()"
   ]
  },
  {
   "cell_type": "markdown",
   "id": "79ccd3f1-ec3f-46c2-b4ff-6c59efef7053",
   "metadata": {},
   "source": [
    "### **# 모음이 있는지 판별**"
   ]
  },
  {
   "cell_type": "code",
   "execution_count": 82,
   "id": "5c8b96ee-e411-4535-a4f0-0a4bcc9a2482",
   "metadata": {},
   "outputs": [
    {
     "name": "stdout",
     "output_type": "stream",
     "text": [
      "ok\n",
      "false\n"
     ]
    }
   ],
   "source": [
    "# 괄호를 안 씌울 시\n",
    "word = 'vv'\n",
    "if 'a' or 'e' or 'i' or 'o' or 'u' in word:\n",
    "    print('ok')\n",
    "else:\n",
    "    print('false')\n",
    "\n",
    "    \n",
    "# 괄호를 씌우자!\n",
    "word = 'vv'\n",
    "if ('a' or 'e' or 'i' or 'o' or 'u') in word:\n",
    "    print('ok')\n",
    "else:\n",
    "    print('false')\n"
   ]
  },
  {
   "cell_type": "markdown",
   "id": "112bcb3c-615f-4683-aa9d-7d855c12930f",
   "metadata": {},
   "source": [
    "<br><br>\n",
    "## 4.5 **Walrus 연산자 :=**"
   ]
  },
  {
   "cell_type": "markdown",
   "id": "9db3a64a-39fb-4f42-a8d6-eb5b76aedb61",
   "metadata": {},
   "source": [
    "- 할당과 테스트를 동시에 할 수 있게 도와주는 연산자이다."
   ]
  },
  {
   "cell_type": "code",
   "execution_count": 10,
   "id": "b30a25a8-81d9-4315-b0c0-dfe69460439b",
   "metadata": {
    "tags": []
   },
   "outputs": [
    {
     "name": "stdout",
     "output_type": "stream",
     "text": [
      "You have 1 space left.\n",
      "You have 1 space left.\n"
     ]
    }
   ],
   "source": [
    "diskDrive = [0,1,1,1]\n",
    "totalSpace = 5\n",
    "\n",
    "# 일반적인 방법\n",
    "leftSpace = totalSpace - len(diskDrive)\n",
    "if leftSpace > 0:\n",
    "    print(f'You have {leftSpace} space left.')\n",
    "else:\n",
    "    print('Space is full!')\n",
    "\n",
    "\n",
    "# Walrus :=\n",
    "if (leftSpace := totalSpace - len(diskDrive)) > 0:  # 괄호를 씌워야지 leftSpace에 값(숫자)가 할당된다. \n",
    "    print(f'You have {leftSpace} space left.')      # 괄호를 안 씌우면 True가 담긴다.\n",
    "else:\n",
    "    print('Space is full!')\n"
   ]
  },
  {
   "cell_type": "markdown",
   "id": "94b9ca26-9df9-42f4-ba88-2df7017e898a",
   "metadata": {},
   "source": [
    "<br><br>\n",
    "# Ch05. String"
   ]
  },
  {
   "cell_type": "markdown",
   "id": "208dc370-af65-4d83-85cd-2b9496d6ec5c",
   "metadata": {},
   "source": [
    "## 5.1 **문자열의 특성**"
   ]
  },
  {
   "cell_type": "markdown",
   "id": "e05b4e57-0b93-4ece-8e6b-2f444356be89",
   "metadata": {},
   "source": [
    "- 시스템에서 가장 작은 단위  \n",
    "\n",
    "- **불변적**인 성격을 가진다."
   ]
  },
  {
   "cell_type": "code",
   "execution_count": 12,
   "id": "925bc2a8-5ec0-4d47-bbad-435d5587aa97",
   "metadata": {},
   "outputs": [
    {
     "ename": "TypeError",
     "evalue": "'str' object does not support item assignment",
     "output_type": "error",
     "traceback": [
      "\u001b[1;31m---------------------------------------------------------------------------\u001b[0m",
      "\u001b[1;31mTypeError\u001b[0m                                 Traceback (most recent call last)",
      "Input \u001b[1;32mIn [12]\u001b[0m, in \u001b[0;36m<cell line: 3>\u001b[1;34m()\u001b[0m\n\u001b[0;32m      1\u001b[0m \u001b[38;5;66;03m# IMMUTABLE\u001b[39;00m\n\u001b[0;32m      2\u001b[0m movieName \u001b[38;5;241m=\u001b[39m \u001b[38;5;124m'\u001b[39m\u001b[38;5;124mSord of the Rings\u001b[39m\u001b[38;5;124m'\u001b[39m\n\u001b[1;32m----> 3\u001b[0m movieName[\u001b[38;5;241m0\u001b[39m] \u001b[38;5;241m=\u001b[39m \u001b[38;5;124m'\u001b[39m\u001b[38;5;124mL\u001b[39m\u001b[38;5;124m'\u001b[39m\n\u001b[0;32m      4\u001b[0m \u001b[38;5;28mprint\u001b[39m(movieName)\n",
      "\u001b[1;31mTypeError\u001b[0m: 'str' object does not support item assignment"
     ]
    }
   ],
   "source": [
    "# IMMUTABLE\n",
    "movieName = 'Sord of the Rings'\n",
    "movieName[0] = 'L'\n",
    "print(movieName)"
   ]
  },
  {
   "cell_type": "markdown",
   "id": "ab2b119f-3b0d-490b-875f-49c5b589d72f",
   "metadata": {},
   "source": [
    "ㅤ     \n",
    "- ''' 또는 \"\"\" 로 감싸면 주석 처리가 된다."
   ]
  },
  {
   "cell_type": "code",
   "execution_count": 14,
   "id": "805ee096-5dd4-45ed-a1da-85d052e28ff3",
   "metadata": {},
   "outputs": [
    {
     "name": "stdout",
     "output_type": "stream",
     "text": [
      "Hello!\n"
     ]
    }
   ],
   "source": [
    "'''\n",
    "This will not be shown.\n",
    "'''\n",
    "print('Hello!')"
   ]
  },
  {
   "cell_type": "markdown",
   "id": "836cf8ee-8b49-4346-9cd9-db85383b24c8",
   "metadata": {},
   "source": [
    "ㅤ     \n",
    "- ' ' 또는 \" \"로 감싸면 문자열로 인식을 한다.  \n",
    "\n",
    "- str()로 형 변환을 할 수 있다."
   ]
  },
  {
   "cell_type": "code",
   "execution_count": 16,
   "id": "7628cae5-b786-4fe6-bc05-8c2c06d02bd6",
   "metadata": {},
   "outputs": [
    {
     "name": "stdout",
     "output_type": "stream",
     "text": [
      "<class 'int'> <class 'str'>\n",
      "<class 'str'>\n"
     ]
    }
   ],
   "source": [
    "a = 10\n",
    "b = '10'\n",
    "print(type(a), type(b))\n",
    "\n",
    "a = str(a)\n",
    "print(type(a))"
   ]
  },
  {
   "cell_type": "markdown",
   "id": "8c3a2492-c937-4004-903e-b2013ba741dd",
   "metadata": {},
   "source": [
    "<br><br>\n",
    "## 5.2 **Escape Sequence**"
   ]
  },
  {
   "cell_type": "markdown",
   "id": "8af1fc38-648a-4736-8c24-7ecdf10d288b",
   "metadata": {},
   "source": [
    "- 특수한 형태의 문자열.  \n",
    "  눈에 보이는 대로 인식되지 않는다.  \n",
    "\n",
    "- 형태: \\문자  \n",
    "    - `\\n` : 다음 줄바꿈 (enter)  \n",
    "\n",
    "    - `\\t` : 탭\n",
    "      \n",
    "    - `\\b` : 백스페이스 \n",
    "      \n",
    "    - `\\'` : 따옴표 출력\n",
    "\n",
    "\n",
    "- 이스케이프 문자를 있는 그대로 출력하고 싶을 때:  \n",
    "  **raw string** 을 사용하자."
   ]
  },
  {
   "cell_type": "code",
   "execution_count": 24,
   "id": "52a877d4-8aeb-43c5-84b2-00ee4d3b53fc",
   "metadata": {},
   "outputs": [
    {
     "name": "stdout",
     "output_type": "stream",
     "text": [
      "ice\\ncream\n",
      "pop\\ncorn\n",
      "\n",
      "next\n",
      "sentence\n"
     ]
    }
   ],
   "source": [
    "# PRINT ESCAPE SEQUENCE\n",
    "# 1. Without raw string\n",
    "sent = 'ice\\\\ncream'\n",
    "print(sent)\n",
    "\n",
    "# 2. With raw string\n",
    "sent = r'pop\\ncorn'\n",
    "print(sent)\n",
    "\n",
    "print()\n",
    "\n",
    "# WITHOUT ANYTHING\n",
    "sent = 'next\\nsentence'\n",
    "print(sent)\n"
   ]
  },
  {
   "cell_type": "markdown",
   "id": "57d2c6a6-64af-4c12-82e9-a19c3f509f78",
   "metadata": {},
   "source": [
    "<br><br>\n",
    "## 5.3 **문자열 연산**"
   ]
  },
  {
   "cell_type": "markdown",
   "id": "711f750b-6b09-432c-976f-0fadbb6d85a1",
   "metadata": {},
   "source": [
    "- String Concatenation\n",
    "    - \"+\" => 공백 없이 결합하는 방법  \n",
    "ㅤ   \n",
    "- 곱하기\n",
    "    - \"*5 => 복제 ( + 연산을 연속으로 해준다.)\n"
   ]
  },
  {
   "cell_type": "code",
   "execution_count": 31,
   "id": "b39607fa-97c6-4737-829a-ff066aa5f954",
   "metadata": {},
   "outputs": [
    {
     "name": "stdout",
     "output_type": "stream",
     "text": [
      "clapclapclap\n",
      "clapclapclap\n",
      "\n",
      "clapclapclapcough\n"
     ]
    }
   ],
   "source": [
    "sound = 'clap'\n",
    "print(sound + sound + sound)   # 공백없이 모두 달라붙는다.\n",
    "print(sound * 3)\n",
    "\n",
    "print()\n",
    "\n",
    "print(sound * 3 + 'cough')    # 곱하기 연산은 + 연산보다 우선순위가 높아 먼저 적용된다."
   ]
  },
  {
   "cell_type": "markdown",
   "id": "39c0079c-89ee-44f4-96b3-ea207529d2f0",
   "metadata": {},
   "source": [
    "<br><br>\n",
    "## 5.4 **Slicing**"
   ]
  },
  {
   "cell_type": "markdown",
   "id": "4d243329-9829-48f9-842b-cf1e0ab4bba4",
   "metadata": {},
   "source": [
    ": 추출하는 것과 유사\n",
    "- 문자열의 일부분을 떼어내는 작업  \n",
    "\n",
    "- [ 대괄호 ] 사용, 그 안에 offset 지정\n",
    "- offset은 0부터 시작한다. 음수도 가능하다.  \n",
    "    0 1 2 3  \n",
    "    j a c k  \n",
    "\\-4ㅤ -1\n",
    "- 형식: [시작:끝:스텝]\n",
    "- 시작은 포함, 끝은 포함하지 않음 (이상 - 미만)\n",
    "    - 시작이 0일 경우 0을 표시 안해도 된다.  \n",
    "    ex) [ :3]  \n",
    "\n",
    "    - 2칸씩 건너뛰고 싶을 경우:  \n",
    "    ex) [ : :2]\n",
    "    \n",
    "    - 거꾸로 출력하고 싶을 경우:  \n",
    "    ex) [ : :-1]"
   ]
  },
  {
   "cell_type": "code",
   "execution_count": 60,
   "id": "bbcb046e-a317-495c-ac78-7389e00a0538",
   "metadata": {},
   "outputs": [
    {
     "name": "stdout",
     "output_type": "stream",
     "text": [
      "Lord of the Rings\n",
      "Total characters: 17\n",
      "\n",
      "the Rings\n",
      "Lr fteRns\n",
      "s\n",
      "sgniR eht fo droL\n"
     ]
    }
   ],
   "source": [
    "movie = 'Lord of the Rings'\n",
    "string_length = len(movie)\n",
    "\n",
    "# 공백도 문자로 판단한다.\n",
    "print(movie)\n",
    "print(f'Total characters: {string_length}', end='\\n\\n')  \n",
    "\n",
    "# 1. 일부분 떼어내기:\n",
    "print(movie[8:])\n",
    "\n",
    "# 2. \n",
    "print(movie[::2])\n",
    "\n",
    "# 3. 음수 인덱스는 문자열 끝에서부터 접근.\n",
    "print(movie[-1])\n",
    "\n",
    "# 4. 거꾸로 출력\n",
    "print(movie[::-1])"
   ]
  },
  {
   "cell_type": "markdown",
   "id": "b72b4891-d2d1-4786-b327-34fa940615c8",
   "metadata": {},
   "source": [
    "<br><br>\n",
    "## 5.5 **NLTK (Natural Language ToolKit)**"
   ]
  },
  {
   "cell_type": "markdown",
   "id": "4e93f0e5-2275-4bc9-97fa-a854064331c1",
   "metadata": {},
   "source": [
    "- 자연어 분석을 위한 자연어처리 패키지  \n",
    "\n",
    "- 자연어 처리를 위한 내장 함수, 기능들이 포함되어 있다.  \n",
    "    ex) 토크나이즈, 파싱, 태킹, ...\n",
    "\n",
    "\n",
    "\n",
    "- 토큰: 프로그래밍의 단어 단위\n",
    "## I'm not a coward.\n",
    "   - I'm / I, 'm / I, am  \n",
    "   → 단어 구분이 애매하진다.  \n",
    "\n",
    "   - 프로그램이 자연어를 어떻게 처리할 것인지 프로그래머가 정의"
   ]
  },
  {
   "cell_type": "markdown",
   "id": "689eb90c-944d-49b7-bb85-979c59f65f69",
   "metadata": {},
   "source": [
    "ㅤ  \n",
    "### **# NLTK 설치 방법**"
   ]
  },
  {
   "cell_type": "markdown",
   "id": "1dd1dbca-1bdd-4610-a5b1-e9866e920f8f",
   "metadata": {
    "tags": []
   },
   "source": [
    "### 1 )"
   ]
  },
  {
   "cell_type": "code",
   "execution_count": 61,
   "id": "958e8f3c-ffb8-4426-b6ca-14ec6547e96d",
   "metadata": {},
   "outputs": [],
   "source": [
    "# !pip install nltk"
   ]
  },
  {
   "cell_type": "markdown",
   "id": "844c3ea9-4734-402a-a62c-54a05df85727",
   "metadata": {
    "tags": []
   },
   "source": [
    "### 2 )"
   ]
  },
  {
   "cell_type": "code",
   "execution_count": null,
   "id": "09d6699e-9250-4309-810a-3c83df8a0b60",
   "metadata": {},
   "outputs": [],
   "source": [
    "import nltk                           # 가져오기\n",
    "nltk.download('book', quiet = True)   # 부분적으로 다운받기"
   ]
  },
  {
   "cell_type": "markdown",
   "id": "e7b27810-bd57-4989-a06b-332627fae7ad",
   "metadata": {},
   "source": [
    "ㅤ    \n",
    "### 3 ) 이제 import가 가능해집니다!"
   ]
  },
  {
   "cell_type": "code",
   "execution_count": 63,
   "id": "6c8a29c4-279e-45bd-834f-70c5cc81634a",
   "metadata": {},
   "outputs": [
    {
     "name": "stdout",
     "output_type": "stream",
     "text": [
      "*** Introductory Examples for the NLTK Book ***\n",
      "Loading text1, ..., text9 and sent1, ..., sent9\n",
      "Type the name of the text or sentence to view it.\n",
      "Type: 'texts()' or 'sents()' to list the materials.\n",
      "text1: Moby Dick by Herman Melville 1851\n",
      "text2: Sense and Sensibility by Jane Austen 1811\n",
      "text3: The Book of Genesis\n",
      "text4: Inaugural Address Corpus\n",
      "text5: Chat Corpus\n",
      "text6: Monty Python and the Holy Grail\n",
      "text7: Wall Street Journal\n",
      "text8: Personals Corpus\n",
      "text9: The Man Who Was Thursday by G . K . Chesterton 1908\n"
     ]
    }
   ],
   "source": [
    "from nltk import book"
   ]
  },
  {
   "cell_type": "markdown",
   "id": "062d7fe1-e550-4502-ab91-0c042d653b54",
   "metadata": {},
   "source": [
    "ㅤ  \n",
    "### **# 토큰 접근방법**"
   ]
  },
  {
   "cell_type": "code",
   "execution_count": 122,
   "id": "f0c7ca11-3e34-4680-baf0-6b2ceb258e66",
   "metadata": {},
   "outputs": [
    {
     "data": {
      "text/plain": [
       "['In',\n",
       " 'the',\n",
       " 'beginning',\n",
       " 'God',\n",
       " 'created',\n",
       " 'the',\n",
       " 'heaven',\n",
       " 'and',\n",
       " 'the',\n",
       " 'earth']"
      ]
     },
     "execution_count": 122,
     "metadata": {},
     "output_type": "execute_result"
    }
   ],
   "source": [
    "genesis = book.text3  # 변수에 따로 담아주고\n",
    "genesis.tokens[:10]   # 10 단어들만 출력"
   ]
  },
  {
   "cell_type": "markdown",
   "id": "ce2bbe0b-190f-40d9-82a7-ef50ae5b7889",
   "metadata": {},
   "source": [
    "ㅤ  \n",
    "### **# 총 단어 개수 구하기**"
   ]
  },
  {
   "cell_type": "code",
   "execution_count": 72,
   "id": "5b853f9f-7233-4659-a9a4-eb1525c662b7",
   "metadata": {},
   "outputs": [
    {
     "data": {
      "text/plain": [
       "44764"
      ]
     },
     "execution_count": 72,
     "metadata": {},
     "output_type": "execute_result"
    }
   ],
   "source": [
    "len(genesis)"
   ]
  },
  {
   "cell_type": "markdown",
   "id": "e6b808c2-ad87-478d-9924-28565b5de9ad",
   "metadata": {},
   "source": [
    "ㅤ  \n",
    "### **# 중복 없이 단어 개수 구하기**"
   ]
  },
  {
   "cell_type": "code",
   "execution_count": 111,
   "id": "c8f37422-c0d7-4c17-a0c1-0526c4020a21",
   "metadata": {},
   "outputs": [
    {
     "data": {
      "text/plain": [
       "2789"
      ]
     },
     "execution_count": 111,
     "metadata": {},
     "output_type": "execute_result"
    }
   ],
   "source": [
    "len(set(genesis))   # list를 set으로 형 변환을 하게 되면 중복을 없애준다."
   ]
  },
  {
   "cell_type": "markdown",
   "id": "30f29f31-68de-4931-9119-3d3469546832",
   "metadata": {},
   "source": [
    "ㅤ  \n",
    "### **# Lexical Diversity**"
   ]
  },
  {
   "cell_type": "code",
   "execution_count": 112,
   "id": "2dbbb2e5-afc2-4944-b6f3-76f4f6adec82",
   "metadata": {},
   "outputs": [
    {
     "data": {
      "text/plain": [
       "0.06230453042623537"
      ]
     },
     "execution_count": 112,
     "metadata": {},
     "output_type": "execute_result"
    }
   ],
   "source": [
    "len(set(genesis)) / len(genesis)   # 순수 단어들의 개수 / 총 단어 개수"
   ]
  },
  {
   "cell_type": "markdown",
   "id": "adb59fd5-f77e-4075-b086-d4b7f4f92daa",
   "metadata": {},
   "source": [
    "<br><br>\n",
    "## 5.6 **List와 Set**"
   ]
  },
  {
   "cell_type": "markdown",
   "id": "7c70b291-5531-40ea-b2b2-806f37491e6c",
   "metadata": {},
   "source": [
    "- list\n",
    "    - ex) ['string', a, False]  \n",
    "\n",
    "    - 순서가 존재한다.\n",
    "    - 중복이 허용된다.\n",
    "    - 리스트로 형 변환을 하기 위해서는 list()를 사용한다.\n",
    "- set\n",
    "    - ex) {'a', 2, True}  \n",
    "\n",
    "    - 순서가 없다.\n",
    "    - 중복이 허용되지 않는다.\n",
    "    - 세트로 형 변환을 하기 위해서는 set()를 사용한다.\n",
    "    - 수학의 집합 개념과 유사하다.\n",
    "    - 인덱싱이 불가하다.\n",
    "    "
   ]
  },
  {
   "cell_type": "markdown",
   "id": "49e8bb98-f282-4246-b433-004ce182b8fb",
   "metadata": {},
   "source": [
    "ㅤ  \n",
    "### **# 순서의 존재**"
   ]
  },
  {
   "cell_type": "code",
   "execution_count": 101,
   "id": "abc9e1ae-825e-4e7c-af77-dcc3d3baa7ac",
   "metadata": {},
   "outputs": [
    {
     "name": "stdout",
     "output_type": "stream",
     "text": [
      "['mint', 'choco', 'berry']\n",
      "\n",
      "{'ice', 'milk', 'vanilla', 'oreo', 'cream'}\n"
     ]
    }
   ],
   "source": [
    "# LIST\n",
    "icecream = ['mint', 'choco', 'berry']                  # 출력 결과와 순서가 동일하다.\n",
    "print(icecream)\n",
    "\n",
    "print()\n",
    "\n",
    "# SET\n",
    "mixer = {'oreo', 'milk', 'ice', 'vanilla', 'cream'}    # 출력 결과와 순서가 다르다.\n",
    "print(mixer)\n"
   ]
  },
  {
   "cell_type": "markdown",
   "id": "8c4a543b-65a2-4f02-bf64-053bee64af1e",
   "metadata": {},
   "source": [
    "ㅤ  \n",
    "### **# 중복의 허용**"
   ]
  },
  {
   "cell_type": "code",
   "execution_count": 104,
   "id": "8b09407e-e42a-4e70-bbba-754225befd12",
   "metadata": {},
   "outputs": [
    {
     "name": "stdout",
     "output_type": "stream",
     "text": [
      "['mint', 'choco', 'choco', 'berry']\n",
      "\n",
      "{'ice', 'cream', 'oreo'}\n"
     ]
    }
   ],
   "source": [
    "# LIST\n",
    "icecream = ['mint', 'choco', 'choco', 'berry']          # 중복 허용\n",
    "print(icecream)\n",
    "\n",
    "print()\n",
    "\n",
    "# SET\n",
    "mixer = {'oreo', 'ice', 'ice', 'ice', 'cream'}          # 중복 허용 X\n",
    "print(mixer)"
   ]
  },
  {
   "cell_type": "markdown",
   "id": "e50fd442-0557-40ff-abf3-3fa0d3637a5d",
   "metadata": {},
   "source": [
    "ㅤ  \n",
    "### **# 형 변환**"
   ]
  },
  {
   "cell_type": "code",
   "execution_count": 108,
   "id": "3b678571-b908-49f7-8212-951e7feb310f",
   "metadata": {},
   "outputs": [
    {
     "name": "stdout",
     "output_type": "stream",
     "text": [
      "{'berry', 'mint', 'choco'}\n"
     ]
    }
   ],
   "source": [
    "icecream = ['mint', 'choco', 'choco', 'berry']          # choco가 2개였는데 1개로 줄어든다.\n",
    "print(set(icecream))"
   ]
  },
  {
   "cell_type": "markdown",
   "id": "69a95fb0-d006-407b-92a1-0aab0ee9ee70",
   "metadata": {},
   "source": [
    "ㅤ  \n",
    "### **# 오름차순, 내림차순 정렬**"
   ]
  },
  {
   "cell_type": "code",
   "execution_count": 134,
   "id": "19f86b81-b54d-4bd2-833b-bee859276323",
   "metadata": {},
   "outputs": [
    {
     "name": "stdout",
     "output_type": "stream",
     "text": [
      "['cream', 'ice', 'milk', 'oreo', 'vanilla']\n",
      "['vanilla', 'oreo', 'milk', 'ice', 'cream']\n"
     ]
    }
   ],
   "source": [
    "mixer = {'oreo', 'milk', 'ice', 'vanilla', 'cream'}\n",
    "\n",
    "print(sorted(mixer))                                    # 오름차순 정렬\n",
    "print(sorted(mixer, reverse = True))                    # 내림차순 정렬"
   ]
  },
  {
   "cell_type": "markdown",
   "id": "c827fdee-3c83-479e-8495-85d66d94672c",
   "metadata": {},
   "source": [
    "ㅤ  \n",
    "### **# NLTK에서의 정렬**"
   ]
  },
  {
   "cell_type": "markdown",
   "id": "b004c0c8-45cb-4123-ba50-cc589fab205c",
   "metadata": {},
   "source": [
    "- 아스키코드표를 보면  \n",
    "문장부호 -> 숫자 -> 대문자 -> 소문자 순으로 정렬되어 있다.  \n",
    "\n",
    "- 정렬을 시키고, 10개를 추출하는 방식:"
   ]
  },
  {
   "cell_type": "code",
   "execution_count": 137,
   "id": "8b2d1351-f392-4fe9-8948-9db51df23535",
   "metadata": {},
   "outputs": [
    {
     "name": "stdout",
     "output_type": "stream",
     "text": [
      "\n"
     ]
    }
   ],
   "source": [
    "# from nltk import book\n",
    "\n",
    "genesis = book.text3\n",
    "sorted(set(genesis))[:10]   # genesis에서 중복 단어들을 제거한 후, 정렬을 시킨 후 슬라이싱\n",
    "\n",
    "print()"
   ]
  },
  {
   "cell_type": "code",
   "execution_count": 135,
   "id": "7241dcdd-6f6b-4894-a7ec-ce8dd9c04911",
   "metadata": {},
   "outputs": [
    {
     "data": {
      "text/plain": [
       "['youth',\n",
       " 'yourselves',\n",
       " 'your',\n",
       " 'youngest',\n",
       " 'younger',\n",
       " 'younge',\n",
       " 'young',\n",
       " 'you',\n",
       " 'yonder',\n",
       " 'yoke']"
      ]
     },
     "execution_count": 135,
     "metadata": {},
     "output_type": "execute_result"
    }
   ],
   "source": [
    "sorted(set(genesis), reverse = True)[:10]   # reverse를 넣으면 소문자부터 출력이 되는 것을 확인할 수 있다."
   ]
  },
  {
   "cell_type": "markdown",
   "id": "0bf38659-3dc2-4627-9134-e5113a9013ec",
   "metadata": {},
   "source": [
    "ㅤ    \n",
    "- 원본에서 먼저 10개를 추출하고, 정렬을 시킬 수 있다."
   ]
  },
  {
   "cell_type": "code",
   "execution_count": 136,
   "id": "882a2022-ae56-4341-9f44-6f46ac48088e",
   "metadata": {},
   "outputs": [
    {
     "data": {
      "text/plain": [
       "['God',\n",
       " 'In',\n",
       " 'and',\n",
       " 'beginning',\n",
       " 'created',\n",
       " 'earth',\n",
       " 'heaven',\n",
       " 'the',\n",
       " 'the',\n",
       " 'the']"
      ]
     },
     "execution_count": 136,
     "metadata": {},
     "output_type": "execute_result"
    }
   ],
   "source": [
    "sorted(genesis[:10])"
   ]
  },
  {
   "cell_type": "markdown",
   "id": "9db658f6-2b67-41a2-bed9-61f0e178c4d7",
   "metadata": {},
   "source": [
    "ㅤ \n",
    "## 5.7 *Review*"
   ]
  },
  {
   "cell_type": "markdown",
   "id": "1eea2486-6716-4ecf-ae4e-e16897ba5274",
   "metadata": {},
   "source": [
    "### # Quiz 1\n",
    "- 윤년을 구해봅시다. \n",
    "\n",
    "    - 연도 입력받는다\n",
    "    - 4로 나눠지면 윤년\n",
    "    - 100으로 나눠지면 안된다.\n",
    "    - 400으로 나눠지면 윤년  \n",
    "\n",
    "\n",
    "- 출력: {}년은 윤년입니다. / '-아닙니다.'"
   ]
  },
  {
   "cell_type": "code",
   "execution_count": 139,
   "id": "79776da9-8c61-4d87-ac3d-059ece922e69",
   "metadata": {},
   "outputs": [
    {
     "name": "stdin",
     "output_type": "stream",
     "text": [
      "연도: 2020\n"
     ]
    },
    {
     "name": "stdout",
     "output_type": "stream",
     "text": [
      "2020년은 윤년입니다.\n"
     ]
    }
   ],
   "source": [
    "year = int(input(\"연도:\"))\n",
    "\n",
    "if (year % 4 == 0) and ((year % 100 != 0) or (year % 400 == 0)):\n",
    "        print(f'{year}년은 윤년입니다.')\n",
    "else:\n",
    "    print(f'{year}년은 윤년이 아닙니다.')"
   ]
  },
  {
   "cell_type": "markdown",
   "id": "db1cf95f-c106-4027-a2ee-bd19303eea53",
   "metadata": {},
   "source": [
    "ㅤ   \n",
    "### # Quiz 2\n",
    "- text6 가져와서 토큰을 변수에 담고  \n",
    "\n",
    "- 중복 없는 셋으로 저장하고 내림차순\n",
    "    - 앞에서 10개 단어 출력\n",
    "    - 단어에 z가 있으면 대문자로 바꾸시오\n",
    "    - z가 없는데 4자 이상이면 끝 글자를 대문자로 바꾸라."
   ]
  },
  {
   "cell_type": "code",
   "execution_count": 143,
   "id": "36827276-b695-47ca-92dc-952ad0273f69",
   "metadata": {},
   "outputs": [
    {
     "name": "stdout",
     "output_type": "stream",
     "text": [
      "Zoosh\n",
      "Zoop\n",
      "Zoo\n",
      "Zone\n",
      "Zhiv\n",
      "yourselF\n",
      "yourS\n",
      "youR\n",
      "younG\n",
      "you\n"
     ]
    }
   ],
   "source": [
    "# from nltk import book\n",
    "book_python = sorted(set(book.text6.tokens))[::-1]\n",
    "book_python = book_python[:10]\n",
    "\n",
    "for word in book_python:\n",
    "    wordList = list(word)\n",
    "    \n",
    "    if 'z' not in wordList and len(wordList) >= 4:\n",
    "        wordList[-1] = chr(ord(wordList[-1]) - 32)\n",
    "    else:\n",
    "        for i in range(len(wordList)):\n",
    "            if wordList[i] == 'z':\n",
    "                wordList[i] = 'Z'\n",
    "\n",
    "    print(*wordList, sep='')"
   ]
  },
  {
   "cell_type": "markdown",
   "id": "66ea2bc8-285e-4fa8-b69d-0bd70642734b",
   "metadata": {},
   "source": [
    "ㅤ   \n",
    "### # Quiz 3\n",
    "- 주민번호, 휴대폰 번호, 이메일 주소 입력 받는다.  \n",
    "\n",
    "- 주민번호, 휴대폰 번호는 숫자만 입력받는다. (-없이)\n",
    "- 이메일 주소는 아이디만 입력받는다.  \n",
    "    -1. \"당신은 {}년 {}월 {}일 출생의 {남성/여성} 입니다.\"  \n",
    "    -2. 휴대폰 번호: 000-0000-0000  \n",
    "    -3 이메일 주소: xxxx@gmail.com  "
   ]
  },
  {
   "cell_type": "code",
   "execution_count": 148,
   "id": "bc66eef1-9304-4ff4-a8ba-802be669b0e3",
   "metadata": {},
   "outputs": [
    {
     "name": "stdin",
     "output_type": "stream",
     "text": [
      "주민번호를 입력하세요: 9811112111111\n",
      "휴대폰 번호를 입력하세요: 01012345678\n",
      "이메일 주소를 입력하세요: frodo\n"
     ]
    },
    {
     "name": "stdout",
     "output_type": "stream",
     "text": [
      "\n",
      "당신은 98년 11월 11일 출생의 여성 입니다.\n",
      "휴대폰 번호: 010-1234-5678\n",
      "이메일 주소: frodo@gmail.com\n",
      "\n"
     ]
    }
   ],
   "source": [
    "registerNum = input('주민번호를 입력하세요:')\n",
    "phoneNum = input('휴대폰 번호를 입력하세요:')\n",
    "email = input('이메일 주소를 입력하세요:')\n",
    "\n",
    "birthYear = registerNum[:2]\n",
    "birthMonth = int(registerNum[2:4])\n",
    "birthDate = int(registerNum[4:6])\n",
    "\n",
    "if int(registerNum[6]) % 2 == 0:\n",
    "    gender = '여성'\n",
    "else:\n",
    "    gender = '남성'\n",
    "\n",
    "print(f'''\n",
    "당신은 {birthYear}년 {birthMonth}월 {birthDate}일 출생의 {gender} 입니다.\n",
    "휴대폰 번호: {phoneNum[:3]}-{phoneNum[3:7]}-{phoneNum[7:]}\n",
    "이메일 주소: {email}@gmail.com\n",
    "''')"
   ]
  }
 ],
 "metadata": {
  "kernelspec": {
   "display_name": "Python 3 (ipykernel)",
   "language": "python",
   "name": "python3"
  },
  "language_info": {
   "codemirror_mode": {
    "name": "ipython",
    "version": 3
   },
   "file_extension": ".py",
   "mimetype": "text/x-python",
   "name": "python",
   "nbconvert_exporter": "python",
   "pygments_lexer": "ipython3",
   "version": "3.9.7"
  }
 },
 "nbformat": 4,
 "nbformat_minor": 5
}
