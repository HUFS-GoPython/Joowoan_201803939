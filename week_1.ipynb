{
 "cells": [
  {
   "cell_type": "code",
   "execution_count": null,
   "id": "10018522-3ad7-4bb1-b303-fbd3d0fdafe9",
   "metadata": {},
   "outputs": [
    {
     "data": {
      "text/plain": [
       "45"
      ]
     },
     "execution_count": 1,
     "metadata": {},
     "output_type": "execute_result"
    }
   ],
   "source": [
    "# b\n",
    "# run: shift+enter"
   ]
  },
  {
   "cell_type": "markdown",
   "id": "4932d4db-4f87-4ff5-845b-81f11ed60dc4",
   "metadata": {},
   "source": [
    "## 프로그래밍이란?\n",
    "    - 프로그래밍 언어를 사용하여 프로그래밍을 개발하는 것\n",
    "    - 논리적인 사고를 가질 수 있다.\n",
    "## programming language?\n",
    "    - 프로그램을 개발할 때 사용하는 도구\n",
    "    - 인간이 원하는 것을 컴퓨터에게 명령할 때 사용하는 컴퓨터가 이해할 수 있는 언어\n",
    "    \n",
    "## 파이썬\n",
    "    - 간결하고 쉽다.\n",
    "    - 라이브러리가 많다."
   ]
  },
  {
   "cell_type": "markdown",
   "id": "a484175a-cf1c-4565-a691-3a7e750bf83f",
   "metadata": {},
   "source": [
    "## Chapter 2. Data: Types, Values, Variables, and Names"
   ]
  },
  {
   "cell_type": "code",
   "execution_count": 5,
   "id": "c3fa6ff3-7622-4ce6-b24e-2c9728ddcc43",
   "metadata": {
    "tags": []
   },
   "outputs": [],
   "source": [
    "a = 2"
   ]
  },
  {
   "cell_type": "markdown",
   "id": "455e9cf2-47e2-494e-aae5-d4539f8e2869",
   "metadata": {},
   "source": [
    "- 변수|variable: 특정 값을 저장하는 공간\n",
    "   a\n",
    "- 값|value\n",
    "   2\n",
    "- 할당하다|assign: 변수에 값을 넣는 과정\n",
    "    \"2를 a에 넣었다.\"\n",
    "    \n",
    "    *** a는 2다. a==2\n",
    "- 자료형|type: 데이터의 형태\n",
    "    a 데이터의 형태? integer (int 타입이다)"
   ]
  },
  {
   "cell_type": "code",
   "execution_count": 6,
   "id": "08b6df40-b85c-46b1-b801-94560dd5b65f",
   "metadata": {},
   "outputs": [
    {
     "data": {
      "text/plain": [
       "int"
      ]
     },
     "execution_count": 6,
     "metadata": {},
     "output_type": "execute_result"
    }
   ],
   "source": [
    "type(a)"
   ]
  },
  {
   "cell_type": "code",
   "execution_count": 7,
   "id": "383dbe18-dbe0-4fe5-bf72-eb21d5c37543",
   "metadata": {},
   "outputs": [
    {
     "data": {
      "text/plain": [
       "bool"
      ]
     },
     "execution_count": 7,
     "metadata": {},
     "output_type": "execute_result"
    }
   ],
   "source": [
    "type(a==2)"
   ]
  },
  {
   "cell_type": "markdown",
   "id": "5b9da52b-e93d-45aa-875a-8ac8a619dce4",
   "metadata": {},
   "source": [
    "### Type\n",
    "- integer | 정수: 1,2,3, ..\n",
    "- floaating point number | 부동소수점: 1.0, 2.0\n",
    "- string | 문자열: \"1\", \"apple\"\n",
    "- bool |부울: True/False"
   ]
  },
  {
   "cell_type": "markdown",
   "id": "7be2481f-fdcc-4ada-8ae3-a05f50cff32b",
   "metadata": {},
   "source": [
    "apple <-> \"apple\""
   ]
  },
  {
   "cell_type": "code",
   "execution_count": 10,
   "id": "0e7a97bb-f75e-46b6-a357-e457b3f16cd7",
   "metadata": {},
   "outputs": [
    {
     "name": "stdout",
     "output_type": "stream",
     "text": [
      "kim\n"
     ]
    }
   ],
   "source": [
    "name = 'kim'\n",
    "print(name)"
   ]
  },
  {
   "cell_type": "markdown",
   "id": "19cbac27-0e17-4c06-81c3-c2c8b35befa6",
   "metadata": {},
   "source": [
    "### 할당\n",
    "- = 이 기호를 사용한다.\n",
    "- 수학에서 '같다'라는 사용되지만, 프로그래밍에서는 '할당하다'라는 의미를 가진다.\n",
    "- \"오른쪽의 값을 왼쪽에 할당한다\"\n",
    "- 1. 오른쪽에 있는 모든 것은 값을 가져야 한다. (초기화를 해야 한다.)\n",
    "- 2. 같은 변수에 다른 값을 넣을 수 있다."
   ]
  },
  {
   "cell_type": "code",
   "execution_count": 13,
   "id": "71860274-d3f0-4062-a977-e60275a5c549",
   "metadata": {},
   "outputs": [],
   "source": [
    "x = 4 # 초기화\n",
    "y = x+3"
   ]
  },
  {
   "cell_type": "code",
   "execution_count": 12,
   "id": "8883bbf2-603c-4795-900d-fe0007f29863",
   "metadata": {},
   "outputs": [
    {
     "data": {
      "text/plain": [
       "(4, 7)"
      ]
     },
     "execution_count": 12,
     "metadata": {},
     "output_type": "execute_result"
    }
   ],
   "source": [
    "x,y"
   ]
  },
  {
   "cell_type": "code",
   "execution_count": 16,
   "id": "0ae1202e-6ba2-49e3-b033-59b25ad15c9a",
   "metadata": {},
   "outputs": [],
   "source": [
    "name = 'kim'\n",
    "name = 'lee'\n",
    "name = 'park'\n",
    "name = 4"
   ]
  },
  {
   "cell_type": "code",
   "execution_count": 19,
   "id": "f623cbd6-0f7b-4b95-81af-8d0659f4ff1f",
   "metadata": {},
   "outputs": [
    {
     "name": "stdout",
     "output_type": "stream",
     "text": [
      "4\n"
     ]
    }
   ],
   "source": [
    "print(name) # 변수명을 각각 다르게 설정해야 한다."
   ]
  },
  {
   "cell_type": "code",
   "execution_count": 18,
   "id": "cff0a8ba-e7ea-42fc-ac3d-2c08762034a2",
   "metadata": {},
   "outputs": [],
   "source": [
    "text = 'abc'\n",
    "text = 'cde'"
   ]
  },
  {
   "cell_type": "markdown",
   "id": "c367f682-2f53-4549-b3fd-5501b7effa01",
   "metadata": {},
   "source": [
    "### 변수명 정하기\n",
    "- 나쁜 변수명: a,b,c, a1, b1, ...\n",
    "- 남이 이해할 수 있는 의미있는 이름으로 선언해야 한다.\n",
    "- 소문자, 대문자, 숫자, 언더바를 사용한다.\n",
    "    예: name, name2, my_name, Name, NAME"
   ]
  },
  {
   "cell_type": "code",
   "execution_count": 27,
   "id": "8c81241e-4d24-4164-abdc-d076aac4de02",
   "metadata": {},
   "outputs": [
    {
     "name": "stdout",
     "output_type": "stream",
     "text": [
      "juliette,jessica,laura\n"
     ]
    }
   ],
   "source": [
    "name = 'juliette'\n",
    "name1 = 'jessica'\n",
    "my_name = 'laura'\n",
    "#myName 캐멀 표기법\n",
    "print(name,name1,my_name, sep=',')"
   ]
  },
  {
   "cell_type": "markdown",
   "id": "1dc115d4-495c-4b1a-ae59-91c3d503fd56",
   "metadata": {},
   "source": [
    "- 안되는 것\n",
    "    - 숫자로 시작할 수 없다.\n",
    "        예: 22name, 22_name (X)\n",
    "    - 예약어\n",
    "        예: def, False... "
   ]
  },
  {
   "cell_type": "code",
   "execution_count": 22,
   "id": "6a8d84ed-8d69-46f8-b859-8b499a1e9e9d",
   "metadata": {},
   "outputs": [
    {
     "name": "stdout",
     "output_type": "stream",
     "text": [
      "\n",
      "Here is a list of the Python keywords.  Enter any keyword to get more help.\n",
      "\n",
      "False               break               for                 not\n",
      "None                class               from                or\n",
      "True                continue            global              pass\n",
      "__peg_parser__      def                 if                  raise\n",
      "and                 del                 import              return\n",
      "as                  elif                in                  try\n",
      "assert              else                is                  while\n",
      "async               except              lambda              with\n",
      "await               finally             nonlocal            yield\n",
      "\n"
     ]
    }
   ],
   "source": [
    "help(\"keywords\")"
   ]
  },
  {
   "cell_type": "markdown",
   "id": "014c0c7f-47a4-4b9f-8eef-e528b9865f58",
   "metadata": {},
   "source": [
    "- 조심할 것: 특별한 용도가 있기 때문에\n",
    "    - 언더바로 시작하는 변수명: _name\n",
    "    - 더블 언더바로 시작하는 변수명: __name__\n",
    "    - 전체 대문자: NAME"
   ]
  },
  {
   "cell_type": "code",
   "execution_count": 24,
   "id": "a66cc001-ba93-47ca-9640-c53e1fdc42ab",
   "metadata": {},
   "outputs": [
    {
     "name": "stdout",
     "output_type": "stream",
     "text": [
      "False\n"
     ]
    }
   ],
   "source": [
    "#변수명은 대소문자 구분한다.\n",
    "num = 43\n",
    "Num = 44\n",
    "print(num == Num)"
   ]
  },
  {
   "cell_type": "code",
   "execution_count": 25,
   "id": "f57bb183-4c47-444d-ac8b-736903d541c2",
   "metadata": {},
   "outputs": [
    {
     "name": "stdout",
     "output_type": "stream",
     "text": [
      "False\n"
     ]
    }
   ],
   "source": [
    "num = 'number'\n",
    "Num = 'Number'\n",
    "print(num == Num)"
   ]
  },
  {
   "cell_type": "code",
   "execution_count": 26,
   "id": "e412832a-a8fb-4b94-9e5b-ccfedecffb59",
   "metadata": {},
   "outputs": [
    {
     "data": {
      "text/plain": [
       "True"
      ]
     },
     "execution_count": 26,
     "metadata": {},
     "output_type": "execute_result"
    }
   ],
   "source": [
    "num != Num"
   ]
  },
  {
   "cell_type": "code",
   "execution_count": null,
   "id": "98d94ae4-2485-4c87-9f06-6b7da12ce273",
   "metadata": {},
   "outputs": [],
   "source": []
  }
 ],
 "metadata": {
  "kernelspec": {
   "display_name": "Python 3 (ipykernel)",
   "language": "python",
   "name": "python3"
  },
  "language_info": {
   "codemirror_mode": {
    "name": "ipython",
    "version": 3
   },
   "file_extension": ".py",
   "mimetype": "text/x-python",
   "name": "python",
   "nbconvert_exporter": "python",
   "pygments_lexer": "ipython3",
   "version": "3.9.7"
  }
 },
 "nbformat": 4,
 "nbformat_minor": 5
}
