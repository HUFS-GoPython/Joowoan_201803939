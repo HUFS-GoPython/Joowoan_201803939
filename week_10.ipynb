{
 "cells": [
  {
   "cell_type": "markdown",
   "id": "9fdce0f8-3155-4b5b-8b58-b555e3b722fa",
   "metadata": {},
   "source": [
    "# Week 10"
   ]
  },
  {
   "cell_type": "markdown",
   "id": "da1c4721-b6ef-4654-86e5-e54cba6f1f9b",
   "metadata": {},
   "source": [
    "---"
   ]
  },
  {
   "cell_type": "markdown",
   "id": "273975a3-2f82-400f-9205-d2ccd7c6a217",
   "metadata": {
    "tags": []
   },
   "source": [
    "# **객체와 클래스**\n",
    "- object (객체)\n",
    "\n",
    "- Object oriented (객체 지향 프로그래밍)\n",
    "- 속성과 행동을 가지는 개념일 수도 있고, 실존하는 물체일 수도 있다.\n",
    "    - 실체가 있는 것 (thing):  \n",
    "        자동차, 강아지, 꽃, ...\n",
    "        ㅤ          \n",
    "        ㅤ          \n",
    "    - `속성`: 브랜드, 색, 속도 / 이름, 종, 색, 몸무게\n",
    "    - `행동`: 가다, 서다, 회전, 주차, ... / 뛰다, 짖다, 자다, 핥다\n",
    "ㅤ          \n",
    "ㅤ        \n",
    "속성: `변수`로 표현  \n",
    "행동: `메소드`로 표현\n",
    "ㅤ        \n",
    "ㅤ        \n",
    "[ 편의점 ]  \n",
    "    \"*고객이 편의점에서 과자를 샀다.*\"  \n",
    "    이 정보를 쪼갠다.\n",
    "    ㅤ        \n",
    "    ㅤ      \n",
    "    1. **고객** => 사람  \n",
    "        - 이름  \n",
    "        - 돈  \n",
    "        - 물건을 사다  \n",
    "        - 돈을 내다  \n",
    "        ㅤ          \n",
    "    2. **편의점**  \n",
    "        - 이름  \n",
    "        - 재고  \n",
    "        - 수입  \n",
    "        - 물건 등록  \n",
    "        ㅤ          \n",
    "    3. **과자** => 물건  \n",
    "        - 이름  \n",
    "        - 브랜드  \n",
    "        - 가격\n",
    "ㅤ        \n",
    "ㅤ        \n",
    "- 상호작용으로 코드를 구성하는 것  \n",
    "\n",
    "- 행동은 때에 따라서 필요가 없다.  \n",
    "- 자신이 필요한 속성을 부여한다."
   ]
  },
  {
   "cell_type": "markdown",
   "id": "f6b95a53-8346-482e-8598-77cadafe59a7",
   "metadata": {},
   "source": [
    "ㅤ      \n",
    "### **# 클래스 선언**\n",
    "- 첫글자는 대문자\n",
    "- ex) nice car -> Nice_car (x)  \n",
    "     ㅤ      ㅤ      ㅤ      ㅤ    ㅤ        NiceCar (o)\n",
    "- 정의부, 선언부로 이루어져 있다.  \n",
    "\n",
    "- 정의부: 붕어빵 틀\n",
    "- 선언부: 붕어빵"
   ]
  },
  {
   "cell_type": "code",
   "execution_count": 6,
   "id": "dfbd5c4c-8376-4ac2-9b24-8e2ac75cc1bc",
   "metadata": {},
   "outputs": [
    {
     "data": {
      "text/plain": [
       "<__main__.Car at 0x192cc09f040>"
      ]
     },
     "execution_count": 6,
     "metadata": {},
     "output_type": "execute_result"
    }
   ],
   "source": [
    "# 정의부\n",
    "class Car: # 객체\n",
    "    pass\n",
    "\n",
    "# 선언부\n",
    "my_car = Car()\n",
    "my_car     # instance == 붕어빵"
   ]
  },
  {
   "cell_type": "code",
   "execution_count": 10,
   "id": "6a4fd3b9-a8a4-4aab-bd6f-da1bbb4f46d5",
   "metadata": {},
   "outputs": [
    {
     "data": {
      "text/plain": [
       "('bmw', 'white')"
      ]
     },
     "execution_count": 10,
     "metadata": {},
     "output_type": "execute_result"
    }
   ],
   "source": [
    "# 정의부에 없는 내용을 메소드로 접근 후 생성 가능하다.\n",
    "\n",
    "my_car.name = 'bmw'\n",
    "my_car.color = 'white'\n",
    "\n",
    "my_car.name, my_car.color"
   ]
  },
  {
   "cell_type": "markdown",
   "id": "b47912b9-01b8-49df-b091-7fc86d145b91",
   "metadata": {},
   "source": [
    "ㅤ      \n",
    "### **# 정의부 - 구체화**"
   ]
  },
  {
   "cell_type": "code",
   "execution_count": 15,
   "id": "95c55e31-a62f-47c8-85cc-2245c7d4c3a6",
   "metadata": {},
   "outputs": [],
   "source": [
    "class Car:\n",
    "    # 속성 정의\n",
    "    name = 'BMW'"
   ]
  },
  {
   "cell_type": "code",
   "execution_count": 14,
   "id": "b8f316f2-1b9e-4347-b00e-7da0d9d2427d",
   "metadata": {
    "tags": []
   },
   "outputs": [
    {
     "data": {
      "text/plain": [
       "'BMW'"
      ]
     },
     "execution_count": 14,
     "metadata": {},
     "output_type": "execute_result"
    }
   ],
   "source": [
    "your_car = Car()\n",
    "your_car.name"
   ]
  },
  {
   "cell_type": "markdown",
   "id": "f29b101b-eecd-4ea6-a5ab-912bea28f674",
   "metadata": {},
   "source": [
    "ㅤ      \n",
    "### **# 정의부, 선언부 구체화**"
   ]
  },
  {
   "cell_type": "code",
   "execution_count": 82,
   "id": "0c0df52b-0335-4758-b000-36999dcde5cb",
   "metadata": {},
   "outputs": [],
   "source": [
    "class Car:\n",
    "    def __init__(self, name, model = None, color = 'Black'): # 속성을 초기화하는 함수\n",
    "                                                             # 객체를 만들 때 들어오는 값으로 이름을 생성하고 싶을 경우\n",
    "        \n",
    "        # self == instance == 붕어빵\n",
    "        # instance가 선언이 되면 self를 타고 들어온다.\n",
    "        # 객체가 들어올 수 있도록 처음 인자는 self로 설정한다.\n",
    "        self.name = name\n",
    "        self.model = model\n",
    "        self.color= color\n",
    "    \n",
    "    def drive(self):\n",
    "        # self.name vs self: 그냥 name은 자신이 처음 넣은 값을 지칭한다.\n",
    "        print(f'{self.name} is being driven')\n",
    "    \n",
    "    def stop(self):\n",
    "        print(f'{self.name} has stopped')\n",
    "    \n",
    "    def change_color(self, color):\n",
    "        # 새롭게 지정할 색을 입력받아 그 색으로 변경\n",
    "        self.color = color"
   ]
  },
  {
   "cell_type": "code",
   "execution_count": 89,
   "id": "980341f0-90eb-40de-afba-9b46e3266921",
   "metadata": {},
   "outputs": [
    {
     "data": {
      "text/plain": [
       "('Kia', 'SM6', 'Blue')"
      ]
     },
     "execution_count": 89,
     "metadata": {},
     "output_type": "execute_result"
    }
   ],
   "source": [
    "# 객체 속성 초기화\n",
    "\n",
    "car1 = Car('Kia', 'SM6', 'Blue')\n",
    "car1.name, car1.model, car1.color"
   ]
  },
  {
   "cell_type": "code",
   "execution_count": 78,
   "id": "7884d8ca-1491-4a2c-8375-a0accd85a0da",
   "metadata": {},
   "outputs": [
    {
     "name": "stdout",
     "output_type": "stream",
     "text": [
      "Kia is being driven\n"
     ]
    }
   ],
   "source": [
    "car1.drive()"
   ]
  },
  {
   "cell_type": "code",
   "execution_count": 79,
   "id": "8a30c2b3-5e72-40ef-874d-5b2bad16f7e1",
   "metadata": {},
   "outputs": [
    {
     "name": "stdout",
     "output_type": "stream",
     "text": [
      "Kia has stopped\n"
     ]
    }
   ],
   "source": [
    "car1.stop()"
   ]
  },
  {
   "cell_type": "code",
   "execution_count": 90,
   "id": "b730e722-7e79-45a2-bf56-e94c276eb5da",
   "metadata": {},
   "outputs": [
    {
     "name": "stdout",
     "output_type": "stream",
     "text": [
      "Blue\n",
      "Grey\n"
     ]
    }
   ],
   "source": [
    "# 색 변경\n",
    "\n",
    "print(car1.color)\n",
    "car1.change_color('Grey')\n",
    "print(car1.color)"
   ]
  },
  {
   "cell_type": "code",
   "execution_count": 91,
   "id": "146250ba-699b-4ed8-a0ac-6794aa26f067",
   "metadata": {},
   "outputs": [
    {
     "data": {
      "text/plain": [
       "'Black'"
      ]
     },
     "execution_count": 91,
     "metadata": {},
     "output_type": "execute_result"
    }
   ],
   "source": [
    "# 디폴트 색 설정\n",
    "\n",
    "car2 = Car('Hyundai', 'Sonata')\n",
    "car2.color"
   ]
  },
  {
   "cell_type": "code",
   "execution_count": 92,
   "id": "3cc2287f-d4fd-4c02-beab-12818ee922df",
   "metadata": {},
   "outputs": [
    {
     "data": {
      "text/plain": [
       "('Toyota', None, 'Black')"
      ]
     },
     "execution_count": 92,
     "metadata": {},
     "output_type": "execute_result"
    }
   ],
   "source": [
    "# model 값을 필수 속성에서 제외시키기려면 None으로 설정한다. ... 속성 자체를 없애는 것과 다르다.\n",
    "\n",
    "car3 = Car('Toyota')\n",
    "car3.name, car3.model, car3.color"
   ]
  },
  {
   "cell_type": "markdown",
   "id": "bcaf2f2e-6409-4677-8070-e9d09943969f",
   "metadata": {},
   "source": [
    "ㅤ      \n",
    "ㅤ      \n",
    "# **캡슐화, 정보 은닉**\n",
    "- public -> private (python에서는 없다)\n",
    "- getter, setter"
   ]
  },
  {
   "cell_type": "code",
   "execution_count": 100,
   "id": "2acbb6ec-77d9-4aec-9f88-dab9729e5f22",
   "metadata": {},
   "outputs": [],
   "source": [
    "class Fruit:\n",
    "    color = 'Red'"
   ]
  },
  {
   "cell_type": "code",
   "execution_count": 102,
   "id": "c803fa41-3a40-4b1e-8eec-c4fed3474b0b",
   "metadata": {},
   "outputs": [
    {
     "data": {
      "text/plain": [
       "'Yellow'"
      ]
     },
     "execution_count": 102,
     "metadata": {},
     "output_type": "execute_result"
    }
   ],
   "source": [
    "# 틀을 만들어놓고 외부에서 속성을 마음대로 바꿀 수 있는 문제점\n",
    "Fruit.color = 'Yellow'\n",
    "\n",
    "apple = Fruit()\n",
    "apple.color"
   ]
  },
  {
   "cell_type": "markdown",
   "id": "b3cc534b-00eb-4276-8f81-a4546fcee3f8",
   "metadata": {},
   "source": [
    "ㅤ      \n",
    "## **get, set**"
   ]
  },
  {
   "cell_type": "markdown",
   "id": "898c38a3-3599-4b4f-9cf1-c9cc4bc6c628",
   "metadata": {},
   "source": [
    "### **# java 방식**\n",
    "\n",
    "- getter: 클래스 내 객체 변수 반환\n",
    "- setter: == 변수 설정"
   ]
  },
  {
   "cell_type": "code",
   "execution_count": 109,
   "id": "6104e863-88a1-434b-b3ae-cb4cb36b1a0d",
   "metadata": {},
   "outputs": [],
   "source": [
    "class Cookie:\n",
    "    def __init__(self, input_name):\n",
    "        self.name = input_name\n",
    "        \n",
    "    def get_name(self):\n",
    "        # 클래스 변수를 반환\n",
    "        return self.name\n",
    "    \n",
    "    def set_name(self, input_name):\n",
    "        self.name = input_name"
   ]
  },
  {
   "cell_type": "code",
   "execution_count": 110,
   "id": "1ca9e526-3304-4b27-9dff-a0f8debdf3ac",
   "metadata": {},
   "outputs": [
    {
     "data": {
      "text/plain": [
       "'choco'"
      ]
     },
     "execution_count": 110,
     "metadata": {},
     "output_type": "execute_result"
    }
   ],
   "source": [
    "c = Cookie('choco')\n",
    "c.get_name()"
   ]
  },
  {
   "cell_type": "code",
   "execution_count": 114,
   "id": "d3d1e7c0-82fd-461a-bb7c-4f1d47e71cde",
   "metadata": {},
   "outputs": [
    {
     "data": {
      "text/plain": [
       "'green tea'"
      ]
     },
     "execution_count": 114,
     "metadata": {},
     "output_type": "execute_result"
    }
   ],
   "source": [
    "c.set_name('green tea') # c.name = 'green tea'    ... setter가 있다는 것은 __init__을 쓰지 말라는 뜻\n",
    "c.get_name()"
   ]
  },
  {
   "cell_type": "markdown",
   "id": "5c565a23-005a-418a-b4f5-b1793954c608",
   "metadata": {},
   "source": [
    "ㅤ      \n",
    "### **# python 방식**"
   ]
  },
  {
   "cell_type": "code",
   "execution_count": 9,
   "id": "e037f608-b957-4738-b3d2-578149022108",
   "metadata": {},
   "outputs": [],
   "source": [
    "class Cookie:\n",
    "    def __init__(self, input_name):\n",
    "        # __init__을 통해 name에 접근하는 개념을 피하고 싶을 때\n",
    "        self.hidden_name = input_name\n",
    "        \n",
    "    def get_name(self):\n",
    "        return self.hidden_name\n",
    "    \n",
    "    def set_name(self, input_name):\n",
    "        self.hidden_name = input_name\n",
    "    \n",
    "    name = property(get_name, set_name)"
   ]
  },
  {
   "cell_type": "code",
   "execution_count": 10,
   "id": "0785d12e-7dd9-44fa-b61e-aa7534eb57d6",
   "metadata": {},
   "outputs": [
    {
     "data": {
      "text/plain": [
       "'mint'"
      ]
     },
     "execution_count": 10,
     "metadata": {},
     "output_type": "execute_result"
    }
   ],
   "source": [
    "m = Cookie('mint')\n",
    "m.name"
   ]
  },
  {
   "cell_type": "markdown",
   "id": "da4b0ad1-2d26-457c-b1cf-ebcde6b1bfb9",
   "metadata": {},
   "source": [
    "ㅤ      \n",
    "### **@ decorator 사용**"
   ]
  },
  {
   "cell_type": "code",
   "execution_count": 216,
   "id": "8aef3757-059b-4e53-b7dc-46030b7a1f43",
   "metadata": {},
   "outputs": [],
   "source": [
    "class Cookie:\n",
    "    def __init__(self, input_name):\n",
    "        # __init__을 통해 name에 접근하는 개념을 피하고 싶을 때\n",
    "        self.hidden_name = input_name\n",
    "    \n",
    "    # 메소드를 통해 속성을 만든다.\n",
    "    @property\n",
    "    def name(self):\n",
    "        return self.hidden_name\n",
    "    \n",
    "    @name.setter #  @<필드명>.setter\n",
    "    def name(self, input_name):\n",
    "        self.hidden_name = input_name\n",
    "    "
   ]
  },
  {
   "cell_type": "code",
   "execution_count": 217,
   "id": "0487e559-c4c6-42ae-a91b-2eff9eb226bc",
   "metadata": {},
   "outputs": [
    {
     "data": {
      "text/plain": [
       "'strawberry'"
      ]
     },
     "execution_count": 217,
     "metadata": {},
     "output_type": "execute_result"
    }
   ],
   "source": [
    "s = Cookie('strawberry')\n",
    "s.name"
   ]
  },
  {
   "cell_type": "code",
   "execution_count": 221,
   "id": "90e39b69-4ad4-4738-a870-9b182cfc61c6",
   "metadata": {},
   "outputs": [
    {
     "ename": "AttributeError",
     "evalue": "type object 'Cookie' has no attribute 'hidden_name'",
     "output_type": "error",
     "traceback": [
      "\u001b[1;31m---------------------------------------------------------------------------\u001b[0m",
      "\u001b[1;31mAttributeError\u001b[0m                            Traceback (most recent call last)",
      "Input \u001b[1;32mIn [221]\u001b[0m, in \u001b[0;36m<cell line: 2>\u001b[1;34m()\u001b[0m\n\u001b[0;32m      1\u001b[0m \u001b[38;5;66;03m# 외부 접근을 방지\u001b[39;00m\n\u001b[1;32m----> 2\u001b[0m \u001b[43mCookie\u001b[49m\u001b[38;5;241;43m.\u001b[39;49m\u001b[43mhidden_name\u001b[49m\n",
      "\u001b[1;31mAttributeError\u001b[0m: type object 'Cookie' has no attribute 'hidden_name'"
     ]
    }
   ],
   "source": [
    "# 외부 접근을 방지\n",
    "Cookie.hidden_name"
   ]
  },
  {
   "cell_type": "code",
   "execution_count": 222,
   "id": "f806cab7-fc39-44bc-bfd3-d91ef5fc3a77",
   "metadata": {},
   "outputs": [
    {
     "data": {
      "text/plain": [
       "'strawberry'"
      ]
     },
     "execution_count": 222,
     "metadata": {},
     "output_type": "execute_result"
    }
   ],
   "source": [
    "# 하지만 개별적인 객체에 대한 hidden_name 접근은 아직 가능\n",
    "\n",
    "s.hidden_name"
   ]
  },
  {
   "cell_type": "markdown",
   "id": "14aa8aee-8c31-42ca-8e4f-27c743f2f29b",
   "metadata": {},
   "source": [
    "ㅤ      \n",
    "### **# 접근 방지**"
   ]
  },
  {
   "cell_type": "code",
   "execution_count": 39,
   "id": "84c7a4fd-229c-49e5-826c-734fc42b32a0",
   "metadata": {
    "tags": []
   },
   "outputs": [
    {
     "ename": "AttributeError",
     "evalue": "type object 'What' has no attribute '__a'",
     "output_type": "error",
     "traceback": [
      "\u001b[1;31m---------------------------------------------------------------------------\u001b[0m",
      "\u001b[1;31mAttributeError\u001b[0m                            Traceback (most recent call last)",
      "Input \u001b[1;32mIn [39]\u001b[0m, in \u001b[0;36m<cell line: 7>\u001b[1;34m()\u001b[0m\n\u001b[0;32m      4\u001b[0m     __a \u001b[38;5;241m=\u001b[39m \u001b[38;5;241m10\u001b[39m\n\u001b[0;32m      6\u001b[0m b \u001b[38;5;241m=\u001b[39m What\n\u001b[1;32m----> 7\u001b[0m \u001b[43mb\u001b[49m\u001b[38;5;241;43m.\u001b[39;49m\u001b[43m__a\u001b[49m\n",
      "\u001b[1;31mAttributeError\u001b[0m: type object 'What' has no attribute '__a'"
     ]
    }
   ],
   "source": [
    "# 언더바 2개를 사용한다.\n",
    "\n",
    "class What:\n",
    "    __a = 10\n",
    "\n",
    "b = What\n",
    "b.__a"
   ]
  },
  {
   "cell_type": "markdown",
   "id": "cd91bd1d-201b-4d82-9a29-7a2dff6a6f4c",
   "metadata": {
    "tags": []
   },
   "source": [
    "     \n",
    "       \n",
    "       "
   ]
  },
  {
   "cell_type": "code",
   "execution_count": 40,
   "id": "b4cda2a4-e2b6-4b76-9fd8-56d3acf9be23",
   "metadata": {},
   "outputs": [],
   "source": [
    "# __ 가 클래스에 접근을 못하도록 한다.\n",
    "\n",
    "class Cookie:\n",
    "    def __init__(self, input_name):\n",
    "        self.__name = input_name\n",
    "    \n",
    "    @property\n",
    "    def name(self):\n",
    "        return self.__name\n",
    "    \n",
    "    @name.setter\n",
    "    def name(self, input_name):\n",
    "        self.__name = input_name\n",
    "    "
   ]
  },
  {
   "cell_type": "code",
   "execution_count": 184,
   "id": "55927849-7868-4060-8592-25a91747236f",
   "metadata": {},
   "outputs": [
    {
     "ename": "AttributeError",
     "evalue": "'Cookie' object has no attribute '__name'",
     "output_type": "error",
     "traceback": [
      "\u001b[1;31m---------------------------------------------------------------------------\u001b[0m",
      "\u001b[1;31mAttributeError\u001b[0m                            Traceback (most recent call last)",
      "Input \u001b[1;32mIn [184]\u001b[0m, in \u001b[0;36m<cell line: 2>\u001b[1;34m()\u001b[0m\n\u001b[0;32m      1\u001b[0m b \u001b[38;5;241m=\u001b[39m Cookie(\u001b[38;5;124m'\u001b[39m\u001b[38;5;124mberry\u001b[39m\u001b[38;5;124m'\u001b[39m)\n\u001b[1;32m----> 2\u001b[0m \u001b[43mb\u001b[49m\u001b[38;5;241;43m.\u001b[39;49m\u001b[43m__name\u001b[49m\n",
      "\u001b[1;31mAttributeError\u001b[0m: 'Cookie' object has no attribute '__name'"
     ]
    }
   ],
   "source": [
    "b = Cookie('berry')\n",
    "b.__name"
   ]
  },
  {
   "cell_type": "markdown",
   "id": "82624931-4412-45d8-938b-9015e3cd2e1d",
   "metadata": {},
   "source": [
    "ㅤ      "
   ]
  },
  {
   "cell_type": "code",
   "execution_count": 228,
   "id": "a30fe072-02c7-4b3e-9d03-11b728244335",
   "metadata": {},
   "outputs": [],
   "source": [
    "class Circle:\n",
    "    def __init__(self, radius):\n",
    "        self.radius = radius\n",
    "        # self.para = radius * 2\n",
    "        \n",
    "    @property\n",
    "    def diameter(self):\n",
    "        return self.radius * 2"
   ]
  },
  {
   "cell_type": "code",
   "execution_count": 230,
   "id": "77f1f466-950b-4a77-b9d1-ec17c7739dee",
   "metadata": {},
   "outputs": [
    {
     "data": {
      "text/plain": [
       "10"
      ]
     },
     "execution_count": 230,
     "metadata": {},
     "output_type": "execute_result"
    }
   ],
   "source": [
    "ex = Circle(5)\n",
    "ex.diameter"
   ]
  },
  {
   "cell_type": "code",
   "execution_count": 231,
   "id": "2ce68a3c-bcc7-46bd-9092-99d0fb705bc3",
   "metadata": {},
   "outputs": [
    {
     "data": {
      "text/plain": [
       "38"
      ]
     },
     "execution_count": 231,
     "metadata": {},
     "output_type": "execute_result"
    }
   ],
   "source": [
    "ex.radius = 19\n",
    "ex.diameter"
   ]
  },
  {
   "cell_type": "markdown",
   "id": "dbe0940c-6919-48d2-b419-db46d06125f6",
   "metadata": {},
   "source": [
    "ㅤ        \n",
    "### # Quiz 1\n",
    "- 메모장, 메모 구현하기\n",
    "- 메모장\n",
    "    - 속성: 제목, 페이지 번호, 메모\n",
    "    - 행동: 메모 추가, 메모 삭제, 페이지 번호로 메모 찾기\n",
    "- 메모\n",
    "    - 속성: 글귀\n",
    "    - 행동: 쓰다, 지우다\n",
    "\n",
    "- 사용:\n",
    "    - 메모를 쓴다\n",
    "    - 메모장에 추가\n",
    "    - 페이지 번호가 추가한 만큼 늘어난다.\n",
    "    - 메모 삭제 -> 페이지 번호 줄어든다.\n",
    "    - 메모장의 제목만 은닉\n",
    "    "
   ]
  },
  {
   "cell_type": "code",
   "execution_count": 697,
   "id": "d1ed7171-cb56-4d21-98c3-d6863e4639b4",
   "metadata": {},
   "outputs": [],
   "source": [
    "class Notebook:\n",
    "    def __init__(self, input_title=None):\n",
    "        self.__title = input_title\n",
    "        self.note = []\n",
    "        self.pageNumber = -1\n",
    "        \n",
    "        self.pages = []\n",
    "        self.idCount = -1\n",
    "\n",
    "    @property\n",
    "    def title(self):\n",
    "        return self.__title\n",
    "\n",
    "    @title.setter\n",
    "    def title(self, input_title):\n",
    "        self.__title = input_title\n",
    "\n",
    "    def print_pages(self):\n",
    "        print('\\n=== PAGES ===')\n",
    "        for i,page in enumerate(self.pages):\n",
    "            print(f'Page {i}: {page[0]}')\n",
    "    \n",
    "    def find_page(self, pageNumber):\n",
    "        try:\n",
    "            return self.pages[pageNumber]\n",
    "        except:\n",
    "            print(\"Page not found.\")\n",
    "            \n",
    "    def get_page_num(self):\n",
    "        return self.pageNumber\n",
    "\n",
    "    def add_note(self, newNote):\n",
    "        if self.pageNumber + len(newNote.noteList) > 300:\n",
    "            print('Not enough space for a new note.')\n",
    "            return\n",
    "        \n",
    "        self.note.append(newNote)\n",
    "        \n",
    "        for line in newNote.noteList:\n",
    "            self.pageNumber += 1\n",
    "            self.idCount += 1\n",
    "            \n",
    "            newNote.idList.append(self.idCount)\n",
    "            self.pages.append((line, self.idCount))\n",
    "\n",
    "    def remove_note(self, thisNote):\n",
    "        if thisNote in self.note:\n",
    "            for i in range(self.pageNumber):\n",
    "                if self.pages[i][1] in thisNote.idList:\n",
    "                    deleteIndex_start = i\n",
    "                    break\n",
    "                    \n",
    "            del self.pages[deleteIndex_start : deleteIndex_start + len(thisNote.idList)]\n",
    "            \n",
    "            self.pageNumber -= len(thisNote.noteList)\n",
    "            self.note.remove(thisNote)\n",
    "        else:\n",
    "            print('Note not found.')\n",
    "\n",
    "class Note:\n",
    "    def __init__(self):\n",
    "        self.noteList = []\n",
    "        self.idList = []\n",
    "    \n",
    "    def write(self, input_text):\n",
    "        self.noteList.append(input_text)\n"
   ]
  },
  {
   "cell_type": "code",
   "execution_count": 698,
   "id": "1b3742e9-9873-4e1d-8ac4-a1f6707b2c43",
   "metadata": {
    "tags": []
   },
   "outputs": [],
   "source": [
    "# 메모 생성\n",
    "\n",
    "line1 = '우리 모두 스스로가 원하는 리더가 됩시다'\n",
    "line2 = '모두가 함께 앞으로 나아가면 성공은 저절로 따라옵니다'\n",
    "line3 = '혼자서는 작은 한 방울이지만 함께 모이면 바다를 이룹니다.'\n",
    "\n",
    "my_note = Note()\n",
    "my_note.write(line1)\n",
    "my_note.write(line2)\n",
    "my_note.write(line3)\n",
    "\n",
    "draft_note = Note()\n",
    "draft_note.write('hello world')\n",
    "draft_note.write('what on earth')\n",
    "draft_note.write('breath of the wild')"
   ]
  },
  {
   "cell_type": "code",
   "execution_count": 699,
   "id": "bd45110e-92aa-4b7a-92ca-dc2412933954",
   "metadata": {
    "tags": []
   },
   "outputs": [
    {
     "name": "stdout",
     "output_type": "stream",
     "text": [
      "\n",
      "=== PAGES ===\n",
      "Page 0: 우리 모두 스스로가 원하는 리더가 됩시다\n",
      "Page 1: 모두가 함께 앞으로 나아가면 성공은 저절로 따라옵니다\n",
      "Page 2: 혼자서는 작은 한 방울이지만 함께 모이면 바다를 이룹니다.\n",
      "Page 3: hello world\n",
      "Page 4: what on earth\n",
      "Page 5: breath of the wild\n"
     ]
    },
    {
     "data": {
      "text/plain": [
       "5"
      ]
     },
     "execution_count": 699,
     "metadata": {},
     "output_type": "execute_result"
    }
   ],
   "source": [
    "# 메모장 생성, 메모장에 메모 추가\n",
    "my_book = Notebook()\n",
    "my_book.add_note(my_note)\n",
    "my_book.add_note(draft_note)\n",
    "\n",
    "# 모든 페이지 출력, 페이지 번호 확인\n",
    "my_book.print_pages()\n",
    "my_book.get_page_num()"
   ]
  },
  {
   "cell_type": "code",
   "execution_count": 700,
   "id": "994c5883-a68d-4444-b694-1e5117bd1ddb",
   "metadata": {},
   "outputs": [
    {
     "name": "stdout",
     "output_type": "stream",
     "text": [
      "\n",
      "=== PAGES ===\n",
      "Page 0: hello world\n",
      "Page 1: what on earth\n",
      "Page 2: breath of the wild\n"
     ]
    },
    {
     "data": {
      "text/plain": [
       "2"
      ]
     },
     "execution_count": 700,
     "metadata": {},
     "output_type": "execute_result"
    }
   ],
   "source": [
    "# 메모장에서 메모 삭제\n",
    "my_book.remove_note(my_note)\n",
    "\n",
    "my_book.print_pages()\n",
    "my_book.get_page_num()"
   ]
  },
  {
   "cell_type": "code",
   "execution_count": 701,
   "id": "0c72f1b9-f6af-468f-98e8-8719bcfe44a0",
   "metadata": {},
   "outputs": [],
   "source": [
    "# 페이지 용량 초과\n",
    "testLine = 'test line'\n",
    "testNote = Note()\n",
    "\n",
    "for _ in range(299):\n",
    "    testNote.write(testLine)"
   ]
  },
  {
   "cell_type": "code",
   "execution_count": 702,
   "id": "e4331ad4-4ea7-4980-9d39-4e4477e22f8f",
   "metadata": {},
   "outputs": [
    {
     "name": "stdout",
     "output_type": "stream",
     "text": [
      "Not enough space for a new note.\n"
     ]
    }
   ],
   "source": [
    "my_book.add_note(testNote)"
   ]
  }
 ],
 "metadata": {
  "kernelspec": {
   "display_name": "Python 3 (ipykernel)",
   "language": "python",
   "name": "python3"
  },
  "language_info": {
   "codemirror_mode": {
    "name": "ipython",
    "version": 3
   },
   "file_extension": ".py",
   "mimetype": "text/x-python",
   "name": "python",
   "nbconvert_exporter": "python",
   "pygments_lexer": "ipython3",
   "version": "3.9.7"
  }
 },
 "nbformat": 4,
 "nbformat_minor": 5
}
