{
 "cells": [
  {
   "cell_type": "markdown",
   "id": "32474765-e2af-4826-9e2d-4d78669ae53a",
   "metadata": {},
   "source": [
    "# Ch02. Variable"
   ]
  },
  {
   "cell_type": "markdown",
   "id": "40b65fc4-cda9-4045-b9b8-f2e4b1f0478d",
   "metadata": {},
   "source": [
    "**자료형의 종류**:\n",
    "- string\n",
    "- float\n",
    "- integer\n",
    "- boolean"
   ]
  },
  {
   "cell_type": "markdown",
   "id": "b81bd10e-23d3-4fb2-9950-81ff4964a208",
   "metadata": {},
   "source": [
    "## 2.1 할당"
   ]
  },
  {
   "cell_type": "code",
   "execution_count": 90,
   "id": "495a043d-ddc3-4ca3-924f-9c7dbaf8ab8b",
   "metadata": {},
   "outputs": [
    {
     "name": "stdout",
     "output_type": "stream",
     "text": [
      "\n",
      "two:  2,  2011984259408\n",
      "deux: 2,  2011984259408\n",
      "dos:  2,  2011984259408\n"
     ]
    }
   ],
   "source": [
    "#여러 이름 동시에 할당 가능\n",
    "two = deux = dos = 2              # dos -> deux -> two\n",
    "\n",
    "print()\n",
    "print(f'two:  {two},  {id(two)}')      # 메모리 주소값은 동일하다.\n",
    "print(f'deux: {deux},  {id(deux)}')\n",
    "print(f'dos:  {dos},  {id(dos)}')"
   ]
  },
  {
   "cell_type": "markdown",
   "id": "a2ac554b-07eb-4e68-ba74-bdad4083d149",
   "metadata": {
    "tags": []
   },
   "source": [
    "<br><br>\n",
    "## 2.2 가변객체, 불변객체"
   ]
  },
  {
   "cell_type": "markdown",
   "id": "75eecbe9-59b0-4cb3-b2c8-c6769e128453",
   "metadata": {},
   "source": [
    "#### **# 불변객체**"
   ]
  },
  {
   "cell_type": "code",
   "execution_count": 87,
   "id": "0affce76-4662-4948-86b3-f87d5f7f4ed7",
   "metadata": {
    "tags": []
   },
   "outputs": [
    {
     "name": "stdout",
     "output_type": "stream",
     "text": [
      "\n",
      "two: 2, id: 2011984259408\n",
      "deux:4, id: 2011984259472\n",
      "dos: 2, id: 2011984259408\n",
      "\n"
     ]
    }
   ],
   "source": [
    "deux = 4           # two, dos는 그대로, deux만 변동 : integer 는 불변객체.\n",
    "\n",
    "print(f'''\n",
    "two: {two}, id: {id(two)}\n",
    "deux:{deux}, id: {id(deux)}\n",
    "dos: {dos}, id: {id(dos)}\n",
    "''')"
   ]
  },
  {
   "cell_type": "markdown",
   "id": "f41fa4d8-c749-4cfb-9cdf-f8e29599adbc",
   "metadata": {},
   "source": [
    "→ deux가 새로운 값을 할당받는 순간 새로운 메모리 주소를 부여받았다. (수정 x)"
   ]
  },
  {
   "cell_type": "markdown",
   "id": "d2852516-b976-4ccc-9053-b01f4b34e6fa",
   "metadata": {
    "tags": []
   },
   "source": [
    "#### **# 가변객체**"
   ]
  },
  {
   "cell_type": "code",
   "execution_count": 124,
   "id": "afb94622-8654-449c-9dbd-b09b0745de27",
   "metadata": {
    "tags": []
   },
   "outputs": [
    {
     "name": "stdout",
     "output_type": "stream",
     "text": [
      "\n",
      "tempList:   [1, 2, 3], id: 2012077913792\n",
      "copiedList: [1, 2, 3], id: 2012077913792\n",
      "\n",
      "copiedList[0] = 5\n",
      "\n",
      "tempList:   [5, 2, 3], id: 2012077913792\n",
      "copiedList: [5, 2, 3], id: 2012077913792\n",
      "\n"
     ]
    }
   ],
   "source": [
    "tempList = [1, 2, 3]\n",
    "copiedList = tempList\n",
    "\n",
    "print()\n",
    "print(f'tempList:   {tempList}, id: {id(tempList)}')\n",
    "print(f'copiedList: {copiedList}, id: {id(copiedList)}',end='\\n\\n')\n",
    "\n",
    "print('copiedList[0] = 5',end='\\n\\n')\n",
    "copiedList[0] = 5\n",
    "\n",
    "print(f'tempList:   {tempList}, id: {id(tempList)}')\n",
    "print(f'copiedList: {copiedList}, id: {id(copiedList)}',end='\\n\\n') "
   ]
  },
  {
   "cell_type": "markdown",
   "id": "76a3e556-f18e-4836-ba94-2090d868075e",
   "metadata": {},
   "source": [
    "1. copiedList의 요소값이 변경되었으나 tempList에도 영향을 미친다.  \n",
    "2. 요소가 변경됐음에도 메모리 주소값은 변동이 없었다.  \n",
    "→ copiedList와 tempList가 메모리 주소값을 공유하고 있다."
   ]
  },
  {
   "cell_type": "markdown",
   "id": "578322df-1f8b-4e92-87ec-fda9bef032db",
   "metadata": {},
   "source": [
    "정리)\n",
    "- 불변객체: 객체에 할당된 값 수정 불가\n",
    "- 가변객체: 객체에 할당된 값 수정 가능"
   ]
  },
  {
   "cell_type": "markdown",
   "id": "6ea3c4dd-a4ed-46a0-b898-7d133dfe1249",
   "metadata": {},
   "source": [
    "<br><br>\n",
    "## 2.3 좋은 변수명"
   ]
  },
  {
   "cell_type": "markdown",
   "id": "1042bd7c-3f82-4625-8579-629bc50452b6",
   "metadata": {},
   "source": [
    "1. 간결, 명확한 이름\n",
    "2. 의미가 담겨야 함.  \n",
    "ex) a, b, c, → 무슨 용도로 쓰이는지 이름으로 파악하기 어렵다.<br><br>\n",
    "ex) the number of students n명의 변수명 설정:  \n",
    "    - the _number_of_studentsㅤ → 너무 길고, 길어서 오타가 날 수 있다.\n",
    "    - num_students ㅤㅤㅤㅤㅤㅤ→ 파이썬에서 자주 쓰이는 방식\n",
    "    - numStudentsㅤㅤㅤㅤㅤㅤㅤ→ Java에서 선호, 캐멀표기법\n",
    "\n",
    "ㅤcf) 코드에는 의미, 주석에는 의도가 담긴다.\n"
   ]
  },
  {
   "cell_type": "markdown",
   "id": "7481bae1-abd4-4381-919a-8aeb39be9c40",
   "metadata": {},
   "source": [
    "<br><br>\n",
    "## 2.4 자료형 변환, 형 변환"
   ]
  },
  {
   "cell_type": "markdown",
   "id": "0d9cecf8-1acf-4736-933e-6e990b9dc8fb",
   "metadata": {
    "tags": []
   },
   "source": [
    "#### **# 자료형 변환**"
   ]
  },
  {
   "cell_type": "code",
   "execution_count": 130,
   "id": "1c9b8fc2-0acd-496d-a486-284336f4d45e",
   "metadata": {},
   "outputs": [
    {
     "name": "stdout",
     "output_type": "stream",
     "text": [
      "a = 10\n",
      "\n",
      "10 <class 'str'>\n",
      "10.0 <class 'float'>\n",
      "True <class 'bool'>\n",
      "\n",
      "\n",
      "\n"
     ]
    }
   ],
   "source": [
    "a = 10\n",
    "print('a = 10',end='\\n\\n')\n",
    "\n",
    "# str\n",
    "print(str(a), type(str(a)))\n",
    "\n",
    "# float\n",
    "print(float(a), type(float(a)))\n",
    "\n",
    "# bool\n",
    "print(bool(a), type(bool(a)))  # 어떤 값이 False로 변환이 되는지 주의한다.\n",
    "\n",
    "print('\\n\\n')"
   ]
  },
  {
   "cell_type": "code",
   "execution_count": 123,
   "id": "8d2cac73-1a15-4333-b1c7-c6e6737fe73a",
   "metadata": {},
   "outputs": [
    {
     "name": "stdout",
     "output_type": "stream",
     "text": [
      "x: 10.7, y: 19.8\n",
      "\n",
      "int(x + y)      : 30\n",
      "int(x) + int(y) : 29\n"
     ]
    }
   ],
   "source": [
    "x = 10.7      # x=10.7 공백 붙이는 습관은 좋지 않다.\n",
    "y = 19.8\n",
    "print(f'x: {x}, y: {y}',end='\\n\\n')\n",
    "\n",
    "print(f'int(x + y)      : {int(x + y)}')\n",
    "print(f'int(x) + int(y) : {int(x) + int(y)}')"
   ]
  },
  {
   "cell_type": "markdown",
   "id": "89ecead9-7764-412a-95cf-b3b0a66169dc",
   "metadata": {},
   "source": [
    "- int(x + y)ㅤㅤ== ㅤint(10.7 + 19.8)ㅤㅤ== ㅤint(30.5)ㅤㅤ ㅤ ==ㅤ30  \n",
    "- int(x) + int(y) == ㅤint(10.7) + int(19.8) == ㅤint(10) + int(19) ==ㅤ29\n",
    "<br><br>"
   ]
  },
  {
   "cell_type": "markdown",
   "id": "78ef337b-436e-4a5c-988d-8ccdf050bd72",
   "metadata": {},
   "source": [
    "#### **# 타입에 맞는 형 변환**"
   ]
  },
  {
   "cell_type": "markdown",
   "id": "3ab9be6b-2493-4458-9ce7-01b7c92a18f9",
   "metadata": {},
   "source": [
    "##### Correct:"
   ]
  },
  {
   "cell_type": "code",
   "execution_count": 141,
   "id": "50fa7d42-d6a0-45d0-883f-ce07ee69e264",
   "metadata": {},
   "outputs": [
    {
     "data": {
      "text/plain": [
       "(10.0, 10)"
      ]
     },
     "execution_count": 141,
     "metadata": {},
     "output_type": "execute_result"
    }
   ],
   "source": [
    "i = '10'\n",
    "float(i), int(i)"
   ]
  },
  {
   "cell_type": "markdown",
   "id": "8a94acfe-656e-4e85-a0bc-6ec08b3cad04",
   "metadata": {},
   "source": [
    "##### Wrong:"
   ]
  },
  {
   "cell_type": "code",
   "execution_count": 138,
   "id": "78f91b13-a226-439e-9438-708abd49dfed",
   "metadata": {},
   "outputs": [
    {
     "ename": "ValueError",
     "evalue": "invalid literal for int() with base 10: '10.7'",
     "output_type": "error",
     "traceback": [
      "\u001b[1;31m---------------------------------------------------------------------------\u001b[0m",
      "\u001b[1;31mValueError\u001b[0m                                Traceback (most recent call last)",
      "Input \u001b[1;32mIn [138]\u001b[0m, in \u001b[0;36m<cell line: 2>\u001b[1;34m()\u001b[0m\n\u001b[0;32m      1\u001b[0m j \u001b[38;5;241m=\u001b[39m \u001b[38;5;124m'\u001b[39m\u001b[38;5;124m10.7\u001b[39m\u001b[38;5;124m'\u001b[39m\n\u001b[1;32m----> 2\u001b[0m \u001b[38;5;28mfloat\u001b[39m(j), \u001b[38;5;28;43mint\u001b[39;49m\u001b[43m(\u001b[49m\u001b[43mj\u001b[49m\u001b[43m)\u001b[49m\n",
      "\u001b[1;31mValueError\u001b[0m: invalid literal for int() with base 10: '10.7'"
     ]
    }
   ],
   "source": [
    "j = '10.7'\n",
    "float(j), int(j)"
   ]
  },
  {
   "cell_type": "markdown",
   "id": "68f4e4d5-fd58-4444-b252-d7787f82e819",
   "metadata": {},
   "source": [
    "ㅤ  \n",
    "string의 내용이 의미하고자 하는 값만 본다면 :  \n",
    "i = '10'일때 i가 int 10 이나 float 10.0이 되었든 두 자료형 모두 동일한 값을 지닌다.  \n",
    "하지만 j = '10.7'일 경우 float 10.7과는 동일하나 int(10.7) == 10 과는 동일한 값이라고 할 수 없다.  \n",
    "ㅤ  \n",
    "따라서 string을 int나 float으로 형 변환 시 타입에 어긋나지 않는 형 변환을 해야 한다."
   ]
  },
  {
   "cell_type": "markdown",
   "id": "2869bfb6-830b-4a47-b8fe-87f25f7082db",
   "metadata": {},
   "source": [
    "<br><br>\n",
    "## 2.5 `print()`"
   ]
  },
  {
   "cell_type": "markdown",
   "id": "d2354b89-3576-4f85-bb77-8a3d9be67b2c",
   "metadata": {},
   "source": [
    "#### **# 한 줄로 출력**"
   ]
  },
  {
   "cell_type": "code",
   "execution_count": 160,
   "id": "4ce2b5e8-aa7a-433d-a635-c7b20a1258ed",
   "metadata": {},
   "outputs": [
    {
     "name": "stdout",
     "output_type": "stream",
     "text": [
      "chocomintbanana\n",
      "choco mint banana\n"
     ]
    }
   ],
   "source": [
    "choco = 'choco'\n",
    "mint = 'mint'\n",
    "banana = 'banana'\n",
    "\n",
    "print(choco + mint + banana) # space X, \\n (문자열에 바로 붙인다)\n",
    "print(choco, mint, banana)   # space O, \\n (공백을 자동으로 넣어준다)"
   ]
  },
  {
   "cell_type": "markdown",
   "id": "ec3cb0d9-d513-4913-bc4e-af72fde408e1",
   "metadata": {
    "tags": []
   },
   "source": [
    "ㅤ \n",
    "#### **# 한 줄로 코드 작성**"
   ]
  },
  {
   "cell_type": "code",
   "execution_count": 161,
   "id": "24eaf6d1-2e4a-422c-9cc7-dc8547938626",
   "metadata": {},
   "outputs": [
    {
     "name": "stdout",
     "output_type": "stream",
     "text": [
      "choco mint banana\n"
     ]
    }
   ],
   "source": [
    "# 코드가 줄이 짧을 때 ; (semicolon) 을 이용해 한 줄로 쓸 수 있다.\n",
    "\n",
    "choco = 'choco'; mint = 'mint'; banana = 'banana'\n",
    "print(choco, mint, banana)"
   ]
  },
  {
   "cell_type": "markdown",
   "id": "684b6c88-dc5f-49db-9800-5881cc313291",
   "metadata": {},
   "source": [
    "ㅤ \n",
    "#### **# 키워드 인수**\n",
    "- sep=''\n",
    "- end=''"
   ]
  },
  {
   "cell_type": "code",
   "execution_count": 153,
   "id": "499a70a1-019d-4d77-a2b5-1d44140037c4",
   "metadata": {},
   "outputs": [
    {
     "name": "stdout",
     "output_type": "stream",
     "text": [
      "choco mint banana\n",
      "choco/mint/banana\n",
      "\n",
      "EOL\n"
     ]
    }
   ],
   "source": [
    "print(choco, mint, banana, sep=' ', end='\\n') # default (기본적으로 end에 '\\n'값이 할당된다)\n",
    "print(choco, mint, banana, sep='/', end='\\n\\n')\n",
    "print('EOL')"
   ]
  },
  {
   "cell_type": "markdown",
   "id": "5fcf7312-88e6-4632-a43a-0bf59d9af74b",
   "metadata": {},
   "source": [
    "ㅤ \n",
    "#### **# 출력 방식의 차이**"
   ]
  },
  {
   "cell_type": "code",
   "execution_count": 156,
   "id": "b5a823a3-80d9-48b6-b286-87f788e6ad4a",
   "metadata": {},
   "outputs": [
    {
     "name": "stdout",
     "output_type": "stream",
     "text": [
      "My favorite flavor is mint.\n",
      "My favorite flavor is mint.\n"
     ]
    }
   ],
   "source": [
    "#1.\n",
    "print(\"My favorite flavor is\", mint + '.')\n",
    "\n",
    "#2.\n",
    "print(f\"My favorite flavor is {mint}.\")"
   ]
  },
  {
   "cell_type": "markdown",
   "id": "806b224c-8201-468f-bdac-1686297c445a",
   "metadata": {},
   "source": [
    "ㅤ   \n",
    "1번 방식: String Concatenation  \n",
    "2번 방식: Formatted String Literals (f-string)"
   ]
  },
  {
   "cell_type": "markdown",
   "id": "d9ddd056-2313-4921-9868-65f6f3593716",
   "metadata": {},
   "source": [
    "<br><br>\n",
    "## 2.6 `input()`"
   ]
  },
  {
   "cell_type": "markdown",
   "id": "8df74dfc-cecf-4b8f-a415-4b1421baede0",
   "metadata": {},
   "source": [
    "**console에서 사용자가 입력하는 값을 받을 수 있는 함수**\n",
    "ㅤ  \n",
    "ㅤ    \n",
    "#### **# 기본 입력 자료형**\n",
    "-  입력 받는 값은 기본적으로 문자열 자료형이다. "
   ]
  },
  {
   "cell_type": "code",
   "execution_count": 163,
   "id": "e0eddf12-331d-4d7b-b30e-ee789d2590a1",
   "metadata": {},
   "outputs": [
    {
     "name": "stdin",
     "output_type": "stream",
     "text": [
      "숫자를 입력하세요:  2\n"
     ]
    },
    {
     "name": "stdout",
     "output_type": "stream",
     "text": [
      "userInput은 <class 'str'>입니다.\n"
     ]
    }
   ],
   "source": [
    "userInput = input(\"숫자를 입력하세요: \")\n",
    "print(f'userInput은 {type(userInput)}입니다.')"
   ]
  },
  {
   "cell_type": "markdown",
   "id": "154e3a7d-da8f-4aab-b5ab-74ea4eca5b39",
   "metadata": {},
   "source": [
    "ㅤ \n",
    "#### **# 변수 입력 할당**\n",
    "-  입력 받은 값을 변수에 할당하여 사용한다.  \n",
    "   (변수에 할당하지 않는다면 사라지기 때문에 값을 다시 참조할 수 없다.)"
   ]
  },
  {
   "cell_type": "code",
   "execution_count": 173,
   "id": "b634be13-169e-4bc4-b29b-3100933bb5fc",
   "metadata": {},
   "outputs": [
    {
     "name": "stdin",
     "output_type": "stream",
     "text": [
      "Enter your name: Gandalf\n"
     ]
    },
    {
     "name": "stdout",
     "output_type": "stream",
     "text": [
      "Hello Gandalf\n",
      "\n"
     ]
    }
   ],
   "source": [
    "# 1번 방식\n",
    "userName = input(\"Enter your name:\")\n",
    "print(f'Hello {userName}')\n",
    "print()"
   ]
  },
  {
   "cell_type": "code",
   "execution_count": 176,
   "id": "3e2c60c0-b2d9-44b1-8aa0-4648ef16f94e",
   "metadata": {},
   "outputs": [
    {
     "name": "stdout",
     "output_type": "stream",
     "text": [
      "Enter your name:\n"
     ]
    },
    {
     "name": "stdin",
     "output_type": "stream",
     "text": [
      " Gandalf\n"
     ]
    },
    {
     "name": "stdout",
     "output_type": "stream",
     "text": [
      "Hello Gandalf\n"
     ]
    }
   ],
   "source": [
    "# 2번 방식\n",
    "print(\"Enter your name:\");\n",
    "userName = input()\n",
    "\n",
    "print(f'Hello {userName}')"
   ]
  },
  {
   "cell_type": "markdown",
   "id": "0115b08d-ed87-4943-9d49-bf682954be01",
   "metadata": {},
   "source": [
    "ㅤ \n",
    "#### **# 입력 숫자 형 변환**\n",
    "-  숫자를 입력받고 싶을 경우 형 변환을 한다.  "
   ]
  },
  {
   "cell_type": "code",
   "execution_count": 166,
   "id": "c3e28be0-8417-4f7b-b6e6-94b948c6f703",
   "metadata": {},
   "outputs": [
    {
     "name": "stdin",
     "output_type": "stream",
     "text": [
      "숫자를 입력하세요:  2\n"
     ]
    },
    {
     "name": "stdout",
     "output_type": "stream",
     "text": [
      "userInput은 <class 'int'>입니다.\n"
     ]
    }
   ],
   "source": [
    "userInput = int(input(\"숫자를 입력하세요: \"))\n",
    "print(f'userInput은 {type(userInput)}입니다.')"
   ]
  },
  {
   "cell_type": "markdown",
   "id": "35f6b55d-8582-4386-8bcd-202c7824ff71",
   "metadata": {},
   "source": [
    "<br><br>\n",
    "## 2.7 *Review*"
   ]
  },
  {
   "cell_type": "markdown",
   "id": "8802bc95-5d37-4a0e-82d0-ad25ae3b20b3",
   "metadata": {
    "tags": []
   },
   "source": [
    "### # Quiz 1\n",
    "- 섭씨를 입력 받아서 화씨로 변환하기\n",
    "- \"섭씨 * 1.8 + 32 = 화씨\""
   ]
  },
  {
   "cell_type": "code",
   "execution_count": 179,
   "id": "3c926473-e29d-4a54-a422-f40dd8e2a160",
   "metadata": {},
   "outputs": [
    {
     "name": "stdin",
     "output_type": "stream",
     "text": [
      "섭씨: 30\n"
     ]
    },
    {
     "name": "stdout",
     "output_type": "stream",
     "text": [
      "화씨: 30.0 * 1.8 + 32 = 86.0\n"
     ]
    }
   ],
   "source": [
    "celsius = float(input(\"섭씨:\"))\n",
    "fahren = celsius * 1.8 + 32\n",
    "print(f'화씨: {celsius} * 1.8 + 32 = {fahren}')"
   ]
  },
  {
   "cell_type": "markdown",
   "id": "9984476e-5987-46f4-8939-2d7d7e57faf7",
   "metadata": {},
   "source": [
    "ㅤ \n",
    "### # Quiz 2\n",
    "- 택배 정보 입력 받고(이름, 주소, 무게), 총 합계 계산하기\n",
    "- 출력값:\n",
    "    - \"==택배 정보==\"\n",
    "    - 수취인 성명: <이름>\n",
    "    - 수취인 주소: <주소>\n",
    "    - 배송비: 3000원\n",
    "    - 물건 비용: <가격>원\n",
    "    - 총 합계: <가격>원\n",
    "- 물건 비용 = 무게(g) * 5\n",
    "- 합계 = 배송비 + 물건 비용"
   ]
  },
  {
   "cell_type": "code",
   "execution_count": 180,
   "id": "2163a36e-b060-495a-a23e-596ae0b0b972",
   "metadata": {},
   "outputs": [
    {
     "name": "stdin",
     "output_type": "stream",
     "text": [
      "수취인 성명: Santa\n",
      "수취인 주소: North Pole\n",
      "물건 무게: 30\n"
     ]
    },
    {
     "name": "stdout",
     "output_type": "stream",
     "text": [
      "\n",
      "==택배 정보==\n",
      "수취인 성명: Santa\n",
      "수취인 주소: North Pole\n",
      "배송비: 3000원\n",
      "물건 비용: 150.0원\n",
      "총 합계: 3150.0원\n"
     ]
    }
   ],
   "source": [
    "name = input(\"수취인 성명:\")\n",
    "address = input(\"수취인 주소:\")\n",
    "weight = float(input(\"물건 무게:\"))\n",
    "\n",
    "charge = 3000\n",
    "price = weight * 5\n",
    "totalCost = charge + price\n",
    "\n",
    "print()\n",
    "print(f\"\"\"==택배 정보==\n",
    "수취인 성명: {name}\n",
    "수취인 주소: {address}\n",
    "배송비: {charge}원\n",
    "물건 비용: {price}원\n",
    "총 합계: {totalCost}원\"\"\")"
   ]
  },
  {
   "cell_type": "markdown",
   "id": "c476017d-c4f5-4110-a294-5eda9303bfe4",
   "metadata": {},
   "source": [
    "---"
   ]
  },
  {
   "cell_type": "markdown",
   "id": "0a926911-7b1f-48a6-832b-32260d271c1e",
   "metadata": {},
   "source": [
    "# Ch03. Numbers"
   ]
  },
  {
   "cell_type": "markdown",
   "id": "88065e83-2166-477d-a72e-899d598f223e",
   "metadata": {},
   "source": [
    "## 3.1 Boolean"
   ]
  },
  {
   "cell_type": "markdown",
   "id": "2ef030d8-f4f5-4e31-9c2b-4f6d6ecb79d3",
   "metadata": {},
   "source": [
    "- 조건식에서 많이 쓴다. \n",
    "ex) 만약 이 조건이 True라면, ...  \n",
    "\n",
    "- 형 변환할 때 True, False인지 기억하자.  \n",
    "    ex) '', None, 0,  ==  False  "
   ]
  },
  {
   "cell_type": "code",
   "execution_count": 191,
   "id": "8d000b99-2acd-42e5-9050-8e5931ba26c5",
   "metadata": {},
   "outputs": [
    {
     "name": "stdout",
     "output_type": "stream",
     "text": [
      "False\n",
      "False\n",
      "False\n",
      "\n",
      "True\n",
      "True\n",
      "True\n"
     ]
    }
   ],
   "source": [
    "# FALSE\n",
    "print(bool(0))\n",
    "print(bool(''))\n",
    "print(bool(None), end='\\n\\n')\n",
    "\n",
    "# TRUE\n",
    "print(bool(1))\n",
    "print(bool(' '))\n",
    "print(bool('a'))"
   ]
  },
  {
   "cell_type": "markdown",
   "id": "12dcbc6a-8276-4995-90df-d5bb1b2d65d2",
   "metadata": {
    "tags": []
   },
   "source": [
    "ㅤ \n",
    "## 3.2 Integer"
   ]
  },
  {
   "cell_type": "markdown",
   "id": "e680cdd7-1e4d-42b3-81f6-f76965a7dbbb",
   "metadata": {},
   "source": [
    "#### **# 음수 표현**\n",
    "- 소수점이 없다.\n",
    "- default는 양수이며, 음수 앞에 -를 붙인다.\n"
   ]
  },
  {
   "cell_type": "code",
   "execution_count": 192,
   "id": "7a2f9c41-93d0-424b-b537-66bd327f9c02",
   "metadata": {},
   "outputs": [
    {
     "name": "stdout",
     "output_type": "stream",
     "text": [
      "0\n"
     ]
    }
   ],
   "source": [
    "a = -10\n",
    "b = 10\n",
    "print(a + b)"
   ]
  },
  {
   "cell_type": "markdown",
   "id": "40fc85f3-a758-4b85-a7c6-499c049f2bc9",
   "metadata": {},
   "source": [
    "ㅤ\n",
    "#### **# 리터럴과 0의 위치**\n",
    "- 리터럴: 값 그 자체, 고정된 값  \n",
    "    ex) 4  \n",
    "\n",
    "- 숫자 앞에는 0을 붙일 수 없다.  \n",
    "    cf) 예외적으로 0bxxx, -> 다른 진수 표현법"
   ]
  },
  {
   "cell_type": "code",
   "execution_count": 194,
   "id": "618d89f7-96b9-42c4-a22a-fce9c146448d",
   "metadata": {},
   "outputs": [
    {
     "data": {
      "text/plain": [
       "42"
      ]
     },
     "execution_count": 194,
     "metadata": {},
     "output_type": "execute_result"
    }
   ],
   "source": [
    "number = 0b101010\n",
    "number"
   ]
  },
  {
   "cell_type": "code",
   "execution_count": 195,
   "id": "5466307e-b9ee-40eb-b338-d8f809e60833",
   "metadata": {},
   "outputs": [
    {
     "ename": "SyntaxError",
     "evalue": "leading zeros in decimal integer literals are not permitted; use an 0o prefix for octal integers (3044983563.py, line 1)",
     "output_type": "error",
     "traceback": [
      "\u001b[1;36m  Input \u001b[1;32mIn [195]\u001b[1;36m\u001b[0m\n\u001b[1;33m    number = 03\u001b[0m\n\u001b[1;37m              ^\u001b[0m\n\u001b[1;31mSyntaxError\u001b[0m\u001b[1;31m:\u001b[0m leading zeros in decimal integer literals are not permitted; use an 0o prefix for octal integers\n"
     ]
    }
   ],
   "source": [
    "number = 03"
   ]
  },
  {
   "cell_type": "markdown",
   "id": "42275c04-8222-4648-838e-9960ada375b1",
   "metadata": {},
   "source": [
    "ㅤ  \n",
    "ㅤ  \n",
    "#### **# 공백 무시**\n",
    "- 공백이 많아도 무시가 된다."
   ]
  },
  {
   "cell_type": "code",
   "execution_count": 196,
   "id": "22b17f4d-638e-4ba2-b8f6-70a038052455",
   "metadata": {},
   "outputs": [
    {
     "data": {
      "text/plain": [
       "8"
      ]
     },
     "execution_count": 196,
     "metadata": {},
     "output_type": "execute_result"
    }
   ],
   "source": [
    "a = 3 +           5\n",
    "a"
   ]
  },
  {
   "cell_type": "markdown",
   "id": "55b3e550-dfa7-49d3-83cc-cc0447cf6cf9",
   "metadata": {
    "tags": []
   },
   "source": [
    "ㅤ  \n",
    "#### **# 언더바 무시**\n",
    "- 10,000원 -> 10, 000원 2개로 인식한다.  \n",
    "- 언더바가 숫자 사이에 있을 경우 언더바가 무시된다."
   ]
  },
  {
   "cell_type": "code",
   "execution_count": 207,
   "id": "a0e86b9e-8895-4581-91d3-a598152defcb",
   "metadata": {},
   "outputs": [
    {
     "name": "stdout",
     "output_type": "stream",
     "text": [
      "10 0\n",
      "10000\n"
     ]
    }
   ],
   "source": [
    "a,b = 10,000\n",
    "print(a,b)\n",
    "\n",
    "a = 10_000\n",
    "print(a)"
   ]
  },
  {
   "cell_type": "markdown",
   "id": "aa60080b-9c94-47a1-9cd3-e6051f9d0d37",
   "metadata": {
    "tags": []
   },
   "source": [
    "ㅤ \n",
    "## 3.3 연산"
   ]
  },
  {
   "cell_type": "markdown",
   "id": "b06ebe32-3211-46f3-95ef-9e9a28028ab4",
   "metadata": {},
   "source": [
    "#### **# 연산의 구성**"
   ]
  },
  {
   "cell_type": "markdown",
   "id": "55abd69f-3be0-483b-a8c6-9608ac8a38fa",
   "metadata": {},
   "source": [
    "- 연산자 (operator):  \n",
    "ex) +, -, ...  \n",
    "\n",
    "- 피연산자 (operand):  \n",
    "ex) 4, 5, ...\n",
    "- 수식 (expression)"
   ]
  },
  {
   "cell_type": "markdown",
   "id": "56ba2225-7d0f-4847-a3b8-992bfa33d529",
   "metadata": {},
   "source": [
    "ㅤ   \n",
    "#### **# 산술연산자, 할당 연산자**"
   ]
  },
  {
   "cell_type": "code",
   "execution_count": 224,
   "id": "39487bb2-c20e-42fb-a7f6-5a0c92b50cb4",
   "metadata": {},
   "outputs": [
    {
     "name": "stdout",
     "output_type": "stream",
     "text": [
      "+  : 7\n",
      "-  : -1\n",
      "*  : 12\n",
      "/  : 0.75\n",
      "** : 81\n",
      "// : 0\n",
      "%  : 3\n"
     ]
    }
   ],
   "source": [
    "# 할당 연산자\n",
    "x = 3\n",
    "y = 4\n",
    "\n",
    "# 산술 연산자\n",
    "print(f'+  : {x + y}')\n",
    "print(f'-  : {x - y}')\n",
    "print(f'*  : {x * y}')\n",
    "print(f'/  : {x / y}')\n",
    "\n",
    "# 거듭제곱 (exponential)\n",
    "print(f'** : {x ** y}')\n",
    "\n",
    "# 몫과 나머지 연산\n",
    "print(f'// : {x // y}')\n",
    "print(f'%  : {x % y}')    "
   ]
  },
  {
   "cell_type": "markdown",
   "id": "87b1d691-e7fe-4eba-8edf-54dc863e4d50",
   "metadata": {},
   "source": [
    "ㅤ   \n",
    "- **나눗셈 주의 사항**:\n",
    "1. 0으로 나누지 않도록 한다. (division by zero)  "
   ]
  },
  {
   "cell_type": "code",
   "execution_count": 242,
   "id": "9672ccbe-21aa-4ad4-ac4a-d094517996e1",
   "metadata": {},
   "outputs": [
    {
     "ename": "ZeroDivisionError",
     "evalue": "division by zero",
     "output_type": "error",
     "traceback": [
      "\u001b[1;31m---------------------------------------------------------------------------\u001b[0m",
      "\u001b[1;31mZeroDivisionError\u001b[0m                         Traceback (most recent call last)",
      "Input \u001b[1;32mIn [242]\u001b[0m, in \u001b[0;36m<cell line: 1>\u001b[1;34m()\u001b[0m\n\u001b[1;32m----> 1\u001b[0m \u001b[38;5;241;43m3\u001b[39;49m\u001b[43m \u001b[49m\u001b[38;5;241;43m/\u001b[39;49m\u001b[43m \u001b[49m\u001b[38;5;241;43m0\u001b[39;49m\n",
      "\u001b[1;31mZeroDivisionError\u001b[0m: division by zero"
     ]
    }
   ],
   "source": [
    "3 / 0"
   ]
  },
  {
   "cell_type": "markdown",
   "id": "52aa295b-277c-4112-8553-cf1f1d826549",
   "metadata": {},
   "source": [
    "ㅤ  \n",
    "ㅤ2. 나눗셈과 몫 구하는 연산자가 따로 구분되어 있다."
   ]
  },
  {
   "cell_type": "code",
   "execution_count": 249,
   "id": "002a100d-93e2-408c-af56-e88924027fda",
   "metadata": {
    "tags": []
   },
   "outputs": [
    {
     "name": "stdout",
     "output_type": "stream",
     "text": [
      "2\n",
      "2.5\n",
      "2\n"
     ]
    }
   ],
   "source": [
    "print(5 // 2)\n",
    "print(5 / 2)\n",
    "print(5 % 3)"
   ]
  },
  {
   "cell_type": "code",
   "execution_count": 250,
   "id": "58de0724-20fb-4634-9ea5-f027af11b5c6",
   "metadata": {
    "jp-MarkdownHeadingCollapsed": true,
    "tags": []
   },
   "outputs": [
    {
     "data": {
      "text/plain": [
       "(1, 2)"
      ]
     },
     "execution_count": 250,
     "metadata": {},
     "output_type": "execute_result"
    }
   ],
   "source": [
    "divmod(5,3) # 몫, 나머지를 한번에 구할 수도 있다."
   ]
  },
  {
   "cell_type": "markdown",
   "id": "195f3ae8-18d3-4409-bef6-46561ecb67e8",
   "metadata": {
    "tags": []
   },
   "source": [
    "ㅤ   \n",
    "ㅤ   \n",
    "#### **# 복합 대입연산자 (Compound Assignment Operator)**"
   ]
  },
  {
   "cell_type": "code",
   "execution_count": 238,
   "id": "61ec5429-34fb-4a7b-a14d-78fdfe9c8143",
   "metadata": {},
   "outputs": [
    {
     "name": "stdout",
     "output_type": "stream",
     "text": [
      "a : 10, The value of a has not changed\n",
      "b : 7\n",
      "c : 7\n"
     ]
    }
   ],
   "source": [
    "a = b = c = 10\n",
    "a - 3    # 뺀 결과값을 다시 할당을 하지 않으면 연산 결과값을 사용할 수 없다.\n",
    "\n",
    "\n",
    "b = b - 3\n",
    "#1. b - 3 계산\n",
    "#2. 임시변수 temp = b - 3\n",
    "#3. b = temp\n",
    "\n",
    "\n",
    "c -= 3   # 변수 b가 거친 과정과 동일하게 적용이 된다.\n",
    "\n",
    "print(f'a : {a}, The value of a has not changed')\n",
    "print(f'b : {b}')\n",
    "print(f'c : {c}')"
   ]
  },
  {
   "cell_type": "markdown",
   "id": "dfbabc77-d2a3-4b5f-90fc-1c066fa59133",
   "metadata": {
    "jp-MarkdownHeadingCollapsed": true,
    "tags": []
   },
   "source": [
    "- **복합 대입연산자의 종류**:\n",
    "    - a += 3\n",
    "    - a -= 3\n",
    "    - a *= 3\n",
    "    - a /= 3\n",
    "    - a ** 3"
   ]
  },
  {
   "cell_type": "markdown",
   "id": "c90c6371-f5e4-4da2-adc5-dedf7621079c",
   "metadata": {},
   "source": [
    "- **주의할 점:**"
   ]
  },
  {
   "cell_type": "code",
   "execution_count": 241,
   "id": "6bb05270-24fa-4e7c-a0dd-8a37f6c0ddac",
   "metadata": {},
   "outputs": [
    {
     "ename": "NameError",
     "evalue": "name 'unused' is not defined",
     "output_type": "error",
     "traceback": [
      "\u001b[1;31m---------------------------------------------------------------------------\u001b[0m",
      "\u001b[1;31mNameError\u001b[0m                                 Traceback (most recent call last)",
      "Input \u001b[1;32mIn [241]\u001b[0m, in \u001b[0;36m<cell line: 1>\u001b[1;34m()\u001b[0m\n\u001b[1;32m----> 1\u001b[0m unused \u001b[38;5;241m+\u001b[39m\u001b[38;5;241m=\u001b[39m \u001b[38;5;241m3\u001b[39m\n",
      "\u001b[1;31mNameError\u001b[0m: name 'unused' is not defined"
     ]
    }
   ],
   "source": [
    "unused += 3 # 처음 쓰는 변수라면 초기화 해줘야 한다."
   ]
  },
  {
   "cell_type": "markdown",
   "id": "bb2ff384-50ca-4875-957a-c522ddf38f4d",
   "metadata": {},
   "source": [
    "ㅤ \n",
    "## 3.4 지수 표현"
   ]
  },
  {
   "cell_type": "markdown",
   "id": "e25e1675-05cc-450d-8e38-435456f5b352",
   "metadata": {},
   "source": [
    "- e, E 둘다 사용 가능<br>\n",
    "cf) e앞의 숫자를 10의 지수로 생각하면 편하다.  \n",
    "\n",
    "- 앞부분은 float, int 모두 가능\n",
    "- 뒷부분은 int만.\n",
    "    - 양수면 :0 앞으로\n",
    "    - 음수면 :0 뒤로 (소수점)"
   ]
  },
  {
   "cell_type": "code",
   "execution_count": 255,
   "id": "4ab61dbf-9055-4f4c-b2f6-616a36896dae",
   "metadata": {},
   "outputs": [
    {
     "data": {
      "text/plain": [
       "1000000.0"
      ]
     },
     "execution_count": 255,
     "metadata": {},
     "output_type": "execute_result"
    }
   ],
   "source": [
    "1.0e6 # float"
   ]
  },
  {
   "cell_type": "code",
   "execution_count": 256,
   "id": "e7ff7547-307e-420d-973b-d2174d18d989",
   "metadata": {},
   "outputs": [
    {
     "data": {
      "text/plain": [
       "0.00054"
      ]
     },
     "execution_count": 256,
     "metadata": {},
     "output_type": "execute_result"
    }
   ],
   "source": [
    "540e-6 "
   ]
  },
  {
   "cell_type": "code",
   "execution_count": 271,
   "id": "099851d2-1569-4161-b1b0-21766da07c5c",
   "metadata": {},
   "outputs": [
    {
     "data": {
      "text/plain": [
       "0.00054"
      ]
     },
     "execution_count": 271,
     "metadata": {},
     "output_type": "execute_result"
    }
   ],
   "source": [
    "5.4e-4"
   ]
  },
  {
   "cell_type": "markdown",
   "id": "6dcefeee-6ecf-4514-aa39-94627ec32637",
   "metadata": {
    "tags": []
   },
   "source": [
    "ㅤ \n",
    "## 3.5 *Review*"
   ]
  },
  {
   "cell_type": "markdown",
   "id": "c14e36c3-b94b-4787-a254-39fa627f5fa3",
   "metadata": {},
   "source": [
    "### # Quiz 1\n",
    "- 정수를 입력 받고 3의 배수인지 확인하세요.\n",
    "- 홀수인지 확인하세요."
   ]
  },
  {
   "cell_type": "code",
   "execution_count": 254,
   "id": "2ba028a7-99a6-4080-9261-5e40a452eab5",
   "metadata": {},
   "outputs": [
    {
     "name": "stdin",
     "output_type": "stream",
     "text": [
      "숫자를 입력하세요: 6\n"
     ]
    },
    {
     "name": "stdout",
     "output_type": "stream",
     "text": [
      "3의 배수: True\n",
      "홀수: False\n"
     ]
    }
   ],
   "source": [
    "number = int(input(\"숫자를 입력하세요:\"))\n",
    "print(f'3의 배수: {number % 3 == 0}')\n",
    "print(f'홀수: {number % 2 == 1}')"
   ]
  },
  {
   "cell_type": "markdown",
   "id": "65ecfdad-30bd-4b54-91a6-22157b39dd10",
   "metadata": {
    "tags": []
   },
   "source": [
    "  \n",
    "------"
   ]
  },
  {
   "cell_type": "markdown",
   "id": "bfa42f90-7ca7-41d2-bc93-26f0c9c719aa",
   "metadata": {},
   "source": [
    "# Ch04. 조건문 if"
   ]
  },
  {
   "cell_type": "markdown",
   "id": "65b98759-4418-48f7-bedf-305a71e77838",
   "metadata": {},
   "source": [
    "ㅤ \n",
    "## 4.1 코드 작성 방법"
   ]
  },
  {
   "cell_type": "markdown",
   "id": "0d9acb79-61e3-47e9-a4da-04908cee7189",
   "metadata": {},
   "source": [
    "#### **# 주석 : 설명하는 부분**"
   ]
  },
  {
   "cell_type": "markdown",
   "id": "0b9bebd3-d5f0-4da5-9cf2-e4e8d5d515a7",
   "metadata": {},
   "source": [
    "- 목적: 의도를 알아보기 쉽게 표현한다.  \n",
    "- '#', hash, sharp ...  \n",
    "- 시작된 부분부터 그 라인 끝까지가 주석  "
   ]
  },
  {
   "cell_type": "code",
   "execution_count": 277,
   "id": "896a62a6-3fef-4ae2-8be3-37afe309fe5f",
   "metadata": {},
   "outputs": [
    {
     "name": "stdout",
     "output_type": "stream",
     "text": [
      "3\n"
     ]
    }
   ],
   "source": [
    "a = 3 # ;print('Hello')\n",
    "print(a)"
   ]
  },
  {
   "cell_type": "markdown",
   "id": "0dfdd174-e996-4cc7-addc-0df22ed140d8",
   "metadata": {},
   "source": [
    "- \"\"\"<주석>\"\"\"  → 여러 줄에 걸쳐 주석을 달아야 할 때 사용  \n",
    "- 문자열 안에 들어있는 해시는 문자열로 인식"
   ]
  },
  {
   "cell_type": "code",
   "execution_count": 284,
   "id": "9a7c8671-6e6d-4fb6-91f1-dd2e60da9e86",
   "metadata": {},
   "outputs": [
    {
     "name": "stdout",
     "output_type": "stream",
     "text": [
      "# hello python\n"
     ]
    }
   ],
   "source": [
    "\"\"\"\n",
    "주석1\n",
    "hello!\n",
    "print('bye')\n",
    "\"\"\"\n",
    "print('# hello python')"
   ]
  },
  {
   "cell_type": "markdown",
   "id": "03e552e6-650e-42a3-b5ca-b454c5d01f0e",
   "metadata": {},
   "source": [
    "ㅤ  \n",
    "#### **# 라인 유지**"
   ]
  },
  {
   "cell_type": "markdown",
   "id": "7700bac4-a965-4848-8f17-8ff8697c9342",
   "metadata": {},
   "source": [
    "- 들여쓰기 == 공백 4개 == 탭 1개\n",
    "- 한 줄에 80자를 넘기지 않도록 주의한다.\n",
    "- 코드가 길어지면 \\ 로 끊어준다."
   ]
  },
  {
   "cell_type": "code",
   "execution_count": 285,
   "id": "f984d408-a72a-486a-8930-354c553822d1",
   "metadata": {},
   "outputs": [
    {
     "name": "stdout",
     "output_type": "stream",
     "text": [
      "hope\n"
     ]
    }
   ],
   "source": [
    "word = 'h' + 'o' + \\\n",
    "    'p' + 'e'\n",
    "print(word)"
   ]
  },
  {
   "cell_type": "markdown",
   "id": "4911999f-231f-460a-96f5-f9632c004ac3",
   "metadata": {},
   "source": [
    "ㅤ \n",
    "## 4.2 조건문"
   ]
  },
  {
   "cell_type": "markdown",
   "id": "1df665bd-02ed-492c-a4f8-a691a55caa5b",
   "metadata": {},
   "source": [
    "#### **# Code Structure**"
   ]
  },
  {
   "cell_type": "markdown",
   "id": "3e201e1b-3344-4e05-9bff-1d609d750e79",
   "metadata": {},
   "source": [
    "- **조건 1개:**"
   ]
  },
  {
   "cell_type": "code",
   "execution_count": 290,
   "id": "2fd11c80-335c-42d9-b67f-76f57c75e1d4",
   "metadata": {},
   "outputs": [],
   "source": [
    "if '조건':\n",
    "    pass # 실행할 코드"
   ]
  },
  {
   "cell_type": "markdown",
   "id": "1e2dddc7-8480-472c-8ec0-cba5a5b34e38",
   "metadata": {},
   "source": [
    "- **조건 2개:**"
   ]
  },
  {
   "cell_type": "code",
   "execution_count": 293,
   "id": "849ca894-2c2d-40fb-bfce-4cfb1d9b5332",
   "metadata": {},
   "outputs": [
    {
     "name": "stdout",
     "output_type": "stream",
     "text": [
      "Yes!\n"
     ]
    }
   ],
   "source": [
    "if 5 < 3:\n",
    "    print('Hmm.')\n",
    "else:\n",
    "    print('Yes!')"
   ]
  },
  {
   "cell_type": "markdown",
   "id": "32322789-24ca-4f8b-adad-373e07e9d00f",
   "metadata": {},
   "source": [
    "- **조건 3개 이상:**"
   ]
  },
  {
   "cell_type": "code",
   "execution_count": 294,
   "id": "6e2d9ef1-f56b-4b44-a81e-2c4dcded58e5",
   "metadata": {},
   "outputs": [
    {
     "name": "stdout",
     "output_type": "stream",
     "text": [
      "Yes!\n"
     ]
    }
   ],
   "source": [
    "a = 3\n",
    "if a < 3:\n",
    "    print('Hmm.')\n",
    "elif a > 3:\n",
    "    print('Well..')\n",
    "else:\n",
    "    print('Yes!')"
   ]
  },
  {
   "cell_type": "markdown",
   "id": "a5ae2e58-f6cc-4514-adb0-e32cb8f6fbb6",
   "metadata": {},
   "source": [
    "ㅤ \n",
    "## 4.3 비교연산자"
   ]
  },
  {
   "cell_type": "markdown",
   "id": "e11e8505-4d87-4ef2-8126-7818d6299954",
   "metadata": {},
   "source": [
    "- x < y, x <= y\n",
    "- x > y, x >= y\n",
    "- x == y (값)\n",
    "- x != y (값)\n",
    "- x is y (값, 메모리 주소)\n",
    "- x is not y"
   ]
  },
  {
   "cell_type": "code",
   "execution_count": 297,
   "id": "f56156c3-d6f6-4412-b6eb-9d7a6e4d37cb",
   "metadata": {},
   "outputs": [
    {
     "name": "stdout",
     "output_type": "stream",
     "text": [
      "True\n"
     ]
    },
    {
     "name": "stderr",
     "output_type": "stream",
     "text": [
      "<>:1: SyntaxWarning: \"is\" with a literal. Did you mean \"==\"?\n",
      "<>:1: SyntaxWarning: \"is\" with a literal. Did you mean \"==\"?\n",
      "C:\\Users\\skyto\\AppData\\Local\\Temp\\ipykernel_4048\\380083254.py:1: SyntaxWarning: \"is\" with a literal. Did you mean \"==\"?\n",
      "  print(3 is 3)\n"
     ]
    }
   ],
   "source": [
    "print(3 is 3)"
   ]
  },
  {
   "cell_type": "code",
   "execution_count": 302,
   "id": "9f9c2730-fdf9-4138-9c48-c5b31836382a",
   "metadata": {},
   "outputs": [
    {
     "name": "stdout",
     "output_type": "stream",
     "text": [
      "False\n",
      "True\n"
     ]
    }
   ],
   "source": [
    "a = [1,2,3]\n",
    "b = [1,2,3]\n",
    "print(a is b)\n",
    "\n",
    "c = b\n",
    "print(c is b)"
   ]
  },
  {
   "cell_type": "markdown",
   "id": "d440a0fd-4cb6-42ad-b652-90e27c79ef20",
   "metadata": {
    "tags": []
   },
   "source": [
    "ㅤ \n",
    "## 4.4 논리연산자"
   ]
  },
  {
   "cell_type": "markdown",
   "id": "daceb5a5-24d9-4296-831a-0a2046971253",
   "metadata": {},
   "source": [
    "- 여러 조건식을 비교할 때\n",
    "- ex) 10 < x < 20\n",
    "    - 파이썬에서만 가능한 표현\n",
    "    \n",
    "    - x > 10 혹은 x < 20\n",
    "- and, &\n",
    "    - 둘다 참일 때 True\n",
    "- or, |\n",
    "    - 둘 중 하나만 참이여도 True\n",
    "- not\n",
    "    - True -> False, False -> True"
   ]
  },
  {
   "cell_type": "code",
   "execution_count": 311,
   "id": "b0cee868-ff83-49e1-bdfe-ea8e6300ed23",
   "metadata": {},
   "outputs": [
    {
     "name": "stdout",
     "output_type": "stream",
     "text": [
      "a is between 2 and 4\n",
      "\n"
     ]
    }
   ],
   "source": [
    "a = 3\n",
    "if (2 < a < 4):\n",
    "    print('a is between 2 and 4', end='\\n\\n')"
   ]
  },
  {
   "cell_type": "code",
   "execution_count": 313,
   "id": "37b59848-6f8a-4327-8df7-c6fa957147b4",
   "metadata": {},
   "outputs": [
    {
     "name": "stdout",
     "output_type": "stream",
     "text": [
      "both numbers are correct.\n",
      "one of the numbers are correct.\n",
      "c is zero\n"
     ]
    }
   ],
   "source": [
    "a = 3\n",
    "b = 5\n",
    "c = 0\n",
    "\n",
    "if a == 3 and b == 5:\n",
    "    print('both numbers are correct.')\n",
    "\n",
    "if a == 2 or b == 5:\n",
    "    print('one of the numbers are correct.')\n",
    "    \n",
    "if not c:\n",
    "    print('c is zero')"
   ]
  },
  {
   "cell_type": "markdown",
   "id": "aeaae35a-163c-4f3b-9fe7-ce6d7c72457e",
   "metadata": {},
   "source": [
    "ㅤ \n",
    "## 4.5 *Review*"
   ]
  },
  {
   "cell_type": "markdown",
   "id": "6719bdf9-6757-4f6e-8ee3-7a212de7671c",
   "metadata": {},
   "source": [
    "### # Quiz 1\n",
    "- 학점 부여하기\n",
    "- 학점을 입력 받아서\n",
    "    - 90점 이상이면 A+,\n",
    "    - 80, B\n",
    "    - 70, C\n",
    "    - 그외, D"
   ]
  },
  {
   "cell_type": "code",
   "execution_count": 304,
   "id": "876f4722-b6bd-4d57-a13e-2f631b2bdb28",
   "metadata": {},
   "outputs": [
    {
     "name": "stdin",
     "output_type": "stream",
     "text": [
      "점수를 입력하세요: 67\n"
     ]
    },
    {
     "name": "stdout",
     "output_type": "stream",
     "text": [
      "학점: D\n"
     ]
    }
   ],
   "source": [
    "testResult = int(input(\"점수를 입력하세요:\"))\n",
    "grade = 'D'\n",
    "\n",
    "if testResult >= 90:\n",
    "    grade = 'A+'\n",
    "elif testResult >= 80:\n",
    "    grade = 'B'\n",
    "elif testResult >= 70:\n",
    "    grade = 'C'\n",
    "print(f\"학점: {grade}\")"
   ]
  },
  {
   "cell_type": "markdown",
   "id": "bff75978-e5f7-46a4-8114-85237854c510",
   "metadata": {},
   "source": [
    "ㅤ   \n",
    "### # Quiz 2\n",
    "- 아이디와 비번 입력 받아서 둘다 일치하면 로그인하기\n",
    "- 아이디, 비번 각자 정해놓기\n",
    "- 일치하지 않을 때에는 창의적으로 어떤 걸로 반환하기"
   ]
  },
  {
   "cell_type": "code",
   "execution_count": 308,
   "id": "2c3de238-bab7-4bb4-a03d-016259e12f05",
   "metadata": {},
   "outputs": [
    {
     "name": "stdin",
     "output_type": "stream",
     "text": [
      "아이디: jw\n",
      "비밀번호: 1@222\n"
     ]
    },
    {
     "name": "stdout",
     "output_type": "stream",
     "text": [
      "비밀번호가 일치하지 않습니다.\n"
     ]
    }
   ],
   "source": [
    "userId = \"jw\"\n",
    "password = \"1@234\"\n",
    "\n",
    "inputId = input(\"아이디:\")\n",
    "inputPassword = input(\"비밀번호:\")\n",
    "\n",
    "if userId == inputId and password == inputPassword:\n",
    "    print(f\"환영합니다 {userId}.\")\n",
    "else:\n",
    "    if userId != inputId:\n",
    "        print(\"아이디가 일치하지 않습니다.\")\n",
    "    elif password != inputPassword:\n",
    "        print(\"비밀번호가 일치하지 않습니다.\")"
   ]
  },
  {
   "cell_type": "markdown",
   "id": "ddb3cfce-c7b8-4876-bf00-6c988ecdf4e2",
   "metadata": {},
   "source": [
    "ㅤ   \n",
    "### # Quiz 3.\n",
    "- 결석 횟수를 받아서 점수가 80점 이상인데 결석이 2번 이상이면 F, 나머지는 점수대로"
   ]
  },
  {
   "cell_type": "code",
   "execution_count": 322,
   "id": "ccea7be0-60b3-450e-a436-74586eb870aa",
   "metadata": {},
   "outputs": [
    {
     "name": "stdin",
     "output_type": "stream",
     "text": [
      "점수를 입력하세요: 69\n",
      "결석 횟수: 2\n"
     ]
    },
    {
     "name": "stdout",
     "output_type": "stream",
     "text": [
      "학점: F\n"
     ]
    }
   ],
   "source": [
    "testResult = int(input(\"점수를 입력하세요:\"))\n",
    "absent = int(input(\"결석 횟수:\"))\n",
    "grade = 'D'\n",
    "\n",
    "if testResult >= 90:\n",
    "    grade = 'A+'\n",
    "elif testResult >= 80:\n",
    "    grade = 'B'\n",
    "elif testResult >= 70:\n",
    "    grade = 'C'\n",
    "\n",
    "if absent >= 2:\n",
    "    grade = 'F'\n",
    "print(f\"학점: {grade}\")"
   ]
  },
  {
   "cell_type": "code",
   "execution_count": null,
   "id": "fbd72434-05e1-403e-97ba-7151f9af141a",
   "metadata": {},
   "outputs": [],
   "source": []
  }
 ],
 "metadata": {
  "kernelspec": {
   "display_name": "Python 3 (ipykernel)",
   "language": "python",
   "name": "python3"
  },
  "language_info": {
   "codemirror_mode": {
    "name": "ipython",
    "version": 3
   },
   "file_extension": ".py",
   "mimetype": "text/x-python",
   "name": "python",
   "nbconvert_exporter": "python",
   "pygments_lexer": "ipython3",
   "version": "3.9.7"
  }
 },
 "nbformat": 4,
 "nbformat_minor": 5
}
