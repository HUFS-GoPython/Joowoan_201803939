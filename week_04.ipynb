{
 "cells": [
  {
   "cell_type": "markdown",
   "id": "96823193-fbc9-41e7-a3b4-3fc7da67f54f",
   "metadata": {},
   "source": [
    "# Ch05. String"
   ]
  },
  {
   "cell_type": "markdown",
   "id": "6cca2b3a-6a9a-4b33-844a-e2afc1ca5da8",
   "metadata": {},
   "source": [
    "ㅤ   \n",
    "## 5.1 String Methods"
   ]
  },
  {
   "cell_type": "markdown",
   "id": "53810e41-9043-4927-9ce4-818ec890a652",
   "metadata": {},
   "source": [
    "method의 형식: .method  \n",
    "\n",
    "- `.count(찾고자 하는 value)`"
   ]
  },
  {
   "cell_type": "code",
   "execution_count": 194,
   "id": "2a9f5077-6a80-4dfc-9afb-fa245ec2c232",
   "metadata": {},
   "outputs": [
    {
     "name": "stdout",
     "output_type": "stream",
     "text": [
      "4\n",
      "3\n"
     ]
    }
   ],
   "source": [
    "a = 'mississippi'\n",
    "print(a.count('s'))\n",
    "\n",
    "b = [0,0,0,1]         # 리스트에도 사용 가능\n",
    "print(b.count(0))"
   ]
  },
  {
   "cell_type": "markdown",
   "id": "9a5a8b34-698e-4ce7-b97d-b263eabfb47e",
   "metadata": {},
   "source": [
    "ㅤ  \n",
    "- `.replace('기존값', '변경값')`"
   ]
  },
  {
   "cell_type": "code",
   "execution_count": 23,
   "id": "5749a548-7875-484c-bfb2-98046df6b199",
   "metadata": {},
   "outputs": [
    {
     "data": {
      "text/plain": [
       "'mizzizzippi'"
      ]
     },
     "execution_count": 23,
     "metadata": {},
     "output_type": "execute_result"
    }
   ],
   "source": [
    "a = 'mississippi'\n",
    "a.replace('s','z')"
   ]
  },
  {
   "cell_type": "markdown",
   "id": "1c10ffdb-4c59-4766-8fb3-1d51d8c4c502",
   "metadata": {},
   "source": [
    "ㅤ  \n",
    "- `.strip()`ㅤㅤㅤㅤ: 공백을 없애주는 method\n",
    "\n",
    "    - `lstrip()`\n",
    "\n",
    "    - `rstrip()`"
   ]
  },
  {
   "cell_type": "code",
   "execution_count": 70,
   "id": "eb839085-b739-4316-acef-99a4b1999ba0",
   "metadata": {},
   "outputs": [
    {
     "name": "stdout",
     "output_type": "stream",
     "text": [
      "| \t    a e s t h e t i c    \t  |\n",
      "| a e s t h e t i c    \t  |\n",
      "| \t    a e s t h e t i c |\n",
      "| a e s t h e t i c |\n"
     ]
    }
   ],
   "source": [
    "title = '\\t    a e s t h e t i c    \\t '\n",
    "\n",
    "print('| ' + title, '|' )\n",
    "print('| ' + title.lstrip(), '|' )\n",
    "print('| ' + title.rstrip(), '|' )\n",
    "print('| ' + title.strip(), '|' )"
   ]
  },
  {
   "cell_type": "markdown",
   "id": "aaf3b786-5808-414c-bfe6-0c83764c8703",
   "metadata": {},
   "source": [
    "ㅤ  \n",
    "ㅤ  \n",
    "- `.find(찾는 값)`ㅤㅤ: 오프셋을 반환한다.\n",
    "    - `.lfind()`\n",
    "\n",
    "    - `.rfind()`\n",
    "    - 공백을 포함해서 찾으며, 중복되는 값이 존재한다면 첫번째 값의 오프셋을 반환\n",
    "    - 찾는 값이 없다면 -1을 반환한다.\n",
    "\n",
    "- `.index(찾는 값)`\n",
    "    - .find()와 비슷하나, 찾는 갑시 없다면 에러가 발생한다."
   ]
  },
  {
   "cell_type": "code",
   "execution_count": 68,
   "id": "5ff276e6-064d-457e-8572-a457cd521807",
   "metadata": {
    "tags": []
   },
   "outputs": [
    {
     "name": "stdout",
     "output_type": "stream",
     "text": [
      "7\n",
      "-1\n"
     ]
    },
    {
     "ename": "ValueError",
     "evalue": "substring not found",
     "output_type": "error",
     "traceback": [
      "\u001b[1;31m---------------------------------------------------------------------------\u001b[0m",
      "\u001b[1;31mValueError\u001b[0m                                Traceback (most recent call last)",
      "Input \u001b[1;32mIn [68]\u001b[0m, in \u001b[0;36m<cell line: 3>\u001b[1;34m()\u001b[0m\n\u001b[0;32m      1\u001b[0m \u001b[38;5;28mprint\u001b[39m(title\u001b[38;5;241m.\u001b[39mfind(\u001b[38;5;124m'\u001b[39m\u001b[38;5;124me\u001b[39m\u001b[38;5;124m'\u001b[39m))   \u001b[38;5;66;03m# 공백을 고려한 인덱스를 반환시킴을 알 수 있다.\u001b[39;00m\n\u001b[0;32m      2\u001b[0m \u001b[38;5;28mprint\u001b[39m(title\u001b[38;5;241m.\u001b[39mfind(\u001b[38;5;124m'\u001b[39m\u001b[38;5;124mz\u001b[39m\u001b[38;5;124m'\u001b[39m))   \u001b[38;5;66;03m# -1\u001b[39;00m\n\u001b[1;32m----> 3\u001b[0m \u001b[38;5;28mprint\u001b[39m(\u001b[43mtitle\u001b[49m\u001b[38;5;241;43m.\u001b[39;49m\u001b[43mindex\u001b[49m\u001b[43m(\u001b[49m\u001b[38;5;124;43m'\u001b[39;49m\u001b[38;5;124;43mz\u001b[39;49m\u001b[38;5;124;43m'\u001b[39;49m\u001b[43m)\u001b[49m)\n",
      "\u001b[1;31mValueError\u001b[0m: substring not found"
     ]
    }
   ],
   "source": [
    "print(title.find('e'))   # 공백을 고려한 인덱스를 반환시킴을 알 수 있다.\n",
    "print(title.find('z'))   # -1\n",
    "print(title.index('z'))  # error"
   ]
  },
  {
   "cell_type": "markdown",
   "id": "52d7aeb9-fb41-4875-92dc-1a8cb6943f24",
   "metadata": {},
   "source": [
    "ㅤ  \n",
    "ㅤ  \n",
    "- 위의 함수들을 중첩해서 사용이 가능하다."
   ]
  },
  {
   "cell_type": "code",
   "execution_count": 75,
   "id": "fadabd3a-bcb1-4230-925e-eb9399726b2c",
   "metadata": {},
   "outputs": [
    {
     "name": "stdout",
     "output_type": "stream",
     "text": [
      "| A e s t h e t i C |\n"
     ]
    }
   ],
   "source": [
    "# 1. 'a'를 'A'로 바꾼다. -> 양 끝의 공백을 제거한다. -> 'c'를 'C'로 바꾼다.\n",
    "\n",
    "modifiedTitle = title.replace('a','A').strip().replace('c','C')\n",
    "print('| ' + modifiedTitle, '|' )"
   ]
  },
  {
   "cell_type": "markdown",
   "id": "f2addbe5-d1d5-4d2a-a164-9d8eb4be2b55",
   "metadata": {},
   "source": [
    "ㅤ   \n",
    "## 5.2 NLTK"
   ]
  },
  {
   "cell_type": "markdown",
   "id": "a85da4b8-3e89-40db-93b0-f5cc5a6e57bd",
   "metadata": {
    "tags": []
   },
   "source": [
    "### **# NLTK import 형식**"
   ]
  },
  {
   "cell_type": "code",
   "execution_count": 1,
   "id": "dd93aa1c-6104-4147-b786-24e33b0816a2",
   "metadata": {},
   "outputs": [
    {
     "name": "stdout",
     "output_type": "stream",
     "text": [
      "*** Introductory Examples for the NLTK Book ***\n",
      "Loading text1, ..., text9 and sent1, ..., sent9\n",
      "Type the name of the text or sentence to view it.\n",
      "Type: 'texts()' or 'sents()' to list the materials.\n",
      "text1: Moby Dick by Herman Melville 1851\n",
      "text2: Sense and Sensibility by Jane Austen 1811\n",
      "text3: The Book of Genesis\n",
      "text4: Inaugural Address Corpus\n",
      "text5: Chat Corpus\n",
      "text6: Monty Python and the Holy Grail\n",
      "text7: Wall Street Journal\n",
      "text8: Personals Corpus\n",
      "text9: The Man Who Was Thursday by G . K . Chesterton 1908\n"
     ]
    },
    {
     "data": {
      "text/plain": [
       "True"
      ]
     },
     "execution_count": 1,
     "metadata": {},
     "output_type": "execute_result"
    }
   ],
   "source": [
    "import nltk\n",
    "from nltk.book import *\n",
    "nltk.download('book', quiet=True)"
   ]
  },
  {
   "cell_type": "markdown",
   "id": "fc586429-b08f-4091-af16-0ad0cc113037",
   "metadata": {},
   "source": [
    "ㅤ    \n",
    "### **# NLTK Methods**"
   ]
  },
  {
   "cell_type": "markdown",
   "id": "0053e60e-c9bf-45e2-8329-657b660a22bb",
   "metadata": {},
   "source": [
    "ㅤ    \n",
    ": list.method(var)  \n",
    "→ 자연어 처리와 관련된 함수들\n",
    "\n",
    "- `.concordance()`  : 주어진 단어를 중심으로 앞, 뒤 문맥을 보여준다.  \n"
   ]
  },
  {
   "cell_type": "code",
   "execution_count": 76,
   "id": "827580cd-7b96-440d-a75b-89f07ba60bc5",
   "metadata": {},
   "outputs": [
    {
     "name": "stdout",
     "output_type": "stream",
     "text": [
      "Displaying 8 of 8 matches:\n",
      "kers of Geneva . 10 , 800 barrels of beer . Most statistical tables are parchi\n",
      "o the studious digesting of all this beer , beef , and bread , during which ma\n",
      "mpers of train oil . The quantity of beer , too , is very large , 10 , 800 bar\n",
      "y , we have precisely two barrels of beer per man , for a twelve weeks ' allow\n",
      "of gin . Now , whether these gin and beer harpooneers , so fuddled as one migh\n",
      "far North , be it remembered , where beer agrees well with the constitution ; \n",
      " Equator , in our southern fishery , beer would be apt to make the harpooneer \n",
      "rewery - men go round collecting old beer barrels , to fill ' em up again . Wh\n"
     ]
    }
   ],
   "source": [
    "text1.concordance('beer')"
   ]
  },
  {
   "cell_type": "markdown",
   "id": "be1df6d2-c1f5-4e83-91ef-41e49e0c78a3",
   "metadata": {},
   "source": [
    "ㅤ      \n",
    "ㅤ    \n",
    "- `.similar()` : 주어진 단어 대신 사용된 횟수가 높은 단어들을 반환."
   ]
  },
  {
   "cell_type": "code",
   "execution_count": 78,
   "id": "f466a41c-bfff-4e16-99b6-2ec5e42576ec",
   "metadata": {},
   "outputs": [
    {
     "name": "stdout",
     "output_type": "stream",
     "text": [
      "whale ship head sea captain time line deck body world fish other man\n",
      "way fishery air crew hand side wind\n"
     ]
    }
   ],
   "source": [
    "text1.similar('boat')"
   ]
  },
  {
   "cell_type": "markdown",
   "id": "18f5dbb7-5629-4103-9f66-157bd397f723",
   "metadata": {},
   "source": [
    "ㅤ      \n",
    "ㅤ    \n",
    "- `.common_contexts()` : 주어진 단어들의 공통 문맥을 보여준다."
   ]
  },
  {
   "cell_type": "code",
   "execution_count": 83,
   "id": "5bfc9b88-6fd3-428f-b7e4-d0fcda255907",
   "metadata": {},
   "outputs": [
    {
     "name": "stdout",
     "output_type": "stream",
     "text": [
      "the_s the_and the_the the_which a_in a_is the_had the_so the_all a_and\n",
      "the_but the_for the_be a_yet flying_with a_it a_because the_they\n",
      "this_it a_that\n"
     ]
    }
   ],
   "source": [
    "text1.common_contexts([\"whale\", \"fish\"])"
   ]
  },
  {
   "cell_type": "markdown",
   "id": "a599a34a-a986-4421-b3d3-407779cd1d2d",
   "metadata": {},
   "source": [
    "ㅤ      \n",
    "ㅤ    \n",
    "- `.dispersion_plot()` : 단어가 전체 텍스트에서 출현하는 위치를 시각화한 그래프를 반환한다.\n",
    "\n",
    "    - 사용하기 위해서는 **matplotlib**를 설치"
   ]
  },
  {
   "cell_type": "code",
   "execution_count": 140,
   "id": "e85c5d8b-e8d4-45bf-bbff-38d208e4662c",
   "metadata": {},
   "outputs": [
    {
     "data": {
      "image/png": "[encoded data removed]",
      "text/plain": [
       "<Figure size 432x288 with 1 Axes>"
      ]
     },
     "metadata": {
      "needs_background": "light"
     },
     "output_type": "display_data"
    }
   ],
   "source": [
    "# !pip install matplotlib\n",
    "text5.dispersion_plot([':(', ':O', ':)'])"
   ]
  },
  {
   "cell_type": "markdown",
   "id": "35f130e5-cab8-4ac9-a983-fea06dccfe53",
   "metadata": {},
   "source": [
    "ㅤ    ㅤ  \n",
    "ㅤ    ㅤ  \n",
    "## 5.2.1 Frequency Distribution"
   ]
  },
  {
   "cell_type": "markdown",
   "id": "700b6b95-106b-43d1-995f-a4eb186ccc46",
   "metadata": {},
   "source": [
    "ㅤ    ㅤ  \n",
    "`FreqDist(분석하고자 하는 텍스트)`\n",
    "- 단어의 **빈도수**를 구하고 싶을 때 유용한 함수이다.\n",
    "\n",
    "    - 전체 단어 수\n",
    "    - 특정 단어의 빈도수  \n",
    "ㅤ      \n",
    "- 딕셔너리(Dictionary)를 반환한다.\n",
    "  \n",
    "- 단어 빈도수가 중요한 이유:  \n",
    "\n",
    "ㅤ → 컴퓨터가 인간 언어를 분석, 인식하는데 도움이 되는 자료를 제공"
   ]
  },
  {
   "cell_type": "markdown",
   "id": "11ee1227-c507-46a3-ab18-2fd38851710e",
   "metadata": {},
   "source": [
    "ㅤ    \n",
    "### **# 사용하는 방법**"
   ]
  },
  {
   "cell_type": "code",
   "execution_count": 111,
   "id": "b7723eaa-3ede-41b0-aa87-6f0b5bd34b11",
   "metadata": {},
   "outputs": [
    {
     "data": {
      "text/plain": [
       "FreqDist({'.': 1268, 'JOIN': 1021, 'PART': 1016, '?': 737, 'lol': 704, 'to': 658, 'i': 648, 'the': 646, 'you': 635, ',': 596, ...})"
      ]
     },
     "execution_count": 111,
     "metadata": {},
     "output_type": "execute_result"
    }
   ],
   "source": [
    "from nltk import FreqDist\n",
    "fdist = FreqDist(text5)\n",
    "fdist"
   ]
  },
  {
   "cell_type": "markdown",
   "id": "f532072e-c309-4490-b131-bb4fb9671667",
   "metadata": {},
   "source": [
    "ㅤ    \n",
    "### **# Methods**"
   ]
  },
  {
   "cell_type": "markdown",
   "id": "172982b4-1d46-4e2e-a2b7-63ea067d491f",
   "metadata": {},
   "source": [
    "\n",
    "- `.most_common(n)` : 빈도수가 가장 높은 단어 n개를 빈도수와 함께 출력한다."
   ]
  },
  {
   "cell_type": "code",
   "execution_count": 112,
   "id": "ba200ffa-165d-4423-9643-78c6e2036db4",
   "metadata": {},
   "outputs": [
    {
     "data": {
      "text/plain": [
       "[('.', 1268),\n",
       " ('JOIN', 1021),\n",
       " ('PART', 1016),\n",
       " ('?', 737),\n",
       " ('lol', 704),\n",
       " ('to', 658),\n",
       " ('i', 648),\n",
       " ('the', 646),\n",
       " ('you', 635),\n",
       " (',', 596)]"
      ]
     },
     "execution_count": 112,
     "metadata": {},
     "output_type": "execute_result"
    }
   ],
   "source": [
    "fdist.most_common(10)"
   ]
  },
  {
   "cell_type": "markdown",
   "id": "161d856d-8f24-4d12-9e77-a18bb25a6867",
   "metadata": {},
   "source": [
    "ㅤ      \n",
    "ㅤ    \n",
    "- `FreqDist(텍스트)[단어]` : 특정 단어의 빈도수를 출력한다."
   ]
  },
  {
   "cell_type": "code",
   "execution_count": 127,
   "id": "3b7b617f-75bc-466d-a5f2-1291fc1767b1",
   "metadata": {},
   "outputs": [
    {
     "data": {
      "text/plain": [
       "635"
      ]
     },
     "execution_count": 127,
     "metadata": {},
     "output_type": "execute_result"
    }
   ],
   "source": [
    "# text5.count('you')\n",
    "# FreqDist(text5)['you']\n",
    "\n",
    "fdist['you']"
   ]
  },
  {
   "cell_type": "markdown",
   "id": "319977cc-8bdd-4ee1-808d-0c784bc88503",
   "metadata": {},
   "source": [
    "ㅤ      \n",
    "ㅤ    \n",
    "- `.plot()` : 단어들의 빈도수를 그래프로 표현한다."
   ]
  },
  {
   "cell_type": "code",
   "execution_count": 137,
   "id": "31ad7b94-af13-4411-861c-6557e23e63cf",
   "metadata": {},
   "outputs": [
    {
     "data": {
      "image/png": "[encoded data removed]",
      "text/plain": [
       "<Figure size 432x288 with 1 Axes>"
      ]
     },
     "metadata": {
      "needs_background": "light"
     },
     "output_type": "display_data"
    },
    {
     "data": {
      "text/plain": [
       "<AxesSubplot:xlabel='Samples', ylabel='Cumulative Counts'>"
      ]
     },
     "execution_count": 137,
     "metadata": {},
     "output_type": "execute_result"
    }
   ],
   "source": [
    "fdist.plot(50, cumulative=True)   # cumulative: 제일 빈번한 것부터 몇개까지 축적   # 그래프가 완만해질수록 단어 빈도수 감소."
   ]
  },
  {
   "cell_type": "code",
   "execution_count": 134,
   "id": "7b415651-1ff1-4c80-81b7-3c854c73f321",
   "metadata": {},
   "outputs": [
    {
     "data": {
      "image/png": "[encoded data removed]",
      "text/plain": [
       "<Figure size 432x288 with 1 Axes>"
      ]
     },
     "metadata": {
      "needs_background": "light"
     },
     "output_type": "display_data"
    },
    {
     "data": {
      "text/plain": [
       "<AxesSubplot:xlabel='Samples', ylabel='Counts'>"
      ]
     },
     "execution_count": 134,
     "metadata": {},
     "output_type": "execute_result"
    }
   ],
   "source": [
    "fdist.plot(50, cumulative=False)   # 축적을 False로 설정하였으므로 빈도수가 가장 높은 단어부터 감소 그래프를 보여준다."
   ]
  },
  {
   "cell_type": "markdown",
   "id": "01731886-cec5-4f34-ad0f-46798c7996f1",
   "metadata": {},
   "source": [
    "ㅤ      \n",
    "ㅤ    \n",
    "- `.hapaxes()` : 전체 텍스트에서 오직 한 번 출현하는 단어들을 리스트로 반환한다."
   ]
  },
  {
   "cell_type": "code",
   "execution_count": 139,
   "id": "045de888-a7e9-4694-9521-5e0a4d1ed688",
   "metadata": {},
   "outputs": [
    {
     "data": {
      "text/plain": [
       "[':@',\n",
       " 'thunder',\n",
       " 'ladis',\n",
       " 'draw',\n",
       " 'penis',\n",
       " 'docs',\n",
       " 'Connected',\n",
       " 'Slip',\n",
       " 'Fade',\n",
       " 'Still']"
      ]
     },
     "execution_count": 139,
     "metadata": {},
     "output_type": "execute_result"
    }
   ],
   "source": [
    "fdist.hapaxes()[:10]"
   ]
  },
  {
   "cell_type": "code",
   "execution_count": 147,
   "id": "a3b101b9-4e87-4409-aedb-c032d3d41b9f",
   "metadata": {},
   "outputs": [
    {
     "data": {
      "text/plain": [
       "3531"
      ]
     },
     "execution_count": 147,
     "metadata": {},
     "output_type": "execute_result"
    }
   ],
   "source": [
    "len(fdist.hapaxes())   # fdist는 딕셔너리이므로 중복이 제거된 상태이다. (대, 소문자는 구분)"
   ]
  },
  {
   "cell_type": "markdown",
   "id": "e997df30-6735-48ce-b178-daee8e92f75a",
   "metadata": {},
   "source": [
    "<br><br>\n",
    "\n",
    "------\n",
    "# Ch06. List"
   ]
  },
  {
   "cell_type": "markdown",
   "id": "a31dcc11-af54-4cb9-bfe1-55c15c0fd266",
   "metadata": {},
   "source": [
    "ㅤ    \n",
    "### **# 리스트의 성질**"
   ]
  },
  {
   "cell_type": "markdown",
   "id": "1322e3d8-e3fe-49a5-92a9-c9be72233811",
   "metadata": {},
   "source": [
    "- 리스트: 배열(array), 리스트(list)\n",
    "\n",
    "- 하나의 변수에 여러 값을 할당할 수 있는 자료형\n",
    "    - `a = [1,2,3,4]`    (대괄호로 선언한다)\n",
    "\n",
    "\n",
    "- 내부 요소들은 자료형이 달라도 된다.\n",
    "    - a = [1, True, 'hello']   \n",
    "\n",
    "\n",
    "- 순서가 있으므로 => 인덱싱, 슬라이싱이 가능하다.  \n",
    "\n",
    "- 빈 리스트를 선언하는 것이 가능하다.\n",
    "    - list()\n",
    "    - []"
   ]
  },
  {
   "cell_type": "code",
   "execution_count": 150,
   "id": "df6059d7-7e77-4ebe-8472-9164cf28be04",
   "metadata": {},
   "outputs": [
    {
     "name": "stdout",
     "output_type": "stream",
     "text": [
      "False\n",
      "['tomato', 100]\n",
      "[]\n"
     ]
    }
   ],
   "source": [
    "bowl = [False, 'tomato', 100]\n",
    "\n",
    "# 인덱싱\n",
    "print(bowl[0])\n",
    "\n",
    "# 슬라이싱\n",
    "anotherBowl = bowl[1:]\n",
    "print(anotherBowl)\n",
    "\n",
    "# 빈 리스트 선언\n",
    "emptyBowl = []\n",
    "print(emptyBowl)\n"
   ]
  },
  {
   "cell_type": "markdown",
   "id": "0824f8d3-ea0e-4e64-882c-4e907c7b4f99",
   "metadata": {
    "tags": []
   },
   "source": [
    "ㅤ    \n",
    "## 6.1 List Comprehension"
   ]
  },
  {
   "cell_type": "markdown",
   "id": "f4bbc10f-dd9a-4ab1-879c-0c126c3831d9",
   "metadata": {},
   "source": [
    "- 지능형 리스트  \n",
    "\n",
    "- 주어진 리스트를 포함하는 새로운 리스트를 형성하는 것\n",
    "- list + for _ loop 한 줄로 해결하는 방식\n",
    "\n",
    "### **형식**: \n",
    "- [A for A' in B]\n",
    "    - B에 있는 A'에서 A를 가진 리스트를 반환  \n",
    "\n",
    "    - B: 기존의 리스트\n",
    "    - A': B의 자료형태\n",
    "    - A: 새로운 리스트의 요소  \n",
    "\n",
    "ㅤ     \n",
    "조건을 적용:\n",
    "- [A **for** A' **in** B **if** <조건식>, ...]\n",
    "    - [ A **for** A' **in** B **if** <조건식> **and** <조건식> ]"
   ]
  },
  {
   "cell_type": "markdown",
   "id": "c27b2415-72db-4846-a264-009ff52131e3",
   "metadata": {},
   "source": [
    "ㅤ    \n",
    "### **# 접근 방식**"
   ]
  },
  {
   "cell_type": "code",
   "execution_count": 163,
   "id": "bbf23f8b-bbb6-4026-aa1a-c1395bdc7c5d",
   "metadata": {},
   "outputs": [
    {
     "name": "stdout",
     "output_type": "stream",
     "text": [
      "['sprite', 'coke', 'rootbeer']\n",
      "['s', 'c', 'r']\n",
      "['sprite', 'rootbeer']\n",
      "\n",
      "\n",
      "\n"
     ]
    }
   ],
   "source": [
    "fridge = ['sprite', 'coke', 'rootbeer']\n",
    "\n",
    "print([drinks for drinks in fridge])\n",
    "print([drinks[0] for drinks in fridge])\n",
    "\n",
    "# 조건에 부합하는 리스트의 요소만 포함시킨다.\n",
    "print([drinks for drinks in fridge if len(drinks) > 4])\n",
    "\n",
    "print('\\n\\n')"
   ]
  },
  {
   "cell_type": "code",
   "execution_count": 187,
   "id": "d1a96297-9d91-40fe-b52c-6c4f73580454",
   "metadata": {},
   "outputs": [
    {
     "name": "stdout",
     "output_type": "stream",
     "text": [
      "['sovereignty', 'sovereignties', 'Sovereignty']\n",
      "['SOVEREIGNTY', 'SOVEREIGNTIES', 'SOVEREIGNTY']\n",
      "\n",
      "{'sovereignties', 'Sovereignty', 'sovereignty'}\n",
      "{'SOVEREIGNTIES', 'SOVEREIGNTY'}\n"
     ]
    }
   ],
   "source": [
    "print([word for word in set(text4) if 'gnt' in word])\n",
    "print([word.upper() for word in set(text4) if 'gnt' in word])    # 중복을 제거한 후, 조건에 맞는 단어들을 추출한 후, 대문자로 변환한다.\n",
    "                                                                 # 대문자로 변환했기 때문에 대문자로 변환한 상태에서는 중복이 존재할 수 있다.\n",
    "\n",
    "print()\n",
    "\n",
    "print(set([word for word in text4 if 'gnt' in word]))\n",
    "print(set([word.upper() for word in text4 if 'gnt' in word]))    # 조건에 맞는 단어들을 추출한 후, 대문자로 변환한 후, 중복을 제거한다."
   ]
  },
  {
   "cell_type": "markdown",
   "id": "58ec13cc-0e8a-45ef-bae5-51626ac60981",
   "metadata": {},
   "source": [
    "ㅤ    \n",
    "## 6.2 조건을 위한 함수"
   ]
  },
  {
   "cell_type": "markdown",
   "id": "b3a0c052-a341-4a27-b663-5e8e6aed5423",
   "metadata": {},
   "source": [
    "- 대, 소문자 변환:\n",
    "    - `.upper()`\n",
    "\n",
    "    - `.lower()`\n",
    "    - `.title()`\n",
    "    - `.capitalize()`\n",
    "    - `.swapcase()`  \n",
    "\n",
    "cf) 'the' 와 'The'는 같은 값이 아니다."
   ]
  },
  {
   "cell_type": "code",
   "execution_count": 206,
   "id": "c5504201-f82c-4e00-a9d8-2083c6538ca7",
   "metadata": {},
   "outputs": [
    {
     "name": "stdout",
     "output_type": "stream",
     "text": [
      "HELLO MISSISSIPPI\n",
      "hello mississippi\n",
      "Hello Mississippi\n",
      "Hello mississippi\n",
      "hELLO MIssISSIppI\n"
     ]
    }
   ],
   "source": [
    "a = 'Hello miSSissiPPi'\n",
    "\n",
    "print(a.upper())\n",
    "print(a.lower())\n",
    "\n",
    "print(a.title())      # 문장의 모든 단어의 첫 글자를 대문자로 바꿔준다.\n",
    "print(a.capitalize()) # 문장의 첫 단어의 첫 글자만 대문자로 바꿔준다.\n",
    "\n",
    "print(a.swapcase())   # 기존의 대, 소문자를 반대로 적용시킨다."
   ]
  },
  {
   "cell_type": "markdown",
   "id": "f66ec243-243c-4d24-a14c-370f2e6b996f",
   "metadata": {},
   "source": [
    "ㅤ      \n",
    "- 진리값 반환:\n",
    "    - `.isupper()`\n",
    "\n",
    "    - `.islower()`\n",
    "    - `.istitle()`\n",
    "    - `.endswith()`\n",
    "    - `.startswith()`  \n",
    "    - `.isalpha()`\n"
   ]
  },
  {
   "cell_type": "code",
   "execution_count": 232,
   "id": "1e351264-ed30-4f57-9255-25ebf7879bc0",
   "metadata": {},
   "outputs": [
    {
     "name": "stdout",
     "output_type": "stream",
     "text": [
      "False\n",
      "True\n",
      "True\n",
      "False\n",
      "\n",
      "True\n",
      "False\n",
      "False\n"
     ]
    }
   ],
   "source": [
    "a = 'Hello miSSissiPPi'\n",
    "\n",
    "print(a[1].isupper())\n",
    "print(a[1].islower())\n",
    "print(a.endswith('i'))\n",
    "print(a.istitle())     # istitle이 성립하기 위해서는 단어당 앞 글자만 대문자여야 한다. 단어 중간에 대문자가 나타날 경우 False 반환.\n",
    "\n",
    "print()\n",
    "\n",
    "print(a.endswith('i'))\n",
    "print(a.startswith('i'))\n",
    "print(a.isalpha())     # 공백이 포함되면 isalpha로 인정을 해주지 않는다."
   ]
  },
  {
   "cell_type": "markdown",
   "id": "d42099f4-6542-40e7-af9d-2ae6dfb97765",
   "metadata": {},
   "source": [
    "ㅤ \n",
    "## 6.3 *Review*"
   ]
  },
  {
   "cell_type": "markdown",
   "id": "9cc7ac76-9aeb-43c2-ac7a-ae53ed5e5f66",
   "metadata": {},
   "source": [
    "### # Quiz 1\n",
    "- text1에서 'ableness'로 끝나는 단어를 반환"
   ]
  },
  {
   "cell_type": "code",
   "execution_count": 4,
   "id": "e1bd4fa3-8fd0-45be-83f4-7b2951529bf0",
   "metadata": {},
   "outputs": [
    {
     "data": {
      "text/plain": [
       "['uncomfortableness',\n",
       " 'comfortableness',\n",
       " 'intolerableness',\n",
       " 'immutableness',\n",
       " 'indomitableness',\n",
       " 'reasonableness',\n",
       " 'indispensableness',\n",
       " 'indomitableness',\n",
       " 'honourableness',\n",
       " 'palpableness']"
      ]
     },
     "execution_count": 4,
     "metadata": {},
     "output_type": "execute_result"
    }
   ],
   "source": [
    "[word for word in text1 if word.endswith('ableness')]"
   ]
  },
  {
   "cell_type": "markdown",
   "id": "97bc3502-384f-461b-b4cb-4c80a5a3c5c9",
   "metadata": {},
   "source": [
    "ㅤ   \n",
    "### # Quiz 2\n",
    "- text3에서 대문자로 시작하는 단어들 중에 길이가 3이상인 단어들을 중복없이 뽑은 후, 대문자로 변환하라."
   ]
  },
  {
   "cell_type": "code",
   "execution_count": 26,
   "id": "6dab8d50-84f4-447e-9ae2-38bef69ac978",
   "metadata": {},
   "outputs": [
    {
     "name": "stdout",
     "output_type": "stream",
     "text": [
      "\n"
     ]
    }
   ],
   "source": [
    "# 중복을 먼저 없앴기 때문에 대문자로 변환하는 과정에서 중복이 다시 생길 수 있다. ( 중복 제거 후 연산 )\n",
    "# word[0].isupper() 대신 word.istitle()로 대체 가능\n",
    "\n",
    "[word.upper() for word in set(text3) if word[0].isupper() and len(word) >= 3]\n",
    "\n",
    "\n",
    "# 중복 없이 추출하는 것을 나중으로 미루고 싶다면 set을 마지막에 씌워준다.       ( 연산 후 중복 제거 )\n",
    "\n",
    "set([word.upper() for word in text3 if word[0].isupper() and len(word) >= 3])\n",
    "\n",
    "print()"
   ]
  },
  {
   "cell_type": "markdown",
   "id": "3cc244ad-a355-4a10-8785-cb075efd810c",
   "metadata": {},
   "source": [
    "ㅤ   \n",
    "### # Quiz 3\n",
    "-  text4 에서 알파벳인 단어 중, 길이가 4개 이상이고, 빈도수가 5이상 단어의 길이 반환"
   ]
  },
  {
   "cell_type": "code",
   "execution_count": 72,
   "id": "912af89a-cbb2-4e9e-8e13-fccf5d014987",
   "metadata": {},
   "outputs": [
    {
     "data": {
      "text/plain": [
       "[6, 8, 6, 5, 15, 12, 8, 4, 5, 5]"
      ]
     },
     "execution_count": 72,
     "metadata": {},
     "output_type": "execute_result"
    }
   ],
   "source": [
    "from nltk import FreqDist\n",
    "fdist = FreqDist(text4)\n",
    "\n",
    "# 방법 1: : Dictionary 이용\n",
    "[len(key) for key, value in fdist.items() if key.isalpha() and len(key) >= 4 and fdist[key] >= 5][:10]\n",
    "\n",
    "# 방법 2\n",
    "[len(word) for word in text4 if word.isalpha() and len(word) >= 4 and fdist[word] >= 5][:10]\n",
    "\n",
    "# count 변수를 두고 조건을 만족시킬 때마다 count를 세는 방법도 있긴 하지만 최종 빈도수를 그 순간에 알 수 없으므로 비효율적이다.\n"
   ]
  },
  {
   "cell_type": "markdown",
   "id": "a87911b2-b139-4f8b-89e4-7cee75f19f2c",
   "metadata": {},
   "source": [
    "ㅤ   ㅤ \n",
    "ㅤ   \n",
    "## 6.4 List, String"
   ]
  },
  {
   "cell_type": "markdown",
   "id": "9862468f-ec0b-40ce-be96-fd9f447772da",
   "metadata": {},
   "source": [
    "- `.split()`:ㅤstring을 인자로 받고 -> list를 반환\n",
    "\n",
    "- `.join()`:ㅤ list를 인자로 받고 -> str를 반환"
   ]
  },
  {
   "cell_type": "code",
   "execution_count": 103,
   "id": "690103c6-3fa5-4116-95fa-18443f723b84",
   "metadata": {},
   "outputs": [
    {
     "name": "stdout",
     "output_type": "stream",
     "text": [
      "['These', 'will', 'be', 'chopped']\n",
      "These*will*be*chopped\n"
     ]
    }
   ],
   "source": [
    "salad = 'These will be chopped'\n",
    "\n",
    "# .split() : 문자열을 리스트로\n",
    "bowl = salad.split()\n",
    "print(bowl)\n",
    "\n",
    "# .join(): 리스트를 문자열로\n",
    "dish = '*'.join(bowl)\n",
    "print(dish)\n"
   ]
  },
  {
   "cell_type": "markdown",
   "id": "c9efe0e5-d71c-42d9-adac-9a2db50cce78",
   "metadata": {},
   "source": [
    "ㅤ     \n",
    "### # Quiz 4\n",
    "쉼표와 공백을 제거한 채로 sent의 순수 단어들만 분리시키기  \n",
    "\n",
    "- sent = \"I, am, thirsty\"  \n",
    ".split() 결과: `['I', ' am', ' thirsty']`\n"
   ]
  },
  {
   "cell_type": "code",
   "execution_count": 101,
   "id": "c67dd55d-c8c8-4fe4-9143-af30f19125bb",
   "metadata": {},
   "outputs": [
    {
     "name": "stdout",
     "output_type": "stream",
     "text": [
      "['I', ' am', ' thirsty']\n",
      "\n",
      "['I', 'am', 'thirsty']\n",
      "['I', 'am', 'thirsty']\n"
     ]
    }
   ],
   "source": [
    "sent = \"I, am, thirsty\"\n",
    "print(sent.split(','))\n",
    "\n",
    "print()\n",
    "\n",
    "# 방법 1: split을 한 후, list comprehension으로 단어별 공백 제거\n",
    "sent1 = sent.split(',')\n",
    "sent1 = [word.strip() for word in sent1]\n",
    "print(sent1)\n",
    "\n",
    "# 방법 2: 공백을 먼저 제거시킨 후 split\n",
    "sent2 = sent.replace(' ','').split(',')\n",
    "print(sent2)"
   ]
  },
  {
   "cell_type": "markdown",
   "id": "24e73eeb-2e91-480d-b956-761e38325afb",
   "metadata": {},
   "source": [
    "<br><br>\n",
    "\n",
    "------\n",
    "# Ch07. 반복문"
   ]
  },
  {
   "cell_type": "markdown",
   "id": "90b0f85a-eddf-49d6-aaa1-731c38a1f77a",
   "metadata": {},
   "source": [
    "- list comprehension에서도 for 반복문을 사용했다:  \n",
    "    - `[word for word in text1]`\n",
    "\n",
    "    - 자료구조를 순회할 때 사용한다.\n",
    "- 정해진 동작을 반복적으로 수행하고 싶을 때 사용한다.     \n",
    " ㅤ     \n",
    "\n",
    "### **형식**: \n",
    "\n",
    "- 시작조건, 종료조건, 수행명령으로 구성되어 있다.  \n",
    "\n",
    "    - **for** 요소 **in** 반복범위:  \n",
    "    ㅤ   **수행 명령**\n",
    "\n",
    "\n",
    "- 반복문의 종류:\n",
    "    - for\n",
    "\n",
    "    - while\n",
    "- 들여쓰기를 통해 각 블록별로 논리구조를 구분시킨다.  \n",
    "- 루프 내 무한히 반복하는 것을 조심해야 한다.\n",
    "\n"
   ]
  },
  {
   "cell_type": "markdown",
   "id": "5597cefa-1241-4b19-ba97-77858c827f51",
   "metadata": {
    "tags": []
   },
   "source": [
    "ㅤ    \n",
    "### **# for문 접근 방식**"
   ]
  },
  {
   "cell_type": "code",
   "execution_count": 118,
   "id": "561c08b1-892d-42ca-9777-2daefe380b3a",
   "metadata": {},
   "outputs": [
    {
     "name": "stdout",
     "output_type": "stream",
     "text": [
      "SCENE\n",
      "1\n",
      ":\n",
      "[\n",
      "wind\n",
      "]\n",
      "[\n",
      "clop\n",
      "clop\n",
      "clop\n",
      "\n",
      "yarn\n",
      "pin\n",
      "silk\n"
     ]
    }
   ],
   "source": [
    "# for문이 text6에 있는 단어별로 출력 명령을 반복한다.\n",
    "for word in text6[:10]:\n",
    "    print(word)\n",
    "\n",
    "print()\n",
    "\n",
    "# basket라는 리스트 내 요소들을 돌면서 출력 명령을 반복한다.\n",
    "basket = ['yarn', 'pin', 'silk']\n",
    "for thing in basket:\n",
    "    print(thing)"
   ]
  },
  {
   "cell_type": "markdown",
   "id": "3202b9c3-a804-4362-8b6e-aac1603edc2c",
   "metadata": {},
   "source": [
    "ㅤ    \n",
    "### **# `range()` 함수 활용**"
   ]
  },
  {
   "cell_type": "code",
   "execution_count": 120,
   "id": "72a22fc4-cbb4-4732-80fd-5c85b6220a7b",
   "metadata": {},
   "outputs": [
    {
     "name": "stdout",
     "output_type": "stream",
     "text": [
      "1\n",
      "3\n",
      "5\n",
      "7\n",
      "9\n"
     ]
    }
   ],
   "source": [
    "# 숫자 반복: range(start, end, step):\n",
    "\n",
    "# start을 명시하지 않고 end값만 있어도 상관없다. 그럴 경우 start = 0\n",
    "# step을 명시하지 않을 경우 step = 1\n",
    "\n",
    "for i in range(1, 10, 2): # i가 1부터 10까지 2씩 증가한다.\n",
    "    print(i)\n"
   ]
  },
  {
   "cell_type": "markdown",
   "id": "b025d5cd-1aaa-49ab-9695-de5a5ef6f990",
   "metadata": {},
   "source": [
    "ㅤ     \n",
    "### # Quiz 5\n",
    "text 1-9 각 텍스트의 단어 수를 반환시키기\n",
    "- 10만, 20만, 24만, ..."
   ]
  },
  {
   "cell_type": "code",
   "execution_count": 133,
   "id": "54dfaac8-b67d-4706-9f84-91569671ac83",
   "metadata": {},
   "outputs": [
    {
     "name": "stdout",
     "output_type": "stream",
     "text": [
      "text0: 260819\n",
      "text1: 141576\n",
      "text2: 44764\n",
      "text3: 152901\n",
      "text4: 45010\n",
      "text5: 16967\n",
      "text6: 100676\n",
      "text7: 4867\n",
      "text8: 69213\n"
     ]
    }
   ],
   "source": [
    "# text 1부터 9까지 리스트로 묶는다.\n",
    "textGroup = [text1, text2, text3, text4, text5, text6, text7, text8, text9]\n",
    "\n",
    "for i in range(len(textGroup)):\n",
    "    print(f'text{i}: {len(textGroup[i])}')\n",
    "    "
   ]
  },
  {
   "cell_type": "markdown",
   "id": "ea64f95a-cd62-41f6-b299-6983aab4c941",
   "metadata": {},
   "source": [
    "ㅤ   ㅤ \n",
    "ㅤ   \n",
    "## 7.2 출력 포매팅"
   ]
  },
  {
   "cell_type": "markdown",
   "id": "5d7ed1f1-4e70-4dec-a3a0-8be28427c70c",
   "metadata": {},
   "source": [
    "### **형식**: \n",
    "1. `f'str...{var}'` ㅤ   (f, F 둘다 가능)  \n",
    "    \n",
    "\n",
    "2. `%`  \n",
    "\n",
    "    '... %s ' %var  \n",
    "\n",
    "3. `.format()`  \n",
    "\n",
    "    '...{}'.format(var)"
   ]
  },
  {
   "cell_type": "markdown",
   "id": "a1e42bbe-6fcd-4ffb-87de-cb91404cb8f8",
   "metadata": {},
   "source": [
    "ㅤ    \n",
    "### **# 출력 방식 비교**"
   ]
  },
  {
   "cell_type": "code",
   "execution_count": 163,
   "id": "592643cb-4241-47f5-a6e4-c841daca6c31",
   "metadata": {},
   "outputs": [
    {
     "name": "stdout",
     "output_type": "stream",
     "text": [
      "I am Santa\n",
      "I am Santa\n",
      "I am Santa\n"
     ]
    }
   ],
   "source": [
    "# 3가지 방법의 출력 포매팅\n",
    "# 세 가지 방법들은 가독성에서의 차이가 존재한다.\n",
    "\n",
    "name = 'Santa'\n",
    "\n",
    "# fstring\n",
    "print(f'I am {name}')          # 변수명을 직접적으로 써준다.\n",
    "\n",
    "# %\n",
    "print('I am %s' %name)         # 문자열 내 자료형에 맞춰 %을 써줘야 한다. (%s, %d, %f ... )\n",
    "\n",
    "# .format\n",
    "print('I am {}'.format(name))  # {}안에 번호를 써서 위치를 변경할 수 있다.\n"
   ]
  },
  {
   "cell_type": "code",
   "execution_count": 150,
   "id": "3bc6e29c-c06e-4053-b599-ef6797b67e2b",
   "metadata": {},
   "outputs": [
    {
     "name": "stdout",
     "output_type": "stream",
     "text": [
      "My name is Santa, and 90 years old.\n",
      "My name is Santa, and 90 years old.\n"
     ]
    }
   ],
   "source": [
    "age = 90\n",
    "\n",
    "print(f'My name is {name}, and {age} years old.')\n",
    "\n",
    "print('My name is {1}, and {0} years old.'.format(age,name))"
   ]
  },
  {
   "cell_type": "markdown",
   "id": "fbfb5d35-49dc-415c-98a6-70a7e40a818e",
   "metadata": {},
   "source": [
    "ㅤ    \n",
    "### **# 소수점 출력 제어하기**"
   ]
  },
  {
   "cell_type": "code",
   "execution_count": 162,
   "id": "e017019b-cd15-4fd4-85b0-3bc1f8b2a087",
   "metadata": {},
   "outputs": [
    {
     "name": "stdout",
     "output_type": "stream",
     "text": [
      "The number is 0.33\n",
      "The number is 0.33\n",
      "The number is 0.33\n"
     ]
    }
   ],
   "source": [
    "a = 0.33333333\n",
    "\n",
    "print(f'The number is {a:.2f}')\n",
    "print('The number is %.2f' %a)\n",
    "print('The number is {:.2}'.format(a))"
   ]
  }
 ],
 "metadata": {
  "kernelspec": {
   "display_name": "Python 3 (ipykernel)",
   "language": "python",
   "name": "python3"
  },
  "language_info": {
   "codemirror_mode": {
    "name": "ipython",
    "version": 3
   },
   "file_extension": ".py",
   "mimetype": "text/x-python",
   "name": "python",
   "nbconvert_exporter": "python",
   "pygments_lexer": "ipython3",
   "version": "3.9.7"
  }
 },
 "nbformat": 4,
 "nbformat_minor": 5
}
