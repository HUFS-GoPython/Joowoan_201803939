{
 "cells": [
  {
   "cell_type": "markdown",
   "id": "44ed85e5-8519-46a6-a8b6-7ef3c91a2139",
   "metadata": {},
   "source": [
    "# Week 07"
   ]
  },
  {
   "cell_type": "markdown",
   "id": "d514b1a8-99e5-4c15-a9f8-423f4e46058c",
   "metadata": {},
   "source": [
    "---"
   ]
  },
  {
   "cell_type": "markdown",
   "id": "44736463-d3f9-4b5e-8534-db665e851ba3",
   "metadata": {},
   "source": [
    "ㅤ       \n",
    "# **함수**\n",
    "## **1. 정의**\n",
    "\n",
    "- 코드의 덩어리, 코드의 묶음  \n",
    "\n",
    "- 간편한 재사용을 위해, 한 줄로 재사용 가능하다.\n",
    "- 정의(define) 부분 + 호출(call) 부분\n",
    "    - 정의하기)  \n",
    "    def 함수이름(매개변수 1, 2, 3, ...):        \n",
    "       ㅤ       \n",
    "        수행문1 (매개변수를 이용)  \n",
    "        수행문2  \n",
    "        ....\n",
    "        return 반환값  \n",
    "        ㅤ       \n",
    "    - 호출하기)  \n",
    "    함수이름(인수1, 2, 3, ...)  "
   ]
  },
  {
   "cell_type": "markdown",
   "id": "e3d467f6-376e-48a8-bf42-c7b9ac847708",
   "metadata": {
    "jp-MarkdownHeadingCollapsed": true,
    "tags": []
   },
   "source": [
    "- y = x + 1 (x = 매개변수, y = 반환값, x + 1 수행문  )"
   ]
  },
  {
   "cell_type": "markdown",
   "id": "5b034f92-26e1-4d45-b7ff-a0276b9850ca",
   "metadata": {},
   "source": [
    "ㅤ      \n",
    "### **# 1. 매개변수, 반환값 모두 존재**"
   ]
  },
  {
   "cell_type": "code",
   "execution_count": 23,
   "id": "710370bd-8912-494e-94c8-ff818e6248b3",
   "metadata": {},
   "outputs": [
    {
     "data": {
      "text/plain": [
       "3"
      ]
     },
     "execution_count": 23,
     "metadata": {},
     "output_type": "execute_result"
    }
   ],
   "source": [
    "def ex(number):\n",
    "    return number + 1\n",
    "\n",
    "ex(2)"
   ]
  },
  {
   "cell_type": "markdown",
   "id": "3faf1b47-8401-4a60-8515-4bfcc55d1ae3",
   "metadata": {},
   "source": [
    "ㅤ       \n",
    "### **# 2. 반환값이 없는 경우**"
   ]
  },
  {
   "cell_type": "code",
   "execution_count": 22,
   "id": "b7f68a3a-2030-4ffa-a100-7b529d251ab0",
   "metadata": {},
   "outputs": [
    {
     "name": "stdout",
     "output_type": "stream",
     "text": [
      "quack\n"
     ]
    }
   ],
   "source": [
    "# 2. 반환값이 없는 경우\n",
    "def make_a_sound():\n",
    "    print('quack')\n",
    "    # return None\n",
    "\n",
    "make_a_sound()"
   ]
  },
  {
   "cell_type": "markdown",
   "id": "a3f62a38-2c5b-4bd2-ab1e-af98547600c2",
   "metadata": {},
   "source": [
    "ㅤ       \n",
    "### **# 3. 인수를 전달하는 방식**"
   ]
  },
  {
   "cell_type": "code",
   "execution_count": 12,
   "id": "fdadfa45-eec0-4c64-a85f-55f41247d5e0",
   "metadata": {},
   "outputs": [
    {
     "name": "stdout",
     "output_type": "stream",
     "text": [
      "sigh\n"
     ]
    }
   ],
   "source": [
    "def make_a_sound(sound):\n",
    "    print(sound)\n",
    "\n",
    "make_a_sound('sigh')"
   ]
  },
  {
   "cell_type": "markdown",
   "id": "99612a85-40e5-49b6-8999-f502fd294e3f",
   "metadata": {
    "tags": []
   },
   "source": [
    "ㅤ       \n",
    "### **# 4. 반환값만 있는 함수**"
   ]
  },
  {
   "cell_type": "code",
   "execution_count": 20,
   "id": "47adcc8a-fa0c-4286-ac6a-132f152f114e",
   "metadata": {},
   "outputs": [
    {
     "name": "stdout",
     "output_type": "stream",
     "text": [
      "Hey... That's pretty good\n"
     ]
    }
   ],
   "source": [
    "def agree():\n",
    "    return True\n",
    "\n",
    "if agree():\n",
    "    print('Hey... That\\'s pretty good')\n",
    "else:\n",
    "    print('its all good')"
   ]
  },
  {
   "cell_type": "markdown",
   "id": "a761820c-aa56-441e-8637-5b0552d6a102",
   "metadata": {},
   "source": [
    "ㅤ       \n",
    "### **# 함수명 짓기**"
   ]
  },
  {
   "cell_type": "markdown",
   "id": "9d500a29-3668-4de6-ab23-297ee3ecec85",
   "metadata": {},
   "source": [
    "- 소문자만 사용한다.  \n",
    "\n",
    "    - splitWord?\n",
    "    - split_word  \n",
    "    ㅤ   \n",
    "- 동작과 관련되어 있기 때문에 \"동사 + 명사\"의 형태 주로 씀  \n",
    "    i.e. `find_year()`  \n",
    "    \n",
    "- i.e. 클래스는 주로 \"명사\"  \n",
    "def word():  ... X\n",
    "- 줄임말 쓰지 말 것. 명료하게 짓는다.\n",
    "    - splt_word (X)\n",
    "    - calculate -> calc (O)"
   ]
  },
  {
   "cell_type": "markdown",
   "id": "51ae2386-c762-4cca-a13e-403097439287",
   "metadata": {},
   "source": [
    "<br><br>\n",
    "## **2. 인수**"
   ]
  },
  {
   "cell_type": "markdown",
   "id": "85fdbc0a-d729-41df-a5f1-7966c05c1535",
   "metadata": {},
   "source": [
    "### **# 매개변수 vs. 인수**\n",
    "- `매개변수`: 함수 내 (\"인터페이스\")에서 유효한 변수 (함수를 빠져나오면 사용불가)  \n",
    "\n",
    "- `인수`: 실제 매개변수에 대입되는 변수\n",
    "- \"호출 시에 인수가 매개변수에 복제된다\""
   ]
  },
  {
   "cell_type": "code",
   "execution_count": 87,
   "id": "3dda783c-63d1-4124-bc8b-8097840aaf01",
   "metadata": {},
   "outputs": [
    {
     "name": "stdout",
     "output_type": "stream",
     "text": [
      "cough\n"
     ]
    }
   ],
   "source": [
    "def make_a_sound(sound): # 매개변수 -> sound\n",
    "    print(sound)\n",
    "\n",
    "make_a_sound('cough')      # cough -> 인수"
   ]
  },
  {
   "cell_type": "code",
   "execution_count": 26,
   "id": "690d5b15-7c33-4672-8cce-86322aa92c60",
   "metadata": {},
   "outputs": [
    {
     "ename": "NameError",
     "evalue": "name 'sound' is not defined",
     "output_type": "error",
     "traceback": [
      "\u001b[1;31m---------------------------------------------------------------------------\u001b[0m",
      "\u001b[1;31mNameError\u001b[0m                                 Traceback (most recent call last)",
      "Input \u001b[1;32mIn [26]\u001b[0m, in \u001b[0;36m<cell line: 1>\u001b[1;34m()\u001b[0m\n\u001b[1;32m----> 1\u001b[0m \u001b[43msound\u001b[49m\n",
      "\u001b[1;31mNameError\u001b[0m: name 'sound' is not defined"
     ]
    }
   ],
   "source": [
    "sound                    # sound는 매개변수이므로 함수를 빠져나오면 사용이 불가하다."
   ]
  },
  {
   "cell_type": "code",
   "execution_count": 35,
   "id": "61f1405a-b934-4f67-83a7-c997df381e25",
   "metadata": {},
   "outputs": [
    {
     "name": "stdout",
     "output_type": "stream",
     "text": [
      "mint\n",
      "vanilla\n",
      "mint\n",
      "mint\n"
     ]
    }
   ],
   "source": [
    "def choose_icecream(flavor):\n",
    "    if flavor == 'v':\n",
    "        return 'vanilla'\n",
    "    else:\n",
    "        return 'mint'\n",
    "\n",
    "flavor = 'm'\n",
    "print(choose_icecream(flavor))\n",
    "\n",
    "flavors = ['v', 'm', 'c']\n",
    "\n",
    "# 더 보편적인 사용 방식 - 리스트를 이용\n",
    "for flavor in flavors:\n",
    "    print(choose_icecream(flavor))\n",
    "    "
   ]
  },
  {
   "cell_type": "markdown",
   "id": "ef52511d-6700-486f-8b2f-aa8420eb4da7",
   "metadata": {},
   "source": [
    "ㅤ       ㅤ       \n",
    "### **# 위치 인수**\n",
    ": positional argument  \n",
    "\n",
    "- 매개변수를 값에 순서에 상응하게 복제한다."
   ]
  },
  {
   "cell_type": "code",
   "execution_count": 36,
   "id": "3cc3c6ed-292b-4259-b0c2-e84c7e540a1c",
   "metadata": {},
   "outputs": [
    {
     "data": {
      "text/plain": [
       "{'wine': 'a', 'entree': 'b', 'dessert': 'c'}"
      ]
     },
     "execution_count": 36,
     "metadata": {},
     "output_type": "execute_result"
    }
   ],
   "source": [
    "def menu(wine, entree, dessert):\n",
    "    return {'wine':wine, 'entree':entree, 'dessert':dessert}\n",
    "\n",
    "menu('a','b','c')"
   ]
  },
  {
   "cell_type": "markdown",
   "id": "f07a659d-7735-4252-911b-149cbdf252af",
   "metadata": {
    "tags": []
   },
   "source": [
    "ㅤ       \n",
    "### **# 키워드 인수**\n",
    ": keyword argument  \n",
    "\n",
    "- 키워드에 맞는 인수로 지칭 --> 위치가 달라도 됨"
   ]
  },
  {
   "cell_type": "code",
   "execution_count": 38,
   "id": "8c92c55f-a011-48d9-98c1-98a44a08cefb",
   "metadata": {},
   "outputs": [
    {
     "data": {
      "text/plain": [
       "{'wine': 'c', 'entree': 'a', 'dessert': 'b'}"
      ]
     },
     "execution_count": 38,
     "metadata": {},
     "output_type": "execute_result"
    }
   ],
   "source": [
    "menu(entree='a', dessert='b', wine='c') # 순서가 없어도 순서가 잡힌다"
   ]
  },
  {
   "cell_type": "markdown",
   "id": "08c4a4b6-9a32-4f3f-87ac-30cdf2430f78",
   "metadata": {},
   "source": [
    "ㅤ       \n",
    "### **# 디폴트 인수**\n",
    ": default argument\n",
    "- 매개변수 정의 시 미리 지정해놓는 방식  \n",
    "\n",
    "- 호출 시에 값이 입력되지 않으면 디폴트 값을 사용한다.\n",
    "- 디폴트 값이 맨 앞에 위치할 수 없다."
   ]
  },
  {
   "cell_type": "code",
   "execution_count": 45,
   "id": "8b32e312-436d-4cae-88c3-8c55234bb720",
   "metadata": {},
   "outputs": [
    {
     "name": "stdout",
     "output_type": "stream",
     "text": [
      "{'wine': 'rioja', 'entree': 'sushi', 'dessert': 'pudding'}\n",
      "{'wine': 'rioja', 'entree': 'sushi', 'dessert': 'sorbet'}\n"
     ]
    }
   ],
   "source": [
    "def menu(wine, entree, dessert='pudding'):\n",
    "    return {'wine':wine, 'entree':entree, 'dessert':dessert}\n",
    "\n",
    "print(menu('rioja','sushi'))\n",
    "print(menu('rioja','sushi', 'sorbet'))"
   ]
  },
  {
   "cell_type": "markdown",
   "id": "86794222-ebfb-4f74-a43f-7097b8941746",
   "metadata": {},
   "source": [
    "<br><br>\n",
    "## **3. 호출방식**"
   ]
  },
  {
   "cell_type": "markdown",
   "id": "9efdbfbd-fc1c-4e93-a094-4b4f1c5087c6",
   "metadata": {},
   "source": [
    "- 정의 부분은 메모리에 저장되어 있다가 호출 시에 실행된다.  \n",
    "\n",
    "- 매개변수 v.s 인수\n",
    "    - 참조에 의한 호출 `Call by Reference`  \n",
    "\n",
    "    - \"매개변수 = 인수\" copy되기 때문에 나타나는 문제점\n",
    "    - 리스트처럼 가변 객체일 때 주소값을 공유하므로 값이 변할 수 있다."
   ]
  },
  {
   "cell_type": "markdown",
   "id": "70accc4e-a69c-46dc-b0c7-7a75548927d0",
   "metadata": {},
   "source": [
    "ㅤ       \n",
    "### **# 코드의 흐름**"
   ]
  },
  {
   "cell_type": "code",
   "execution_count": 57,
   "id": "36bbb2ed-432a-42f9-9690-c9e46d5fbdcb",
   "metadata": {},
   "outputs": [
    {
     "name": "stdout",
     "output_type": "stream",
     "text": [
      "2\n",
      "3\n",
      "1\n",
      "4\n"
     ]
    }
   ],
   "source": [
    "def multiply(x,y):\n",
    "    print('1')\n",
    "    return x * y\n",
    "\n",
    "print('2')\n",
    "i = 2\n",
    "j = 4\n",
    "\n",
    "print('3')\n",
    "multiply(i, j)  # i=2, j=4 -> x=i, y=j 값이 넘어가는 것이 아니라 주소값이 복제되는 것 (copy) / i,j의 아이디 value가 들어간다.\n",
    "\n",
    "print('4')"
   ]
  },
  {
   "cell_type": "markdown",
   "id": "899e8e36-0eb2-4ecd-997f-c739a22899d3",
   "metadata": {},
   "source": [
    "ㅤ       \n",
    "### **# 함수 내 초기화**"
   ]
  },
  {
   "cell_type": "code",
   "execution_count": 58,
   "id": "fb35893a-f4dd-4b6e-8bfc-cb57c753e8cd",
   "metadata": {},
   "outputs": [
    {
     "name": "stdout",
     "output_type": "stream",
     "text": [
      "['a']\n",
      "['a', 'b']\n"
     ]
    }
   ],
   "source": [
    "def buggy(arg, result=[]):\n",
    "    # result = []          # 따라서 초기화를 시켜야 한다.\n",
    "    result.append(arg)\n",
    "    print(result)\n",
    "\n",
    "a,b = 'a','b'\n",
    "buggy(a) # ['a']\n",
    "buggy(b) # ['b']"
   ]
  },
  {
   "cell_type": "markdown",
   "id": "d6c264aa-7d5b-4034-bc25-e23967f57dc6",
   "metadata": {},
   "source": [
    "ㅤ       \n",
    "### **# None**\n",
    ": 없는 값, 아무것도 없다. None"
   ]
  },
  {
   "cell_type": "code",
   "execution_count": 80,
   "id": "9f6b328d-eff5-4bd7-abfb-b8133204f3aa",
   "metadata": {},
   "outputs": [
    {
     "name": "stdout",
     "output_type": "stream",
     "text": [
      "None\n"
     ]
    }
   ],
   "source": [
    "# neither True nor False\n",
    "\n",
    "thing = None\n",
    "\n",
    "if thing:\n",
    "    print('True')\n",
    "elif thing == False:\n",
    "    print('False')\n",
    "else:\n",
    "    print('None')"
   ]
  },
  {
   "cell_type": "code",
   "execution_count": 79,
   "id": "128ab933-67ef-41ba-bf40-16495f59a8b7",
   "metadata": {},
   "outputs": [
    {
     "name": "stdout",
     "output_type": "stream",
     "text": [
      "['a']\n",
      "['a', 'b']\n",
      "[0, 'c']\n"
     ]
    }
   ],
   "source": [
    "# 1. 둘다 조건식으로 포함하는 함수로 변경하기\n",
    "\n",
    "# 2. 리스트 없으면 빈 리스트 생성하고, 있으면 그것을 쓰도록 한다.\n",
    "\n",
    "def nonbuggy(arg, result=[]):\n",
    "    if result is None:\n",
    "        result = []\n",
    "    result.append(arg)\n",
    "    print(result)\n",
    "\n",
    "a, b, c = 'a', 'b', 'c'\n",
    "nonbuggy(a)\n",
    "nonbuggy(b)\n",
    "nonbuggy(c, [0])"
   ]
  },
  {
   "cell_type": "code",
   "execution_count": 90,
   "id": "9f58184e-1227-439d-8cb8-6c2a2f38027f",
   "metadata": {},
   "outputs": [
    {
     "name": "stdout",
     "output_type": "stream",
     "text": [
      "['d']\n",
      "['c', 'a']\n",
      "['c', 'a', 'b']\n"
     ]
    }
   ],
   "source": [
    "# nonbuggy 함수의 디폴트 인수를 None으로 바꾸기\n",
    "\n",
    "def nonbuggy(arg, result=None):\n",
    "    if result is None:\n",
    "        result = []\n",
    "    result.append(arg)\n",
    "    print(result)\n",
    "    \n",
    "a, b = 'a', 'b'\n",
    "\n",
    "# 디폴트 인수 => None: 쌓이지 않는다.\n",
    "nonbuggy('d')\n",
    "\n",
    "# 인수 전달\n",
    "empty = ['c']\n",
    "nonbuggy(a, empty)\n",
    "nonbuggy(b, empty)\n"
   ]
  },
  {
   "cell_type": "markdown",
   "id": "290a69d0-0440-407f-b349-04ea0548a3a5",
   "metadata": {},
   "source": [
    "ㅤ       \n",
    "### **# `is` v.s `==`**"
   ]
  },
  {
   "cell_type": "markdown",
   "id": "c1303687-bab0-4f62-b085-322c5c5cfb3a",
   "metadata": {},
   "source": [
    "- ==  \n",
    "    : value 를 비교  \n",
    "\n",
    "- is   \n",
    "    : ( id )값을 비교"
   ]
  },
  {
   "cell_type": "markdown",
   "id": "c10b2009-fef5-48d5-8ec7-1cceb3c6026c",
   "metadata": {},
   "source": [
    "<br><br>\n",
    "## **4. 지역변수, 전역변수**\n",
    "- 지역 변수  \n",
    "    : 함수 내부에서만 유효하다.  \n",
    "\n",
    "- 전역변수  \n",
    "    : 함수 내부, 외부에서 모두 유효하다."
   ]
  },
  {
   "cell_type": "code",
   "execution_count": 103,
   "id": "2e47572c-e5a8-42b6-a790-2ea9f0b9c502",
   "metadata": {},
   "outputs": [
    {
     "name": "stdout",
     "output_type": "stream",
     "text": [
      "gloomy\n",
      "cloudy\n"
     ]
    }
   ],
   "source": [
    "# WRONG\n",
    "\n",
    "def fx():\n",
    "    # 지역변수\n",
    "    weather = 'gloomy'\n",
    "    print(weather)\n",
    "    \n",
    "    \n",
    "weather = 'cloudy'\n",
    "fx()                   # 함수 내에서만 날씨 변화가 유효하다. (지역 변수의 특징)\n",
    "print(weather)"
   ]
  },
  {
   "cell_type": "code",
   "execution_count": 105,
   "id": "60cfe080-15da-44bb-92bd-9003ca329e55",
   "metadata": {},
   "outputs": [
    {
     "name": "stdout",
     "output_type": "stream",
     "text": [
      "gloomy\n",
      "gloomy\n"
     ]
    }
   ],
   "source": [
    "# CORRECT\n",
    "\n",
    "def fx():\n",
    "    global weather     # 전역 변수로 선언이 가능하다.\n",
    "    weather = 'gloomy'\n",
    "    print(weather)\n",
    "    \n",
    "    \n",
    "weather = 'cloudy'\n",
    "fx()                   # 함수 내에서만 날씨 변화가 유효하다. (지역 변수의 특징)\n",
    "print(weather)"
   ]
  },
  {
   "cell_type": "markdown",
   "id": "85b1f8bc-db48-4c74-8c0e-042fb567c533",
   "metadata": {},
   "source": [
    "ㅤ       \n",
    "## **5. Docstring**"
   ]
  },
  {
   "cell_type": "markdown",
   "id": "fe1956a6-029d-447f-b5c6-4694dfee0ed4",
   "metadata": {},
   "source": [
    "#### doc string\n",
    "- 함수를 설명하는 주석\n",
    "\n",
    "- 매개변수 타입에 대한 설명, 함수의 기능, 의도\n",
    "- \"\"\"  \n",
    "  독스트링 작성  \n",
    "  \"\"\""
   ]
  },
  {
   "cell_type": "markdown",
   "id": "c0dd46f6-9f79-45f3-abf9-a880ff4c2a3a",
   "metadata": {},
   "source": [
    "### **# `help()`**"
   ]
  },
  {
   "cell_type": "code",
   "execution_count": 109,
   "id": "79771629-9221-47f7-a8e7-020475b114b2",
   "metadata": {},
   "outputs": [
    {
     "name": "stdout",
     "output_type": "stream",
     "text": [
      "Help on function flowey in module __main__:\n",
      "\n",
      "flowey(petal, flower=None)\n",
      "    arg: str, 꽃 이름을 받는다.\n",
      "    result: list, xxx를 한다.\n",
      "    꽃 이름을 리스트에 추가한다.\n",
      "\n"
     ]
    }
   ],
   "source": [
    "def flowey(petal, flower=None):\n",
    "    \"\"\"\n",
    "    arg: str, 꽃 이름을 받는다.\n",
    "    result: list, xxx를 한다.\n",
    "    꽃 이름을 리스트에 추가한다.\n",
    "    \"\"\"\n",
    "    if flower is None:\n",
    "        flower = []\n",
    "    flower.append(petal)\n",
    "    print(flower)\n",
    "\n",
    "help(flowey)"
   ]
  },
  {
   "cell_type": "markdown",
   "id": "f93889dd-f95c-497f-b36b-67ae724d09d7",
   "metadata": {},
   "source": [
    "### **# `__doc__`**"
   ]
  },
  {
   "cell_type": "code",
   "execution_count": 110,
   "id": "2cfe33c7-e2e3-4033-ab77-98d97fe30516",
   "metadata": {},
   "outputs": [
    {
     "data": {
      "text/plain": [
       "'\\n    arg: str, 꽃 이름을 받는다.\\n    result: list, xxx를 한다.\\n    꽃 이름을 리스트에 추가한다.\\n    '"
      ]
     },
     "execution_count": 110,
     "metadata": {},
     "output_type": "execute_result"
    }
   ],
   "source": [
    "flowey.__doc__"
   ]
  },
  {
   "cell_type": "markdown",
   "id": "575b38db-8de4-409d-ac2e-230dc7e0e2eb",
   "metadata": {},
   "source": [
    "ㅤ        \n",
    "### # Quiz 1\n",
    "- 나이 -> 태어난 연도 바꾸기  \n",
    "\n",
    "- 함수: 입력값으로 나이, 반환값은 연도\n",
    "- 나이 = input 받기"
   ]
  },
  {
   "cell_type": "code",
   "execution_count": 112,
   "id": "9efe12e4-9114-4dc4-9ea9-8db47cbc1246",
   "metadata": {},
   "outputs": [
    {
     "name": "stdin",
     "output_type": "stream",
     "text": [
      "나이를 입력하세요:  19\n"
     ]
    },
    {
     "name": "stdout",
     "output_type": "stream",
     "text": [
      "2004\n"
     ]
    }
   ],
   "source": [
    "# 함수명: age_to_year (제일 good)\n",
    "\n",
    "def convert_year(age):\n",
    "    this_year = 2022\n",
    "    return this_year - age + 1\n",
    "\n",
    "age = int(input('나이를 입력하세요: '))\n",
    "print(convert_year(age))"
   ]
  },
  {
   "cell_type": "markdown",
   "id": "dc555f56-c1f6-475a-a0bf-7500670be2ef",
   "metadata": {},
   "source": [
    "---"
   ]
  },
  {
   "cell_type": "markdown",
   "id": "ed1f5da4-1779-45af-bd8f-238f3ff82880",
   "metadata": {},
   "source": [
    "ㅤ        \n",
    "## **브라운 정제하기**\n",
    "1. 문장 분절\n",
    "ㅤ     \n",
    "ㅤ     \n",
    "2. 단어 분절\n",
    "    3. 문장부호 제거\n",
    "    4. 하이픈, 's, 'nt  \n",
    "ㅤ     \n",
    "5. 위의 것을 함수로 만들어라"
   ]
  },
  {
   "cell_type": "code",
   "execution_count": 220,
   "id": "5a719e5b-53f9-4ba2-8421-f41898a7277d",
   "metadata": {},
   "outputs": [],
   "source": [
    "import nltk\n",
    "\n",
    "nltk.download('brown', quiet=True)\n",
    "brown = nltk.corpus.brown\n",
    "romance = brown.raw(categories='romance')[:5000]"
   ]
  },
  {
   "cell_type": "markdown",
   "id": "7f076564-0134-41ea-8a62-cdad92469cb1",
   "metadata": {},
   "source": [
    "ㅤ        \n",
    "## **1. 문장 분절**"
   ]
  },
  {
   "cell_type": "code",
   "execution_count": 221,
   "id": "a146b4fc-03c5-4325-9da6-3687430bba25",
   "metadata": {},
   "outputs": [],
   "source": [
    "# ['sentence', 'sentence', 'sentence' ... ]\n",
    "\n",
    "CUT = '/.' # !/. ?/.\n",
    "sentences = [sent.strip() for sent in romance.split(CUT)]    # .strip()은 \\n 까지 지워준다."
   ]
  },
  {
   "cell_type": "markdown",
   "id": "beb091fc-da72-4b34-bb57-0bbdd5c2d597",
   "metadata": {},
   "source": [
    "ㅤ        \n",
    "## **2. 단어 분절**"
   ]
  },
  {
   "cell_type": "code",
   "execution_count": 222,
   "id": "f3a54793-9946-4d51-b9e3-55d9ad04546f",
   "metadata": {},
   "outputs": [],
   "source": [
    "# [[word, word, word ...], [word, word, word ...] ...]\n",
    "\n",
    "sentence_tokens = [[word.split('/')[0] for word in sent.split()] for sent in sentences]"
   ]
  },
  {
   "cell_type": "markdown",
   "id": "461e8309-e2f8-4a01-a00a-406e33335a3c",
   "metadata": {},
   "source": [
    "ㅤ        \n",
    "## **3. 단어 정제**"
   ]
  },
  {
   "cell_type": "code",
   "execution_count": 223,
   "id": "4e93d4d3-c353-42e7-a7bc-d85927c5ed1e",
   "metadata": {},
   "outputs": [
    {
     "data": {
      "text/plain": [
       "{\"''\", '--', '``'}"
      ]
     },
     "execution_count": 223,
     "metadata": {},
     "output_type": "execute_result"
    }
   ],
   "source": [
    "import string\n",
    "punct = list(string.punctuation)\n",
    "\n",
    "# string 라이브러리에 없는 punctuation들 추가하기\n",
    "extra_punct = set([                                   # set으로 중복 처리\n",
    "    word\n",
    "    for sent in sentence_tokens\n",
    "    for word in sent\n",
    "    if not word[0].isalnum() and word not in punct    # 부호로 시작하는 경우 단어 자체가 부호일 것이다. (원본 텍스트 특성상, 예시:  ;/.  --/--   ,/,)\n",
    "])\n",
    "\n",
    "extra_punct"
   ]
  },
  {
   "cell_type": "code",
   "execution_count": 224,
   "id": "2a039fa4-e902-4783-aef8-e3a938ae2f71",
   "metadata": {},
   "outputs": [],
   "source": [
    "punct.extend(extra_punct)"
   ]
  },
  {
   "cell_type": "code",
   "execution_count": 294,
   "id": "9785777d-44ca-4dff-83bb-51eb953feaac",
   "metadata": {},
   "outputs": [
    {
     "name": "stdout",
     "output_type": "stream",
     "text": [
      "['aluminum', 'trays', 'wrapped', 'in', 'fly', 'dotted', 'cheesecloth']\n",
      "['Rossi', 'that', \"'s\", 'what', 'he', 'was', 'called', 'in', 'the', 'old', 'country']\n"
     ]
    }
   ],
   "source": [
    "# 문장 부호만 덩그러니 있는 것들을 제거\n",
    "wordList = [word for sent in sentence_tokens for word in sent if word not in punct]\n",
    "\n",
    "idx = 0\n",
    "while idx < len(wordList):\n",
    "    \n",
    "    # HYPHEN 제거\n",
    "    if '-' in wordList[idx]:\n",
    "        wordList[idx:idx + 1] = wordList[idx].split('-')\n",
    "    \n",
    "    # APOSTROPHE 제거\n",
    "    elif \"'\" in wordList[idx]:\n",
    "        wordList[idx:idx + 1] = wordList[idx].split(\"'\")\n",
    "        wordList[idx + 1] = \"'\" + wordList[idx + 1]\n",
    "        idx += 1\n",
    "        \n",
    "    idx += 1\n",
    "\n",
    "    \n",
    "print(wordList[98:105])\n",
    "print(wordList[148:159])"
   ]
  },
  {
   "cell_type": "markdown",
   "id": "7840f405-0150-4b74-af75-06143459c436",
   "metadata": {},
   "source": [
    "ㅤ        \n",
    "## **4. 함수화**"
   ]
  },
  {
   "cell_type": "code",
   "execution_count": 293,
   "id": "5bf25238-7822-441b-a894-af66f36eb4e4",
   "metadata": {},
   "outputs": [
    {
     "name": "stdout",
     "output_type": "stream",
     "text": [
      "['Yet', 'if', 'he', 'were', 'not', 'there', 'they', 'would', 'have', 'missed', 'him', 'as', 'they', 'would', 'have', 'missed', 'the', 'sounds', 'of', 'bees', 'buzzing', 'against', 'the', 'screen', 'door', 'in', 'early', 'June']\n"
     ]
    }
   ],
   "source": [
    "# 단어 분절 함수\n",
    "def split_sentence(sentence):\n",
    "    word_list = [\n",
    "        word[:word.find('/')]\n",
    "        for word in sentence.split() \n",
    "        if '/' in word and word[0] not in punct\n",
    "    ]\n",
    "    return word_list\n",
    "\n",
    "print(split_sentence(sentences[3]))"
   ]
  }
 ],
 "metadata": {
  "kernelspec": {
   "display_name": "Python 3 (ipykernel)",
   "language": "python",
   "name": "python3"
  },
  "language_info": {
   "codemirror_mode": {
    "name": "ipython",
    "version": 3
   },
   "file_extension": ".py",
   "mimetype": "text/x-python",
   "name": "python",
   "nbconvert_exporter": "python",
   "pygments_lexer": "ipython3",
   "version": "3.9.7"
  }
 },
 "nbformat": 4,
 "nbformat_minor": 5
}
